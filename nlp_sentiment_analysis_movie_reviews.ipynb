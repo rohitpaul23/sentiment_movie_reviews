{
  "cells": [
    {
      "cell_type": "markdown",
      "metadata": {
        "id": "8Gf0u3uzd7oM"
      },
      "source": [
        "# Assignment - Sentiment Analysis of Movie Reviews\n",
        "\n",
        "![](https://i.imgur.com/6Wfmf2S.png)\n",
        "\n",
        "> **Problem Statement**: Apply the TF-IDF technique to train ML models for sentiment analysis using data from the \"[Sentiment Analysis on Movie Reviews](https://www.kaggle.com/c/sentiment-analysis-on-movie-reviews)\" Kaggle competition.\n",
        "\n",
        "\n",
        "Outline:\n",
        "\n",
        "1. Download and Explore Dataset\n",
        "2. Implement the TF-IDF Technique\n",
        "3. Train baseline model & submit to Kaggle\n",
        "4. Train & finetune different ML models\n",
        "3. Document & submit your notebook\n",
        "\n",
        "\n",
        "Dataset: https://www.kaggle.com/c/sentiment-analysis-on-movie-reviews\n"
      ]
    },
    {
      "cell_type": "markdown",
      "metadata": {
        "id": "hw0pygCOefi9"
      },
      "source": [
        "## Download and Explore the Data\n",
        "\n",
        "Outline:\n",
        "\n",
        "1. Download Dataset from Kaggle\n",
        "2. Explore and visualize data"
      ]
    },
    {
      "cell_type": "markdown",
      "metadata": {
        "id": "KPS8buEdtllZ"
      },
      "source": [
        "### Download Dataset from Kaggle\n",
        "\n",
        "- Read the \"Description\", \"Evaluation\" and \"Data\" sections on the Kaggle competition page carefully\n",
        "- Make sure to download the `kaggle.json` file from your [Kaggle account](https://kaggle.com/me/account) and upload it on Colab"
      ]
    },
    {
      "cell_type": "code",
      "execution_count": null,
      "metadata": {
        "colab": {
          "base_uri": "https://localhost:8080/"
        },
        "id": "FnaGd60Zuxgg",
        "outputId": "4af3bc25-75d6-4280-c251-daae5cdb21d2"
      },
      "outputs": [
        {
          "output_type": "stream",
          "name": "stdout",
          "text": [
            "kaggle.json  sample_data\n"
          ]
        }
      ],
      "source": [
        "!ls"
      ]
    },
    {
      "cell_type": "code",
      "execution_count": null,
      "metadata": {
        "id": "lcRhDakmuxEm"
      },
      "outputs": [],
      "source": [
        "import os"
      ]
    },
    {
      "cell_type": "code",
      "execution_count": null,
      "metadata": {
        "id": "MdQqvmtvend_"
      },
      "outputs": [],
      "source": [
        "IS_KAGGLE = 'KAGGLE_KERNEL_RUN_TYPE' in os.environ"
      ]
    },
    {
      "cell_type": "code",
      "execution_count": null,
      "metadata": {
        "id": "J2opA_wWYVxO"
      },
      "outputs": [],
      "source": [
        "os.environ['KAGGLE_CONFIG_DIR'] = '.'"
      ]
    },
    {
      "cell_type": "code",
      "execution_count": null,
      "metadata": {
        "colab": {
          "base_uri": "https://localhost:8080/"
        },
        "id": "9koKUNugYMmh",
        "outputId": "b5622c78-76e7-4f71-9aa2-95a6f2b250e5"
      },
      "outputs": [
        {
          "output_type": "stream",
          "name": "stdout",
          "text": [
            "Warning: Your Kaggle API key is readable by other users on this system! To fix this, you can run 'chmod 600 ./kaggle.json'\n",
            "Downloading sentiment-analysis-on-movie-reviews.zip to /content\n",
            "  0% 0.00/1.90M [00:00<?, ?B/s]\n",
            "100% 1.90M/1.90M [00:00<00:00, 47.7MB/s]\n"
          ]
        }
      ],
      "source": [
        "!kaggle competitions download -c sentiment-analysis-on-movie-reviews"
      ]
    },
    {
      "cell_type": "code",
      "execution_count": null,
      "metadata": {
        "colab": {
          "base_uri": "https://localhost:8080/"
        },
        "id": "ZzyXWQ1yYe5u",
        "outputId": "8a993548-57a3-4f55-8519-75f86c2e64ba"
      },
      "outputs": [
        {
          "output_type": "stream",
          "name": "stdout",
          "text": [
            "Archive:  sentiment-analysis-on-movie-reviews.zip\n",
            "  inflating: data/sampleSubmission.csv  \n",
            "  inflating: data/test.tsv.zip       \n",
            "  inflating: data/train.tsv.zip      \n"
          ]
        }
      ],
      "source": [
        "!unzip sentiment-analysis-on-movie-reviews.zip -d data"
      ]
    },
    {
      "cell_type": "code",
      "execution_count": null,
      "metadata": {
        "id": "QOq7CBqftvz-"
      },
      "outputs": [],
      "source": [
        "train_fname = 'data/train.tsv.zip'\n",
        "test_fname = 'data/test.tsv.zip'\n",
        "sub_fname = 'data/sampleSubmission.csv'"
      ]
    },
    {
      "cell_type": "markdown",
      "metadata": {
        "id": "CVbujLQ9tpAb"
      },
      "source": [
        "### Explore and Visualize Data\n",
        "\n",
        "* Load the train, test, and submission files using Pandas\n",
        "* Explore rows, columns, sample values etc.\n",
        "* Visualize distribution of target columns"
      ]
    },
    {
      "cell_type": "code",
      "execution_count": null,
      "metadata": {
        "id": "H2JenReXw7SI"
      },
      "outputs": [],
      "source": [
        "import pandas as pd\n",
        "import numpy as np"
      ]
    },
    {
      "cell_type": "code",
      "execution_count": null,
      "metadata": {
        "id": "oPwLSKsrvdTa"
      },
      "outputs": [],
      "source": [
        "raw_df = pd.read_csv(train_fname, sep='\\t')"
      ]
    },
    {
      "cell_type": "code",
      "execution_count": null,
      "metadata": {
        "colab": {
          "base_uri": "https://localhost:8080/",
          "height": 206
        },
        "id": "4-cvRH3HenYx",
        "outputId": "f6c68662-1bdf-4839-840e-f33b4d6a651f"
      },
      "outputs": [
        {
          "output_type": "execute_result",
          "data": {
            "text/plain": [
              "   PhraseId  SentenceId                                             Phrase  \\\n",
              "0         1           1  A series of escapades demonstrating the adage ...   \n",
              "1         2           1  A series of escapades demonstrating the adage ...   \n",
              "2         3           1                                           A series   \n",
              "3         4           1                                                  A   \n",
              "4         5           1                                             series   \n",
              "\n",
              "   Sentiment  \n",
              "0          1  \n",
              "1          2  \n",
              "2          2  \n",
              "3          2  \n",
              "4          2  "
            ],
            "text/html": [
              "\n",
              "  <div id=\"df-aa1d9bb3-6929-40c4-9e53-e785de21391c\">\n",
              "    <div class=\"colab-df-container\">\n",
              "      <div>\n",
              "<style scoped>\n",
              "    .dataframe tbody tr th:only-of-type {\n",
              "        vertical-align: middle;\n",
              "    }\n",
              "\n",
              "    .dataframe tbody tr th {\n",
              "        vertical-align: top;\n",
              "    }\n",
              "\n",
              "    .dataframe thead th {\n",
              "        text-align: right;\n",
              "    }\n",
              "</style>\n",
              "<table border=\"1\" class=\"dataframe\">\n",
              "  <thead>\n",
              "    <tr style=\"text-align: right;\">\n",
              "      <th></th>\n",
              "      <th>PhraseId</th>\n",
              "      <th>SentenceId</th>\n",
              "      <th>Phrase</th>\n",
              "      <th>Sentiment</th>\n",
              "    </tr>\n",
              "  </thead>\n",
              "  <tbody>\n",
              "    <tr>\n",
              "      <th>0</th>\n",
              "      <td>1</td>\n",
              "      <td>1</td>\n",
              "      <td>A series of escapades demonstrating the adage ...</td>\n",
              "      <td>1</td>\n",
              "    </tr>\n",
              "    <tr>\n",
              "      <th>1</th>\n",
              "      <td>2</td>\n",
              "      <td>1</td>\n",
              "      <td>A series of escapades demonstrating the adage ...</td>\n",
              "      <td>2</td>\n",
              "    </tr>\n",
              "    <tr>\n",
              "      <th>2</th>\n",
              "      <td>3</td>\n",
              "      <td>1</td>\n",
              "      <td>A series</td>\n",
              "      <td>2</td>\n",
              "    </tr>\n",
              "    <tr>\n",
              "      <th>3</th>\n",
              "      <td>4</td>\n",
              "      <td>1</td>\n",
              "      <td>A</td>\n",
              "      <td>2</td>\n",
              "    </tr>\n",
              "    <tr>\n",
              "      <th>4</th>\n",
              "      <td>5</td>\n",
              "      <td>1</td>\n",
              "      <td>series</td>\n",
              "      <td>2</td>\n",
              "    </tr>\n",
              "  </tbody>\n",
              "</table>\n",
              "</div>\n",
              "      <button class=\"colab-df-convert\" onclick=\"convertToInteractive('df-aa1d9bb3-6929-40c4-9e53-e785de21391c')\"\n",
              "              title=\"Convert this dataframe to an interactive table.\"\n",
              "              style=\"display:none;\">\n",
              "        \n",
              "  <svg xmlns=\"http://www.w3.org/2000/svg\" height=\"24px\"viewBox=\"0 0 24 24\"\n",
              "       width=\"24px\">\n",
              "    <path d=\"M0 0h24v24H0V0z\" fill=\"none\"/>\n",
              "    <path d=\"M18.56 5.44l.94 2.06.94-2.06 2.06-.94-2.06-.94-.94-2.06-.94 2.06-2.06.94zm-11 1L8.5 8.5l.94-2.06 2.06-.94-2.06-.94L8.5 2.5l-.94 2.06-2.06.94zm10 10l.94 2.06.94-2.06 2.06-.94-2.06-.94-.94-2.06-.94 2.06-2.06.94z\"/><path d=\"M17.41 7.96l-1.37-1.37c-.4-.4-.92-.59-1.43-.59-.52 0-1.04.2-1.43.59L10.3 9.45l-7.72 7.72c-.78.78-.78 2.05 0 2.83L4 21.41c.39.39.9.59 1.41.59.51 0 1.02-.2 1.41-.59l7.78-7.78 2.81-2.81c.8-.78.8-2.07 0-2.86zM5.41 20L4 18.59l7.72-7.72 1.47 1.35L5.41 20z\"/>\n",
              "  </svg>\n",
              "      </button>\n",
              "      \n",
              "  <style>\n",
              "    .colab-df-container {\n",
              "      display:flex;\n",
              "      flex-wrap:wrap;\n",
              "      gap: 12px;\n",
              "    }\n",
              "\n",
              "    .colab-df-convert {\n",
              "      background-color: #E8F0FE;\n",
              "      border: none;\n",
              "      border-radius: 50%;\n",
              "      cursor: pointer;\n",
              "      display: none;\n",
              "      fill: #1967D2;\n",
              "      height: 32px;\n",
              "      padding: 0 0 0 0;\n",
              "      width: 32px;\n",
              "    }\n",
              "\n",
              "    .colab-df-convert:hover {\n",
              "      background-color: #E2EBFA;\n",
              "      box-shadow: 0px 1px 2px rgba(60, 64, 67, 0.3), 0px 1px 3px 1px rgba(60, 64, 67, 0.15);\n",
              "      fill: #174EA6;\n",
              "    }\n",
              "\n",
              "    [theme=dark] .colab-df-convert {\n",
              "      background-color: #3B4455;\n",
              "      fill: #D2E3FC;\n",
              "    }\n",
              "\n",
              "    [theme=dark] .colab-df-convert:hover {\n",
              "      background-color: #434B5C;\n",
              "      box-shadow: 0px 1px 3px 1px rgba(0, 0, 0, 0.15);\n",
              "      filter: drop-shadow(0px 1px 2px rgba(0, 0, 0, 0.3));\n",
              "      fill: #FFFFFF;\n",
              "    }\n",
              "  </style>\n",
              "\n",
              "      <script>\n",
              "        const buttonEl =\n",
              "          document.querySelector('#df-aa1d9bb3-6929-40c4-9e53-e785de21391c button.colab-df-convert');\n",
              "        buttonEl.style.display =\n",
              "          google.colab.kernel.accessAllowed ? 'block' : 'none';\n",
              "\n",
              "        async function convertToInteractive(key) {\n",
              "          const element = document.querySelector('#df-aa1d9bb3-6929-40c4-9e53-e785de21391c');\n",
              "          const dataTable =\n",
              "            await google.colab.kernel.invokeFunction('convertToInteractive',\n",
              "                                                     [key], {});\n",
              "          if (!dataTable) return;\n",
              "\n",
              "          const docLinkHtml = 'Like what you see? Visit the ' +\n",
              "            '<a target=\"_blank\" href=https://colab.research.google.com/notebooks/data_table.ipynb>data table notebook</a>'\n",
              "            + ' to learn more about interactive tables.';\n",
              "          element.innerHTML = '';\n",
              "          dataTable['output_type'] = 'display_data';\n",
              "          await google.colab.output.renderOutput(dataTable, element);\n",
              "          const docLink = document.createElement('div');\n",
              "          docLink.innerHTML = docLinkHtml;\n",
              "          element.appendChild(docLink);\n",
              "        }\n",
              "      </script>\n",
              "    </div>\n",
              "  </div>\n",
              "  "
            ]
          },
          "metadata": {},
          "execution_count": 10
        }
      ],
      "source": [
        "raw_df.head()"
      ]
    },
    {
      "cell_type": "code",
      "execution_count": null,
      "metadata": {
        "colab": {
          "base_uri": "https://localhost:8080/"
        },
        "id": "EF3B9tjTxJVn",
        "outputId": "0594636d-acf9-4d52-c3d8-8b90b6789805"
      },
      "outputs": [
        {
          "output_type": "execute_result",
          "data": {
            "text/plain": [
              "(156060, 4)"
            ]
          },
          "metadata": {},
          "execution_count": 11
        }
      ],
      "source": [
        "raw_df.shape"
      ]
    },
    {
      "cell_type": "code",
      "execution_count": null,
      "metadata": {
        "colab": {
          "base_uri": "https://localhost:8080/"
        },
        "id": "ZwubETUvxTBo",
        "outputId": "9110f50f-0623-4b2a-f12a-47149a3e5db3"
      },
      "outputs": [
        {
          "output_type": "execute_result",
          "data": {
            "text/plain": [
              "array(['also reminds us of our own responsibility to question what is told as the truth',\n",
              "       'with a humanistic message', 'households',\n",
              "       \"sustain the buoyant energy level of the film 's city beginnings into its country conclusion '\",\n",
              "       'The stripped-down dramatic constructs , austere imagery and',\n",
              "       \"It 's mildly interesting to ponder the peculiar American style of justice that plays out here , but it 's so muddled and derivative that few will bother thinking it all through\",\n",
              "       ', like me , think an action film disguised as a war tribute is disgusting to begin with',\n",
              "       'the mix',\n",
              "       'is offensive , puerile and unimaginatively foul-mouthed if it was at least funny',\n",
              "       'self-assured'], dtype=object)"
            ]
          },
          "metadata": {},
          "execution_count": 12
        }
      ],
      "source": [
        "raw_df.Phrase.sample(10).values"
      ]
    },
    {
      "cell_type": "code",
      "execution_count": null,
      "metadata": {
        "id": "l0Skd9KnxdjV"
      },
      "outputs": [],
      "source": [
        "test_df = pd.read_csv(test_fname, sep='\\t')"
      ]
    },
    {
      "cell_type": "code",
      "execution_count": null,
      "metadata": {
        "colab": {
          "base_uri": "https://localhost:8080/",
          "height": 206
        },
        "id": "uT_Dci92enWk",
        "outputId": "a172f402-a19d-420f-a7b4-70dafb68c1f5"
      },
      "outputs": [
        {
          "output_type": "execute_result",
          "data": {
            "text/plain": [
              "   PhraseId  SentenceId                                             Phrase\n",
              "0    156061        8545  An intermittently pleasing but mostly routine ...\n",
              "1    156062        8545  An intermittently pleasing but mostly routine ...\n",
              "2    156063        8545                                                 An\n",
              "3    156064        8545  intermittently pleasing but mostly routine effort\n",
              "4    156065        8545         intermittently pleasing but mostly routine"
            ],
            "text/html": [
              "\n",
              "  <div id=\"df-6493fcae-6184-4d5a-8e1b-5f3af93130cc\">\n",
              "    <div class=\"colab-df-container\">\n",
              "      <div>\n",
              "<style scoped>\n",
              "    .dataframe tbody tr th:only-of-type {\n",
              "        vertical-align: middle;\n",
              "    }\n",
              "\n",
              "    .dataframe tbody tr th {\n",
              "        vertical-align: top;\n",
              "    }\n",
              "\n",
              "    .dataframe thead th {\n",
              "        text-align: right;\n",
              "    }\n",
              "</style>\n",
              "<table border=\"1\" class=\"dataframe\">\n",
              "  <thead>\n",
              "    <tr style=\"text-align: right;\">\n",
              "      <th></th>\n",
              "      <th>PhraseId</th>\n",
              "      <th>SentenceId</th>\n",
              "      <th>Phrase</th>\n",
              "    </tr>\n",
              "  </thead>\n",
              "  <tbody>\n",
              "    <tr>\n",
              "      <th>0</th>\n",
              "      <td>156061</td>\n",
              "      <td>8545</td>\n",
              "      <td>An intermittently pleasing but mostly routine ...</td>\n",
              "    </tr>\n",
              "    <tr>\n",
              "      <th>1</th>\n",
              "      <td>156062</td>\n",
              "      <td>8545</td>\n",
              "      <td>An intermittently pleasing but mostly routine ...</td>\n",
              "    </tr>\n",
              "    <tr>\n",
              "      <th>2</th>\n",
              "      <td>156063</td>\n",
              "      <td>8545</td>\n",
              "      <td>An</td>\n",
              "    </tr>\n",
              "    <tr>\n",
              "      <th>3</th>\n",
              "      <td>156064</td>\n",
              "      <td>8545</td>\n",
              "      <td>intermittently pleasing but mostly routine effort</td>\n",
              "    </tr>\n",
              "    <tr>\n",
              "      <th>4</th>\n",
              "      <td>156065</td>\n",
              "      <td>8545</td>\n",
              "      <td>intermittently pleasing but mostly routine</td>\n",
              "    </tr>\n",
              "  </tbody>\n",
              "</table>\n",
              "</div>\n",
              "      <button class=\"colab-df-convert\" onclick=\"convertToInteractive('df-6493fcae-6184-4d5a-8e1b-5f3af93130cc')\"\n",
              "              title=\"Convert this dataframe to an interactive table.\"\n",
              "              style=\"display:none;\">\n",
              "        \n",
              "  <svg xmlns=\"http://www.w3.org/2000/svg\" height=\"24px\"viewBox=\"0 0 24 24\"\n",
              "       width=\"24px\">\n",
              "    <path d=\"M0 0h24v24H0V0z\" fill=\"none\"/>\n",
              "    <path d=\"M18.56 5.44l.94 2.06.94-2.06 2.06-.94-2.06-.94-.94-2.06-.94 2.06-2.06.94zm-11 1L8.5 8.5l.94-2.06 2.06-.94-2.06-.94L8.5 2.5l-.94 2.06-2.06.94zm10 10l.94 2.06.94-2.06 2.06-.94-2.06-.94-.94-2.06-.94 2.06-2.06.94z\"/><path d=\"M17.41 7.96l-1.37-1.37c-.4-.4-.92-.59-1.43-.59-.52 0-1.04.2-1.43.59L10.3 9.45l-7.72 7.72c-.78.78-.78 2.05 0 2.83L4 21.41c.39.39.9.59 1.41.59.51 0 1.02-.2 1.41-.59l7.78-7.78 2.81-2.81c.8-.78.8-2.07 0-2.86zM5.41 20L4 18.59l7.72-7.72 1.47 1.35L5.41 20z\"/>\n",
              "  </svg>\n",
              "      </button>\n",
              "      \n",
              "  <style>\n",
              "    .colab-df-container {\n",
              "      display:flex;\n",
              "      flex-wrap:wrap;\n",
              "      gap: 12px;\n",
              "    }\n",
              "\n",
              "    .colab-df-convert {\n",
              "      background-color: #E8F0FE;\n",
              "      border: none;\n",
              "      border-radius: 50%;\n",
              "      cursor: pointer;\n",
              "      display: none;\n",
              "      fill: #1967D2;\n",
              "      height: 32px;\n",
              "      padding: 0 0 0 0;\n",
              "      width: 32px;\n",
              "    }\n",
              "\n",
              "    .colab-df-convert:hover {\n",
              "      background-color: #E2EBFA;\n",
              "      box-shadow: 0px 1px 2px rgba(60, 64, 67, 0.3), 0px 1px 3px 1px rgba(60, 64, 67, 0.15);\n",
              "      fill: #174EA6;\n",
              "    }\n",
              "\n",
              "    [theme=dark] .colab-df-convert {\n",
              "      background-color: #3B4455;\n",
              "      fill: #D2E3FC;\n",
              "    }\n",
              "\n",
              "    [theme=dark] .colab-df-convert:hover {\n",
              "      background-color: #434B5C;\n",
              "      box-shadow: 0px 1px 3px 1px rgba(0, 0, 0, 0.15);\n",
              "      filter: drop-shadow(0px 1px 2px rgba(0, 0, 0, 0.3));\n",
              "      fill: #FFFFFF;\n",
              "    }\n",
              "  </style>\n",
              "\n",
              "      <script>\n",
              "        const buttonEl =\n",
              "          document.querySelector('#df-6493fcae-6184-4d5a-8e1b-5f3af93130cc button.colab-df-convert');\n",
              "        buttonEl.style.display =\n",
              "          google.colab.kernel.accessAllowed ? 'block' : 'none';\n",
              "\n",
              "        async function convertToInteractive(key) {\n",
              "          const element = document.querySelector('#df-6493fcae-6184-4d5a-8e1b-5f3af93130cc');\n",
              "          const dataTable =\n",
              "            await google.colab.kernel.invokeFunction('convertToInteractive',\n",
              "                                                     [key], {});\n",
              "          if (!dataTable) return;\n",
              "\n",
              "          const docLinkHtml = 'Like what you see? Visit the ' +\n",
              "            '<a target=\"_blank\" href=https://colab.research.google.com/notebooks/data_table.ipynb>data table notebook</a>'\n",
              "            + ' to learn more about interactive tables.';\n",
              "          element.innerHTML = '';\n",
              "          dataTable['output_type'] = 'display_data';\n",
              "          await google.colab.output.renderOutput(dataTable, element);\n",
              "          const docLink = document.createElement('div');\n",
              "          docLink.innerHTML = docLinkHtml;\n",
              "          element.appendChild(docLink);\n",
              "        }\n",
              "      </script>\n",
              "    </div>\n",
              "  </div>\n",
              "  "
            ]
          },
          "metadata": {},
          "execution_count": 14
        }
      ],
      "source": [
        "test_df.head()"
      ]
    },
    {
      "cell_type": "code",
      "execution_count": null,
      "metadata": {
        "id": "1ao58CXLx15G"
      },
      "outputs": [],
      "source": [
        "sub_df = pd.read_csv(sub_fname)"
      ]
    },
    {
      "cell_type": "code",
      "execution_count": null,
      "metadata": {
        "colab": {
          "base_uri": "https://localhost:8080/",
          "height": 206
        },
        "id": "-uae8Me6tt4I",
        "outputId": "1d9f1c9a-b583-4a7b-d501-d1e5754e337b"
      },
      "outputs": [
        {
          "output_type": "execute_result",
          "data": {
            "text/plain": [
              "   PhraseId  Sentiment\n",
              "0    156061          2\n",
              "1    156062          2\n",
              "2    156063          2\n",
              "3    156064          2\n",
              "4    156065          2"
            ],
            "text/html": [
              "\n",
              "  <div id=\"df-64aa85d6-b57f-4620-821d-1bdb5662c92d\">\n",
              "    <div class=\"colab-df-container\">\n",
              "      <div>\n",
              "<style scoped>\n",
              "    .dataframe tbody tr th:only-of-type {\n",
              "        vertical-align: middle;\n",
              "    }\n",
              "\n",
              "    .dataframe tbody tr th {\n",
              "        vertical-align: top;\n",
              "    }\n",
              "\n",
              "    .dataframe thead th {\n",
              "        text-align: right;\n",
              "    }\n",
              "</style>\n",
              "<table border=\"1\" class=\"dataframe\">\n",
              "  <thead>\n",
              "    <tr style=\"text-align: right;\">\n",
              "      <th></th>\n",
              "      <th>PhraseId</th>\n",
              "      <th>Sentiment</th>\n",
              "    </tr>\n",
              "  </thead>\n",
              "  <tbody>\n",
              "    <tr>\n",
              "      <th>0</th>\n",
              "      <td>156061</td>\n",
              "      <td>2</td>\n",
              "    </tr>\n",
              "    <tr>\n",
              "      <th>1</th>\n",
              "      <td>156062</td>\n",
              "      <td>2</td>\n",
              "    </tr>\n",
              "    <tr>\n",
              "      <th>2</th>\n",
              "      <td>156063</td>\n",
              "      <td>2</td>\n",
              "    </tr>\n",
              "    <tr>\n",
              "      <th>3</th>\n",
              "      <td>156064</td>\n",
              "      <td>2</td>\n",
              "    </tr>\n",
              "    <tr>\n",
              "      <th>4</th>\n",
              "      <td>156065</td>\n",
              "      <td>2</td>\n",
              "    </tr>\n",
              "  </tbody>\n",
              "</table>\n",
              "</div>\n",
              "      <button class=\"colab-df-convert\" onclick=\"convertToInteractive('df-64aa85d6-b57f-4620-821d-1bdb5662c92d')\"\n",
              "              title=\"Convert this dataframe to an interactive table.\"\n",
              "              style=\"display:none;\">\n",
              "        \n",
              "  <svg xmlns=\"http://www.w3.org/2000/svg\" height=\"24px\"viewBox=\"0 0 24 24\"\n",
              "       width=\"24px\">\n",
              "    <path d=\"M0 0h24v24H0V0z\" fill=\"none\"/>\n",
              "    <path d=\"M18.56 5.44l.94 2.06.94-2.06 2.06-.94-2.06-.94-.94-2.06-.94 2.06-2.06.94zm-11 1L8.5 8.5l.94-2.06 2.06-.94-2.06-.94L8.5 2.5l-.94 2.06-2.06.94zm10 10l.94 2.06.94-2.06 2.06-.94-2.06-.94-.94-2.06-.94 2.06-2.06.94z\"/><path d=\"M17.41 7.96l-1.37-1.37c-.4-.4-.92-.59-1.43-.59-.52 0-1.04.2-1.43.59L10.3 9.45l-7.72 7.72c-.78.78-.78 2.05 0 2.83L4 21.41c.39.39.9.59 1.41.59.51 0 1.02-.2 1.41-.59l7.78-7.78 2.81-2.81c.8-.78.8-2.07 0-2.86zM5.41 20L4 18.59l7.72-7.72 1.47 1.35L5.41 20z\"/>\n",
              "  </svg>\n",
              "      </button>\n",
              "      \n",
              "  <style>\n",
              "    .colab-df-container {\n",
              "      display:flex;\n",
              "      flex-wrap:wrap;\n",
              "      gap: 12px;\n",
              "    }\n",
              "\n",
              "    .colab-df-convert {\n",
              "      background-color: #E8F0FE;\n",
              "      border: none;\n",
              "      border-radius: 50%;\n",
              "      cursor: pointer;\n",
              "      display: none;\n",
              "      fill: #1967D2;\n",
              "      height: 32px;\n",
              "      padding: 0 0 0 0;\n",
              "      width: 32px;\n",
              "    }\n",
              "\n",
              "    .colab-df-convert:hover {\n",
              "      background-color: #E2EBFA;\n",
              "      box-shadow: 0px 1px 2px rgba(60, 64, 67, 0.3), 0px 1px 3px 1px rgba(60, 64, 67, 0.15);\n",
              "      fill: #174EA6;\n",
              "    }\n",
              "\n",
              "    [theme=dark] .colab-df-convert {\n",
              "      background-color: #3B4455;\n",
              "      fill: #D2E3FC;\n",
              "    }\n",
              "\n",
              "    [theme=dark] .colab-df-convert:hover {\n",
              "      background-color: #434B5C;\n",
              "      box-shadow: 0px 1px 3px 1px rgba(0, 0, 0, 0.15);\n",
              "      filter: drop-shadow(0px 1px 2px rgba(0, 0, 0, 0.3));\n",
              "      fill: #FFFFFF;\n",
              "    }\n",
              "  </style>\n",
              "\n",
              "      <script>\n",
              "        const buttonEl =\n",
              "          document.querySelector('#df-64aa85d6-b57f-4620-821d-1bdb5662c92d button.colab-df-convert');\n",
              "        buttonEl.style.display =\n",
              "          google.colab.kernel.accessAllowed ? 'block' : 'none';\n",
              "\n",
              "        async function convertToInteractive(key) {\n",
              "          const element = document.querySelector('#df-64aa85d6-b57f-4620-821d-1bdb5662c92d');\n",
              "          const dataTable =\n",
              "            await google.colab.kernel.invokeFunction('convertToInteractive',\n",
              "                                                     [key], {});\n",
              "          if (!dataTable) return;\n",
              "\n",
              "          const docLinkHtml = 'Like what you see? Visit the ' +\n",
              "            '<a target=\"_blank\" href=https://colab.research.google.com/notebooks/data_table.ipynb>data table notebook</a>'\n",
              "            + ' to learn more about interactive tables.';\n",
              "          element.innerHTML = '';\n",
              "          dataTable['output_type'] = 'display_data';\n",
              "          await google.colab.output.renderOutput(dataTable, element);\n",
              "          const docLink = document.createElement('div');\n",
              "          docLink.innerHTML = docLinkHtml;\n",
              "          element.appendChild(docLink);\n",
              "        }\n",
              "      </script>\n",
              "    </div>\n",
              "  </div>\n",
              "  "
            ]
          },
          "metadata": {},
          "execution_count": 16
        }
      ],
      "source": [
        "sub_df.head()"
      ]
    },
    {
      "cell_type": "code",
      "execution_count": null,
      "metadata": {
        "colab": {
          "base_uri": "https://localhost:8080/",
          "height": 279
        },
        "id": "Y8mJk3hxx1qA",
        "outputId": "3bebd7bb-6d17-474b-f670-4256b81b1a0d"
      },
      "outputs": [
        {
          "output_type": "execute_result",
          "data": {
            "text/plain": [
              "<matplotlib.axes._subplots.AxesSubplot at 0x7f8514f4c250>"
            ]
          },
          "metadata": {},
          "execution_count": 17
        },
        {
          "output_type": "display_data",
          "data": {
            "text/plain": [
              "<Figure size 432x288 with 1 Axes>"
            ],
            "image/png": "[encoded data removed]"
          },
          "metadata": {
            "needs_background": "light"
          }
        }
      ],
      "source": [
        "raw_df.Sentiment.value_counts(normalize=True).sort_index().plot(kind='bar')"
      ]
    },
    {
      "cell_type": "code",
      "execution_count": null,
      "metadata": {
        "id": "muwtpdzz5y-J"
      },
      "outputs": [],
      "source": [
        "noOfWord = pd.Series([len(sent.split(' ')) for sent in raw_df.Phrase])"
      ]
    },
    {
      "cell_type": "code",
      "execution_count": null,
      "metadata": {
        "colab": {
          "base_uri": "https://localhost:8080/"
        },
        "id": "epZJatAI9x-u",
        "outputId": "64fdc082-9a32-4777-ef06-17408da6174f"
      },
      "outputs": [
        {
          "output_type": "execute_result",
          "data": {
            "text/plain": [
              "7"
            ]
          },
          "metadata": {},
          "execution_count": 19
        }
      ],
      "source": [
        "#Avg. number of words in a sentence\n",
        "np.sum(noOfWord)//len(noOfWord)"
      ]
    },
    {
      "cell_type": "code",
      "execution_count": null,
      "metadata": {
        "colab": {
          "base_uri": "https://localhost:8080/",
          "height": 285
        },
        "id": "1y5wxDcZ6vLl",
        "outputId": "d6521362-aab9-4fc7-df22-2b777f0786c1"
      },
      "outputs": [
        {
          "output_type": "execute_result",
          "data": {
            "text/plain": [
              "<matplotlib.axes._subplots.AxesSubplot at 0x7f8514e9b040>"
            ]
          },
          "metadata": {},
          "execution_count": 20
        },
        {
          "output_type": "display_data",
          "data": {
            "text/plain": [
              "<Figure size 432x288 with 1 Axes>"
            ],
            "image/png": "[encoded data removed]"
          },
          "metadata": {
            "needs_background": "light"
          }
        }
      ],
      "source": [
        "#Distribution of number of words in a sentence \n",
        "noOfWord.value_counts(normalize=True).sort_index().plot(kind='bar')"
      ]
    },
    {
      "cell_type": "code",
      "execution_count": null,
      "metadata": {
        "colab": {
          "base_uri": "https://localhost:8080/"
        },
        "id": "o5DI8HUbBd5e",
        "outputId": "3082ae76-1650-4e8e-bc55-3b6913ed26f8"
      },
      "outputs": [
        {
          "output_type": "execute_result",
          "data": {
            "text/plain": [
              "0            1\n",
              "1            1\n",
              "2            1\n",
              "3            1\n",
              "4            1\n",
              "          ... \n",
              "156055    8544\n",
              "156056    8544\n",
              "156057    8544\n",
              "156058    8544\n",
              "156059    8544\n",
              "Name: SentenceId, Length: 156060, dtype: int64"
            ]
          },
          "metadata": {},
          "execution_count": 21
        }
      ],
      "source": [
        "raw_df.SentenceId"
      ]
    },
    {
      "cell_type": "markdown",
      "metadata": {
        "id": "yESLHuK3x65P"
      },
      "source": [
        "Summarize your insights and learnings from the dataset below:\n",
        "\n",
        "* Sentiments follow a normal distribution where 50% of the sentiments are 2(Neutral), 20-25% of the sentiments are 1 and 3(somewhat negative/positive) and 0 and 4(negative and positive) are less than 5%.\n",
        "* Maximum number of words in a sentence is 2 and its a positived skewed distribution(more the number of words in a sentence less the chance of finding it)\n",
        "* Their are 8544 sentences where each Sentence has been parsed into many phrases"
      ]
    },
    {
      "cell_type": "markdown",
      "metadata": {
        "id": "pYaRDixJen33"
      },
      "source": [
        "## Implement TF-IDF Technique\n",
        "\n",
        "![](https://i.imgur.com/5VbUPup.png)\n",
        "\n",
        "Outline:\n",
        "\n",
        "1. Learn the vocabulary using `TfidfVectorizer`\n",
        "3. Transform training and test data"
      ]
    },
    {
      "cell_type": "markdown",
      "metadata": {
        "id": "m3cu-meXuETm"
      },
      "source": [
        "#### Learn Vocabulary using `TfidfVectorizer `\n",
        "\n",
        "* Create custom tokenizer with stemming\n",
        "* Create a list of stop words\n",
        "* Configure and create `TfidfVectorizer `\n",
        "* Learn vocubulary from training set\n",
        "* View sample entries from vocabulary"
      ]
    },
    {
      "cell_type": "code",
      "execution_count": null,
      "metadata": {
        "colab": {
          "base_uri": "https://localhost:8080/"
        },
        "id": "CfGUho56dJz0",
        "outputId": "0405320c-53fa-49e8-b936-bff17db289f7"
      },
      "outputs": [
        {
          "output_type": "stream",
          "name": "stderr",
          "text": [
            "[nltk_data] Downloading package punkt to /root/nltk_data...\n",
            "[nltk_data]   Unzipping tokenizers/punkt.zip.\n"
          ]
        },
        {
          "output_type": "execute_result",
          "data": {
            "text/plain": [
              "True"
            ]
          },
          "metadata": {},
          "execution_count": 22
        }
      ],
      "source": [
        "import nltk\n",
        "nltk.download('punkt')"
      ]
    },
    {
      "cell_type": "code",
      "execution_count": null,
      "metadata": {
        "colab": {
          "base_uri": "https://localhost:8080/"
        },
        "id": "Cgpjd3VldHtt",
        "outputId": "8744a1ac-3185-47bd-a0fa-b9a8aec199c3"
      },
      "outputs": [
        {
          "output_type": "stream",
          "name": "stderr",
          "text": [
            "[nltk_data] Downloading package stopwords to /root/nltk_data...\n",
            "[nltk_data]   Unzipping corpora/stopwords.zip.\n"
          ]
        },
        {
          "output_type": "execute_result",
          "data": {
            "text/plain": [
              "True"
            ]
          },
          "metadata": {},
          "execution_count": 23
        }
      ],
      "source": [
        "nltk.download('stopwords')"
      ]
    },
    {
      "cell_type": "code",
      "execution_count": null,
      "metadata": {
        "id": "u7pWYRHnzUWW"
      },
      "outputs": [],
      "source": [
        "from nltk.tokenize import word_tokenize\n",
        "from nltk.stem.snowball import SnowballStemmer\n",
        "from nltk.corpus import stopwords\n",
        "from sklearn.feature_extraction.text import TfidfVectorizer"
      ]
    },
    {
      "cell_type": "code",
      "execution_count": null,
      "metadata": {
        "id": "4vzkmwVG0GGE"
      },
      "outputs": [],
      "source": [
        "stemmer = SnowballStemmer(\"english\")"
      ]
    },
    {
      "cell_type": "code",
      "execution_count": null,
      "metadata": {
        "id": "RSZfITOsb3I_"
      },
      "outputs": [],
      "source": [
        "eng_stopwords = stopwords.words('english')"
      ]
    },
    {
      "cell_type": "code",
      "execution_count": null,
      "metadata": {
        "colab": {
          "base_uri": "https://localhost:8080/"
        },
        "id": "v1r1AgnKZ6XC",
        "outputId": "16fc9dc9-ce3e-41fd-9b1b-2dee1de81a03"
      },
      "outputs": [
        {
          "output_type": "execute_result",
          "data": {
            "text/plain": [
              "\"i, me, my, myself, we, our, ours, ourselves, you, you're, you've, you'll, you'd, your, yours, yourself, yourselves, he, him, his, himself, she, she's, her, hers, herself, it, it's, its, itself, they, them, their, theirs, themselves, what, which, who, whom, this, that, that'll, these, those, am, is, are, was, were, be, been, being, have, has, had, having, do, does, did, doing, a, an, the, and, but, if, or, because, as, until, while, of, at, by, for, with, about, against, between, into, through, during, before, after, above, below, to, from, up, down, in, out, on, off, over, under, again, further, then, once, here, there, when, where, why, how, all, any, both, each, few, more, most, other, some, such, no, nor, not, only, own, same, so, than, too, very, s, t, can, will, just, don, don't, should, should've, now, d, ll, m, o, re, ve, y, ain, aren, aren't, couldn, couldn't, didn, didn't, doesn, doesn't, hadn, hadn't, hasn, hasn't, haven, haven't, isn, isn't, ma, mightn, mightn't, mustn, mustn't, needn, needn't, shan, shan't, shouldn, shouldn't, wasn, wasn't, weren, weren't, won, won't, wouldn, wouldn't\""
            ],
            "application/vnd.google.colaboratory.intrinsic+json": {
              "type": "string"
            }
          },
          "metadata": {},
          "execution_count": 27
        }
      ],
      "source": [
        "', '.join(eng_stopwords)"
      ]
    },
    {
      "cell_type": "code",
      "execution_count": null,
      "metadata": {
        "id": "lpDDXVB6Gzr6"
      },
      "outputs": [],
      "source": [
        "custom_stopwords = eng_stopwords[:115]"
      ]
    },
    {
      "cell_type": "code",
      "execution_count": null,
      "metadata": {
        "id": "9kOhm98SF0Ml"
      },
      "outputs": [],
      "source": [
        "def tokenize(text):\n",
        "  return [stemmer.stem(tok) for tok in word_tokenize(text) if tok.isalpha()]"
      ]
    },
    {
      "cell_type": "code",
      "execution_count": null,
      "metadata": {
        "id": "DTyNAaCMFLlP"
      },
      "outputs": [],
      "source": [
        "vectorizer = TfidfVectorizer(tokenizer=tokenize,\n",
        "                             stop_words=custom_stopwords,\n",
        "                             ngram_range=(1, 2),\n",
        "                             max_features=2500)"
      ]
    },
    {
      "cell_type": "code",
      "execution_count": null,
      "metadata": {
        "colab": {
          "base_uri": "https://localhost:8080/"
        },
        "id": "Tp3P0zaw0ATc",
        "outputId": "70fccef3-836e-43e0-e89f-8e8f41654cfd"
      },
      "outputs": [
        {
          "output_type": "stream",
          "name": "stderr",
          "text": [
            "/usr/local/lib/python3.8/dist-packages/sklearn/feature_extraction/text.py:516: UserWarning: The parameter 'token_pattern' will not be used since 'tokenizer' is not None'\n",
            "  warnings.warn(\n",
            "/usr/local/lib/python3.8/dist-packages/sklearn/feature_extraction/text.py:396: UserWarning: Your stop_words may be inconsistent with your preprocessing. Tokenizing the stop words generated tokens ['abov', 'ani', 'becaus', 'befor', 'doe', 'dure', 'onc', 'ourselv', 'themselv', 'whi', 'yourselv'] not in stop_words.\n",
            "  warnings.warn(\n"
          ]
        },
        {
          "output_type": "execute_result",
          "data": {
            "text/plain": [
              "TfidfVectorizer(max_features=2500, ngram_range=(1, 2),\n",
              "                stop_words=['i', 'me', 'my', 'myself', 'we', 'our', 'ours',\n",
              "                            'ourselves', 'you', \"you're\", \"you've\", \"you'll\",\n",
              "                            \"you'd\", 'your', 'yours', 'yourself', 'yourselves',\n",
              "                            'he', 'him', 'his', 'himself', 'she', \"she's\",\n",
              "                            'her', 'hers', 'herself', 'it', \"it's\", 'its',\n",
              "                            'itself', ...],\n",
              "                tokenizer=<function tokenize at 0x7f8509020700>)"
            ]
          },
          "metadata": {},
          "execution_count": 31
        }
      ],
      "source": [
        "vectorizer.fit(raw_df.Phrase)"
      ]
    },
    {
      "cell_type": "code",
      "execution_count": null,
      "metadata": {
        "colab": {
          "base_uri": "https://localhost:8080/"
        },
        "id": "_EcKea-WZW9p",
        "outputId": "2826e295-cb74-4cad-a9a3-06e7ae3c0252"
      },
      "outputs": [
        {
          "output_type": "execute_result",
          "data": {
            "text/plain": [
              "2500"
            ]
          },
          "metadata": {},
          "execution_count": 32
        }
      ],
      "source": [
        "len(vectorizer.vocabulary_)"
      ]
    },
    {
      "cell_type": "code",
      "execution_count": null,
      "metadata": {
        "colab": {
          "base_uri": "https://localhost:8080/"
        },
        "id": "aggX4uwmeswS",
        "outputId": "d453b114-7ec5-4843-cffd-1d1ab422c622"
      },
      "outputs": [
        {
          "output_type": "execute_result",
          "data": {
            "text/plain": [
              "array(['abandon', 'abil', 'abl', 'abov', 'absolut', 'absorb', 'abstract',\n",
              "       'absurd', 'abus', 'academi', 'accent', 'accept', 'access',\n",
              "       'accomplish', 'account', 'accur', 'ach', 'achiev', 'across', 'act',\n",
              "       'action', 'action film', 'action flick', 'action movi',\n",
              "       'action sequenc', 'actor', 'actress', 'actual', 'ad', 'adam',\n",
              "       'adam sandler', 'adapt', 'add', 'addit', 'address', 'adequ',\n",
              "       'admir', 'admit', 'adolesc', 'adult', 'advantag', 'adventur',\n",
              "       'affair', 'affect', 'affirm', 'afraid', 'age', 'aggress', 'ago',\n",
              "       'ahead', 'aid', 'aim', 'aimless', 'air', 'album', 'alien', 'aliv',\n",
              "       'allen', 'allow', 'almost', 'almost everi', 'alon', 'along',\n",
              "       'alreadi', 'also', 'altern', 'although', 'alway', 'amateurish',\n",
              "       'amaz', 'ambigu', 'ambit', 'ambiti', 'america', 'american', 'ami',\n",
              "       'among', 'amount', 'amus', 'analyz', 'anderson', 'angel', 'angl',\n",
              "       'angst', 'anguish', 'ani', 'ani movi', 'anim', 'ann', 'annoy',\n",
              "       'anoth', 'answer', 'antic', 'antwon', 'antwon fisher', 'anyon',\n",
              "       'anyth', 'apart', 'appal', 'appar'], dtype=object)"
            ]
          },
          "metadata": {},
          "execution_count": 33
        }
      ],
      "source": [
        "vectorizer.get_feature_names_out()[:100]"
      ]
    },
    {
      "cell_type": "markdown",
      "metadata": {
        "id": "N83nLs4juO67"
      },
      "source": [
        "### Transform Training & Test Data\n",
        "\n",
        "* Transform phrases from training set\n",
        "* Transform phrases from test set\n",
        "* Look at some example values"
      ]
    },
    {
      "cell_type": "code",
      "execution_count": null,
      "metadata": {
        "colab": {
          "base_uri": "https://localhost:8080/"
        },
        "id": "QmCryqTMkEhm",
        "outputId": "19fcd92d-26fa-4d27-c536-818486a71ff3"
      },
      "outputs": [
        {
          "output_type": "execute_result",
          "data": {
            "text/plain": [
              "   PhraseId  SentenceId                                             Phrase  \\\n",
              "0         1           1  A series of escapades demonstrating the adage ...   \n",
              "1         2           1  A series of escapades demonstrating the adage ...   \n",
              "2         3           1                                           A series   \n",
              "3         4           1                                                  A   \n",
              "4         5           1                                             series   \n",
              "\n",
              "   Sentiment  \n",
              "0          1  \n",
              "1          2  \n",
              "2          2  \n",
              "3          2  \n",
              "4          2  "
            ],
            "text/html": [
              "\n",
              "  <div id=\"df-8e9eb671-79f0-4bf6-9821-bf3c261d5d9e\">\n",
              "    <div class=\"colab-df-container\">\n",
              "      <div>\n",
              "<style scoped>\n",
              "    .dataframe tbody tr th:only-of-type {\n",
              "        vertical-align: middle;\n",
              "    }\n",
              "\n",
              "    .dataframe tbody tr th {\n",
              "        vertical-align: top;\n",
              "    }\n",
              "\n",
              "    .dataframe thead th {\n",
              "        text-align: right;\n",
              "    }\n",
              "</style>\n",
              "<table border=\"1\" class=\"dataframe\">\n",
              "  <thead>\n",
              "    <tr style=\"text-align: right;\">\n",
              "      <th></th>\n",
              "      <th>PhraseId</th>\n",
              "      <th>SentenceId</th>\n",
              "      <th>Phrase</th>\n",
              "      <th>Sentiment</th>\n",
              "    </tr>\n",
              "  </thead>\n",
              "  <tbody>\n",
              "    <tr>\n",
              "      <th>0</th>\n",
              "      <td>1</td>\n",
              "      <td>1</td>\n",
              "      <td>A series of escapades demonstrating the adage ...</td>\n",
              "      <td>1</td>\n",
              "    </tr>\n",
              "    <tr>\n",
              "      <th>1</th>\n",
              "      <td>2</td>\n",
              "      <td>1</td>\n",
              "      <td>A series of escapades demonstrating the adage ...</td>\n",
              "      <td>2</td>\n",
              "    </tr>\n",
              "    <tr>\n",
              "      <th>2</th>\n",
              "      <td>3</td>\n",
              "      <td>1</td>\n",
              "      <td>A series</td>\n",
              "      <td>2</td>\n",
              "    </tr>\n",
              "    <tr>\n",
              "      <th>3</th>\n",
              "      <td>4</td>\n",
              "      <td>1</td>\n",
              "      <td>A</td>\n",
              "      <td>2</td>\n",
              "    </tr>\n",
              "    <tr>\n",
              "      <th>4</th>\n",
              "      <td>5</td>\n",
              "      <td>1</td>\n",
              "      <td>series</td>\n",
              "      <td>2</td>\n",
              "    </tr>\n",
              "  </tbody>\n",
              "</table>\n",
              "</div>\n",
              "      <button class=\"colab-df-convert\" onclick=\"convertToInteractive('df-8e9eb671-79f0-4bf6-9821-bf3c261d5d9e')\"\n",
              "              title=\"Convert this dataframe to an interactive table.\"\n",
              "              style=\"display:none;\">\n",
              "        \n",
              "  <svg xmlns=\"http://www.w3.org/2000/svg\" height=\"24px\"viewBox=\"0 0 24 24\"\n",
              "       width=\"24px\">\n",
              "    <path d=\"M0 0h24v24H0V0z\" fill=\"none\"/>\n",
              "    <path d=\"M18.56 5.44l.94 2.06.94-2.06 2.06-.94-2.06-.94-.94-2.06-.94 2.06-2.06.94zm-11 1L8.5 8.5l.94-2.06 2.06-.94-2.06-.94L8.5 2.5l-.94 2.06-2.06.94zm10 10l.94 2.06.94-2.06 2.06-.94-2.06-.94-.94-2.06-.94 2.06-2.06.94z\"/><path d=\"M17.41 7.96l-1.37-1.37c-.4-.4-.92-.59-1.43-.59-.52 0-1.04.2-1.43.59L10.3 9.45l-7.72 7.72c-.78.78-.78 2.05 0 2.83L4 21.41c.39.39.9.59 1.41.59.51 0 1.02-.2 1.41-.59l7.78-7.78 2.81-2.81c.8-.78.8-2.07 0-2.86zM5.41 20L4 18.59l7.72-7.72 1.47 1.35L5.41 20z\"/>\n",
              "  </svg>\n",
              "      </button>\n",
              "      \n",
              "  <style>\n",
              "    .colab-df-container {\n",
              "      display:flex;\n",
              "      flex-wrap:wrap;\n",
              "      gap: 12px;\n",
              "    }\n",
              "\n",
              "    .colab-df-convert {\n",
              "      background-color: #E8F0FE;\n",
              "      border: none;\n",
              "      border-radius: 50%;\n",
              "      cursor: pointer;\n",
              "      display: none;\n",
              "      fill: #1967D2;\n",
              "      height: 32px;\n",
              "      padding: 0 0 0 0;\n",
              "      width: 32px;\n",
              "    }\n",
              "\n",
              "    .colab-df-convert:hover {\n",
              "      background-color: #E2EBFA;\n",
              "      box-shadow: 0px 1px 2px rgba(60, 64, 67, 0.3), 0px 1px 3px 1px rgba(60, 64, 67, 0.15);\n",
              "      fill: #174EA6;\n",
              "    }\n",
              "\n",
              "    [theme=dark] .colab-df-convert {\n",
              "      background-color: #3B4455;\n",
              "      fill: #D2E3FC;\n",
              "    }\n",
              "\n",
              "    [theme=dark] .colab-df-convert:hover {\n",
              "      background-color: #434B5C;\n",
              "      box-shadow: 0px 1px 3px 1px rgba(0, 0, 0, 0.15);\n",
              "      filter: drop-shadow(0px 1px 2px rgba(0, 0, 0, 0.3));\n",
              "      fill: #FFFFFF;\n",
              "    }\n",
              "  </style>\n",
              "\n",
              "      <script>\n",
              "        const buttonEl =\n",
              "          document.querySelector('#df-8e9eb671-79f0-4bf6-9821-bf3c261d5d9e button.colab-df-convert');\n",
              "        buttonEl.style.display =\n",
              "          google.colab.kernel.accessAllowed ? 'block' : 'none';\n",
              "\n",
              "        async function convertToInteractive(key) {\n",
              "          const element = document.querySelector('#df-8e9eb671-79f0-4bf6-9821-bf3c261d5d9e');\n",
              "          const dataTable =\n",
              "            await google.colab.kernel.invokeFunction('convertToInteractive',\n",
              "                                                     [key], {});\n",
              "          if (!dataTable) return;\n",
              "\n",
              "          const docLinkHtml = 'Like what you see? Visit the ' +\n",
              "            '<a target=\"_blank\" href=https://colab.research.google.com/notebooks/data_table.ipynb>data table notebook</a>'\n",
              "            + ' to learn more about interactive tables.';\n",
              "          element.innerHTML = '';\n",
              "          dataTable['output_type'] = 'display_data';\n",
              "          await google.colab.output.renderOutput(dataTable, element);\n",
              "          const docLink = document.createElement('div');\n",
              "          docLink.innerHTML = docLinkHtml;\n",
              "          element.appendChild(docLink);\n",
              "        }\n",
              "      </script>\n",
              "    </div>\n",
              "  </div>\n",
              "  "
            ]
          },
          "metadata": {},
          "execution_count": 34
        }
      ],
      "source": [
        "raw_df.head()"
      ]
    },
    {
      "cell_type": "code",
      "execution_count": null,
      "metadata": {
        "id": "B6WXWiQzuOcX"
      },
      "outputs": [],
      "source": [
        "inputs = vectorizer.transform(raw_df.Phrase)"
      ]
    },
    {
      "cell_type": "code",
      "execution_count": null,
      "metadata": {
        "colab": {
          "base_uri": "https://localhost:8080/"
        },
        "id": "0BDzHuBbuPSz",
        "outputId": "075aee8c-e515-4a26-8a29-4670d45162f1"
      },
      "outputs": [
        {
          "output_type": "execute_result",
          "data": {
            "text/plain": [
              "(156060, 2500)"
            ]
          },
          "metadata": {},
          "execution_count": 36
        }
      ],
      "source": [
        "inputs.shape"
      ]
    },
    {
      "cell_type": "code",
      "execution_count": null,
      "metadata": {
        "colab": {
          "base_uri": "https://localhost:8080/"
        },
        "id": "sEnfZpS83eUr",
        "outputId": "39506c65-65d2-467c-d9c0-b134513738a6"
      },
      "outputs": [
        {
          "output_type": "execute_result",
          "data": {
            "text/plain": [
              "array([0.        , 0.        , 0.        , 0.        , 0.        ,\n",
              "       0.        , 0.        , 0.        , 0.        , 0.        ,\n",
              "       0.        , 0.        , 0.        , 0.        , 0.        ,\n",
              "       0.        , 0.        , 0.        , 0.        , 0.        ,\n",
              "       0.        , 0.        , 0.        , 0.        , 0.        ,\n",
              "       0.        , 0.        , 0.        , 0.        , 0.        ,\n",
              "       0.        , 0.        , 0.        , 0.        , 0.        ,\n",
              "       0.        , 0.        , 0.        , 0.        , 0.        ,\n",
              "       0.        , 0.        , 0.        , 0.        , 0.        ,\n",
              "       0.        , 0.        , 0.        , 0.        , 0.        ,\n",
              "       0.        , 0.        , 0.        , 0.        , 0.        ,\n",
              "       0.        , 0.        , 0.        , 0.        , 0.        ,\n",
              "       0.        , 0.        , 0.        , 0.        , 0.27620188,\n",
              "       0.        , 0.        , 0.        , 0.        , 0.        ,\n",
              "       0.        , 0.        , 0.        , 0.        , 0.        ,\n",
              "       0.        , 0.        , 0.33022325, 0.29314979, 0.        ,\n",
              "       0.        , 0.        , 0.        , 0.        , 0.        ,\n",
              "       0.        , 0.        , 0.        , 0.        , 0.        ,\n",
              "       0.        , 0.        , 0.        , 0.        , 0.        ,\n",
              "       0.        , 0.        , 0.        , 0.        , 0.        ])"
            ]
          },
          "metadata": {},
          "execution_count": 37
        }
      ],
      "source": [
        "inputs.toarray()[0][:100]"
      ]
    },
    {
      "cell_type": "code",
      "execution_count": null,
      "metadata": {
        "colab": {
          "base_uri": "https://localhost:8080/"
        },
        "id": "8VgWUwuRtDY8",
        "outputId": "1743fb78-3e91-4723-8c52-9809c50a1b1c"
      },
      "outputs": [
        {
          "output_type": "execute_result",
          "data": {
            "text/plain": [
              "'A series of escapades demonstrating the adage that what is good for the goose is also good for the gander , some of which occasionally amuses but none of which amounts to much of a story .'"
            ],
            "application/vnd.google.colaboratory.intrinsic+json": {
              "type": "string"
            }
          },
          "metadata": {},
          "execution_count": 38
        }
      ],
      "source": [
        "raw_df.Phrase[0]"
      ]
    },
    {
      "cell_type": "code",
      "execution_count": null,
      "metadata": {
        "colab": {
          "base_uri": "https://localhost:8080/"
        },
        "id": "fAFNa18FtQ3G",
        "outputId": "5ca27a3b-589f-452f-ecdf-0cc2432a0d65"
      },
      "outputs": [
        {
          "output_type": "execute_result",
          "data": {
            "text/plain": [
              "37"
            ]
          },
          "metadata": {},
          "execution_count": 39
        }
      ],
      "source": [
        "len(raw_df.Phrase[0].split(' '))"
      ]
    },
    {
      "cell_type": "code",
      "execution_count": null,
      "metadata": {
        "id": "QLngc6g5yspe"
      },
      "outputs": [],
      "source": [
        "s = pd.Series(inputs.toarray()[0])"
      ]
    },
    {
      "cell_type": "code",
      "execution_count": null,
      "metadata": {
        "colab": {
          "base_uri": "https://localhost:8080/"
        },
        "id": "z9JRRv_Q4QNf",
        "outputId": "e065aae6-9210-4bad-ee37-98266be27df1"
      },
      "outputs": [
        {
          "output_type": "execute_result",
          "data": {
            "text/plain": [
              "[64, 77, 78, 538, 926, 1416, 1464, 1495, 1902, 2084]"
            ]
          },
          "metadata": {},
          "execution_count": 41
        }
      ],
      "source": [
        "index = list(s[s!=0].index)\n",
        "index"
      ]
    },
    {
      "cell_type": "code",
      "execution_count": null,
      "metadata": {
        "colab": {
          "base_uri": "https://localhost:8080/"
        },
        "id": "BeUejKZgs4jx",
        "outputId": "450a186f-2c3d-42fc-b51c-9eb52de0f8a7"
      },
      "outputs": [
        {
          "output_type": "execute_result",
          "data": {
            "text/plain": [
              "array(['also', 'amount', 'amus', 'demonstr', 'good', 'much', 'none',\n",
              "       'occasion', 'seri', 'stori'], dtype=object)"
            ]
          },
          "metadata": {},
          "execution_count": 42
        }
      ],
      "source": [
        "vectorizer.get_feature_names_out()[index]"
      ]
    },
    {
      "cell_type": "code",
      "execution_count": null,
      "metadata": {
        "colab": {
          "base_uri": "https://localhost:8080/"
        },
        "id": "KSlnHBxOtblC",
        "outputId": "b4579323-8675-4dc9-f29e-5c0c9116aa9a"
      },
      "outputs": [
        {
          "output_type": "execute_result",
          "data": {
            "text/plain": [
              "10"
            ]
          },
          "metadata": {},
          "execution_count": 43
        }
      ],
      "source": [
        "len(index)"
      ]
    },
    {
      "cell_type": "code",
      "execution_count": null,
      "metadata": {
        "id": "7C-f9I9St4nO"
      },
      "outputs": [],
      "source": [
        "test_input = vectorizer.transform(test_df.Phrase)"
      ]
    },
    {
      "cell_type": "code",
      "execution_count": null,
      "metadata": {
        "colab": {
          "base_uri": "https://localhost:8080/"
        },
        "id": "tDCKMN1VuFkW",
        "outputId": "ba3465d3-a8fc-4876-e7c4-3fb779b5785e"
      },
      "outputs": [
        {
          "output_type": "execute_result",
          "data": {
            "text/plain": [
              "(66292, 2500)"
            ]
          },
          "metadata": {},
          "execution_count": 45
        }
      ],
      "source": [
        "test_input.shape"
      ]
    },
    {
      "cell_type": "markdown",
      "metadata": {
        "id": "TwLM4r3EetEK"
      },
      "source": [
        "## Train Baseline Model & Submit to Kaggle\n",
        "\n",
        "1. Split training and validation sets\n",
        "2. Train logistic regression model\n",
        "3. Study predictions on sample phrases\n",
        "4. Make predictions and submit to Kaggle\n",
        "\n",
        "\n"
      ]
    },
    {
      "cell_type": "markdown",
      "metadata": {
        "id": "NAZkydfs4wrX"
      },
      "source": [
        "### Split Training and Validation Sets\n",
        "\n",
        "Tip: Don't use a random sample for validation set\n",
        "\n",
        "As their are multiple phrases belong to the same sentences and so are not independent from each other. Using random sample can result in validation set being similar to that of training set which is not desirable."
      ]
    },
    {
      "cell_type": "code",
      "execution_count": null,
      "metadata": {
        "colab": {
          "base_uri": "https://localhost:8080/"
        },
        "id": "QJb7m9uPwEee",
        "outputId": "3a901030-1a72-4f64-a95e-66e2449b4d9a"
      },
      "outputs": [
        {
          "output_type": "execute_result",
          "data": {
            "text/plain": [
              "array([   1,    2,    3, ..., 8542, 8543, 8544])"
            ]
          },
          "metadata": {},
          "execution_count": 46
        }
      ],
      "source": [
        "np.unique(raw_df.SentenceId)"
      ]
    },
    {
      "cell_type": "code",
      "execution_count": null,
      "metadata": {
        "id": "RuOglUoxwUdV"
      },
      "outputs": [],
      "source": [
        "TRAIN_SIZE = raw_df[raw_df.SentenceId==6500].index[0]"
      ]
    },
    {
      "cell_type": "code",
      "execution_count": null,
      "metadata": {
        "colab": {
          "base_uri": "https://localhost:8080/"
        },
        "id": "_9wZLI9i4rlB",
        "outputId": "6d5e1ffe-5669-40b2-d54b-440015f4c12a"
      },
      "outputs": [
        {
          "output_type": "execute_result",
          "data": {
            "text/plain": [
              "121354"
            ]
          },
          "metadata": {},
          "execution_count": 48
        }
      ],
      "source": [
        "TRAIN_SIZE"
      ]
    },
    {
      "cell_type": "code",
      "execution_count": null,
      "metadata": {
        "id": "FnALsBHr4aQt"
      },
      "outputs": [],
      "source": [
        "train_inputs = inputs[:TRAIN_SIZE]\n",
        "train_targets = raw_df.Sentiment[:TRAIN_SIZE]"
      ]
    },
    {
      "cell_type": "code",
      "execution_count": null,
      "metadata": {
        "colab": {
          "base_uri": "https://localhost:8080/"
        },
        "id": "EF8dHyrF4S3R",
        "outputId": "72e3a470-6b26-4f21-912c-8008794045c7"
      },
      "outputs": [
        {
          "output_type": "execute_result",
          "data": {
            "text/plain": [
              "((121354, 2500), (121354,))"
            ]
          },
          "metadata": {},
          "execution_count": 50
        }
      ],
      "source": [
        "train_inputs.shape, train_targets.shape"
      ]
    },
    {
      "cell_type": "code",
      "execution_count": null,
      "metadata": {
        "id": "JXg0N5Tset2n"
      },
      "outputs": [],
      "source": [
        "val_inputs = inputs[TRAIN_SIZE:]\n",
        "val_targets = raw_df.Sentiment[TRAIN_SIZE:]"
      ]
    },
    {
      "cell_type": "code",
      "execution_count": null,
      "metadata": {
        "colab": {
          "base_uri": "https://localhost:8080/"
        },
        "id": "5-VO-Ad25CUt",
        "outputId": "eaedd678-d11c-4728-cd6f-0bd5f37018a4"
      },
      "outputs": [
        {
          "output_type": "execute_result",
          "data": {
            "text/plain": [
              "((34706, 2500), (34706,))"
            ]
          },
          "metadata": {},
          "execution_count": 52
        }
      ],
      "source": [
        "val_inputs.shape, val_targets.shape"
      ]
    },
    {
      "cell_type": "markdown",
      "metadata": {
        "id": "DHoTrGTM5Bo9"
      },
      "source": [
        "### Train Logistic Regression Model\n",
        "\n"
      ]
    },
    {
      "cell_type": "code",
      "execution_count": null,
      "metadata": {
        "id": "jEHCuRAt7swN"
      },
      "outputs": [],
      "source": [
        "from sklearn.linear_model import LogisticRegression"
      ]
    },
    {
      "cell_type": "code",
      "execution_count": null,
      "metadata": {
        "id": "7klXZoh-7st2"
      },
      "outputs": [],
      "source": [
        "model = LogisticRegression()"
      ]
    },
    {
      "cell_type": "code",
      "source": [
        "import time"
      ],
      "metadata": {
        "id": "N96-ens0UW38"
      },
      "execution_count": null,
      "outputs": []
    },
    {
      "cell_type": "code",
      "execution_count": null,
      "metadata": {
        "colab": {
          "base_uri": "https://localhost:8080/"
        },
        "id": "THyNzV9J7srO",
        "outputId": "49b9e532-457d-434f-de8d-7b3b0676ec4c"
      },
      "outputs": [
        {
          "output_type": "stream",
          "name": "stderr",
          "text": [
            "/usr/local/lib/python3.8/dist-packages/sklearn/linear_model/_logistic.py:814: ConvergenceWarning: lbfgs failed to converge (status=1):\n",
            "STOP: TOTAL NO. of ITERATIONS REACHED LIMIT.\n",
            "\n",
            "Increase the number of iterations (max_iter) or scale the data as shown in:\n",
            "    https://scikit-learn.org/stable/modules/preprocessing.html\n",
            "Please also refer to the documentation for alternative solver options:\n",
            "    https://scikit-learn.org/stable/modules/linear_model.html#logistic-regression\n",
            "  n_iter_i = _check_optimize_result(\n"
          ]
        },
        {
          "output_type": "execute_result",
          "data": {
            "text/plain": [
              "13.078202247619629"
            ]
          },
          "metadata": {},
          "execution_count": 56
        }
      ],
      "source": [
        "start = time.time()\n",
        "model.fit(train_inputs, train_targets)\n",
        "end = time.time()\n",
        "dur = end - start\n",
        "dur"
      ]
    },
    {
      "cell_type": "code",
      "source": [
        "duration = {'Logistic Regression': dur}"
      ],
      "metadata": {
        "id": "8y2dSnKeUrzp"
      },
      "execution_count": null,
      "outputs": []
    },
    {
      "cell_type": "code",
      "execution_count": null,
      "metadata": {
        "id": "qQ0HAnwP8k1S"
      },
      "outputs": [],
      "source": [
        "train_preds = model.predict(train_inputs)"
      ]
    },
    {
      "cell_type": "code",
      "execution_count": null,
      "metadata": {
        "colab": {
          "base_uri": "https://localhost:8080/"
        },
        "id": "TFXjhxfS70Ny",
        "outputId": "1510dcc5-8922-47bb-cc84-79af87c455cb"
      },
      "outputs": [
        {
          "output_type": "execute_result",
          "data": {
            "text/plain": [
              "0         1\n",
              "1         2\n",
              "2         2\n",
              "3         2\n",
              "4         2\n",
              "         ..\n",
              "121349    3\n",
              "121350    3\n",
              "121351    3\n",
              "121352    3\n",
              "121353    2\n",
              "Name: Sentiment, Length: 121354, dtype: int64"
            ]
          },
          "metadata": {},
          "execution_count": 59
        }
      ],
      "source": [
        "train_targets"
      ]
    },
    {
      "cell_type": "code",
      "execution_count": null,
      "metadata": {
        "colab": {
          "base_uri": "https://localhost:8080/"
        },
        "id": "lT_-tby27so2",
        "outputId": "c8fee1ca-1c5a-467b-8bed-c254191d948d"
      },
      "outputs": [
        {
          "output_type": "execute_result",
          "data": {
            "text/plain": [
              "array([3, 2, 2, ..., 3, 3, 2])"
            ]
          },
          "metadata": {},
          "execution_count": 60
        }
      ],
      "source": [
        "train_preds"
      ]
    },
    {
      "cell_type": "code",
      "execution_count": null,
      "metadata": {
        "id": "QeGXzZtCyXwu"
      },
      "outputs": [],
      "source": [
        "from sklearn.metrics import accuracy_score"
      ]
    },
    {
      "cell_type": "code",
      "execution_count": null,
      "metadata": {
        "colab": {
          "base_uri": "https://localhost:8080/"
        },
        "id": "TI5j_S5QyfLw",
        "outputId": "71701001-f331-4e96-beea-2b5c7e465e65"
      },
      "outputs": [
        {
          "output_type": "execute_result",
          "data": {
            "text/plain": [
              "0.6421131565502579"
            ]
          },
          "metadata": {},
          "execution_count": 62
        }
      ],
      "source": [
        "train_score = accuracy_score(train_targets, train_preds)\n",
        "train_score"
      ]
    },
    {
      "cell_type": "code",
      "execution_count": null,
      "metadata": {
        "id": "hl60xZpdymNY"
      },
      "outputs": [],
      "source": [
        "val_preds = model.predict(val_inputs)"
      ]
    },
    {
      "cell_type": "code",
      "execution_count": null,
      "metadata": {
        "colab": {
          "base_uri": "https://localhost:8080/"
        },
        "id": "FiFIREMkyzzn",
        "outputId": "03217fd0-033a-4d0e-eba2-a00b93f0b6f1"
      },
      "outputs": [
        {
          "output_type": "execute_result",
          "data": {
            "text/plain": [
              "0.5823776868552988"
            ]
          },
          "metadata": {},
          "execution_count": 64
        }
      ],
      "source": [
        "val_score = accuracy_score(val_targets, val_preds)\n",
        "val_score"
      ]
    },
    {
      "cell_type": "code",
      "source": [
        "score = {'Logistic Regression': [train_score, val_score]}"
      ],
      "metadata": {
        "id": "VYDLWOOt0YdO"
      },
      "execution_count": null,
      "outputs": []
    },
    {
      "cell_type": "markdown",
      "metadata": {
        "id": "RS2HgpkL_J0G"
      },
      "source": [
        "### Study Predictions on Sample Inputs"
      ]
    },
    {
      "cell_type": "code",
      "execution_count": null,
      "metadata": {
        "id": "Kvb-G3EU-3sD"
      },
      "outputs": [],
      "source": [
        "small_df = raw_df.sample(20)"
      ]
    },
    {
      "cell_type": "code",
      "execution_count": null,
      "metadata": {
        "colab": {
          "base_uri": "https://localhost:8080/",
          "height": 677
        },
        "id": "96pSFU6Q-3m_",
        "outputId": "e71f1099-2e9f-4998-80ef-cfa504d30356"
      },
      "outputs": [
        {
          "output_type": "execute_result",
          "data": {
            "text/plain": [
              "        PhraseId  SentenceId  \\\n",
              "29325      29326        1359   \n",
              "131775    131776        7103   \n",
              "18634      18635         818   \n",
              "48886      48887        2387   \n",
              "93243      93244        4862   \n",
              "20909      20910         932   \n",
              "84289      84290        4356   \n",
              "36241      36242        1712   \n",
              "104399    104400        5508   \n",
              "145996    145997        7940   \n",
              "89809      89810        4673   \n",
              "29034      29035        1344   \n",
              "116507    116508        6212   \n",
              "122564    122565        6574   \n",
              "76917      76918        3954   \n",
              "79722      79723        4105   \n",
              "14618      14619         630   \n",
              "122168    122169        6548   \n",
              "77889      77890        4006   \n",
              "80742      80743        4159   \n",
              "\n",
              "                                                   Phrase  Sentiment  \n",
              "29325   enough to make you wish Jacquot had left well ...          1  \n",
              "131775                                          too eager          2  \n",
              "18634                                the end of the movie          2  \n",
              "48886                           rough-hewn vanity project          1  \n",
              "93243   Not quite as miraculous as its DreamWorks make...          1  \n",
              "20909                                        from history          2  \n",
              "84289   The April 2002 instalment of the American War ...          1  \n",
              "36241                                        is revealing          2  \n",
              "104399                                         great team          3  \n",
              "145996  , depends if you believe that the shocking con...          2  \n",
              "89809                                  are pure Hollywood          3  \n",
              "29034                                         a fresh way          3  \n",
              "116507  Just how these families interact may surprise ...          2  \n",
              "122564                     a fascinating , riveting story          4  \n",
              "76917                                               clean          3  \n",
              "79722                            like I already mentioned          2  \n",
              "14618                                            detailed          3  \n",
              "122168                         All in all , a great party          3  \n",
              "77889          more inadvertent ones and stunningly trite          2  \n",
              "80742                                         Ultimate X.          2  "
            ],
            "text/html": [
              "\n",
              "  <div id=\"df-aa95560e-226b-4b51-9f63-8464e1db4458\">\n",
              "    <div class=\"colab-df-container\">\n",
              "      <div>\n",
              "<style scoped>\n",
              "    .dataframe tbody tr th:only-of-type {\n",
              "        vertical-align: middle;\n",
              "    }\n",
              "\n",
              "    .dataframe tbody tr th {\n",
              "        vertical-align: top;\n",
              "    }\n",
              "\n",
              "    .dataframe thead th {\n",
              "        text-align: right;\n",
              "    }\n",
              "</style>\n",
              "<table border=\"1\" class=\"dataframe\">\n",
              "  <thead>\n",
              "    <tr style=\"text-align: right;\">\n",
              "      <th></th>\n",
              "      <th>PhraseId</th>\n",
              "      <th>SentenceId</th>\n",
              "      <th>Phrase</th>\n",
              "      <th>Sentiment</th>\n",
              "    </tr>\n",
              "  </thead>\n",
              "  <tbody>\n",
              "    <tr>\n",
              "      <th>29325</th>\n",
              "      <td>29326</td>\n",
              "      <td>1359</td>\n",
              "      <td>enough to make you wish Jacquot had left well ...</td>\n",
              "      <td>1</td>\n",
              "    </tr>\n",
              "    <tr>\n",
              "      <th>131775</th>\n",
              "      <td>131776</td>\n",
              "      <td>7103</td>\n",
              "      <td>too eager</td>\n",
              "      <td>2</td>\n",
              "    </tr>\n",
              "    <tr>\n",
              "      <th>18634</th>\n",
              "      <td>18635</td>\n",
              "      <td>818</td>\n",
              "      <td>the end of the movie</td>\n",
              "      <td>2</td>\n",
              "    </tr>\n",
              "    <tr>\n",
              "      <th>48886</th>\n",
              "      <td>48887</td>\n",
              "      <td>2387</td>\n",
              "      <td>rough-hewn vanity project</td>\n",
              "      <td>1</td>\n",
              "    </tr>\n",
              "    <tr>\n",
              "      <th>93243</th>\n",
              "      <td>93244</td>\n",
              "      <td>4862</td>\n",
              "      <td>Not quite as miraculous as its DreamWorks make...</td>\n",
              "      <td>1</td>\n",
              "    </tr>\n",
              "    <tr>\n",
              "      <th>20909</th>\n",
              "      <td>20910</td>\n",
              "      <td>932</td>\n",
              "      <td>from history</td>\n",
              "      <td>2</td>\n",
              "    </tr>\n",
              "    <tr>\n",
              "      <th>84289</th>\n",
              "      <td>84290</td>\n",
              "      <td>4356</td>\n",
              "      <td>The April 2002 instalment of the American War ...</td>\n",
              "      <td>1</td>\n",
              "    </tr>\n",
              "    <tr>\n",
              "      <th>36241</th>\n",
              "      <td>36242</td>\n",
              "      <td>1712</td>\n",
              "      <td>is revealing</td>\n",
              "      <td>2</td>\n",
              "    </tr>\n",
              "    <tr>\n",
              "      <th>104399</th>\n",
              "      <td>104400</td>\n",
              "      <td>5508</td>\n",
              "      <td>great team</td>\n",
              "      <td>3</td>\n",
              "    </tr>\n",
              "    <tr>\n",
              "      <th>145996</th>\n",
              "      <td>145997</td>\n",
              "      <td>7940</td>\n",
              "      <td>, depends if you believe that the shocking con...</td>\n",
              "      <td>2</td>\n",
              "    </tr>\n",
              "    <tr>\n",
              "      <th>89809</th>\n",
              "      <td>89810</td>\n",
              "      <td>4673</td>\n",
              "      <td>are pure Hollywood</td>\n",
              "      <td>3</td>\n",
              "    </tr>\n",
              "    <tr>\n",
              "      <th>29034</th>\n",
              "      <td>29035</td>\n",
              "      <td>1344</td>\n",
              "      <td>a fresh way</td>\n",
              "      <td>3</td>\n",
              "    </tr>\n",
              "    <tr>\n",
              "      <th>116507</th>\n",
              "      <td>116508</td>\n",
              "      <td>6212</td>\n",
              "      <td>Just how these families interact may surprise ...</td>\n",
              "      <td>2</td>\n",
              "    </tr>\n",
              "    <tr>\n",
              "      <th>122564</th>\n",
              "      <td>122565</td>\n",
              "      <td>6574</td>\n",
              "      <td>a fascinating , riveting story</td>\n",
              "      <td>4</td>\n",
              "    </tr>\n",
              "    <tr>\n",
              "      <th>76917</th>\n",
              "      <td>76918</td>\n",
              "      <td>3954</td>\n",
              "      <td>clean</td>\n",
              "      <td>3</td>\n",
              "    </tr>\n",
              "    <tr>\n",
              "      <th>79722</th>\n",
              "      <td>79723</td>\n",
              "      <td>4105</td>\n",
              "      <td>like I already mentioned</td>\n",
              "      <td>2</td>\n",
              "    </tr>\n",
              "    <tr>\n",
              "      <th>14618</th>\n",
              "      <td>14619</td>\n",
              "      <td>630</td>\n",
              "      <td>detailed</td>\n",
              "      <td>3</td>\n",
              "    </tr>\n",
              "    <tr>\n",
              "      <th>122168</th>\n",
              "      <td>122169</td>\n",
              "      <td>6548</td>\n",
              "      <td>All in all , a great party</td>\n",
              "      <td>3</td>\n",
              "    </tr>\n",
              "    <tr>\n",
              "      <th>77889</th>\n",
              "      <td>77890</td>\n",
              "      <td>4006</td>\n",
              "      <td>more inadvertent ones and stunningly trite</td>\n",
              "      <td>2</td>\n",
              "    </tr>\n",
              "    <tr>\n",
              "      <th>80742</th>\n",
              "      <td>80743</td>\n",
              "      <td>4159</td>\n",
              "      <td>Ultimate X.</td>\n",
              "      <td>2</td>\n",
              "    </tr>\n",
              "  </tbody>\n",
              "</table>\n",
              "</div>\n",
              "      <button class=\"colab-df-convert\" onclick=\"convertToInteractive('df-aa95560e-226b-4b51-9f63-8464e1db4458')\"\n",
              "              title=\"Convert this dataframe to an interactive table.\"\n",
              "              style=\"display:none;\">\n",
              "        \n",
              "  <svg xmlns=\"http://www.w3.org/2000/svg\" height=\"24px\"viewBox=\"0 0 24 24\"\n",
              "       width=\"24px\">\n",
              "    <path d=\"M0 0h24v24H0V0z\" fill=\"none\"/>\n",
              "    <path d=\"M18.56 5.44l.94 2.06.94-2.06 2.06-.94-2.06-.94-.94-2.06-.94 2.06-2.06.94zm-11 1L8.5 8.5l.94-2.06 2.06-.94-2.06-.94L8.5 2.5l-.94 2.06-2.06.94zm10 10l.94 2.06.94-2.06 2.06-.94-2.06-.94-.94-2.06-.94 2.06-2.06.94z\"/><path d=\"M17.41 7.96l-1.37-1.37c-.4-.4-.92-.59-1.43-.59-.52 0-1.04.2-1.43.59L10.3 9.45l-7.72 7.72c-.78.78-.78 2.05 0 2.83L4 21.41c.39.39.9.59 1.41.59.51 0 1.02-.2 1.41-.59l7.78-7.78 2.81-2.81c.8-.78.8-2.07 0-2.86zM5.41 20L4 18.59l7.72-7.72 1.47 1.35L5.41 20z\"/>\n",
              "  </svg>\n",
              "      </button>\n",
              "      \n",
              "  <style>\n",
              "    .colab-df-container {\n",
              "      display:flex;\n",
              "      flex-wrap:wrap;\n",
              "      gap: 12px;\n",
              "    }\n",
              "\n",
              "    .colab-df-convert {\n",
              "      background-color: #E8F0FE;\n",
              "      border: none;\n",
              "      border-radius: 50%;\n",
              "      cursor: pointer;\n",
              "      display: none;\n",
              "      fill: #1967D2;\n",
              "      height: 32px;\n",
              "      padding: 0 0 0 0;\n",
              "      width: 32px;\n",
              "    }\n",
              "\n",
              "    .colab-df-convert:hover {\n",
              "      background-color: #E2EBFA;\n",
              "      box-shadow: 0px 1px 2px rgba(60, 64, 67, 0.3), 0px 1px 3px 1px rgba(60, 64, 67, 0.15);\n",
              "      fill: #174EA6;\n",
              "    }\n",
              "\n",
              "    [theme=dark] .colab-df-convert {\n",
              "      background-color: #3B4455;\n",
              "      fill: #D2E3FC;\n",
              "    }\n",
              "\n",
              "    [theme=dark] .colab-df-convert:hover {\n",
              "      background-color: #434B5C;\n",
              "      box-shadow: 0px 1px 3px 1px rgba(0, 0, 0, 0.15);\n",
              "      filter: drop-shadow(0px 1px 2px rgba(0, 0, 0, 0.3));\n",
              "      fill: #FFFFFF;\n",
              "    }\n",
              "  </style>\n",
              "\n",
              "      <script>\n",
              "        const buttonEl =\n",
              "          document.querySelector('#df-aa95560e-226b-4b51-9f63-8464e1db4458 button.colab-df-convert');\n",
              "        buttonEl.style.display =\n",
              "          google.colab.kernel.accessAllowed ? 'block' : 'none';\n",
              "\n",
              "        async function convertToInteractive(key) {\n",
              "          const element = document.querySelector('#df-aa95560e-226b-4b51-9f63-8464e1db4458');\n",
              "          const dataTable =\n",
              "            await google.colab.kernel.invokeFunction('convertToInteractive',\n",
              "                                                     [key], {});\n",
              "          if (!dataTable) return;\n",
              "\n",
              "          const docLinkHtml = 'Like what you see? Visit the ' +\n",
              "            '<a target=\"_blank\" href=https://colab.research.google.com/notebooks/data_table.ipynb>data table notebook</a>'\n",
              "            + ' to learn more about interactive tables.';\n",
              "          element.innerHTML = '';\n",
              "          dataTable['output_type'] = 'display_data';\n",
              "          await google.colab.output.renderOutput(dataTable, element);\n",
              "          const docLink = document.createElement('div');\n",
              "          docLink.innerHTML = docLinkHtml;\n",
              "          element.appendChild(docLink);\n",
              "        }\n",
              "      </script>\n",
              "    </div>\n",
              "  </div>\n",
              "  "
            ]
          },
          "metadata": {},
          "execution_count": 67
        }
      ],
      "source": [
        "small_df"
      ]
    },
    {
      "cell_type": "code",
      "execution_count": null,
      "metadata": {
        "id": "FRlyVDpu_ARh"
      },
      "outputs": [],
      "source": [
        "small_inputs = vectorizer.transform(small_df.Phrase)"
      ]
    },
    {
      "cell_type": "code",
      "execution_count": null,
      "metadata": {
        "colab": {
          "base_uri": "https://localhost:8080/"
        },
        "id": "SVX3fbskDyGs",
        "outputId": "12370ec8-e2ad-4fd3-865f-b8358419f852"
      },
      "outputs": [
        {
          "output_type": "execute_result",
          "data": {
            "text/plain": [
              "(20, 2500)"
            ]
          },
          "metadata": {},
          "execution_count": 69
        }
      ],
      "source": [
        "small_inputs.shape"
      ]
    },
    {
      "cell_type": "code",
      "execution_count": null,
      "metadata": {
        "id": "uUgkh-zfD1HI"
      },
      "outputs": [],
      "source": [
        "small_preds = model.predict(small_inputs)"
      ]
    },
    {
      "cell_type": "code",
      "execution_count": null,
      "metadata": {
        "colab": {
          "base_uri": "https://localhost:8080/"
        },
        "id": "urtcbsfd_AO0",
        "outputId": "c52dd86b-946e-47c9-b2d4-a69b27e1a3c3"
      },
      "outputs": [
        {
          "output_type": "execute_result",
          "data": {
            "text/plain": [
              "array([1, 2, 2, 2, 2, 2, 2, 2, 3, 1, 2, 3, 2, 4, 2, 2, 2, 4, 1, 2])"
            ]
          },
          "metadata": {},
          "execution_count": 71
        }
      ],
      "source": [
        "small_preds"
      ]
    },
    {
      "cell_type": "markdown",
      "metadata": {
        "id": "HkiqfeBneyth"
      },
      "source": [
        "### Make Predictions & Submit to Kaggle\n",
        "\n",
        "1. Make predictions on Test Dataset\n",
        "2. Generate & submit CSV on Kaggle\n",
        "3. Add screenshot of your score \n",
        "\n"
      ]
    },
    {
      "cell_type": "code",
      "execution_count": null,
      "metadata": {
        "colab": {
          "base_uri": "https://localhost:8080/",
          "height": 424
        },
        "id": "jz8W9Nnce31g",
        "outputId": "457db79b-8cd3-436a-d1af-fa5f5d984393"
      },
      "outputs": [
        {
          "output_type": "execute_result",
          "data": {
            "text/plain": [
              "       PhraseId  SentenceId                                             Phrase\n",
              "0        156061        8545  An intermittently pleasing but mostly routine ...\n",
              "1        156062        8545  An intermittently pleasing but mostly routine ...\n",
              "2        156063        8545                                                 An\n",
              "3        156064        8545  intermittently pleasing but mostly routine effort\n",
              "4        156065        8545         intermittently pleasing but mostly routine\n",
              "...         ...         ...                                                ...\n",
              "66287    222348       11855             A long-winded , predictable scenario .\n",
              "66288    222349       11855               A long-winded , predictable scenario\n",
              "66289    222350       11855                                    A long-winded ,\n",
              "66290    222351       11855                                      A long-winded\n",
              "66291    222352       11855                               predictable scenario\n",
              "\n",
              "[66292 rows x 3 columns]"
            ],
            "text/html": [
              "\n",
              "  <div id=\"df-f1199952-b2ed-4df9-b23f-0f80f2393199\">\n",
              "    <div class=\"colab-df-container\">\n",
              "      <div>\n",
              "<style scoped>\n",
              "    .dataframe tbody tr th:only-of-type {\n",
              "        vertical-align: middle;\n",
              "    }\n",
              "\n",
              "    .dataframe tbody tr th {\n",
              "        vertical-align: top;\n",
              "    }\n",
              "\n",
              "    .dataframe thead th {\n",
              "        text-align: right;\n",
              "    }\n",
              "</style>\n",
              "<table border=\"1\" class=\"dataframe\">\n",
              "  <thead>\n",
              "    <tr style=\"text-align: right;\">\n",
              "      <th></th>\n",
              "      <th>PhraseId</th>\n",
              "      <th>SentenceId</th>\n",
              "      <th>Phrase</th>\n",
              "    </tr>\n",
              "  </thead>\n",
              "  <tbody>\n",
              "    <tr>\n",
              "      <th>0</th>\n",
              "      <td>156061</td>\n",
              "      <td>8545</td>\n",
              "      <td>An intermittently pleasing but mostly routine ...</td>\n",
              "    </tr>\n",
              "    <tr>\n",
              "      <th>1</th>\n",
              "      <td>156062</td>\n",
              "      <td>8545</td>\n",
              "      <td>An intermittently pleasing but mostly routine ...</td>\n",
              "    </tr>\n",
              "    <tr>\n",
              "      <th>2</th>\n",
              "      <td>156063</td>\n",
              "      <td>8545</td>\n",
              "      <td>An</td>\n",
              "    </tr>\n",
              "    <tr>\n",
              "      <th>3</th>\n",
              "      <td>156064</td>\n",
              "      <td>8545</td>\n",
              "      <td>intermittently pleasing but mostly routine effort</td>\n",
              "    </tr>\n",
              "    <tr>\n",
              "      <th>4</th>\n",
              "      <td>156065</td>\n",
              "      <td>8545</td>\n",
              "      <td>intermittently pleasing but mostly routine</td>\n",
              "    </tr>\n",
              "    <tr>\n",
              "      <th>...</th>\n",
              "      <td>...</td>\n",
              "      <td>...</td>\n",
              "      <td>...</td>\n",
              "    </tr>\n",
              "    <tr>\n",
              "      <th>66287</th>\n",
              "      <td>222348</td>\n",
              "      <td>11855</td>\n",
              "      <td>A long-winded , predictable scenario .</td>\n",
              "    </tr>\n",
              "    <tr>\n",
              "      <th>66288</th>\n",
              "      <td>222349</td>\n",
              "      <td>11855</td>\n",
              "      <td>A long-winded , predictable scenario</td>\n",
              "    </tr>\n",
              "    <tr>\n",
              "      <th>66289</th>\n",
              "      <td>222350</td>\n",
              "      <td>11855</td>\n",
              "      <td>A long-winded ,</td>\n",
              "    </tr>\n",
              "    <tr>\n",
              "      <th>66290</th>\n",
              "      <td>222351</td>\n",
              "      <td>11855</td>\n",
              "      <td>A long-winded</td>\n",
              "    </tr>\n",
              "    <tr>\n",
              "      <th>66291</th>\n",
              "      <td>222352</td>\n",
              "      <td>11855</td>\n",
              "      <td>predictable scenario</td>\n",
              "    </tr>\n",
              "  </tbody>\n",
              "</table>\n",
              "<p>66292 rows × 3 columns</p>\n",
              "</div>\n",
              "      <button class=\"colab-df-convert\" onclick=\"convertToInteractive('df-f1199952-b2ed-4df9-b23f-0f80f2393199')\"\n",
              "              title=\"Convert this dataframe to an interactive table.\"\n",
              "              style=\"display:none;\">\n",
              "        \n",
              "  <svg xmlns=\"http://www.w3.org/2000/svg\" height=\"24px\"viewBox=\"0 0 24 24\"\n",
              "       width=\"24px\">\n",
              "    <path d=\"M0 0h24v24H0V0z\" fill=\"none\"/>\n",
              "    <path d=\"M18.56 5.44l.94 2.06.94-2.06 2.06-.94-2.06-.94-.94-2.06-.94 2.06-2.06.94zm-11 1L8.5 8.5l.94-2.06 2.06-.94-2.06-.94L8.5 2.5l-.94 2.06-2.06.94zm10 10l.94 2.06.94-2.06 2.06-.94-2.06-.94-.94-2.06-.94 2.06-2.06.94z\"/><path d=\"M17.41 7.96l-1.37-1.37c-.4-.4-.92-.59-1.43-.59-.52 0-1.04.2-1.43.59L10.3 9.45l-7.72 7.72c-.78.78-.78 2.05 0 2.83L4 21.41c.39.39.9.59 1.41.59.51 0 1.02-.2 1.41-.59l7.78-7.78 2.81-2.81c.8-.78.8-2.07 0-2.86zM5.41 20L4 18.59l7.72-7.72 1.47 1.35L5.41 20z\"/>\n",
              "  </svg>\n",
              "      </button>\n",
              "      \n",
              "  <style>\n",
              "    .colab-df-container {\n",
              "      display:flex;\n",
              "      flex-wrap:wrap;\n",
              "      gap: 12px;\n",
              "    }\n",
              "\n",
              "    .colab-df-convert {\n",
              "      background-color: #E8F0FE;\n",
              "      border: none;\n",
              "      border-radius: 50%;\n",
              "      cursor: pointer;\n",
              "      display: none;\n",
              "      fill: #1967D2;\n",
              "      height: 32px;\n",
              "      padding: 0 0 0 0;\n",
              "      width: 32px;\n",
              "    }\n",
              "\n",
              "    .colab-df-convert:hover {\n",
              "      background-color: #E2EBFA;\n",
              "      box-shadow: 0px 1px 2px rgba(60, 64, 67, 0.3), 0px 1px 3px 1px rgba(60, 64, 67, 0.15);\n",
              "      fill: #174EA6;\n",
              "    }\n",
              "\n",
              "    [theme=dark] .colab-df-convert {\n",
              "      background-color: #3B4455;\n",
              "      fill: #D2E3FC;\n",
              "    }\n",
              "\n",
              "    [theme=dark] .colab-df-convert:hover {\n",
              "      background-color: #434B5C;\n",
              "      box-shadow: 0px 1px 3px 1px rgba(0, 0, 0, 0.15);\n",
              "      filter: drop-shadow(0px 1px 2px rgba(0, 0, 0, 0.3));\n",
              "      fill: #FFFFFF;\n",
              "    }\n",
              "  </style>\n",
              "\n",
              "      <script>\n",
              "        const buttonEl =\n",
              "          document.querySelector('#df-f1199952-b2ed-4df9-b23f-0f80f2393199 button.colab-df-convert');\n",
              "        buttonEl.style.display =\n",
              "          google.colab.kernel.accessAllowed ? 'block' : 'none';\n",
              "\n",
              "        async function convertToInteractive(key) {\n",
              "          const element = document.querySelector('#df-f1199952-b2ed-4df9-b23f-0f80f2393199');\n",
              "          const dataTable =\n",
              "            await google.colab.kernel.invokeFunction('convertToInteractive',\n",
              "                                                     [key], {});\n",
              "          if (!dataTable) return;\n",
              "\n",
              "          const docLinkHtml = 'Like what you see? Visit the ' +\n",
              "            '<a target=\"_blank\" href=https://colab.research.google.com/notebooks/data_table.ipynb>data table notebook</a>'\n",
              "            + ' to learn more about interactive tables.';\n",
              "          element.innerHTML = '';\n",
              "          dataTable['output_type'] = 'display_data';\n",
              "          await google.colab.output.renderOutput(dataTable, element);\n",
              "          const docLink = document.createElement('div');\n",
              "          docLink.innerHTML = docLinkHtml;\n",
              "          element.appendChild(docLink);\n",
              "        }\n",
              "      </script>\n",
              "    </div>\n",
              "  </div>\n",
              "  "
            ]
          },
          "metadata": {},
          "execution_count": 72
        }
      ],
      "source": [
        "test_df"
      ]
    },
    {
      "cell_type": "code",
      "execution_count": null,
      "metadata": {
        "id": "RHfHJcBae4e3"
      },
      "outputs": [],
      "source": [
        "test_preds = model.predict(test_input)"
      ]
    },
    {
      "cell_type": "code",
      "execution_count": null,
      "metadata": {
        "colab": {
          "base_uri": "https://localhost:8080/"
        },
        "id": "JZ1urPNme4bo",
        "outputId": "cbe782d9-ad67-4665-e74b-ec97a12487b6"
      },
      "outputs": [
        {
          "output_type": "execute_result",
          "data": {
            "text/plain": [
              "array([2, 2, 2, ..., 2, 2, 1])"
            ]
          },
          "metadata": {},
          "execution_count": 74
        }
      ],
      "source": [
        "test_preds"
      ]
    },
    {
      "cell_type": "code",
      "execution_count": null,
      "metadata": {
        "colab": {
          "base_uri": "https://localhost:8080/",
          "height": 206
        },
        "id": "MHUHTmYxEHcV",
        "outputId": "d8d85bc3-b4cb-4f29-aef2-4db0119a791a"
      },
      "outputs": [
        {
          "output_type": "execute_result",
          "data": {
            "text/plain": [
              "   PhraseId  Sentiment\n",
              "0    156061          2\n",
              "1    156062          2\n",
              "2    156063          2\n",
              "3    156064          2\n",
              "4    156065          2"
            ],
            "text/html": [
              "\n",
              "  <div id=\"df-f21b14f4-d097-4a69-8481-901ec978eb5b\">\n",
              "    <div class=\"colab-df-container\">\n",
              "      <div>\n",
              "<style scoped>\n",
              "    .dataframe tbody tr th:only-of-type {\n",
              "        vertical-align: middle;\n",
              "    }\n",
              "\n",
              "    .dataframe tbody tr th {\n",
              "        vertical-align: top;\n",
              "    }\n",
              "\n",
              "    .dataframe thead th {\n",
              "        text-align: right;\n",
              "    }\n",
              "</style>\n",
              "<table border=\"1\" class=\"dataframe\">\n",
              "  <thead>\n",
              "    <tr style=\"text-align: right;\">\n",
              "      <th></th>\n",
              "      <th>PhraseId</th>\n",
              "      <th>Sentiment</th>\n",
              "    </tr>\n",
              "  </thead>\n",
              "  <tbody>\n",
              "    <tr>\n",
              "      <th>0</th>\n",
              "      <td>156061</td>\n",
              "      <td>2</td>\n",
              "    </tr>\n",
              "    <tr>\n",
              "      <th>1</th>\n",
              "      <td>156062</td>\n",
              "      <td>2</td>\n",
              "    </tr>\n",
              "    <tr>\n",
              "      <th>2</th>\n",
              "      <td>156063</td>\n",
              "      <td>2</td>\n",
              "    </tr>\n",
              "    <tr>\n",
              "      <th>3</th>\n",
              "      <td>156064</td>\n",
              "      <td>2</td>\n",
              "    </tr>\n",
              "    <tr>\n",
              "      <th>4</th>\n",
              "      <td>156065</td>\n",
              "      <td>2</td>\n",
              "    </tr>\n",
              "  </tbody>\n",
              "</table>\n",
              "</div>\n",
              "      <button class=\"colab-df-convert\" onclick=\"convertToInteractive('df-f21b14f4-d097-4a69-8481-901ec978eb5b')\"\n",
              "              title=\"Convert this dataframe to an interactive table.\"\n",
              "              style=\"display:none;\">\n",
              "        \n",
              "  <svg xmlns=\"http://www.w3.org/2000/svg\" height=\"24px\"viewBox=\"0 0 24 24\"\n",
              "       width=\"24px\">\n",
              "    <path d=\"M0 0h24v24H0V0z\" fill=\"none\"/>\n",
              "    <path d=\"M18.56 5.44l.94 2.06.94-2.06 2.06-.94-2.06-.94-.94-2.06-.94 2.06-2.06.94zm-11 1L8.5 8.5l.94-2.06 2.06-.94-2.06-.94L8.5 2.5l-.94 2.06-2.06.94zm10 10l.94 2.06.94-2.06 2.06-.94-2.06-.94-.94-2.06-.94 2.06-2.06.94z\"/><path d=\"M17.41 7.96l-1.37-1.37c-.4-.4-.92-.59-1.43-.59-.52 0-1.04.2-1.43.59L10.3 9.45l-7.72 7.72c-.78.78-.78 2.05 0 2.83L4 21.41c.39.39.9.59 1.41.59.51 0 1.02-.2 1.41-.59l7.78-7.78 2.81-2.81c.8-.78.8-2.07 0-2.86zM5.41 20L4 18.59l7.72-7.72 1.47 1.35L5.41 20z\"/>\n",
              "  </svg>\n",
              "      </button>\n",
              "      \n",
              "  <style>\n",
              "    .colab-df-container {\n",
              "      display:flex;\n",
              "      flex-wrap:wrap;\n",
              "      gap: 12px;\n",
              "    }\n",
              "\n",
              "    .colab-df-convert {\n",
              "      background-color: #E8F0FE;\n",
              "      border: none;\n",
              "      border-radius: 50%;\n",
              "      cursor: pointer;\n",
              "      display: none;\n",
              "      fill: #1967D2;\n",
              "      height: 32px;\n",
              "      padding: 0 0 0 0;\n",
              "      width: 32px;\n",
              "    }\n",
              "\n",
              "    .colab-df-convert:hover {\n",
              "      background-color: #E2EBFA;\n",
              "      box-shadow: 0px 1px 2px rgba(60, 64, 67, 0.3), 0px 1px 3px 1px rgba(60, 64, 67, 0.15);\n",
              "      fill: #174EA6;\n",
              "    }\n",
              "\n",
              "    [theme=dark] .colab-df-convert {\n",
              "      background-color: #3B4455;\n",
              "      fill: #D2E3FC;\n",
              "    }\n",
              "\n",
              "    [theme=dark] .colab-df-convert:hover {\n",
              "      background-color: #434B5C;\n",
              "      box-shadow: 0px 1px 3px 1px rgba(0, 0, 0, 0.15);\n",
              "      filter: drop-shadow(0px 1px 2px rgba(0, 0, 0, 0.3));\n",
              "      fill: #FFFFFF;\n",
              "    }\n",
              "  </style>\n",
              "\n",
              "      <script>\n",
              "        const buttonEl =\n",
              "          document.querySelector('#df-f21b14f4-d097-4a69-8481-901ec978eb5b button.colab-df-convert');\n",
              "        buttonEl.style.display =\n",
              "          google.colab.kernel.accessAllowed ? 'block' : 'none';\n",
              "\n",
              "        async function convertToInteractive(key) {\n",
              "          const element = document.querySelector('#df-f21b14f4-d097-4a69-8481-901ec978eb5b');\n",
              "          const dataTable =\n",
              "            await google.colab.kernel.invokeFunction('convertToInteractive',\n",
              "                                                     [key], {});\n",
              "          if (!dataTable) return;\n",
              "\n",
              "          const docLinkHtml = 'Like what you see? Visit the ' +\n",
              "            '<a target=\"_blank\" href=https://colab.research.google.com/notebooks/data_table.ipynb>data table notebook</a>'\n",
              "            + ' to learn more about interactive tables.';\n",
              "          element.innerHTML = '';\n",
              "          dataTable['output_type'] = 'display_data';\n",
              "          await google.colab.output.renderOutput(dataTable, element);\n",
              "          const docLink = document.createElement('div');\n",
              "          docLink.innerHTML = docLinkHtml;\n",
              "          element.appendChild(docLink);\n",
              "        }\n",
              "      </script>\n",
              "    </div>\n",
              "  </div>\n",
              "  "
            ]
          },
          "metadata": {},
          "execution_count": 75
        }
      ],
      "source": [
        "sub_df.head()"
      ]
    },
    {
      "cell_type": "code",
      "execution_count": null,
      "metadata": {
        "id": "HOTojNcWEHZ7"
      },
      "outputs": [],
      "source": [
        "sub_df.Sentiment = test_preds"
      ]
    },
    {
      "cell_type": "code",
      "execution_count": null,
      "metadata": {
        "colab": {
          "base_uri": "https://localhost:8080/",
          "height": 424
        },
        "id": "LMiKxe4h20WF",
        "outputId": "9b50b198-19a1-4755-9610-97fd81917747"
      },
      "outputs": [
        {
          "output_type": "execute_result",
          "data": {
            "text/plain": [
              "       PhraseId  Sentiment\n",
              "0        156061          2\n",
              "1        156062          2\n",
              "2        156063          2\n",
              "3        156064          2\n",
              "4        156065          2\n",
              "...         ...        ...\n",
              "66287    222348          1\n",
              "66288    222349          1\n",
              "66289    222350          2\n",
              "66290    222351          2\n",
              "66291    222352          1\n",
              "\n",
              "[66292 rows x 2 columns]"
            ],
            "text/html": [
              "\n",
              "  <div id=\"df-ebde16b1-b8d6-4545-9697-68aa9e98a77b\">\n",
              "    <div class=\"colab-df-container\">\n",
              "      <div>\n",
              "<style scoped>\n",
              "    .dataframe tbody tr th:only-of-type {\n",
              "        vertical-align: middle;\n",
              "    }\n",
              "\n",
              "    .dataframe tbody tr th {\n",
              "        vertical-align: top;\n",
              "    }\n",
              "\n",
              "    .dataframe thead th {\n",
              "        text-align: right;\n",
              "    }\n",
              "</style>\n",
              "<table border=\"1\" class=\"dataframe\">\n",
              "  <thead>\n",
              "    <tr style=\"text-align: right;\">\n",
              "      <th></th>\n",
              "      <th>PhraseId</th>\n",
              "      <th>Sentiment</th>\n",
              "    </tr>\n",
              "  </thead>\n",
              "  <tbody>\n",
              "    <tr>\n",
              "      <th>0</th>\n",
              "      <td>156061</td>\n",
              "      <td>2</td>\n",
              "    </tr>\n",
              "    <tr>\n",
              "      <th>1</th>\n",
              "      <td>156062</td>\n",
              "      <td>2</td>\n",
              "    </tr>\n",
              "    <tr>\n",
              "      <th>2</th>\n",
              "      <td>156063</td>\n",
              "      <td>2</td>\n",
              "    </tr>\n",
              "    <tr>\n",
              "      <th>3</th>\n",
              "      <td>156064</td>\n",
              "      <td>2</td>\n",
              "    </tr>\n",
              "    <tr>\n",
              "      <th>4</th>\n",
              "      <td>156065</td>\n",
              "      <td>2</td>\n",
              "    </tr>\n",
              "    <tr>\n",
              "      <th>...</th>\n",
              "      <td>...</td>\n",
              "      <td>...</td>\n",
              "    </tr>\n",
              "    <tr>\n",
              "      <th>66287</th>\n",
              "      <td>222348</td>\n",
              "      <td>1</td>\n",
              "    </tr>\n",
              "    <tr>\n",
              "      <th>66288</th>\n",
              "      <td>222349</td>\n",
              "      <td>1</td>\n",
              "    </tr>\n",
              "    <tr>\n",
              "      <th>66289</th>\n",
              "      <td>222350</td>\n",
              "      <td>2</td>\n",
              "    </tr>\n",
              "    <tr>\n",
              "      <th>66290</th>\n",
              "      <td>222351</td>\n",
              "      <td>2</td>\n",
              "    </tr>\n",
              "    <tr>\n",
              "      <th>66291</th>\n",
              "      <td>222352</td>\n",
              "      <td>1</td>\n",
              "    </tr>\n",
              "  </tbody>\n",
              "</table>\n",
              "<p>66292 rows × 2 columns</p>\n",
              "</div>\n",
              "      <button class=\"colab-df-convert\" onclick=\"convertToInteractive('df-ebde16b1-b8d6-4545-9697-68aa9e98a77b')\"\n",
              "              title=\"Convert this dataframe to an interactive table.\"\n",
              "              style=\"display:none;\">\n",
              "        \n",
              "  <svg xmlns=\"http://www.w3.org/2000/svg\" height=\"24px\"viewBox=\"0 0 24 24\"\n",
              "       width=\"24px\">\n",
              "    <path d=\"M0 0h24v24H0V0z\" fill=\"none\"/>\n",
              "    <path d=\"M18.56 5.44l.94 2.06.94-2.06 2.06-.94-2.06-.94-.94-2.06-.94 2.06-2.06.94zm-11 1L8.5 8.5l.94-2.06 2.06-.94-2.06-.94L8.5 2.5l-.94 2.06-2.06.94zm10 10l.94 2.06.94-2.06 2.06-.94-2.06-.94-.94-2.06-.94 2.06-2.06.94z\"/><path d=\"M17.41 7.96l-1.37-1.37c-.4-.4-.92-.59-1.43-.59-.52 0-1.04.2-1.43.59L10.3 9.45l-7.72 7.72c-.78.78-.78 2.05 0 2.83L4 21.41c.39.39.9.59 1.41.59.51 0 1.02-.2 1.41-.59l7.78-7.78 2.81-2.81c.8-.78.8-2.07 0-2.86zM5.41 20L4 18.59l7.72-7.72 1.47 1.35L5.41 20z\"/>\n",
              "  </svg>\n",
              "      </button>\n",
              "      \n",
              "  <style>\n",
              "    .colab-df-container {\n",
              "      display:flex;\n",
              "      flex-wrap:wrap;\n",
              "      gap: 12px;\n",
              "    }\n",
              "\n",
              "    .colab-df-convert {\n",
              "      background-color: #E8F0FE;\n",
              "      border: none;\n",
              "      border-radius: 50%;\n",
              "      cursor: pointer;\n",
              "      display: none;\n",
              "      fill: #1967D2;\n",
              "      height: 32px;\n",
              "      padding: 0 0 0 0;\n",
              "      width: 32px;\n",
              "    }\n",
              "\n",
              "    .colab-df-convert:hover {\n",
              "      background-color: #E2EBFA;\n",
              "      box-shadow: 0px 1px 2px rgba(60, 64, 67, 0.3), 0px 1px 3px 1px rgba(60, 64, 67, 0.15);\n",
              "      fill: #174EA6;\n",
              "    }\n",
              "\n",
              "    [theme=dark] .colab-df-convert {\n",
              "      background-color: #3B4455;\n",
              "      fill: #D2E3FC;\n",
              "    }\n",
              "\n",
              "    [theme=dark] .colab-df-convert:hover {\n",
              "      background-color: #434B5C;\n",
              "      box-shadow: 0px 1px 3px 1px rgba(0, 0, 0, 0.15);\n",
              "      filter: drop-shadow(0px 1px 2px rgba(0, 0, 0, 0.3));\n",
              "      fill: #FFFFFF;\n",
              "    }\n",
              "  </style>\n",
              "\n",
              "      <script>\n",
              "        const buttonEl =\n",
              "          document.querySelector('#df-ebde16b1-b8d6-4545-9697-68aa9e98a77b button.colab-df-convert');\n",
              "        buttonEl.style.display =\n",
              "          google.colab.kernel.accessAllowed ? 'block' : 'none';\n",
              "\n",
              "        async function convertToInteractive(key) {\n",
              "          const element = document.querySelector('#df-ebde16b1-b8d6-4545-9697-68aa9e98a77b');\n",
              "          const dataTable =\n",
              "            await google.colab.kernel.invokeFunction('convertToInteractive',\n",
              "                                                     [key], {});\n",
              "          if (!dataTable) return;\n",
              "\n",
              "          const docLinkHtml = 'Like what you see? Visit the ' +\n",
              "            '<a target=\"_blank\" href=https://colab.research.google.com/notebooks/data_table.ipynb>data table notebook</a>'\n",
              "            + ' to learn more about interactive tables.';\n",
              "          element.innerHTML = '';\n",
              "          dataTable['output_type'] = 'display_data';\n",
              "          await google.colab.output.renderOutput(dataTable, element);\n",
              "          const docLink = document.createElement('div');\n",
              "          docLink.innerHTML = docLinkHtml;\n",
              "          element.appendChild(docLink);\n",
              "        }\n",
              "      </script>\n",
              "    </div>\n",
              "  </div>\n",
              "  "
            ]
          },
          "metadata": {},
          "execution_count": 77
        }
      ],
      "source": [
        "sub_df"
      ]
    },
    {
      "cell_type": "code",
      "execution_count": null,
      "metadata": {
        "id": "4M97mcZc3BJ8"
      },
      "outputs": [],
      "source": [
        "sub_df.to_csv('submission.csv', index=None)"
      ]
    },
    {
      "cell_type": "code",
      "execution_count": null,
      "metadata": {
        "colab": {
          "base_uri": "https://localhost:8080/"
        },
        "id": "R3c_2Swu3QXP",
        "outputId": "2943a107-cf99-40bf-b258-efdd03b7cee8"
      },
      "outputs": [
        {
          "output_type": "stream",
          "name": "stdout",
          "text": [
            "PhraseId,Sentiment\n",
            "156061,2\n",
            "156062,2\n",
            "156063,2\n",
            "156064,2\n",
            "156065,2\n",
            "156066,3\n",
            "156067,3\n",
            "156068,2\n",
            "156069,3\n"
          ]
        }
      ],
      "source": [
        "!head submission.csv"
      ]
    },
    {
      "cell_type": "markdown",
      "source": [
        "####Finetuning the Model"
      ],
      "metadata": {
        "id": "R22Y5LxBMbc6"
      }
    },
    {
      "cell_type": "code",
      "source": [
        "def test_param(modelName, param_name, param_values, **params):\n",
        "  val_errors = [] \n",
        "  for value in param_values:\n",
        "    newparams = {param_name: value}\n",
        "    for para in params:\n",
        "      newparams[para] = params[para]\n",
        "    model = modelName(random_state=23, **newparams)\n",
        "    model.fit(train_inputs, train_targets)\n",
        "    val_preds = model.predict(val_inputs)\n",
        "    val_score = accuracy_score(val_preds, val_targets)\n",
        "    val_errors.append(val_score)\n",
        "  return val_errors"
      ],
      "metadata": {
        "id": "u-teiBWAcFjA"
      },
      "execution_count": null,
      "outputs": []
    },
    {
      "cell_type": "code",
      "execution_count": null,
      "metadata": {
        "id": "6xWWD8-9QfyO",
        "colab": {
          "base_uri": "https://localhost:8080/"
        },
        "outputId": "78b5b599-c069-4666-d68f-4e4b5530f042"
      },
      "outputs": [
        {
          "output_type": "stream",
          "name": "stderr",
          "text": [
            "/usr/local/lib/python3.8/dist-packages/sklearn/linear_model/_logistic.py:814: ConvergenceWarning: lbfgs failed to converge (status=1):\n",
            "STOP: TOTAL NO. of ITERATIONS REACHED LIMIT.\n",
            "\n",
            "Increase the number of iterations (max_iter) or scale the data as shown in:\n",
            "    https://scikit-learn.org/stable/modules/preprocessing.html\n",
            "Please also refer to the documentation for alternative solver options:\n",
            "    https://scikit-learn.org/stable/modules/linear_model.html#logistic-regression\n",
            "  n_iter_i = _check_optimize_result(\n",
            "/usr/local/lib/python3.8/dist-packages/sklearn/linear_model/_logistic.py:814: ConvergenceWarning: lbfgs failed to converge (status=1):\n",
            "STOP: TOTAL NO. of ITERATIONS REACHED LIMIT.\n",
            "\n",
            "Increase the number of iterations (max_iter) or scale the data as shown in:\n",
            "    https://scikit-learn.org/stable/modules/preprocessing.html\n",
            "Please also refer to the documentation for alternative solver options:\n",
            "    https://scikit-learn.org/stable/modules/linear_model.html#logistic-regression\n",
            "  n_iter_i = _check_optimize_result(\n"
          ]
        },
        {
          "output_type": "execute_result",
          "data": {
            "text/plain": [
              "[0.4847288653258803, 0.5823776868552988]"
            ]
          },
          "metadata": {},
          "execution_count": 81
        }
      ],
      "source": [
        "test_param(LogisticRegression, 'class_weight', ['balanced', None])"
      ]
    },
    {
      "cell_type": "code",
      "source": [
        "test_param(LogisticRegression, 'solver', ['lbfgs', 'newton-cg', 'sag', 'saga'])"
      ],
      "metadata": {
        "colab": {
          "base_uri": "https://localhost:8080/"
        },
        "id": "fXxBDbgPkOLz",
        "outputId": "f1c581b7-1fc8-4baa-ae21-ccc410ff0e09"
      },
      "execution_count": null,
      "outputs": [
        {
          "output_type": "stream",
          "name": "stderr",
          "text": [
            "/usr/local/lib/python3.8/dist-packages/sklearn/linear_model/_logistic.py:814: ConvergenceWarning: lbfgs failed to converge (status=1):\n",
            "STOP: TOTAL NO. of ITERATIONS REACHED LIMIT.\n",
            "\n",
            "Increase the number of iterations (max_iter) or scale the data as shown in:\n",
            "    https://scikit-learn.org/stable/modules/preprocessing.html\n",
            "Please also refer to the documentation for alternative solver options:\n",
            "    https://scikit-learn.org/stable/modules/linear_model.html#logistic-regression\n",
            "  n_iter_i = _check_optimize_result(\n"
          ]
        },
        {
          "output_type": "execute_result",
          "data": {
            "text/plain": [
              "[0.5823776868552988,\n",
              " 0.5826946349334409,\n",
              " 0.5826946349334409,\n",
              " 0.5826946349334409]"
            ]
          },
          "metadata": {},
          "execution_count": 82
        }
      ]
    },
    {
      "cell_type": "code",
      "source": [
        "test_param(LogisticRegression, 'max_iter', [15, 20, 25, 35, 100], solver='sag')"
      ],
      "metadata": {
        "colab": {
          "base_uri": "https://localhost:8080/"
        },
        "id": "2fxEqL1xlR1b",
        "outputId": "77c13615-51e1-48cb-95b2-156ac3689f15"
      },
      "execution_count": null,
      "outputs": [
        {
          "output_type": "stream",
          "name": "stderr",
          "text": [
            "/usr/local/lib/python3.8/dist-packages/sklearn/linear_model/_sag.py:352: ConvergenceWarning: The max_iter was reached which means the coef_ did not converge\n",
            "  warnings.warn(\n",
            "/usr/local/lib/python3.8/dist-packages/sklearn/linear_model/_sag.py:352: ConvergenceWarning: The max_iter was reached which means the coef_ did not converge\n",
            "  warnings.warn(\n"
          ]
        },
        {
          "output_type": "execute_result",
          "data": {
            "text/plain": [
              "[0.5823776868552988,\n",
              " 0.5827810753183887,\n",
              " 0.5826946349334409,\n",
              " 0.5826946349334409,\n",
              " 0.5826946349334409]"
            ]
          },
          "metadata": {},
          "execution_count": 83
        }
      ]
    },
    {
      "cell_type": "code",
      "source": [
        "impLogisticReg = LogisticRegression(random_state=23,\n",
        "                                    max_iter=20,\n",
        "                                    solver='sag')"
      ],
      "metadata": {
        "id": "KLddeoECz9Gu"
      },
      "execution_count": null,
      "outputs": []
    },
    {
      "cell_type": "code",
      "source": [
        "def get_score(model):\n",
        "  start = time.time()\n",
        "  model.fit(train_inputs, train_targets)\n",
        "  end = time.time()\n",
        "  dur = end - start\n",
        "  train_preds = model.predict(train_inputs)\n",
        "  val_preds = model.predict(val_inputs)\n",
        "\n",
        "  train_score = accuracy_score(train_preds, train_targets)\n",
        "  val_score = accuracy_score(val_preds, val_targets)\n",
        "  return train_score, val_score, dur"
      ],
      "metadata": {
        "id": "bxe-gQlS0M6t"
      },
      "execution_count": null,
      "outputs": []
    },
    {
      "cell_type": "code",
      "source": [
        "train_score1, val_score1, dur= get_score(impLogisticReg)\n",
        "train_score1, val_score1    "
      ],
      "metadata": {
        "colab": {
          "base_uri": "https://localhost:8080/"
        },
        "id": "eezvDf30HFuL",
        "outputId": "e6748040-61e9-4563-d659-1024d5eca72a"
      },
      "execution_count": null,
      "outputs": [
        {
          "output_type": "stream",
          "name": "stderr",
          "text": [
            "/usr/local/lib/python3.8/dist-packages/sklearn/linear_model/_sag.py:352: ConvergenceWarning: The max_iter was reached which means the coef_ did not converge\n",
            "  warnings.warn(\n"
          ]
        },
        {
          "output_type": "execute_result",
          "data": {
            "text/plain": [
              "(0.6428465481154308, 0.5827810753183887)"
            ]
          },
          "metadata": {},
          "execution_count": 86
        }
      ]
    },
    {
      "cell_type": "code",
      "source": [
        "score['Imp Logistic Regression'] = [train_score1, val_score1]"
      ],
      "metadata": {
        "id": "pYQC9tme1Jpj"
      },
      "execution_count": null,
      "outputs": []
    },
    {
      "cell_type": "code",
      "source": [
        "score"
      ],
      "metadata": {
        "colab": {
          "base_uri": "https://localhost:8080/"
        },
        "id": "_h9DuNuq1Tsd",
        "outputId": "113d1b82-2f11-40b8-e71c-755bf5318a0b"
      },
      "execution_count": null,
      "outputs": [
        {
          "output_type": "execute_result",
          "data": {
            "text/plain": [
              "{'Logistic Regression': [0.6421131565502579, 0.5823776868552988],\n",
              " 'Imp Logistic Regression': [0.6428465481154308, 0.5827810753183887]}"
            ]
          },
          "metadata": {},
          "execution_count": 88
        }
      ]
    },
    {
      "cell_type": "code",
      "source": [
        "duration['Imp Logistic Regression'] = dur"
      ],
      "metadata": {
        "id": "SEUSHRhJVPsk"
      },
      "execution_count": null,
      "outputs": []
    },
    {
      "cell_type": "code",
      "source": [
        "duration"
      ],
      "metadata": {
        "colab": {
          "base_uri": "https://localhost:8080/"
        },
        "id": "_oxcKOr-VvtH",
        "outputId": "c3f1905a-248c-4362-e035-828cb32a9c03"
      },
      "execution_count": null,
      "outputs": [
        {
          "output_type": "execute_result",
          "data": {
            "text/plain": [
              "{'Logistic Regression': 12.692826747894287,\n",
              " 'Imp Logistic Regression': 2.080724000930786}"
            ]
          },
          "metadata": {},
          "execution_count": 90
        }
      ]
    },
    {
      "cell_type": "markdown",
      "metadata": {
        "id": "8kne2rQq8qL0"
      },
      "source": [
        "## Train & Finetune Different ML Models\n",
        "\n",
        "Train & finetune at least 2 other types of models\n",
        "\n",
        "Models to try:\n",
        "- Decision Trees\n",
        "- Random Forests\n",
        "- Gradient Boosting\n",
        "- Naive Bayes\n",
        "- SVM\n",
        "\n",
        "Optional: \n",
        "* Use PCA for dimensionality reduction\n",
        "* Compare classification vs regression models\n",
        "\n",
        "\n",
        "Tips: \n",
        "\n",
        "- If using a regression model, make sure to round predictions to integer and clip to the range `[1,5]`\n",
        "- Track your progress in a copy of [this experiment tracking spreadsheet](https://docs.google.com/spreadsheets/d/1X-tifxAOAYeIA2J32hBGP5B0MPnZy_o-zOz1NbS-1Ig/edit?usp=sharing)\n"
      ]
    },
    {
      "cell_type": "markdown",
      "metadata": {
        "id": "oa2HrcYVOtHk"
      },
      "source": [
        "### Decision Tree"
      ]
    },
    {
      "cell_type": "code",
      "execution_count": null,
      "metadata": {
        "id": "kN-yZN12e4Yz"
      },
      "outputs": [],
      "source": [
        "from sklearn.tree import DecisionTreeClassifier"
      ]
    },
    {
      "cell_type": "code",
      "execution_count": null,
      "metadata": {
        "id": "X8f6t6wge4WV"
      },
      "outputs": [],
      "source": [
        "tree = DecisionTreeClassifier()"
      ]
    },
    {
      "cell_type": "code",
      "execution_count": null,
      "metadata": {
        "id": "lig2PXUCAfqF",
        "colab": {
          "base_uri": "https://localhost:8080/"
        },
        "outputId": "59da30d5-65db-479b-aa6e-6eebff68b27d"
      },
      "outputs": [
        {
          "output_type": "execute_result",
          "data": {
            "text/plain": [
              "(0.7976663315589103, 0.5379761424537544, 19.950376510620117)"
            ]
          },
          "metadata": {},
          "execution_count": 93
        }
      ],
      "source": [
        "train_score1, val_score1, dur = get_score(tree)\n",
        "train_score1, val_score1, dur"
      ]
    },
    {
      "cell_type": "code",
      "source": [
        "score['Decision Tree'] = [train_score1, val_score1]"
      ],
      "metadata": {
        "id": "OwkR37vBNU-W"
      },
      "execution_count": null,
      "outputs": []
    },
    {
      "cell_type": "code",
      "source": [
        "score"
      ],
      "metadata": {
        "colab": {
          "base_uri": "https://localhost:8080/"
        },
        "id": "uf5ZQT4HNbNT",
        "outputId": "992e6a53-e3ad-4e78-e586-ded5c614a6a0"
      },
      "execution_count": null,
      "outputs": [
        {
          "output_type": "execute_result",
          "data": {
            "text/plain": [
              "{'Logistic Regression': [0.6421131565502579, 0.5823776868552988],\n",
              " 'Imp Logistic Regression': [0.6428465481154308, 0.5827810753183887],\n",
              " 'Decision Tree': [0.7976663315589103, 0.5379761424537544]}"
            ]
          },
          "metadata": {},
          "execution_count": 95
        }
      ]
    },
    {
      "cell_type": "code",
      "source": [
        "duration['Decision Tree'] = dur"
      ],
      "metadata": {
        "id": "HrZjqb7FV7Sp"
      },
      "execution_count": null,
      "outputs": []
    },
    {
      "cell_type": "code",
      "source": [
        "duration"
      ],
      "metadata": {
        "colab": {
          "base_uri": "https://localhost:8080/"
        },
        "id": "8CpV4YhyWD4D",
        "outputId": "d1f80c6c-7e9f-40be-e243-3a9cac64919c"
      },
      "execution_count": null,
      "outputs": [
        {
          "output_type": "execute_result",
          "data": {
            "text/plain": [
              "{'Logistic Regression': 13.61655592918396,\n",
              " 'Imp Logistic Regression': 2.236541748046875,\n",
              " 'Decision Tree': 19.950376510620117}"
            ]
          },
          "metadata": {},
          "execution_count": 97
        }
      ]
    },
    {
      "cell_type": "markdown",
      "metadata": {
        "id": "ewoiYmCyAmuZ",
        "outputId": "7a98660c-5c53-4177-9646-377081671071"
      },
      "source": [
        "### Random Forest"
      ]
    },
    {
      "cell_type": "code",
      "execution_count": null,
      "metadata": {
        "id": "tExMdRaEBu5E"
      },
      "outputs": [],
      "source": [
        "from sklearn.ensemble import RandomForestClassifier"
      ]
    },
    {
      "cell_type": "code",
      "execution_count": null,
      "metadata": {
        "id": "kvdfuy_E-vvV"
      },
      "outputs": [],
      "source": [
        "forest = RandomForestClassifier()"
      ]
    },
    {
      "cell_type": "code",
      "execution_count": null,
      "metadata": {
        "id": "4BWA9sSrDoxE",
        "colab": {
          "base_uri": "https://localhost:8080/"
        },
        "outputId": "64fff93c-b196-4fb4-da17-6488ae36c307"
      },
      "outputs": [
        {
          "output_type": "execute_result",
          "data": {
            "text/plain": [
              "(0.7976663315589103, 0.56506079640408, 744.1395840644836)"
            ]
          },
          "metadata": {},
          "execution_count": 100
        }
      ],
      "source": [
        "train_score1, val_score1, dur = get_score(forest)\n",
        "train_score1, val_score1, dur"
      ]
    },
    {
      "cell_type": "code",
      "source": [
        "score['Random Forest'] = [train_score1, val_score1]"
      ],
      "metadata": {
        "id": "DC8RamPDNdmu"
      },
      "execution_count": null,
      "outputs": []
    },
    {
      "cell_type": "code",
      "source": [
        "score"
      ],
      "metadata": {
        "colab": {
          "base_uri": "https://localhost:8080/"
        },
        "id": "xmrhnsvsNiIO",
        "outputId": "bcaca1a0-a38f-47cc-cd07-c7e717eec167"
      },
      "execution_count": null,
      "outputs": [
        {
          "output_type": "execute_result",
          "data": {
            "text/plain": [
              "{'Logistic Regression': [0.6421131565502579, 0.5823776868552988],\n",
              " 'Imp Logistic Regression': [0.6428465481154308, 0.5827810753183887],\n",
              " 'Decision Tree': [0.7976663315589103, 0.5379761424537544],\n",
              " 'Random Forest': [0.7976663315589103, 0.56506079640408]}"
            ]
          },
          "metadata": {},
          "execution_count": 102
        }
      ]
    },
    {
      "cell_type": "code",
      "source": [
        "duration['Random Forest'] = dur"
      ],
      "metadata": {
        "id": "o81eNbvBOKZi"
      },
      "execution_count": null,
      "outputs": []
    },
    {
      "cell_type": "code",
      "source": [
        "duration"
      ],
      "metadata": {
        "colab": {
          "base_uri": "https://localhost:8080/"
        },
        "id": "j0-Uj1-3WVGi",
        "outputId": "b291bed6-ebdb-475a-b1b1-0080fdf08f39"
      },
      "execution_count": null,
      "outputs": [
        {
          "output_type": "execute_result",
          "data": {
            "text/plain": [
              "{'Logistic Regression': 13.61655592918396,\n",
              " 'Imp Logistic Regression': 2.236541748046875,\n",
              " 'Decision Tree': 19.950376510620117,\n",
              " 'Random Forest': 744.1395840644836}"
            ]
          },
          "metadata": {},
          "execution_count": 104
        }
      ]
    },
    {
      "cell_type": "markdown",
      "metadata": {
        "id": "S8WnmO8SDopQ",
        "outputId": "ad27a3ba-b6e9-4675-9b20-0e338f3fcf8d"
      },
      "source": [
        "### Stochaistic Gradient Descent"
      ]
    },
    {
      "cell_type": "code",
      "execution_count": null,
      "metadata": {
        "id": "FuRhZQJqDomm"
      },
      "outputs": [],
      "source": [
        "from sklearn.linear_model import SGDClassifier"
      ]
    },
    {
      "cell_type": "code",
      "execution_count": null,
      "metadata": {
        "id": "1FyiLUvLDojw"
      },
      "outputs": [],
      "source": [
        "sgd = SGDClassifier()"
      ]
    },
    {
      "cell_type": "code",
      "execution_count": null,
      "metadata": {
        "id": "uGvDA1JJFkjF",
        "colab": {
          "base_uri": "https://localhost:8080/"
        },
        "outputId": "e544d073-b32f-4543-b36f-e2cb69256678"
      },
      "outputs": [
        {
          "output_type": "execute_result",
          "data": {
            "text/plain": [
              "(0.5792310101026749, 0.5418371463147582, 0.7788512706756592)"
            ]
          },
          "metadata": {},
          "execution_count": 93
        }
      ],
      "source": [
        "train_score1, val_score1, dur = get_score(sgd)\n",
        "train_score1, val_score1, dur"
      ]
    },
    {
      "cell_type": "code",
      "source": [
        "score['Stochistic Gradient Descent'] = [train_score1, val_score1]"
      ],
      "metadata": {
        "id": "xSqC3UD2OmUk"
      },
      "execution_count": null,
      "outputs": []
    },
    {
      "cell_type": "code",
      "source": [
        "score"
      ],
      "metadata": {
        "colab": {
          "base_uri": "https://localhost:8080/"
        },
        "id": "AeD55dFkOuO3",
        "outputId": "d9a815b3-d6fb-4042-a6ea-b7ccf9c0caa2"
      },
      "execution_count": null,
      "outputs": [
        {
          "output_type": "execute_result",
          "data": {
            "text/plain": [
              "{'Logistic Regression': [0.6421131565502579, 0.5823776868552988],\n",
              " 'Imp Logistic Regression': [0.6428465481154308, 0.5827810753183887],\n",
              " 'Stochistic Gradient Descent': [0.5792310101026749, 0.5418371463147582]}"
            ]
          },
          "metadata": {},
          "execution_count": 95
        }
      ]
    },
    {
      "cell_type": "code",
      "source": [
        "duration['Stochistic Gradient Descent'] = dur"
      ],
      "metadata": {
        "id": "sG2vl6itWcu0"
      },
      "execution_count": null,
      "outputs": []
    },
    {
      "cell_type": "code",
      "source": [
        "duration"
      ],
      "metadata": {
        "colab": {
          "base_uri": "https://localhost:8080/"
        },
        "id": "fzck1qsVWh_O",
        "outputId": "0d2881eb-9400-4cf2-f117-a8c95bc800a9"
      },
      "execution_count": null,
      "outputs": [
        {
          "output_type": "execute_result",
          "data": {
            "text/plain": [
              "{'Logistic Regression': 12.692826747894287,\n",
              " 'Imp Logistic Regression': 2.080724000930786,\n",
              " 'Stochistic Gradient Descent': 0.7788512706756592}"
            ]
          },
          "metadata": {},
          "execution_count": 97
        }
      ]
    },
    {
      "cell_type": "code",
      "source": [
        "test_param(SGDClassifier, 'loss', ['hinge', 'log', 'modified_huber', 'squared_hinge', 'perceptron'])"
      ],
      "metadata": {
        "colab": {
          "base_uri": "https://localhost:8080/"
        },
        "id": "AOmmsEd4MsHS",
        "outputId": "8f39c0f3-55f3-4fbb-8548-b644090adf46"
      },
      "execution_count": null,
      "outputs": [
        {
          "output_type": "stream",
          "name": "stderr",
          "text": [
            "/usr/local/lib/python3.8/dist-packages/sklearn/linear_model/_stochastic_gradient.py:696: ConvergenceWarning: Maximum number of iteration reached before convergence. Consider increasing max_iter to improve the fit.\n",
            "  warnings.warn(\n"
          ]
        },
        {
          "output_type": "execute_result",
          "data": {
            "text/plain": [
              "[0.541606638621564,\n",
              " 0.5356710655218118,\n",
              " 0.5768455022186365,\n",
              " 0.44015444015444016,\n",
              " 0.47645940183253616]"
            ]
          },
          "metadata": {},
          "execution_count": 71
        }
      ]
    },
    {
      "cell_type": "code",
      "source": [
        "test_param(SGDClassifier, 'max_iter', [10, 20, 25, 100], loss='modified_huber')"
      ],
      "metadata": {
        "colab": {
          "base_uri": "https://localhost:8080/"
        },
        "id": "26a30C3tNvRy",
        "outputId": "dfd3cd89-cdf1-4611-bdaf-b725964ee8a3"
      },
      "execution_count": null,
      "outputs": [
        {
          "output_type": "stream",
          "name": "stderr",
          "text": [
            "/usr/local/lib/python3.8/dist-packages/sklearn/linear_model/_stochastic_gradient.py:696: ConvergenceWarning: Maximum number of iteration reached before convergence. Consider increasing max_iter to improve the fit.\n",
            "  warnings.warn(\n"
          ]
        },
        {
          "output_type": "execute_result",
          "data": {
            "text/plain": [
              "[0.5759522849075088,\n",
              " 0.5768455022186365,\n",
              " 0.5768455022186365,\n",
              " 0.5768455022186365]"
            ]
          },
          "metadata": {},
          "execution_count": 74
        }
      ]
    },
    {
      "cell_type": "code",
      "source": [
        "test_param(SGDClassifier, 'class_weight', ['balanced', None], loss='modified_huber')"
      ],
      "metadata": {
        "colab": {
          "base_uri": "https://localhost:8080/"
        },
        "id": "lIyt0GKLOj6m",
        "outputId": "116cc195-f4ca-4ea2-8594-740d9145f8ef"
      },
      "execution_count": null,
      "outputs": [
        {
          "output_type": "execute_result",
          "data": {
            "text/plain": [
              "[0.5448049328646344, 0.5768455022186365]"
            ]
          },
          "metadata": {},
          "execution_count": 75
        }
      ]
    },
    {
      "cell_type": "code",
      "source": [
        "test_param(SGDClassifier, 'eta0', [0.001, 0.0025, 0.005, 0.01, 0.1], learning_rate='constant', loss='modified_huber')"
      ],
      "metadata": {
        "colab": {
          "base_uri": "https://localhost:8080/"
        },
        "id": "aeodqW-FRmID",
        "outputId": "d40c5b70-be3d-4dae-f4b9-01af25d96b51"
      },
      "execution_count": null,
      "outputs": [
        {
          "output_type": "execute_result",
          "data": {
            "text/plain": [
              "[0.5679421425690082,\n",
              " 0.5735319541289691,\n",
              " 0.5760675387541059,\n",
              " 0.5758370310609117,\n",
              " 0.5614014867746211]"
            ]
          },
          "metadata": {},
          "execution_count": 82
        }
      ]
    },
    {
      "cell_type": "code",
      "source": [
        "test_param(SGDClassifier, 'learning_rate', ['constant', 'optimal', 'invscaling', 'adaptive'], eta0=0.005, loss='modified_huber')"
      ],
      "metadata": {
        "colab": {
          "base_uri": "https://localhost:8080/"
        },
        "id": "OXeqzv3vQziy",
        "outputId": "cce972f4-352e-40ff-e956-bcdd2573c027"
      },
      "execution_count": null,
      "outputs": [
        {
          "output_type": "execute_result",
          "data": {
            "text/plain": [
              "[0.5760675387541059,\n",
              " 0.5768455022186365,\n",
              " 0.49392035959200137,\n",
              " 0.5758946579842102]"
            ]
          },
          "metadata": {},
          "execution_count": 81
        }
      ]
    },
    {
      "cell_type": "code",
      "source": [
        "impSgd = SGDClassifier(loss='modified_huber')"
      ],
      "metadata": {
        "id": "voiaDXHtPV7u"
      },
      "execution_count": null,
      "outputs": []
    },
    {
      "cell_type": "code",
      "source": [
        "train_score1, val_score1, dur = get_score(impSgd)\n",
        "train_score1, val_score1, dur"
      ],
      "metadata": {
        "colab": {
          "base_uri": "https://localhost:8080/"
        },
        "id": "kwoJVeHLPgGZ",
        "outputId": "e9a5bf13-019b-425c-8e97-b8a78386f415"
      },
      "execution_count": null,
      "outputs": [
        {
          "output_type": "execute_result",
          "data": {
            "text/plain": [
              "(0.6271898742521879, 0.5772777041433758, 1.0043909549713135)"
            ]
          },
          "metadata": {},
          "execution_count": 87
        }
      ]
    },
    {
      "cell_type": "code",
      "source": [
        "score['Improved Stochastic Gradient'] = [train_score1, val_score1]"
      ],
      "metadata": {
        "id": "VrhU1jZEPvNu"
      },
      "execution_count": null,
      "outputs": []
    },
    {
      "cell_type": "code",
      "source": [
        "duration['Improved Stochastic Gradient'] = dur"
      ],
      "metadata": {
        "id": "xLm58M00P6Ir"
      },
      "execution_count": null,
      "outputs": []
    },
    {
      "cell_type": "markdown",
      "source": [
        "### Naive Bayes"
      ],
      "metadata": {
        "id": "0M4QM-hmJcVe"
      }
    },
    {
      "cell_type": "code",
      "source": [
        "from sklearn.naive_bayes import MultinomialNB"
      ],
      "metadata": {
        "id": "tIyi191vJrsJ"
      },
      "execution_count": null,
      "outputs": []
    },
    {
      "cell_type": "code",
      "source": [
        "nb = MultinomialNB()"
      ],
      "metadata": {
        "id": "YrsE4CJyJuXP"
      },
      "execution_count": null,
      "outputs": []
    },
    {
      "cell_type": "code",
      "source": [
        "train_score1, val_score1, dur = get_score(nb)\n",
        "train_score1, val_score1, dur"
      ],
      "metadata": {
        "colab": {
          "base_uri": "https://localhost:8080/"
        },
        "id": "lsaCzheYtNvf",
        "outputId": "c4351c8a-bf8e-4ce9-9ac5-3dc219fef51d"
      },
      "execution_count": null,
      "outputs": [
        {
          "output_type": "execute_result",
          "data": {
            "text/plain": [
              "(0.5877597771808099, 0.5490405117270789, 0.1424257755279541)"
            ]
          },
          "metadata": {},
          "execution_count": 71
        }
      ]
    },
    {
      "cell_type": "code",
      "source": [
        "score['Naive Bayes'] = [train_score1, val_score1]"
      ],
      "metadata": {
        "id": "kFdVRvoURftI"
      },
      "execution_count": null,
      "outputs": []
    },
    {
      "cell_type": "code",
      "source": [
        "score"
      ],
      "metadata": {
        "colab": {
          "base_uri": "https://localhost:8080/"
        },
        "id": "a_Uoa4MmRsUJ",
        "outputId": "7e81f0f3-e25d-4326-8021-34ccd76268f7"
      },
      "execution_count": null,
      "outputs": [
        {
          "output_type": "execute_result",
          "data": {
            "text/plain": [
              "{'Logistic Regression': [0.6421131565502579, 0.5823776868552988],\n",
              " 'Naive Bayes': [0.5877597771808099, 0.5490405117270789]}"
            ]
          },
          "metadata": {},
          "execution_count": 68
        }
      ]
    },
    {
      "cell_type": "code",
      "source": [
        "duration['Naive Bayes'] = dur"
      ],
      "metadata": {
        "id": "3gJ5NfqGWzdo"
      },
      "execution_count": null,
      "outputs": []
    },
    {
      "cell_type": "code",
      "source": [
        "duration"
      ],
      "metadata": {
        "colab": {
          "base_uri": "https://localhost:8080/"
        },
        "id": "9OjZyG51XGn2",
        "outputId": "3724df34-0105-4cdf-d0bf-3722f78e0710"
      },
      "execution_count": null,
      "outputs": [
        {
          "output_type": "execute_result",
          "data": {
            "text/plain": [
              "{'Logistic Regression': 12.812931299209595, 'Naive Bayes': 2.928037643432617}"
            ]
          },
          "metadata": {},
          "execution_count": 72
        }
      ]
    },
    {
      "cell_type": "code",
      "source": [
        "impv_nb = MultinomialNB(alpha=0, \n",
        "                        class_prior=(0.05, 0.2, 0.5, 0.2, 0.05))"
      ],
      "metadata": {
        "id": "ZHwb0ao-tyRE"
      },
      "execution_count": null,
      "outputs": []
    },
    {
      "cell_type": "code",
      "source": [
        "train_score1, val_score1, dur = get_score(impv_nb)\n",
        "train_score1, val_score1, dur"
      ],
      "metadata": {
        "colab": {
          "base_uri": "https://localhost:8080/"
        },
        "id": "1LGDARFCuqLN",
        "outputId": "e20e4324-2181-443c-d844-8716019f9c38"
      },
      "execution_count": null,
      "outputs": [
        {
          "output_type": "stream",
          "name": "stderr",
          "text": [
            "/usr/local/lib/python3.8/dist-packages/sklearn/naive_bayes.py:555: UserWarning: alpha too small will result in numeric errors, setting alpha = 1.0e-10\n",
            "  warnings.warn(\n"
          ]
        },
        {
          "output_type": "execute_result",
          "data": {
            "text/plain": [
              "(0.5950936928325395, 0.5542845617472483, 0.07810091972351074)"
            ]
          },
          "metadata": {},
          "execution_count": 77
        }
      ]
    },
    {
      "cell_type": "code",
      "source": [
        "score['Improved Naive Bayes'] = [train_score1, val_score1]"
      ],
      "metadata": {
        "id": "zz-07cOyvddo"
      },
      "execution_count": null,
      "outputs": []
    },
    {
      "cell_type": "code",
      "source": [
        "score"
      ],
      "metadata": {
        "colab": {
          "base_uri": "https://localhost:8080/"
        },
        "id": "ceOLECZ-vlfn",
        "outputId": "0b9e04a1-8bde-449e-dd10-d8f96f8ef2b8"
      },
      "execution_count": null,
      "outputs": [
        {
          "output_type": "execute_result",
          "data": {
            "text/plain": [
              "{'Logistic Regression': [0.6421131565502579, 0.5823776868552988],\n",
              " 'Improved Naive Bayes': [0.5950936928325395, 0.5542845617472483]}"
            ]
          },
          "metadata": {},
          "execution_count": 79
        }
      ]
    },
    {
      "cell_type": "code",
      "source": [
        "duration['Improved Naive Bayes'] = dur"
      ],
      "metadata": {
        "id": "GzaVYufHvnd6"
      },
      "execution_count": null,
      "outputs": []
    },
    {
      "cell_type": "code",
      "source": [
        "dur"
      ],
      "metadata": {
        "colab": {
          "base_uri": "https://localhost:8080/"
        },
        "id": "CFsyVaXsvty8",
        "outputId": "2d7e77f7-1ea2-4fa7-f8d2-8884607ea8e2"
      },
      "execution_count": null,
      "outputs": [
        {
          "output_type": "execute_result",
          "data": {
            "text/plain": [
              "0.07810091972351074"
            ]
          },
          "metadata": {},
          "execution_count": 81
        }
      ]
    },
    {
      "cell_type": "markdown",
      "source": [
        "### SVM"
      ],
      "metadata": {
        "id": "l90XTWj6DohY"
      }
    },
    {
      "cell_type": "code",
      "source": [
        "from sklearn.svm import LinearSVC"
      ],
      "metadata": {
        "id": "bOg88CeDJloO"
      },
      "execution_count": null,
      "outputs": []
    },
    {
      "cell_type": "code",
      "source": [
        "svc = LinearSVC()"
      ],
      "metadata": {
        "id": "q9VpLS20JxYj"
      },
      "execution_count": null,
      "outputs": []
    },
    {
      "cell_type": "code",
      "source": [
        "train_score1, val_score1, dur = get_score(svc)\n",
        "train_score1, val_score1, dur"
      ],
      "metadata": {
        "colab": {
          "base_uri": "https://localhost:8080/"
        },
        "id": "PXcVM-8-Jxoi",
        "outputId": "4353371b-7778-4e43-d044-eb65c2681dc2"
      },
      "execution_count": null,
      "outputs": [
        {
          "output_type": "execute_result",
          "data": {
            "text/plain": [
              "(0.6390395042602633, 0.5789776983806835, 6.457574844360352)"
            ]
          },
          "metadata": {},
          "execution_count": 66
        }
      ]
    },
    {
      "cell_type": "code",
      "source": [
        "score['Support Vector Machine'] = [train_score1, val_score1]"
      ],
      "metadata": {
        "id": "O2u_vk_KJx9R"
      },
      "execution_count": null,
      "outputs": []
    },
    {
      "cell_type": "code",
      "source": [
        "score"
      ],
      "metadata": {
        "colab": {
          "base_uri": "https://localhost:8080/"
        },
        "id": "goHHeLJmR22O",
        "outputId": "76f2db01-9314-431b-fe5b-60c67fa3b857"
      },
      "execution_count": null,
      "outputs": [
        {
          "output_type": "execute_result",
          "data": {
            "text/plain": [
              "{'Logistic Regression': [0.6421131565502579, 0.5823776868552988],\n",
              " 'Support Vector Machine': [0.6390395042602633, 0.5789776983806835]}"
            ]
          },
          "metadata": {},
          "execution_count": 68
        }
      ]
    },
    {
      "cell_type": "code",
      "source": [
        "duration['Support Vector Machine'] = dur"
      ],
      "metadata": {
        "id": "A0fEduZ6W_7N"
      },
      "execution_count": null,
      "outputs": []
    },
    {
      "cell_type": "code",
      "source": [
        "duration"
      ],
      "metadata": {
        "colab": {
          "base_uri": "https://localhost:8080/"
        },
        "id": "AfTdcZRFXEjy",
        "outputId": "42510900-9462-43b6-9cbb-f4658a83ad18"
      },
      "execution_count": null,
      "outputs": [
        {
          "output_type": "execute_result",
          "data": {
            "text/plain": [
              "{'Logistic Regression': 13.134043455123901,\n",
              " 'Support Vector Machine': 6.457574844360352}"
            ]
          },
          "metadata": {},
          "execution_count": 70
        }
      ]
    },
    {
      "cell_type": "code",
      "source": [
        "test_param(LinearSVC, 'loss', ['hinge', 'squared_hinge'])"
      ],
      "metadata": {
        "colab": {
          "base_uri": "https://localhost:8080/"
        },
        "id": "r5amn4ufUYpK",
        "outputId": "bbc99cf0-1810-449d-e929-799ef3431570"
      },
      "execution_count": null,
      "outputs": [
        {
          "output_type": "stream",
          "name": "stderr",
          "text": [
            "/usr/local/lib/python3.8/dist-packages/sklearn/svm/_base.py:1206: ConvergenceWarning: Liblinear failed to converge, increase the number of iterations.\n",
            "  warnings.warn(\n"
          ]
        },
        {
          "output_type": "execute_result",
          "data": {
            "text/plain": [
              "[0.5580014983000058, 0.5789776983806835]"
            ]
          },
          "metadata": {},
          "execution_count": 93
        }
      ]
    },
    {
      "cell_type": "code",
      "source": [
        "test_param(LinearSVC, 'dual', [True, False])"
      ],
      "metadata": {
        "colab": {
          "base_uri": "https://localhost:8080/"
        },
        "id": "w8l9lAsEVD2w",
        "outputId": "dbd62024-5726-45d9-901a-5cf1f4a1b60c"
      },
      "execution_count": null,
      "outputs": [
        {
          "output_type": "execute_result",
          "data": {
            "text/plain": [
              "[0.5789776983806835, 0.5789488849190342]"
            ]
          },
          "metadata": {},
          "execution_count": 94
        }
      ]
    },
    {
      "cell_type": "code",
      "source": [
        "test_param(LinearSVC, 'multi_class', ['ovr', 'crammer_singer'])"
      ],
      "metadata": {
        "colab": {
          "base_uri": "https://localhost:8080/"
        },
        "id": "17G4uIW6VPeO",
        "outputId": "8be0c55a-ee39-44d6-9d93-9e58fba82cef"
      },
      "execution_count": null,
      "outputs": [
        {
          "output_type": "stream",
          "name": "stderr",
          "text": [
            "/usr/local/lib/python3.8/dist-packages/sklearn/svm/_base.py:1206: ConvergenceWarning: Liblinear failed to converge, increase the number of iterations.\n",
            "  warnings.warn(\n"
          ]
        },
        {
          "output_type": "execute_result",
          "data": {
            "text/plain": [
              "[0.5789776983806835, 0.566184521408402]"
            ]
          },
          "metadata": {},
          "execution_count": 95
        }
      ]
    },
    {
      "cell_type": "code",
      "source": [
        "test_param(LinearSVC, 'class_weight', ['balanced', None])"
      ],
      "metadata": {
        "colab": {
          "base_uri": "https://localhost:8080/"
        },
        "id": "oIrtswN3Vm03",
        "outputId": "c391ada1-ec53-4aaf-e16a-c8972828991d"
      },
      "execution_count": null,
      "outputs": [
        {
          "output_type": "execute_result",
          "data": {
            "text/plain": [
              "[0.5407422347720855, 0.5789776983806835]"
            ]
          },
          "metadata": {},
          "execution_count": 96
        }
      ]
    },
    {
      "cell_type": "markdown",
      "source": [
        "###Linear Regression"
      ],
      "metadata": {
        "id": "Sp1a9TPjzINX"
      }
    },
    {
      "cell_type": "code",
      "source": [
        "np.unique(train_targets)"
      ],
      "metadata": {
        "colab": {
          "base_uri": "https://localhost:8080/"
        },
        "id": "EsHb6ELPzP0Y",
        "outputId": "183fceb8-e118-4ff3-ef23-bd7ceeae8b88"
      },
      "execution_count": null,
      "outputs": [
        {
          "output_type": "execute_result",
          "data": {
            "text/plain": [
              "array([0, 1, 2, 3, 4])"
            ]
          },
          "metadata": {},
          "execution_count": 98
        }
      ]
    },
    {
      "cell_type": "code",
      "source": [
        "from sklearn.linear_model import LinearRegression"
      ],
      "metadata": {
        "id": "lLQh0ZXfzior"
      },
      "execution_count": null,
      "outputs": []
    },
    {
      "cell_type": "code",
      "source": [
        "linear = LinearRegression()"
      ],
      "metadata": {
        "id": "PXp4a3SWzwvg"
      },
      "execution_count": null,
      "outputs": []
    },
    {
      "cell_type": "code",
      "source": [
        "start = time.time()\n",
        "linear.fit(train_inputs, train_targets)\n",
        "end = time.time()\n",
        "dur = end - start\n",
        "dur"
      ],
      "metadata": {
        "colab": {
          "base_uri": "https://localhost:8080/"
        },
        "id": "5JDyES37z2Lc",
        "outputId": "c0052dbd-5f6a-4331-feac-2f9d6f23f39d"
      },
      "execution_count": null,
      "outputs": [
        {
          "output_type": "execute_result",
          "data": {
            "text/plain": [
              "1.0265254974365234"
            ]
          },
          "metadata": {},
          "execution_count": 118
        }
      ]
    },
    {
      "cell_type": "code",
      "source": [
        "pred = linear.predict(train_inputs)\n",
        "pred"
      ],
      "metadata": {
        "colab": {
          "base_uri": "https://localhost:8080/"
        },
        "id": "mRwXUfCQz-QF",
        "outputId": "c010dba2-2b52-4f42-e413-dc19bdccfb8d"
      },
      "execution_count": null,
      "outputs": [
        {
          "output_type": "execute_result",
          "data": {
            "text/plain": [
              "array([2.39252359, 2.23949253, 1.65480573, ..., 2.89306963, 2.89306963,\n",
              "       2.25786783])"
            ]
          },
          "metadata": {},
          "execution_count": 113
        }
      ]
    },
    {
      "cell_type": "code",
      "source": [
        "np.min(pred), np.max(pred)"
      ],
      "metadata": {
        "colab": {
          "base_uri": "https://localhost:8080/"
        },
        "id": "pR3i80xj0q7G",
        "outputId": "244252fb-2adf-4f18-ff6a-a340ceae4fa7"
      },
      "execution_count": null,
      "outputs": [
        {
          "output_type": "execute_result",
          "data": {
            "text/plain": [
              "(-0.7137226707545121, 4.744483046050055)"
            ]
          },
          "metadata": {},
          "execution_count": 114
        }
      ]
    },
    {
      "cell_type": "code",
      "source": [
        "def cont_to_disc(alist):\n",
        "  disList = []\n",
        "  for ele in alist:\n",
        "    modEle = round(ele)\n",
        "    if modEle > 4:\n",
        "      modEle = 4\n",
        "    elif modEle < 0:\n",
        "      modEle = 0\n",
        "    disList.append(modEle)\n",
        "  return disList"
      ],
      "metadata": {
        "id": "_fl8d4JP01ZO"
      },
      "execution_count": null,
      "outputs": []
    },
    {
      "cell_type": "code",
      "source": [
        "train_preds = cont_to_disc(pred)"
      ],
      "metadata": {
        "id": "109NAJIt2mNG"
      },
      "execution_count": null,
      "outputs": []
    },
    {
      "cell_type": "code",
      "source": [
        "val_preds = cont_to_disc(linear.predict(val_inputs))"
      ],
      "metadata": {
        "id": "uCfoVuXj26Ak"
      },
      "execution_count": null,
      "outputs": []
    },
    {
      "cell_type": "code",
      "source": [
        "train_score1 = accuracy_score(train_targets, train_preds)\n",
        "val_score1 = accuracy_score(val_targets, val_preds)\n",
        "train_score1, val_score1"
      ],
      "metadata": {
        "colab": {
          "base_uri": "https://localhost:8080/"
        },
        "id": "W-XysxGW3cuU",
        "outputId": "46311a6c-2692-4388-fd83-c78634eaeecc"
      },
      "execution_count": null,
      "outputs": [
        {
          "output_type": "execute_result",
          "data": {
            "text/plain": [
              "(0.6000955881141125, 0.5588082752261857)"
            ]
          },
          "metadata": {},
          "execution_count": 119
        }
      ]
    },
    {
      "cell_type": "code",
      "source": [
        "score['Linear Regression'] = [train_score1, val_score1]\n",
        "duration['Linear Regression'] = dur"
      ],
      "metadata": {
        "id": "U83W9brn4KB_"
      },
      "execution_count": null,
      "outputs": []
    },
    {
      "cell_type": "markdown",
      "source": [
        "###Model Comparison"
      ],
      "metadata": {
        "id": "L77PNybRhQ0A"
      }
    },
    {
      "cell_type": "code",
      "source": [
        "score"
      ],
      "metadata": {
        "colab": {
          "base_uri": "https://localhost:8080/"
        },
        "id": "_N5zRuHx4bN6",
        "outputId": "8bcf8c86-3e66-4f8f-cb76-cebe63c62d2f"
      },
      "execution_count": null,
      "outputs": [
        {
          "output_type": "execute_result",
          "data": {
            "text/plain": [
              "{'Logistic Regression': [0.6421131565502579, 0.5823776868552988],\n",
              " 'Imp Logistic Regression': [0.6428465481154308, 0.5827810753183887],\n",
              " 'Naive Bayes': [0.5877597771808099, 0.5490405117270789],\n",
              " 'Improved Naive Bayes': [0.5950936928325395, 0.5542845617472483],\n",
              " 'Decision Tree': [0.7976663315589103, 0.5379761424537544],\n",
              " 'Random Forest': [0.7976663315589103, 0.56506079640408],\n",
              " 'Support Vector Machine': [0.6390395042602633, 0.5789776983806835],\n",
              " 'Stochistic Gradient Descent': [0.5792310101026749, 0.5418371463147582],\n",
              " 'Improved Stochastic Gradient': [0.6271898742521879, 0.5772777041433758],\n",
              " 'Linear Regression': [0.6000955881141125, 0.5588082752261857]}"
            ]
          },
          "metadata": {},
          "execution_count": 121
        }
      ]
    },
    {
      "cell_type": "code",
      "source": [
        "duration"
      ],
      "metadata": {
        "colab": {
          "base_uri": "https://localhost:8080/"
        },
        "id": "idDu_0_cX6sy",
        "outputId": "5f6e65e9-906e-4cc4-992a-347d697d70a5"
      },
      "execution_count": null,
      "outputs": [
        {
          "output_type": "execute_result",
          "data": {
            "text/plain": [
              "{'Logistic Regression': 12.812931299209595,\n",
              " 'Imp Logistic Regression': 2.236541748046875,\n",
              " 'Naive Bayes': 2.928037643432617,\n",
              " 'Improved Naive Bayes': 0.07810091972351074,\n",
              " 'Decision Tree': 19.950376510620117,\n",
              " 'Random Forest': 744.1395840644836,\n",
              " 'Support Vector Machine': 6.457574844360352,\n",
              " 'Stochistic Gradient Descent': 0.7788512706756592,\n",
              " 'Improved Stochastic Gradient': 1.0043909549713135,\n",
              " 'Linear Regression': 1.0265254974365234}"
            ]
          },
          "metadata": {},
          "execution_count": 122
        }
      ]
    },
    {
      "cell_type": "code",
      "source": [
        "import matplotlib.pyplot as plt"
      ],
      "metadata": {
        "id": "qx11ImNBjwvK"
      },
      "execution_count": null,
      "outputs": []
    },
    {
      "cell_type": "code",
      "source": [
        "modelNames = list(score.keys())\n",
        "modelNames"
      ],
      "metadata": {
        "colab": {
          "base_uri": "https://localhost:8080/"
        },
        "id": "1_Ox2Lvjjzf-",
        "outputId": "9d01d0a8-a021-43b3-b3b2-eb3a99e75854"
      },
      "execution_count": null,
      "outputs": [
        {
          "output_type": "execute_result",
          "data": {
            "text/plain": [
              "['Logistic Regression',\n",
              " 'Imp Logistic Regression',\n",
              " 'Naive Bayes',\n",
              " 'Improved Naive Bayes',\n",
              " 'Decision Tree',\n",
              " 'Random Forest',\n",
              " 'Support Vector Machine',\n",
              " 'Stochistic Gradient Descent',\n",
              " 'Improved Stochastic Gradient',\n",
              " 'Linear Regression']"
            ]
          },
          "metadata": {},
          "execution_count": 123
        }
      ]
    },
    {
      "cell_type": "code",
      "source": [
        "trainingScores = [ele[0] for ele in score.values()]\n",
        "trainingScores"
      ],
      "metadata": {
        "colab": {
          "base_uri": "https://localhost:8080/"
        },
        "id": "PaNDEfdykLk-",
        "outputId": "9876164e-2741-4729-cd95-e22d5e2264eb"
      },
      "execution_count": null,
      "outputs": [
        {
          "output_type": "execute_result",
          "data": {
            "text/plain": [
              "[0.6421131565502579,\n",
              " 0.6428465481154308,\n",
              " 0.5877597771808099,\n",
              " 0.5950936928325395,\n",
              " 0.7976663315589103,\n",
              " 0.7976663315589103,\n",
              " 0.6390395042602633,\n",
              " 0.5792310101026749,\n",
              " 0.6271898742521879,\n",
              " 0.6000955881141125]"
            ]
          },
          "metadata": {},
          "execution_count": 124
        }
      ]
    },
    {
      "cell_type": "code",
      "source": [
        "valScores = [ele[1] for ele in score.values()]\n",
        "valScores"
      ],
      "metadata": {
        "colab": {
          "base_uri": "https://localhost:8080/"
        },
        "id": "lu9rFvNZkhUj",
        "outputId": "96e329c6-d122-46a0-ac26-df279a6c45fc"
      },
      "execution_count": null,
      "outputs": [
        {
          "output_type": "execute_result",
          "data": {
            "text/plain": [
              "[0.5823776868552988,\n",
              " 0.5827810753183887,\n",
              " 0.5490405117270789,\n",
              " 0.5542845617472483,\n",
              " 0.5379761424537544,\n",
              " 0.56506079640408,\n",
              " 0.5789776983806835,\n",
              " 0.5418371463147582,\n",
              " 0.5772777041433758,\n",
              " 0.5588082752261857]"
            ]
          },
          "metadata": {},
          "execution_count": 125
        }
      ]
    },
    {
      "cell_type": "code",
      "source": [
        "durations = list(duration.values())\n",
        "durations"
      ],
      "metadata": {
        "colab": {
          "base_uri": "https://localhost:8080/"
        },
        "id": "Uwn5n10XknMw",
        "outputId": "21184ba9-fb02-40ca-e250-c67da2a6d200"
      },
      "execution_count": null,
      "outputs": [
        {
          "output_type": "execute_result",
          "data": {
            "text/plain": [
              "[12.812931299209595,\n",
              " 2.236541748046875,\n",
              " 2.928037643432617,\n",
              " 0.07810091972351074,\n",
              " 19.950376510620117,\n",
              " 744.1395840644836,\n",
              " 6.457574844360352,\n",
              " 0.7788512706756592,\n",
              " 1.0043909549713135,\n",
              " 1.0265254974365234]"
            ]
          },
          "metadata": {},
          "execution_count": 126
        }
      ]
    },
    {
      "cell_type": "code",
      "source": [
        "barWidth = 0.25\n",
        "\n",
        "br1 = np.arange(len(modelNames))\n",
        "br2 = [x + barWidth for x in br1]\n",
        "\n",
        "plt.figure(figsize=(10, 10))\n",
        "plt.bar(br1, trainingScores, label ='Training', width = barWidth)\n",
        "plt.bar(br2, valScores, label ='Validation', width = barWidth)\n",
        "\n",
        "\n",
        "# Adding Xticks\n",
        "plt.xlabel('Models', fontweight ='bold', fontsize = 15)\n",
        "plt.ylabel('Score', fontweight ='bold', fontsize = 15)\n",
        "plt.xticks([r + barWidth for r in range(len(modelNames))], ['logistic', 'Impv logistic', 'Naive', 'Impv Naive', 'Tree', 'Forest', 'SVM', 'SGD', 'Impv SGD', 'linear'])\n",
        " \n",
        "plt.legend()\n",
        "plt.show()"
      ],
      "metadata": {
        "colab": {
          "base_uri": "https://localhost:8080/",
          "height": 611
        },
        "id": "u-bbffTajxsq",
        "outputId": "6cc6c50b-9cbb-4390-e1ab-c55ef595a92f"
      },
      "execution_count": null,
      "outputs": [
        {
          "output_type": "display_data",
          "data": {
            "text/plain": [
              "<Figure size 720x720 with 1 Axes>"
            ],
            "image/png": "[encoded data removed]"
          },
          "metadata": {
            "needs_background": "light"
          }
        }
      ]
    },
    {
      "cell_type": "code",
      "source": [
        "plt.figure(figsize=(10, 10))\n",
        "plt.barh(modelNames,  durations)\n",
        "\n",
        "# Adding Xticks\n",
        "plt.xlabel('Duration', fontweight ='bold', fontsize = 15)\n",
        "plt.ylabel('Models', fontweight ='bold', fontsize = 15)\n",
        "plt.xlim(right = max(durations)//2)\n",
        "\n",
        "plt.legend()\n",
        "plt.show()"
      ],
      "metadata": {
        "colab": {
          "base_uri": "https://localhost:8080/",
          "height": 628
        },
        "id": "WI5lHO9_npPK",
        "outputId": "b2e1c841-9247-45b0-c20d-d8a18db8dca4"
      },
      "execution_count": null,
      "outputs": [
        {
          "output_type": "stream",
          "name": "stderr",
          "text": [
            "WARNING:matplotlib.legend:No handles with labels found to put in legend.\n"
          ]
        },
        {
          "output_type": "display_data",
          "data": {
            "text/plain": [
              "<Figure size 720x720 with 1 Axes>"
            ],
            "image/png": "[encoded data removed]"
          },
          "metadata": {
            "needs_background": "light"
          }
        }
      ]
    },
    {
      "cell_type": "markdown",
      "metadata": {
        "id": "ULfEBwfCOtHp"
      },
      "source": [
        "**Comparing each model**"
      ]
    },
    {
      "cell_type": "code",
      "source": [
        "#Sorting the model based on the Training Score\n",
        "sorted(score.keys(), key=lambda x: score[x][0], reverse=True)"
      ],
      "metadata": {
        "colab": {
          "base_uri": "https://localhost:8080/"
        },
        "id": "yTrCOa1hbDjJ",
        "outputId": "acd37117-8cb9-4866-dbb1-c12038b9a6cf"
      },
      "execution_count": null,
      "outputs": [
        {
          "output_type": "execute_result",
          "data": {
            "text/plain": [
              "['Decision Tree',\n",
              " 'Random Forest',\n",
              " 'Imp Logistic Regression',\n",
              " 'Logistic Regression',\n",
              " 'Support Vector Machine',\n",
              " 'Improved Stochastic Gradient',\n",
              " 'Linear Regression',\n",
              " 'Improved Naive Bayes',\n",
              " 'Naive Bayes',\n",
              " 'Stochistic Gradient Descent']"
            ]
          },
          "metadata": {},
          "execution_count": 129
        }
      ]
    },
    {
      "cell_type": "markdown",
      "source": [
        "Comparing the training accuracy, Random Forest and Decision performed best with a score of approx 0.79 whereas SGD and Naive Bayes performed worst."
      ],
      "metadata": {
        "id": "Bk_vwoXPcnOq"
      }
    },
    {
      "cell_type": "code",
      "source": [
        "#Sorting the model based on the Validation Score\n",
        "sorted(score.keys(), key=lambda x: score[x][1], reverse=True)"
      ],
      "metadata": {
        "colab": {
          "base_uri": "https://localhost:8080/"
        },
        "id": "J1zNIFdSchu-",
        "outputId": "9ee9810d-015b-4a45-ad08-1349387c4307"
      },
      "execution_count": null,
      "outputs": [
        {
          "output_type": "execute_result",
          "data": {
            "text/plain": [
              "['Imp Logistic Regression',\n",
              " 'Logistic Regression',\n",
              " 'Support Vector Machine',\n",
              " 'Improved Stochastic Gradient',\n",
              " 'Random Forest',\n",
              " 'Linear Regression',\n",
              " 'Improved Naive Bayes',\n",
              " 'Naive Bayes',\n",
              " 'Stochistic Gradient Descent',\n",
              " 'Decision Tree']"
            ]
          },
          "metadata": {},
          "execution_count": 130
        }
      ]
    },
    {
      "cell_type": "markdown",
      "source": [
        "Comparing the validation accuracy, Logistic regression and SVM performed best with a score of approx 0.58 whereas Decision Tree, SGD and Naive Bayes performed worst."
      ],
      "metadata": {
        "id": "Cud5k1Qi57Vq"
      }
    },
    {
      "cell_type": "code",
      "source": [
        "#Sorting the model based on the running time\n",
        "sorted(duration.keys(), key=lambda x: score[x])"
      ],
      "metadata": {
        "colab": {
          "base_uri": "https://localhost:8080/"
        },
        "id": "eTDvN68fe1Ke",
        "outputId": "c3581112-4ee1-40b5-f139-6caa887f9447"
      },
      "execution_count": null,
      "outputs": [
        {
          "output_type": "execute_result",
          "data": {
            "text/plain": [
              "['Stochistic Gradient Descent',\n",
              " 'Naive Bayes',\n",
              " 'Improved Naive Bayes',\n",
              " 'Linear Regression',\n",
              " 'Improved Stochastic Gradient',\n",
              " 'Support Vector Machine',\n",
              " 'Logistic Regression',\n",
              " 'Imp Logistic Regression',\n",
              " 'Decision Tree',\n",
              " 'Random Forest']"
            ]
          },
          "metadata": {},
          "execution_count": 131
        }
      ]
    },
    {
      "cell_type": "markdown",
      "source": [
        "Comparing the training time, SGD and Naive bayes are the fastest to train whereas Decision Tree, and Random Forest being the slowest."
      ],
      "metadata": {
        "id": "nFgfLUIB6VFf"
      }
    },
    {
      "cell_type": "markdown",
      "source": [
        "**Summary** "
      ],
      "metadata": {
        "id": "76OOw8K868eU"
      }
    },
    {
      "cell_type": "markdown",
      "source": [
        "* Even though Decision tree has a better training accuracy, its validation score is worst hinting of a possible 'overfitting'. Same goes for Random Forest even though it performed better than Decision Tree. Both the model are costlier as running time constructing a tree is huge and as random forest required to construct multiple tree hence the running time of random forest is in average a 100 times to that of the other model and 1000 times to SGD.\n",
        "* SGD has the 2nd worst validation score, showing similar trend as of training score and so is the worst performing model in terms of score but is quick as it has the lowest running time. Same can be said for Naive Bayes.\n",
        "* Logistic regressiion and its improved counter part performed the best on validation dataset. And even though logistic regression has the high running time below decision tree and random forest, by improving the model, the running time dropped more than 75%.\n",
        "* SVM and Improved SGD shows good result as it score little less than that of logistic regression and at the same time has lower running time."
      ],
      "metadata": {
        "id": "GUhoOTu3diBx"
      }
    },
    {
      "cell_type": "markdown",
      "source": [
        "**Improved Logistic Regression** has the best validation Score"
      ],
      "metadata": {
        "id": "Ie19EyozkSFx"
      }
    },
    {
      "cell_type": "markdown",
      "source": [
        "###Submitting the test data result"
      ],
      "metadata": {
        "id": "5HcZyatokf67"
      }
    },
    {
      "cell_type": "code",
      "source": [
        "impLogisticReg.fit(train_inputs, train_targets)"
      ],
      "metadata": {
        "colab": {
          "base_uri": "https://localhost:8080/"
        },
        "id": "EjKrBDgxlJHo",
        "outputId": "919aed2d-2b15-498c-f32e-8e7fc4f68209"
      },
      "execution_count": null,
      "outputs": [
        {
          "output_type": "stream",
          "name": "stderr",
          "text": [
            "/usr/local/lib/python3.8/dist-packages/sklearn/linear_model/_sag.py:352: ConvergenceWarning: The max_iter was reached which means the coef_ did not converge\n",
            "  warnings.warn(\n"
          ]
        },
        {
          "output_type": "execute_result",
          "data": {
            "text/plain": [
              "LogisticRegression(max_iter=20, random_state=23, solver='sag')"
            ]
          },
          "metadata": {},
          "execution_count": 134
        }
      ]
    },
    {
      "cell_type": "code",
      "source": [
        "test_preds = impLogisticReg.predict(test_input)"
      ],
      "metadata": {
        "id": "jiEl01qtlDlR"
      },
      "execution_count": null,
      "outputs": []
    },
    {
      "cell_type": "code",
      "source": [
        "sub_df.head()"
      ],
      "metadata": {
        "colab": {
          "base_uri": "https://localhost:8080/",
          "height": 206
        },
        "id": "uStJBb5YlcmD",
        "outputId": "25d732f9-fa52-4f3e-8b89-2de7fdc31693"
      },
      "execution_count": null,
      "outputs": [
        {
          "output_type": "execute_result",
          "data": {
            "text/plain": [
              "   PhraseId  Sentiment\n",
              "0    156061          2\n",
              "1    156062          2\n",
              "2    156063          2\n",
              "3    156064          2\n",
              "4    156065          2"
            ],
            "text/html": [
              "\n",
              "  <div id=\"df-6376e80a-63ff-4399-8c9f-98186b46674e\">\n",
              "    <div class=\"colab-df-container\">\n",
              "      <div>\n",
              "<style scoped>\n",
              "    .dataframe tbody tr th:only-of-type {\n",
              "        vertical-align: middle;\n",
              "    }\n",
              "\n",
              "    .dataframe tbody tr th {\n",
              "        vertical-align: top;\n",
              "    }\n",
              "\n",
              "    .dataframe thead th {\n",
              "        text-align: right;\n",
              "    }\n",
              "</style>\n",
              "<table border=\"1\" class=\"dataframe\">\n",
              "  <thead>\n",
              "    <tr style=\"text-align: right;\">\n",
              "      <th></th>\n",
              "      <th>PhraseId</th>\n",
              "      <th>Sentiment</th>\n",
              "    </tr>\n",
              "  </thead>\n",
              "  <tbody>\n",
              "    <tr>\n",
              "      <th>0</th>\n",
              "      <td>156061</td>\n",
              "      <td>2</td>\n",
              "    </tr>\n",
              "    <tr>\n",
              "      <th>1</th>\n",
              "      <td>156062</td>\n",
              "      <td>2</td>\n",
              "    </tr>\n",
              "    <tr>\n",
              "      <th>2</th>\n",
              "      <td>156063</td>\n",
              "      <td>2</td>\n",
              "    </tr>\n",
              "    <tr>\n",
              "      <th>3</th>\n",
              "      <td>156064</td>\n",
              "      <td>2</td>\n",
              "    </tr>\n",
              "    <tr>\n",
              "      <th>4</th>\n",
              "      <td>156065</td>\n",
              "      <td>2</td>\n",
              "    </tr>\n",
              "  </tbody>\n",
              "</table>\n",
              "</div>\n",
              "      <button class=\"colab-df-convert\" onclick=\"convertToInteractive('df-6376e80a-63ff-4399-8c9f-98186b46674e')\"\n",
              "              title=\"Convert this dataframe to an interactive table.\"\n",
              "              style=\"display:none;\">\n",
              "        \n",
              "  <svg xmlns=\"http://www.w3.org/2000/svg\" height=\"24px\"viewBox=\"0 0 24 24\"\n",
              "       width=\"24px\">\n",
              "    <path d=\"M0 0h24v24H0V0z\" fill=\"none\"/>\n",
              "    <path d=\"M18.56 5.44l.94 2.06.94-2.06 2.06-.94-2.06-.94-.94-2.06-.94 2.06-2.06.94zm-11 1L8.5 8.5l.94-2.06 2.06-.94-2.06-.94L8.5 2.5l-.94 2.06-2.06.94zm10 10l.94 2.06.94-2.06 2.06-.94-2.06-.94-.94-2.06-.94 2.06-2.06.94z\"/><path d=\"M17.41 7.96l-1.37-1.37c-.4-.4-.92-.59-1.43-.59-.52 0-1.04.2-1.43.59L10.3 9.45l-7.72 7.72c-.78.78-.78 2.05 0 2.83L4 21.41c.39.39.9.59 1.41.59.51 0 1.02-.2 1.41-.59l7.78-7.78 2.81-2.81c.8-.78.8-2.07 0-2.86zM5.41 20L4 18.59l7.72-7.72 1.47 1.35L5.41 20z\"/>\n",
              "  </svg>\n",
              "      </button>\n",
              "      \n",
              "  <style>\n",
              "    .colab-df-container {\n",
              "      display:flex;\n",
              "      flex-wrap:wrap;\n",
              "      gap: 12px;\n",
              "    }\n",
              "\n",
              "    .colab-df-convert {\n",
              "      background-color: #E8F0FE;\n",
              "      border: none;\n",
              "      border-radius: 50%;\n",
              "      cursor: pointer;\n",
              "      display: none;\n",
              "      fill: #1967D2;\n",
              "      height: 32px;\n",
              "      padding: 0 0 0 0;\n",
              "      width: 32px;\n",
              "    }\n",
              "\n",
              "    .colab-df-convert:hover {\n",
              "      background-color: #E2EBFA;\n",
              "      box-shadow: 0px 1px 2px rgba(60, 64, 67, 0.3), 0px 1px 3px 1px rgba(60, 64, 67, 0.15);\n",
              "      fill: #174EA6;\n",
              "    }\n",
              "\n",
              "    [theme=dark] .colab-df-convert {\n",
              "      background-color: #3B4455;\n",
              "      fill: #D2E3FC;\n",
              "    }\n",
              "\n",
              "    [theme=dark] .colab-df-convert:hover {\n",
              "      background-color: #434B5C;\n",
              "      box-shadow: 0px 1px 3px 1px rgba(0, 0, 0, 0.15);\n",
              "      filter: drop-shadow(0px 1px 2px rgba(0, 0, 0, 0.3));\n",
              "      fill: #FFFFFF;\n",
              "    }\n",
              "  </style>\n",
              "\n",
              "      <script>\n",
              "        const buttonEl =\n",
              "          document.querySelector('#df-6376e80a-63ff-4399-8c9f-98186b46674e button.colab-df-convert');\n",
              "        buttonEl.style.display =\n",
              "          google.colab.kernel.accessAllowed ? 'block' : 'none';\n",
              "\n",
              "        async function convertToInteractive(key) {\n",
              "          const element = document.querySelector('#df-6376e80a-63ff-4399-8c9f-98186b46674e');\n",
              "          const dataTable =\n",
              "            await google.colab.kernel.invokeFunction('convertToInteractive',\n",
              "                                                     [key], {});\n",
              "          if (!dataTable) return;\n",
              "\n",
              "          const docLinkHtml = 'Like what you see? Visit the ' +\n",
              "            '<a target=\"_blank\" href=https://colab.research.google.com/notebooks/data_table.ipynb>data table notebook</a>'\n",
              "            + ' to learn more about interactive tables.';\n",
              "          element.innerHTML = '';\n",
              "          dataTable['output_type'] = 'display_data';\n",
              "          await google.colab.output.renderOutput(dataTable, element);\n",
              "          const docLink = document.createElement('div');\n",
              "          docLink.innerHTML = docLinkHtml;\n",
              "          element.appendChild(docLink);\n",
              "        }\n",
              "      </script>\n",
              "    </div>\n",
              "  </div>\n",
              "  "
            ]
          },
          "metadata": {},
          "execution_count": 136
        }
      ]
    },
    {
      "cell_type": "code",
      "source": [
        "sub_df.Sentiment = test_preds"
      ],
      "metadata": {
        "id": "RKg5hVrVlgGY"
      },
      "execution_count": null,
      "outputs": []
    },
    {
      "cell_type": "code",
      "source": [
        "sub_df"
      ],
      "metadata": {
        "colab": {
          "base_uri": "https://localhost:8080/",
          "height": 424
        },
        "id": "bPERLdbRlkxW",
        "outputId": "28439c9a-767b-4461-a645-580f676194e9"
      },
      "execution_count": null,
      "outputs": [
        {
          "output_type": "execute_result",
          "data": {
            "text/plain": [
              "       PhraseId  Sentiment\n",
              "0        156061          3\n",
              "1        156062          3\n",
              "2        156063          2\n",
              "3        156064          3\n",
              "4        156065          2\n",
              "...         ...        ...\n",
              "66287    222348          1\n",
              "66288    222349          1\n",
              "66289    222350          2\n",
              "66290    222351          2\n",
              "66291    222352          1\n",
              "\n",
              "[66292 rows x 2 columns]"
            ],
            "text/html": [
              "\n",
              "  <div id=\"df-2ec753d1-8c41-40e6-a154-76c767ed278c\">\n",
              "    <div class=\"colab-df-container\">\n",
              "      <div>\n",
              "<style scoped>\n",
              "    .dataframe tbody tr th:only-of-type {\n",
              "        vertical-align: middle;\n",
              "    }\n",
              "\n",
              "    .dataframe tbody tr th {\n",
              "        vertical-align: top;\n",
              "    }\n",
              "\n",
              "    .dataframe thead th {\n",
              "        text-align: right;\n",
              "    }\n",
              "</style>\n",
              "<table border=\"1\" class=\"dataframe\">\n",
              "  <thead>\n",
              "    <tr style=\"text-align: right;\">\n",
              "      <th></th>\n",
              "      <th>PhraseId</th>\n",
              "      <th>Sentiment</th>\n",
              "    </tr>\n",
              "  </thead>\n",
              "  <tbody>\n",
              "    <tr>\n",
              "      <th>0</th>\n",
              "      <td>156061</td>\n",
              "      <td>3</td>\n",
              "    </tr>\n",
              "    <tr>\n",
              "      <th>1</th>\n",
              "      <td>156062</td>\n",
              "      <td>3</td>\n",
              "    </tr>\n",
              "    <tr>\n",
              "      <th>2</th>\n",
              "      <td>156063</td>\n",
              "      <td>2</td>\n",
              "    </tr>\n",
              "    <tr>\n",
              "      <th>3</th>\n",
              "      <td>156064</td>\n",
              "      <td>3</td>\n",
              "    </tr>\n",
              "    <tr>\n",
              "      <th>4</th>\n",
              "      <td>156065</td>\n",
              "      <td>2</td>\n",
              "    </tr>\n",
              "    <tr>\n",
              "      <th>...</th>\n",
              "      <td>...</td>\n",
              "      <td>...</td>\n",
              "    </tr>\n",
              "    <tr>\n",
              "      <th>66287</th>\n",
              "      <td>222348</td>\n",
              "      <td>1</td>\n",
              "    </tr>\n",
              "    <tr>\n",
              "      <th>66288</th>\n",
              "      <td>222349</td>\n",
              "      <td>1</td>\n",
              "    </tr>\n",
              "    <tr>\n",
              "      <th>66289</th>\n",
              "      <td>222350</td>\n",
              "      <td>2</td>\n",
              "    </tr>\n",
              "    <tr>\n",
              "      <th>66290</th>\n",
              "      <td>222351</td>\n",
              "      <td>2</td>\n",
              "    </tr>\n",
              "    <tr>\n",
              "      <th>66291</th>\n",
              "      <td>222352</td>\n",
              "      <td>1</td>\n",
              "    </tr>\n",
              "  </tbody>\n",
              "</table>\n",
              "<p>66292 rows × 2 columns</p>\n",
              "</div>\n",
              "      <button class=\"colab-df-convert\" onclick=\"convertToInteractive('df-2ec753d1-8c41-40e6-a154-76c767ed278c')\"\n",
              "              title=\"Convert this dataframe to an interactive table.\"\n",
              "              style=\"display:none;\">\n",
              "        \n",
              "  <svg xmlns=\"http://www.w3.org/2000/svg\" height=\"24px\"viewBox=\"0 0 24 24\"\n",
              "       width=\"24px\">\n",
              "    <path d=\"M0 0h24v24H0V0z\" fill=\"none\"/>\n",
              "    <path d=\"M18.56 5.44l.94 2.06.94-2.06 2.06-.94-2.06-.94-.94-2.06-.94 2.06-2.06.94zm-11 1L8.5 8.5l.94-2.06 2.06-.94-2.06-.94L8.5 2.5l-.94 2.06-2.06.94zm10 10l.94 2.06.94-2.06 2.06-.94-2.06-.94-.94-2.06-.94 2.06-2.06.94z\"/><path d=\"M17.41 7.96l-1.37-1.37c-.4-.4-.92-.59-1.43-.59-.52 0-1.04.2-1.43.59L10.3 9.45l-7.72 7.72c-.78.78-.78 2.05 0 2.83L4 21.41c.39.39.9.59 1.41.59.51 0 1.02-.2 1.41-.59l7.78-7.78 2.81-2.81c.8-.78.8-2.07 0-2.86zM5.41 20L4 18.59l7.72-7.72 1.47 1.35L5.41 20z\"/>\n",
              "  </svg>\n",
              "      </button>\n",
              "      \n",
              "  <style>\n",
              "    .colab-df-container {\n",
              "      display:flex;\n",
              "      flex-wrap:wrap;\n",
              "      gap: 12px;\n",
              "    }\n",
              "\n",
              "    .colab-df-convert {\n",
              "      background-color: #E8F0FE;\n",
              "      border: none;\n",
              "      border-radius: 50%;\n",
              "      cursor: pointer;\n",
              "      display: none;\n",
              "      fill: #1967D2;\n",
              "      height: 32px;\n",
              "      padding: 0 0 0 0;\n",
              "      width: 32px;\n",
              "    }\n",
              "\n",
              "    .colab-df-convert:hover {\n",
              "      background-color: #E2EBFA;\n",
              "      box-shadow: 0px 1px 2px rgba(60, 64, 67, 0.3), 0px 1px 3px 1px rgba(60, 64, 67, 0.15);\n",
              "      fill: #174EA6;\n",
              "    }\n",
              "\n",
              "    [theme=dark] .colab-df-convert {\n",
              "      background-color: #3B4455;\n",
              "      fill: #D2E3FC;\n",
              "    }\n",
              "\n",
              "    [theme=dark] .colab-df-convert:hover {\n",
              "      background-color: #434B5C;\n",
              "      box-shadow: 0px 1px 3px 1px rgba(0, 0, 0, 0.15);\n",
              "      filter: drop-shadow(0px 1px 2px rgba(0, 0, 0, 0.3));\n",
              "      fill: #FFFFFF;\n",
              "    }\n",
              "  </style>\n",
              "\n",
              "      <script>\n",
              "        const buttonEl =\n",
              "          document.querySelector('#df-2ec753d1-8c41-40e6-a154-76c767ed278c button.colab-df-convert');\n",
              "        buttonEl.style.display =\n",
              "          google.colab.kernel.accessAllowed ? 'block' : 'none';\n",
              "\n",
              "        async function convertToInteractive(key) {\n",
              "          const element = document.querySelector('#df-2ec753d1-8c41-40e6-a154-76c767ed278c');\n",
              "          const dataTable =\n",
              "            await google.colab.kernel.invokeFunction('convertToInteractive',\n",
              "                                                     [key], {});\n",
              "          if (!dataTable) return;\n",
              "\n",
              "          const docLinkHtml = 'Like what you see? Visit the ' +\n",
              "            '<a target=\"_blank\" href=https://colab.research.google.com/notebooks/data_table.ipynb>data table notebook</a>'\n",
              "            + ' to learn more about interactive tables.';\n",
              "          element.innerHTML = '';\n",
              "          dataTable['output_type'] = 'display_data';\n",
              "          await google.colab.output.renderOutput(dataTable, element);\n",
              "          const docLink = document.createElement('div');\n",
              "          docLink.innerHTML = docLinkHtml;\n",
              "          element.appendChild(docLink);\n",
              "        }\n",
              "      </script>\n",
              "    </div>\n",
              "  </div>\n",
              "  "
            ]
          },
          "metadata": {},
          "execution_count": 138
        }
      ]
    },
    {
      "cell_type": "code",
      "source": [
        "sub_df.to_csv('submission.csv', index=None)"
      ],
      "metadata": {
        "id": "qZXYgnkGl3Wg"
      },
      "execution_count": null,
      "outputs": []
    },
    {
      "cell_type": "code",
      "source": [
        "!head submission.csv"
      ],
      "metadata": {
        "colab": {
          "base_uri": "https://localhost:8080/"
        },
        "id": "qZ7vXbafl5af",
        "outputId": "01798658-46f9-46be-82e8-3e648882f6c7"
      },
      "execution_count": null,
      "outputs": [
        {
          "output_type": "stream",
          "name": "stdout",
          "text": [
            "PhraseId,Sentiment\n",
            "156061,3\n",
            "156062,3\n",
            "156063,2\n",
            "156064,3\n",
            "156065,2\n",
            "156066,3\n",
            "156067,3\n",
            "156068,2\n",
            "156069,3\n"
          ]
        }
      ]
    },
    {
      "cell_type": "markdown",
      "source": [
        "![image.png](data:image/png;base64,iVBORw0KGgoAAAANSUhEUgAABVYAAAMACAYAAADPPjzCAAAABHNCSVQICAgIfAhkiAAAABl0RVh0U29mdHdhcmUAZ25vbWUtc2NyZWVuc2hvdO8Dvz4AAAAzdEVYdENyZWF0aW9uIFRpbWUAU2F0dXJkYXkgMTAgRGVjZW1iZXIgMjAyMiAwMjoxMDoxMSBBTS6Ox2UAACAASURBVHic7N13eBTF/8Dx9+7VlEuHEEild5CigBQFpKh0EAsIiqIiNhS+/kSxYRdU7B1BKYKgoEAogtRIbwm9Qwrp/S5X9vfHkSPtkksHmdfz8JBsmZnNze7tfmZ2RgoJCVEQBEEQBEEQBEEQBEEQBEEQXCbXdgEEQRAEQRAEQRAEQRAEQRCuNyKwKgiCIAiCIAiCIAiCIAiCUE4isCoIgiAIgiAIgiAIgiAIglBOIrAqCIIgCIIgCIIgCIIgCIJQTuraLoBQeX5+fgQGBlKvXj08PDyQZZmMjAwyMjI4evQoOTk5tV1EQRAEQRAEQRAEQRD+o+rUqcOwYcMYPXo09evXJz4+nujoaNzc3NDr9cTFxbFr1y52797N+fPnMZvNtV1kAOrWrYuiKCQmJtZ2UYQioqOjHT+3atWqFktSOikkJESp7UIIFaNWq2ncuDHh4eHIsowkSY7/8//JsszJkyc5cuTINXPhEgRBEARBEARBEAThv6Fu3bpMmTKFIUOGoNfrnW5ntVo5duwYy5cv55dffiE3N7cGS1lccHAwM2bMQFEUZs6cyYULF2q1PGVZunQpLVq0cPx+5MgRRo4cWe35tmnThkOHDlV7PgCTJ09m7NixeHp6FluXnZ3N/Pnz+fTTT2ukLK4SgdXrlFqtpnPnznh5eRULpqpUKoBCgdb09HT++eef6y642uO5j+h/9n1eXR6HtRrSbzN6KrenzuPztQnVkr4gCIIgCIIgCIIg/JdNnDiRKVOmoNPpXNo+OzubX3/9lQ8//LDG37CVZZmwsDB69+5N//790Wg0AJjNZiIjI/n77785d+4cNputRsvlioI9OPNVd0/Opk2bMnfuXLp161ZouV6vx2g0Vnl+UVFRjBw5kosXLxZbFxwczJIlS+jatWuV51sZtTbGalD727i1sR6pwDJF3ZmJy7ezbmrrMvcvadvKpnk9adSoEQaDodhySZJQFMXxcz4fHx9at77+/gYtbu9D52Bdoc+0KnUcNZYhLT2rLX1BEARBEK7q9e52dh04zKFDB9m/ZzubVs7j8+lj6BuurdZ8tU0f5MP1e/nlHo/CK+QgOj/5FUs37WbvzvUs/3AMXXxd7HNQ6r46Ans+ycz5a9myex97tqzk5zeG095QdtrVUlZBEARBqEajR48uFFRVFAWbzUZsbCw7duxg3bp1REVFkZ6eDoCHhwejR49m/PjxLgdjq8KcOXNYsGABs2fP5u6773YEVQE0Gg133303s2fPZsGCBddcr8jaEBYWxrfffou3t3eh5ZIkMW/ePHr27FnpPAIDAwv97unp6RhGoui/+Pj4EuNgta1SY6za/Efy4crX6BfzEoMmruBCOQL6D8z+mG7z+rLjpJH8W0LJlkni2bOcTsguc/+Stq1smtcLT09PmjVr5mgdUBSFgIAAxo0bR3BwMO7u7qSmpnLkyJFCrT+KovD+++9z7Nix0jNwb8Jt4ycyduAttG7gjc6SRtyJfUQtncPry09X56FVPfcm3Db+MR4ceDMtg73RmRK5EB3Fuh9n8enW1NounSAIgiDcUDz9vHHf/xETP9mLUWvAP7Qdtw57gllLhrHqxQm8vCGtSt8gkbxa0nvsZJ56sDsRbhYOF1qrIfihz/l8vI1NH01hdmIzhkyZymfvpTHi8T85V+p9ben7nnXrxrgXBlB307e89W0CloZDeWLya3xmOU2/N/aTAzy6MJK7op5l6CdHqrmszgUFBTFt2jRuvfVWwN5L5KOPPuLMmTMVS1AQBEG4IQUFBRVbtnfvXubMmcPJkycxmUzo9Xruv/9+nnzySQDc3d0ZPnw4mzZtIiYmpkbK6e7u7lIgV6fT4ebmVgMlKp8jR44UGwqgugQFBfH9998TEBBQaHl+Z76ZM2fy2WefMWTIEFJTKx5bad26NQkJCYXSt1gsJW5rsVgKdSC8VlQisKoiZPiD9DUnktbxYca1WcHMA5Usje0oy5+7n+VVuW150rxOtG3bFoPBgMlkAiAgIIDp06fz559/8sUXXwDQrVs3hg8fzs6dOwuNW9KhQ4dSA6uKoRtPfPcpT4ad5Z9fP2fmgURy3esS3LQDrYsPcXFNK3QsS77g7f0JZOrq0LBdF+q55dV28QRBEAThhiSlnWL/3r1kA0T9Q+SyP9j6wQJmvfYSew6+wNJEGUUdQteJU3ny7o40D4T06LX89N57/Bx9pfFcrkv78S/y/OhbaVlHwphwkCX/9wgf7y+cV8CwV5je4wQLX3iLBu+8SJMC6xRtV0bf15jMxaN4ZcExTGxmp6kZHT+ZwAMtV/D2YecvdpW970Zmj9iCxXzlwWDzbnJa3s637doTIe8n2gZuXr74uKmqvazOBAUF8dtvvxXqhdKnTx86d+7M8OHDiYuLK3eagiAIwo0pLi6Ohg0bOn6XJInZs2cTGxvLa6+9RuvWrYmJicHPz6/QfhEREfTu3bvGAqsZGRn4+/u7vO21Jn881ejoaFq3bu14W7mqPPDAA7z00ktO1+v1eubPn89zzz3HwYMHiYyMZMyYMRXu3avX62ncuDEbNmyoaJGvCRUeCkBx68H999Tl4GdP8tHuMIaM6Y5v0cCxXJf2D89mfuS/7Nm7k22rv+PZ9vkrNTR9YRMHDx/m8OHdfD0AkFsyfulBNjzbCIDOb+7k8NLxtHSUUsJwzwL2bnudOw0tCm3rapoAijqELpPmMH/VNnbt2cb6ea8yttWVIQQkTxqOfIcf10Sx98A+dm1cxidDXDvxaoqPjw+KojhaUEaNGsWff/7Jhg0byM3NJTc3lw0bNrB69WpatGhRaPzVDh06lJKyGy0nzeSJhof4YcK9TJ69mJUb/mb9ykXMnTWNF+YX6K0q16PDox/z87qd7N27gw0L32bSLT6oCibn0jZ1aTvufX5cvYM9+/ezZ9tafv/pAx5uWXLXi1I/uxKOZVL4Qb57+D4mz1rEig0b2bjqV75/ZwpvrcvvwSzjc/dH/LFlD/v2bGfDL28yoZ2bI72bJ3/OvJX/ELV3P/ujIvl8sJfLx9bz/+by6+rNRO05wIE9W1nz9dPce89zvPvLGjbv3suujb/y2cOtCp03rh+f3YQJE0rsIl/wX36LoCAIgiBciyTLOSI/+5WDhr6MvMMXcKfls9/xxQjY9fEkxj08g58yejN1znP09rQBbjR64nu+fSyEhIX/x+SJT/HinCVsu1j84SJx/gP0vXcG30SlULRJVQm+iZv809j/7xFMV5bl7d3Bbms4bdv6llpmV/Z1BFUBZF/q+KswXThH3JVizrnrZm5792q/1OoqqzPTpk0r9mofgJeXF1OnTq1QmoIgCMKNaefOncWWKYqCxWJxBDP79u1bLB4hy3KxsTurU3JystN12bZc1mdv5deMv9iWs5v4lASn214LqjqoCjBs2LBS1xuNRv7++29eeOEFAJYtW8Ydd9xR4fxatGjhmCOoutREzKSCPVYlPHrfx1CW8/JfMWxN2sgz7z3A0KDN/BibHwW9ctP7oJF/vvw/vjicjbqOD8aLCiABZs7OfZQpf6ShYCM7rnil2Ld1D5l3dqFL3R+JiZcAAx26tEC170eiciQGF9uj7DQdN+sDjzH3vUm8kxBAx0dnMHVOHrFD3mJd0ETeeulmsr+cwkNb08C/Ib7x19Yr4z4+PthsNrRaLSaTiZtuuomffvqp2HYbNmxg4MCBjq7akiQV68ZdkKLvyYi765C75n98E13aJFduNHnqe769P5N1nzzPnJNawgY/ywuff4H7+DF8eNjm8jaNnvieHx6ysv2rV3nmQBrW+kN47vU+3BQEFGu0Kv2z25B1tZ3AfiwBZK9+gW9iSu+daj6ziq/m7yOeYLo+PJVnZ+dwdvDbbMiWaHlbLxqff5/pMw+TpvJBOpcOuLtwbNCwY0caHHuTqa+cwuh9E6OmPcvLz+1j+afv839z8jD0fJpXnnmPZw7cxWt7pHIdX77vv/8egClTppR4bF988QWff/55qccvCIIgCLVNOn+Y6EwNgyJCUbybMX6kF3tmTuPTtfYeqtEzI+i+6kHu7PAW6/b14+EHgrn4zUBenBvP1fBlCc2QNhtO35L3CyCAJA4XeMaSjAkkpKnoUMcPSHde4HLtq6Xe8Dd4puVOvn1wEynOnoOqq6xO5L/+X5Lu3buXOz1BEAThxlXSJNkPPvgg06dP5/3332fz5s2MGTOGDh06oFYXDkMFBwfXVDGJiYmhU6dOxZZftMTxRcp8MmxZjmU6Xw0qfy3W5Np92/Xpp59m3Lhx6PX6QssLTmRlMpn48ccfKz0ubFhYWJnb/PLLL6xZswZJkjhx4gShoaHIslzuyb4kSaqReYBqImZSscCqHMad99xCzp/vszUH8rYtYlnit4waGs78L85jAWyGsm9685LOcPJE0pWbSKlY/1nzzo1st0ylZ1cPflyeg82tG706Wzn06b+kKSWffGWlqXjfWerN+lqjH/5SGtG7dnLgiIUSonu1zmazOVon9Hp9mbPouTwGRWAjGhvMnDgYTWkpKl79eeje+pz/ZiDTF8RjBXbuuYiuyVKmjO/Ghy9sdWkbm+cdPPRACAk/DOaF786TB9j8mnKfrW+JPTTL+uw2bC56LBZOHj5K6fPU2ciOXsfqzaew8C//JjWm5y+3c1uLt9iwWwJs5J7Yxj//nrpShyWXju1KiTGe3cOO3aewsJ9zoXfR7+EjbFqygW1mCWW/lvZ3z6ZbhyDYE1++4yvA2YVCBFUFQRCE64v93kYJb0ELdw/C3tzOnjfy18moNFYOBHhAwza0cbvIrt2xWCo1D6uEREV7e7i6rxvBIz/iuxd8iHrxYb4+Ud35VY3q6AUjCIIg/HeV9L0xYMAAWrVqxcKFC1m1ahWRkZE899xzPP7444W2s1qrcnT10h06dKjYMpui8FPab4WCqhISgXXqkvFAA5Lm1O644+PHj6dHjx5kZzufN8jDw4MtW7bUyIRbeXl5qNVqRzBVUZQKBVbDwsIcE1FNmjSJv/76i3PnzlVHkas9ZlKhu1Gl8QhGtTrIHytOYAakvD0s/+M89QcNoZP2ygl15aZ37+5YSh52tmxS2t+s3qmh/e3d8JNA7tib23TbidyY5rxFv6yyX7lZv/nN7ezZu5e9e/eyb9Vkumg8qBPggbx/AV9FBTLy2xXMe308d7XwqtwMX9UgKyvLMcueSqUiNjaWPn36FNuuW7duJCUlOYYBALhw4YLzhCXJHtAsdkKoCZu4hI0LJwCgRLSmtd7+2TougdbT7N6TgqZ5a5e3sdeRS+zccbbYK28lKeuzK/FYlHK2mlw6zwWbP77ezh8oXDq2YqwkJiRidffDX29PW7JcJiFZhYfBs/zHV8T333/P7NmzHb+LoKogCIJwPVHC29LGYOH8mfOAhGRLYMMrwxgxYsSVf8MYOng4/1trBGSnQ+SUS0oiidQhoOCIT7q6BHpbSUlMqYJ9tQSNmMPcF/zY9b8JvLIpvdD9q87TgKfOxdffKlNWJ6Kiopyu27p1q9N1giAIglDUpUuXii2TJInQ0FCmTZvGm2++ScOGDVmwYIFjrph8iYmJNVVMTp8+XWiiJIBYSwJxlss08YrAW2tALakZHTGEtLwMtM08kHWVacStPJ1OV2pQFSA7O9ulSbnK4kpg84477iAmJgar1UpwcDDJyclOJ5sqzdmzZx1zBGVkZHD+/Plyp1Ee1RkzqUDMUEfLoYNorg+g1coYCrU12IYysssXRG22UiU3vUoyW1dHkTNjIH18t3GyX098ds0gMkku8W0v1+TfrD/Cp9EFTxAbxkQjUl4Myyb1J6rLMO4d9yAzFj/M+E8fYtS3pyp7NFXmwoULNGnSxNEqtGDBAqZOnUpubi7bt28H7JMP9O3bl4MHDzr2kySp9Mp6+RznjWpub94EHYcK9fRUu/vh7+een5ILf34XtpHVqLBgcbmBqvTPrpCEs5zLVdO7hGMpjWK1YEGi9GunK8dfnMVsQZFUqOQreyt5mC321h1Huq4eXwm+//57x8U0/wIlCIIgCNc6RRPOnZNH0TpzPW+sS0OyHONY3ghahipc+vNMscZX6fxRjuYNo0On+qgPxFe8Af/iPvYlT2Dgzc3QbTmBCVB36Eon9Vn+PphKaf0PXNlX02kan02ry94XH+TVf9KLdQp4asV2Rm4aQ5c3yp79tTJldeajjz6ic+fOeHl5FVqelpbGBx98UO70BEEQhBvXoUOHSE9PLzR296JFi7BYLPTs2RONRgPYx1Qt+kZtSeN9Vxebzcaff/7JhAkTHMusV7pLnc26yNMtH0GFzPcnFpBhzrSXVS2DqaJd+ypu6dKltGjRArC/9n/kyBHH5FUV2c4Vy5YtY/r06U7X6/V6nnnmGaZNmwbYeyVv3uzk1dpyOHz4cI28LVNdMZNyB1YVt+4MGeDF8a/GMmN97tWXkqQAer7yFY8NuRXfLZtJKeOmN9co4enliUxSKb1PFXL/Wc5q45sMGjyY073MbH9rE4n5w7RWIE3pfOk36/Zss4nd8TOzdyxn1QvLWXzfcPj22rnBjI2NpVEj+2RciqKQnJzMu+++y8CBAxk0aBBgD74uXLiQxo0bF7pwLV++3Gm6Uu4W/vw7myF3PsZ9vzzFj2dLrtjSmcMcNg2nQ6cgVAcS7JchVUM6dvDDcjTa5W24cIpTtsG0b1cH+WCy88/sSiDSpc8ufx/jFv7akMXQux7j/l+e5oezVXchdOnYKpJuOY7PGRFQFQRBEK51il8TOnXOIlfjiV9Ye7oPHcWghnH89eLbLE+UkFjFT8seYd7Dc5ht/YYl+y5jdKtPU+9T/L4ymszUVcz97RF+fvwLPpC+YvmBFExeIXhdXMm6Y66HWaW8HSxeeIrRj73Jq+fn8HtiUwa/cAc+u15hQUzpgcoy95WDufPxUYTtfYe344Jo2jzoysEbST17hgSTxIUDu9l3LqvUfKqirM6cOXOG4cOHM3XqVMeYqlu2bOGDDz4gPj6+QmkKgiAIN6bjx4+zbds2BgwY4Og4dPr0adauXctHH32ESqUiKCiISZMmodVqC+3boEGDGi3rhg0bGDp0KP7+9tdAGqgDMcgeZNqy+fzID3hpDCSb7PPsmGON2LIr2oRbOfnBUme/l3c7VyxYsIAFCxYAEBQUxPz58wkKCnKsNxqN3HPPPaSkpFCvXj3GjBnD2LFjK5wf2IeCOHr0aKXSKI/qiJmUO7Cq7TaEO7138dOyPRyJLXgjJ5MYeZQnJg1jgN8mFiaXftMbc9zG43c+ztiDvxEthRCYEsnK4sNdIGX/w29rclgweSqtUhczZbMJxUl/QVfSlFJLv1nPCO7L/Z3zOHn8MlmaBtzSyBM5/dqavCoxMZGTJ0/SsGFDR1Q/OTmZefPmAfZgq4eHB3379i0UVF2zZg1JSUnOE1bSifrkHZZ3nMmUn+bSeP4S/o65TJbsS4umbo6/upSxhh8XPsLCRz9hZs7nLDupIXzwFJ5ufJgFb21zeRs5ZRUL1zzON4/P4uWcb/jrjIrAnnfQSq04RrZNTVdR9+aB9Ar7kQ3nynjQKhgHVjKImvMOyzu/xXPz5tL459/YdDSRLNmH+s070vji17z75+UK/f1dObYKpVtG3cwUw50JgiAI17ms1HRyuzzFZz+ALS+LtLiTRO/4guf/9yvrz+Y3KWZy8MPxPJb6Ak8Ne4VZk9yRM2M5vfY9NvwJmUoWh2c/xMS0qTwz6k0+ekqLLeUk/3y4kXXH0spRGjMXf3ySyW4z+N9Tn/K1Wzpn/5nFU2+v4KytrHdTSt9X0bakTUs1eq+X+alHgd2sx/j5vmG8GyOx+LmHWFwjZXUuLi7O6WQOgiAIguCq5ORkFi1aRMeOHQkMDARg8uTJDBgwgNTUVLRaLfXr1y9xcqSir+ZXt9zcXL788ktefvllANSSmvu9hvBd2mKMVhNGq32oAsVkI21B8SEObhRxcXFMmDCBefPmFZoEPSUlBUmSmDVrFj/88EOlx0U9ceIERuPVN3QVRSk2wVk+tVpd7rFca0K5A6s9BvfA9+AbrI0v2jpuI3HDWvY8M5HB/fxYuDCt1JveTR+9yYK3JjPxo4Hoss6w87OdJQZWwcjhpcs5PPohAn7/la1G5zePrqVZ+s16ln8Lbnv4XqaEeKGzpBEXvZYPX/m5vH+manfkyBH8/Pwcr2/lDxqcH2ht3rw5BoPBsez8+fMsW7aszHSlhBW8en8cBydOYOSo6fQLdEdjziA57jRRm/J7Y+Zy/NNHmJj7IlMmzOJrPxtpxzYyb/J7fHXI5vo2Sgo73n6Ml4xTeejJjxnmlc2FQ5cxKzasVzZZ89V87pgxlhdHrmfDrONlPGgVOZbLK3n1/nj7sYx4kTsC3VHnpZN4ej/bf6nM+COuHH9FlPUgWYmkBUEQBOEa8M//utHpf2VvJ1kusfPr5xj7tfP1u755ljHfuJavZF7H291vKr7CFsvOzx5nxGeFtnYt0VL2lfLWMrNbK2aWuGMZvWGro6yCIAiCUM22b9/Ou+++y/Tp0/H398fLy4sOHTqUuo/RaGTxYtebGavKnj17WLFiBYMHDwagjb45U/0fY+7xRZxLv4A1IY/M1ZexJFbkPdKqceTIkUK9T48cOVKp7Sri3LlzPProo8ydO7fQckVRePXVVzl58mSl8zh8+HCh3zMzMwkJCaFVq1bFto2IiCAzM7PSeVY1KSQkRIRrrlMajYamTZsSHh7uCKgqioKnpycjRoxw/L569WqWLl1KTk5ObRbXJbaGz7BwSV+OPnwXbx6o3UGiBUEQBEEQBEEQBEFwjUqlolevXowZM4Zu3bqVOqGS0Wjkjz/+YNasWTU6gVU+WZaZNGmSYyLwjRs38tlnn12TPSJrW5s2bTh0qMSekFXuiSeeYOzYsSWOvZuens78+fP58ssva6QsrhKB1f8ANzc3mjRpgsFgwGAw0L17d7y9vdm9eze7du0iJiam7ERqhZqwOx7gZvkk5xIyMXs1o8fDzzHBbz6PjPqCXSbRC0MQBEEQBEEQBEEQrheSJBEYGEjbtm3p0qUL4eHhjpntmzZtSmBgILGxsSxevJjly5fXSlC1YFkHDRqEJEmsWLGiRiZQEv57RGBVqD2SH7c8/zn/NzCM+n7uqHPiObVrBd/P/po15621XTpBEARBEARBEARBEARBcEoEVgVBEARBEARBEARBEARBEMpJDGIpCIIgCIIgCIIgCIIgCIJQTiKwKgiCIAiCIAiCIAiCIAiCUE4isCoIgiAIgiAIgiAIgiAIglBOIrAqCIIgCIIgCIIgCIIgCIJQTuo2bdogSVJtl6NCFMX5vFsF1ymKwhdf/VATRRIEQRCqmU6nwdPDHa1GjUajRqUSbYTCtcVqtWE2W8gzm8nKysWUZ67tIgmCIAiCIAiCUA3Uer0eWb5+HkoVRXEEgp0FVosGVW02W42UTRAEQahevj4GfLw9a7sYglAqlUpGpdKi12vxMniQlp5FalpmbRdLEARBEARBEIQqppZl+boMrBYMsDpbXnCZIAiCcH2rX88fnU5b28UQhHLz8fbETa8lNj65tosiCIIgCIIgCEIVun4iqgUU7ZFa2s+KopCbm1tzhRMEQRCqnK+3pwiqCtc1nU4relsLgiAIgiAIwn+MI7BaFb06K5KGoihl7pe/TUnbldQjtWBQFSApKanc5RIEQRCuDVqtBh8fQ20XQxAqzdfHgFajru1iCIIgCIIgCIJQRRyB1ZImsCoaoCxrTNOir+aXtk9J+Za0bdFX/isiKyurUvsLgiAItcfL4F7bRRCEKmMQ9VkQBEEQBEEQ/jPkgj1BnfUMzQ9sFp00Kn/bgsudvZpf0u/O0i9tm6LpldVbVVEULBaL03QFQRCEa5tG9PAT/kNEfRYEQRAEQRCE/w65aLAUnAc4C/ZMLennkvYtbdv8NIsGY531XC2qrHLm/2+z2UrcThD+q6Jjomu7CIJQZdSq63I4cEEokVy5l3AE4Zoi7jeE/wpRl4X/ipgjMbVdBEG44cgl9U4trRers16pztYX3K60nrGl/V5WekXL4mwfQbhRHD16pLaLIAhVRq0WPfyE/w6dTlfbRRCEKiPuN4T/ClGXhf+KIyKwKgg1rtjTalUHJPOHCqiqybFK66Xq6piwVSntssT8mQbSUlSoFFCu/EWlHFDcQbKAzQKe/jYefCUDvyAFRYFKDhsrCIIgCMINICIsyPnK/BsKBVCsIKsgNxE2vQInfwaVJ2fu2ldjZRUEQRAEQRCEG02NdAOqqgBnWZNYVVUA1xWKDSQZTu7XsH+vB0qCEcmqQtFJSCYFtBKKBJICitWCFOzO8V25dBmcZ99XVSPFFITrym/Ll+Hr403v2/vUdlGE/5DAT7aiVklcmnxrbRdFqEa7du/B0+BJi2bNarsoNUfCHlxVbPagaupJWD0JEtaBLgio/Bjzi5csxsPdg7vvurvE9eK6LdwoNm7aiEajofut3Wu7KNecAwf2A9CuXftCy8+cPYunpwd1AuoQFxePVqvF39+vNoooFFBbdfngoYOkp6fTo3uPGs23NlksFlQqVaUn4xYE4dp23QxcV9pQA2UNGVA95bH/LykgZ9qQdVYkrRlJnYekNYNiQtLnIbnlocKKKlNByg9jXyN/9RmvvcLcn+bWdjGqzMlTJzh//lxtF+MGUH2NF7t37yIuLq7a0q8KzurZtXI+nT59mgsXL9Z2Ma4pGXkW0ozX3ySG0TExnDx5qtjyCY89wYcffVILJSrMWflqy+kzZ8hIz6jtYtQcRQFFuhpUTT8Lf9xnD6rqG4BipipuOGKio0lKSnS6/nq4bl+rvvrmK1avWV3bxRCKcPY9v2nTRk6ePFELJaoeVXnfvGvvbs6cO1toWUZmJlH/7iA7MwuA9PQ0YmIOi0mFa9C1VpcPHTrIlq1bajzfmnhGzMnNG47ybwAAIABJREFUwWg0FltusVr/M0MUvvXuW7z97tu1XQxBuCbV6sB1kgSNG9p4bJyZ3/9Ss/Vf5904y+qNWtMXrPxGJwWw6SSkdMAMikUCXwVrEkjm/G0VVIo9CAtX/i9Ho5XFbGbK1OfRarW8/+77yHLVRGbrB9UnIKBOlaR1Lfj0s8+4rddthIaGlbntxYsXmf3xbLp27caoESPLlc/mLZvJyMxEq9Gi02nRau3/NBotOq2W0LAwcrOzsdpsaLUaNFodWo3mOhgnUkGTcwz3jA1o8k5jkzwxGm4h17MHyGrcMregz9iGypaORRNCjlcfTB5tbrju187q2bVyPn397df06tmLkODg2i7Kf9rZc+f45rsfOBQdTW6ukbp16tCubRumPf9clfVKePnVNxh01500btyo0PKw0FCC6tWrkjwqw1n5SmI2mxl13xh0Oh0L58+tsu+xG5okgc1m/9+SC+umQOpu0IeALfeGuzZfi2Z/NBujychLL75U4vo6AXXw9vau4VL998396Uc2b92K2ZyHRqPB29uLFs1bMuiuQQQFlTK0xhXluZ+8nlX3ce7btxd/Pz/CIyIAaNKkCYmJl7kUe4kwJ3mmp6cDynV071y9bqS6fCn2EkuXLuHEqRMYjSb8/Pxp1rQpD49/uNL3Va78HZYuW8rBgweRJHBzc8fX15fwsHBuvvlmfH18y8zj3Plz1PGvg16vr1RZr2VHjx6t7SII/xGvv/mG03WvvjKj2vI1moysjVxLv/790Ov0Lq9zRa1+WzVvYuXJhy3UDVAY2NtC9FGZ1HTnY6iWFFwtT+/VqqQo9tiopAWMNtBK2CSQULAlgcYd3v5HR1yCwsdDTChqe6eSgvu66p+tW7BYLGRlZ7Fz1y663HJLlRzD4489USXpXE9yc3NZ//d6Vv65kjyTqUJptG3bFqvFiiRJJCUlkpKWRtMmzZBkkCUJrUZDLvYJdzw8PJEkyaUgwpQXptC8eXMmPjKx0PJvvvuGo0ePMvvD2RUqr0tsNjzjf8c35V3UeVd7O3ql/EJK/ZfR5kbjmfIbku1qS6wheR5pvs+RHjQGSXVj3/jCjXk+laZW63M1M5lMPPv8NDw8PHj80Ufw9vYmISGB5JSUGnnVa8b0/6v2PKraX6sjMZvNpGdksHHTZvr0vq22i1Quo+4bw03t2/HS/6YWWv72ex+wb/8Bliz8udryttgUJEAuoWpJKPYAavQiOLscPERQ9XoyYviIWsn3v3x9BkhJSSUoKIhxY8eh2GxcTrzMmrVrePX1Gbz5+psEBtZ+w9R/XXZONqfPnKZv76tDhKhUKoJDQrl06RKhIaFOvy9lWYVOq732751rwI1Sl/Py8njv/fdwc3PjnpGj8fQ0kJycRFp6Wo29Qp+alkZAQABDBw8FIDMzg/0HDvDbb79xz8hReFVzI9h/vS4LwrUgMjKS/QcOEJeQwLgHxzoCqEaTkZ/mzSc+Pg4FhSGDh5Q77VqLhjQKs/L6C6YrXT8lmkTY6NnVyh9rnBepvMHSmujFqpgBjYRiUpCQUMxXXpQ2KISFSqhVXB03oCLpKwqrV6+if7/+JFxOYNXqP4sFVv/9N4rlf/xOYuJl3NzdGdBvIHffdVeZ6159bQYRERGMH/eQI61t27fxx8o/SExMxN3NjQD/AIYOHcZN7W8CYMGiBew/sJ+M9AxMeSaC6gUxauQox3rHNvv3k5ScjEqWaBjRkJ49e7F1+1ZOnTqFLEl07NCJh8aNR63ROPZbv2E9a9evIy01hQYNQrhv9GiaNm3mcr4Ay35fxrLflwFw3+j7uHPgnYXWb9+xjZ07d/Lk45OY/0vFHoR9vH0cP2dlZ0IaGAyexbaTJKlcLe0dOnQgcm0kgONL9ZvvvmHL1i3079e/QmV1le7MZtw3vIkckoA5rAkmjw6ozAlItlx02bvwTP0DFBtWbX3MujDUeXHIcedxi/oAU4+6mJrfWWYern6GBS1avIi9+/aSnpGOxWwmJDSU0aNG06J5C6f7lFbnofrqWdHzqTbPg1VrVrP+7/XotDoG3T2Ibl27Ffs7nT59ipiYGKyKDTc3d8JDw2jSpInjBjY2Lg6T0YisUqFWq3DTu2EweKLRaJ3+7Quqzfrsih2X0rmYacJLq6J/Q/9y7Xvm7FmSkpOZ+vxz3Nq1i9Ptlv2+gqXLlpOUlERERARPPv4obdu0AeCzL79i+44oUlPTyDUaCQ0J4bFHJxRL74ef5vHDT/MAePLxx7hv9CgeeWwSzZs15YUpzzrS2rY9ioTLl1HJMi2aN+OuOweyZu06omOOIEsSPXt0Z+qUZ9EUqGvVVb6iFEVh4eJfuWfkCC5eusSCxYuLBVZLyu/xRyfQrUB+W7Zt58+/VmE0mfDx9uaWmzvT/46+qFTFg4i7du8lMyuT3rf1cixLTU0l4XIiTZs0xmTKIy/PhFqjQafVlnmt7n5rN5b8Zj/n84Orb7/3AavWRDJqxPBS960sdYGIqtWmIEtX3uKx2VAkGSkvBw7+CBoVKHkVCqqWdd105G+1MevjD0lPz+Dl/5uOm5tbiemVdh3bum0rvy1fSnp6Bm56PT2692TUyFGOz/GPFX8Q9e8OUlJTsVqtDBk8hEF3DarQd4iz4/ruh+84cuQIsz6Y5dj2wMEDfDj7Q2Z9MIu6depW+BpeHl9/+zUhISHcOcD+Hbp9x3YuxV7CZrMhSzJ+/n60btWawLqBhfZLTk4mIyMDSZbx8HDHx9vHcW6XNtFrvmvh+rz28n4+ObWCIxkXaeDuz8MhfXkovI9j3ZvHFnMpJ5kG7v680mw0/eq2LyPFwjzc3WnapAkAzZo1o02bNjz1zFNs3baN5JRkjh0/xqz3r37+W7Zu4fsfvuOLz74EnN9P7tu/n737niYrO4t6gfVKrIObt2xmxcoVpKSmEFSvHvfecx9trlxbofz3Q2Wdn2Xl5+ycKu04SzuHFUVh9ZrVbIvajs1qJTQkjJycLAL8Axx5nj9/HlmSadCg8Nsz9erW5fz5c2RmZuLl5VXi8cqyVOJ1vSSiLl9fddmZS5cukpqWykPjHyp13+qo6wW56d0IDQ11/B4WHs78+fM4ceokJpORlJS0QudeQkI8p8+e5eZOnQH7tTkzMxOtToufjx9u7vbvSJvNVmZDwbVQl4Wq8c133yAh8egjjzpd7+HuzgP3j6nhktWu/F6qBXukFvy5tF6sVaV///7EJyQQHx/HT/PmM+7BsQCOoGq9evXo379i51utBFYNHgoPDDaB1QYqFaCAojBigImEBIjaV3XFqpHgKiDlKShmCUWrIGvAFA9jO+VeDbQWH3LFJfsP7Cc9PY2+ffqQkpLKS6+8xPHjx2natCkAyUnJfPn1l/TvN4DOnTuTk5ODXu9W5rqSrFu/jp8X/MzAAXfSulVrTCYjX339JZcuXXJ8yR07ehR/P3/GjRlHnjmPdRvW8ennn/Hx7I/xMhgc2wTUCeCh8Q+Rm2vk1yWL+frbrxk+bDgD+g8kPi6WhYsXERoaRv9+/QD4a9VfrPxzJaPvGU2D+vVZv2EDH8z6gA/fn4W3t7dL+QL07d2XPldax318fCiq9+196NO7L0CFA6uuKm8D65j7x5CTk1No7KEtW7fQo3sPxlTzhddtz49ISQlkeXUmI3w2ZvdGSDYj+qyd1Dk/BRQbRkNXkhrMxKKPQGWKw+voNDSXt+G+d65LgVVXP8OCjhyJwc/PjwfHPIgxz8T27dt55713eHHai7Rs0bLY9mXV+ZqqZ/nHW1vnQc/u3enRvSeyLGFw8rf19fOjQ8eO6LQ6MjIzOXXqJJ4GT+oH1QfsvU3ctDr8AwKQJAmTyUROTg5eXhqXeg/UZn0uy/xD8Uxcc5Q8q8LLt4aXO7AaVC8IrUZD5Np1dGjfHje34q+LLFi0mPm/LOSJxx4lPCyUZb+v4Plp/8fiX+bj5+fL/v0HCaxblynPPI0pL4/flv/OK6+9wbJfF+JToFfEsCGDGT5kMIDTCT/27z9IUFA9pj3/HNk5OXz1zXfMfOc9Jjw0jtGjRnL+/Hk+/+obmjRuzKgRw2q8fNuj/iUlJYXhQwdzOTGJcRMe5eChw7Rt07rQMRTN77WZb7Nkwc94e9sfviPCw7j/vtEYPD2JjY0jct166gQE0LlTx+KfUVAgCQcSyMnNxf1K8C8rOxs3Nz02m420tDS8vb3Q6XQu9Yp6ZvIksrKyWLUm0rFs1ZpIBvbvxzOTJ5W5f2X8cOgywZ5aOgd54Ku3B89sioKMDQU1XNoBKVtAE2Rv7S1nYLU89wo//Pg9cXGxzHj5VadB1bKuY+Fh4YwbMw53D0/OnTvLgkULqFMnwPHdvHfvHrwMXoy5fyxWmxU/X/srmOX9DintuDp36sw/m/8hISGBwEB70PJwdDRhoeHUrVPXkV95r+GVFRsbi8HTk/Ztb8KqWDl77iz79u2lT+++jsBpQkI8ScnJNKjfAJ1eT25uDunp6fj5+SHL8nVzfc6wZDOifjdaNgvhojGJN4/8SoY1hxaGEKYe+pFXWtxDsD6AmMwLZFiyK52fTms/1/Py8mjXth1btm7h8uXL1K175fM+fpyGDRvh7u4OOP+eDwgI4O677kaWZdatL14HI9euZeHiBQweNJhGjRqzb+9ePpj9AVOnTHUEgMpTl8s6P13Jz9k55ew4yzqHl/++nA1/r2fQoMGEh4aTcPky23YUHjczLjaWgDoBxa6vbu7uaHU6MjIznAZWy/PoJury9VOXSxMQUBetRsO27dto0bwler2u2DbVUdfLotVoQZKwWCzUr9+ACxcukpWdhaeHvUNNeno6Bg9PR0OAj48Pfn5+gIKqwNt818t1WagaHu7urLkSJC8aXM0Plg8QwfJaodfpGffgg/w0b54juAo4gqrjHnywQsMAQC0FVm9qkUeL8DywSPbokySBoqDX2nj03lyysvUcPl6x1n+o2fFWHcOlWiUkHaCRwAwqHZgugWSTUMlALlCBz2jdhnV06dIVDw9PPDw8ad68OWs3rHMEVtMz0rHabLRp05bGjRoX2re0dUVZrTZ+W/YbvW/vzb33jHYsL6l3WmDdurRq1QqAhhENeerZpzhwYH+hGR7rBtRx9CrMy8vj8y8/o1fPXvj6+NKuTVv2HzjAocMH6d+vH2azmeV/LGf0qHu5/bbb7ek2bMQTTz7Ort276Nunr8v5enl5EVzK2JKuvk5iMZuxWK2O7XW64l/wZcnLM5OenlaucaLyWyjzv1R7dO9R7JWQ6qCOOwBATqMhmN3t4yUqsh5JMaGyJIKsJb3uo5jd7Z+pxS0CY/3b0BzbhuZytMv5uPIZFlUvMJDWre0BmE4dOvLWu2+xaPFC3njtTcxmM2az2bFtaXW+JutZvto6Dzw9DYXG3iqpPvv6+DrGjPL39yctNZW0tDRHYBVAo9E4gicajYasrEysVqvLPbFrqz6XZmFMgiOo+lqPCF7qVv5xx7y9vXjjtRm89+Esho++j359ejN08CAiIsIB+2f9w0/zeWLiowy+296zoWWLFgwcNJRNm7cwfKg9ENmgfn06dewAQItmzRgy8h527PiXgQOuBml8fXwc6Zamfr163NS+HQAmo4lX35zJ3XcOJMDfny43d2ZH1L/8u2sXo0YMq/Hy/bb8d/r26Y3BYMBgMNC+XVuWLv+9UGC1pPxG3Hs//+7aRb++9geh4AYNCG7QAICGERGcOnOW8xculBhYrRcYiEqlIikpidCQEACys3MICPDHZrOPy6PRaFzuFQUw/cVpAI7g6sD+/RzLqtOEdWdBLdPUU8PDLQN4skMgnlq1vW1aBuL+BQuglYHy91Z19V7h5wXzOXjoIC+/NN3peHOuXMeCg4Md18+mTZpw6PAhjhw75gisAgQFBTmucwWV5zuktONq1bIV7u7u7D+wj/79BgCwf/8+br311kLblecaXlUMBi/qBdlf7/X3C2D93+tJTEqkflB9rFYrcXFxhISEOQIDbno9SUlJmM3mct2r1Pb1eWT9gn9re0/ImUeW0MDdj4fD+zrWd/FrVqH0FRSsVht5JiPxCQms/HMFNpuNDjd1IDQ0FI1Gy779ex2f//Hjx+japatjf2ff8yHBwY7OBhFhEUx+drKjDprNZpb9/hv97ujH8KH2nuzt2rQlKTmJRUsWFepZ52pdLuu+xtX8nJ1TRY+zrHP4tl63sXb9Wgb2H8iAK3+75s2bc+LU8ULpZmVn4e1dcvBKp9WRZ8orcR2A1WohJzf3mr93zifqcvnv7YsyGDx5ctJT/DD3O559/lm6delK79t7O8pdHXW9JApgtVoxm82kpaWye89eUBTCQkPxD7A3FMTFx9Gkkb0HcVp6OvUL3G+rVKpCbwblc/X5s7brckFvvfuW0zFVx44fW+j3Fs1bOB1L/Eb0wP1jyM7JYfPWzcDV4Gp+ULVH9x43XG/Va0nR4CpQ6aAqVFFgVauycnP9FNQaiU2nAwost5FnLdxSKUvQr3M2KpsNzDLIcqGZoAzuCg/cbeSTeTLxSeV7QKiNGfcksAdNDQq2dLAZQeUJmEvYuJy9Vi9fvszhw4d5/dWr3aL79u7LV998RWZGBgYvL8LDw+nYoSOzP57FzZ1vpm+fvo4br9LWFZWYmEB2Tjbt27YrVxm9vb3x8PAkLS3V6TZ1Aux1IjMjo0AgJ4ALF84DEBsXi8lkYsGiX1i0eIFjvzyzmaSkpArnWxlr1q7lyNFox4RU4x8cj9uVll9XqdVqPD0NSJJUY+MDVVbxjk4K2BQUSY1NVfgGWWVMA8AmV+wyUtHPsH3b9iz6dREWi4Wf5v/EP5v/cayb89Ecp3W+tutZbZ4HJdXn9PQMYo7GkGvMRaPRolFr8FeX3OMQ7DeLElKlhjapbT8eiGPS2mNYbArv3taIqV1Cy97Jie7dunLL4oVsj/qXVavXMO6RiYwcPoynn3yCc+fPYzQa+fSLL/n8y68c++SZzcTHx5eYnp+fLwaDgaTkkj/r8gi6EpRJS00jwN/eGzcwMJCTp04D1Gj5YmPj2LV7D9999YVj2fChQ3jjrXdIS0tz2mskP7+UlKt1OzomhtWRa0lMTEKv16NSq2h0ZVKUotRqNXXr1OHy5URCQ0LIyzNjMpnwcPdAq9Wi1+vJzMzEw9MTrca1XthQ+OGopq7rspsamwLHc8y8uO0ikefS+b5/QyJ87L1v5aRjIHN1IPdycuVeIerff8nOyeZ/U18sdUw/V65j0dHRrFj5Bxcv2cfztlptNGpU9gRoRZV1/SvtuNRqNe3atGP33j307zeACxcuEJ8QT+crr3OWpKxreHXQ63VoNBpMRvuY8EZjLlabjdi4WJKTk9Bo7ZNoatQaR4OBK0MB1LZPTq3kk5MrS1yXkZHDkYyLxdbf4teUhZ1fcDmPo0ePMn7COMfvgXUDmfT4JJo1swe32rdrz65du+nfbwApKSnExcc5GnFd5eXtVagOxsbFkpOTQ+tWhdNp07o1Py/4BbPZXGLQpbS6XFo9rmh+pSnrHL6ceBmTyUSTK6+mO2My5TnNW61RYbFanO4ryyr0Ot01X49B1OWiKnPf3OGmm2jb+mP2HzzA5i2bmT5jOv369uOB+x+olrpekjNnTvPGzNft11atljoBdenT5w7q1bMHT+sH1Scu1h5YNRpN5Obm4uWkAeFGonD9PhtUl/yAeH5wFa72QK7tTibXkpp4/d85ycnPFVMlgdVRDc/Sv2k8S06GA/abujb1TITWsbDqcOGxJxvVN9E0MAdMKlDL9kirSnb0WsWm0ChE4flxWcz82gtJkkjLLDnf0gKpNRZktQFuYEsDtR9I7gp5F+2TbOlCJchWsKQpyM7fwHfq700bURSFGa+9Umzd5q1buOvOu5BlmWeffpaYo0dYtzaS1998nQH9BvDA/Q+Uuq6o3Fx71FeWy9/bRavRYLFYna7XaOzVzGq9+tCnVslYrNYr6+1fhGMeGEvLImNnenp4uJxvVd6Adevalfbt2iHJErKkQluBHquS5PoYUfkKtmTB1RbL6r4AW4Laojq5Hrfjf5DX/HYs7hFINiOKpMeqqYvKHItb7GpMwc1ArUdzYTu6mN+v7Fu+cZQKKqvulESWZTQaDbIsM+iuQfTs3tOxzsvLy2mdr+16VnPnQfFtitZno8nIhk0baNKoCTe1b49KVnH85Ikyj6G8x15b9bkkRouNiWuOYrEpvNGzYaWCqvk0Gg29enSnV4/urI5cy1vvvk/HDjcR3MDe6/fZpybToX3hxiovL+evxum0Wszmqw+bFa1r2it1Kb9uAahVKiwWe9parbbGyvf7yj9RFIUJJUzutmpNJPffO7qEva7kp9M6eqTHxcfz4Udz6NXjVkaNGI5apWZV5NpS8w4ObsDBQ4cxmUykpaejUqkcwzb4+vpgNpux2Wwu98LOH1N1YP9+jvIDxSa0qmq2/NsZWUblKbPxUhb3/3WCv0a0wFdrg4zzIF+ZIbMCVcaVe4WGjRqSlJTMT/PmMv2l6YXGGi+orOtYQkI8sz+eRdcu3Rh9z72o1CoWLPil/IW+orTvkLKO65ZbbmHOZ3NITU0lamcUIcEhNKjfwGleZV3Dq4taJTuCprJk76xQv359DJ6eIEnIYP9ftm9ns9lcqs+1fX0uGlz65NRKlsZup6VnMMFuAbzS/Oq1YeqhuXhpyncjHREezkPjJ6DX6TAYDHh6Fn4e6dWjB7M+nk1SUhIHDu7H09NAo4b2AH95rr0F62BlHj2c1eXS6nFlH3VKOs6yzuHkVHvALL9OOqPVagu9UVSQ1WJF7e68jsqya5O+5hN1+fqoy65QazR06tiJTh07sWXrFr757htatmyJr6/zhn9XuPp3aNCgAcOHDUen0eLu4VFsyJuIiAiidkaRm5NDUnIyGo3Gfi0GJKXyz6G1XZcLmv7i9GLL8nuqzp87v6aLc10qGlwVQdVrQ8GJqurVs3cWKDjmarUOBeCs9VslKYwMOsuQeufBAmqbDY2kMDQsi1HtMll8ysuxP9gvau3DssFkto+valWBJINGbX8YkBwZEhZk4dHh2Ry/qCcjW2bLLhmL9dprDZHk/GJLvLtOT2gwPNDOiCUO5m53Iy1d4am2uSgS5RoKwGq1sXXbZu4aeBfdunYttO7Pv/7in83/cNedVwfPbtm8BS2bt2DlXytZsnQJI0eMdLwSVtq6fPXq1UOlUnH0+NFCr1PUhLoBddDpdFy6eJE+t/eucDpubm5kZmVVSZn8/PyujJFTc35e8HOJLVlbtm7B3d29WsfXye30ENq0gxi8d+F2dgJGzw6o8xKQbFkYPTvjfvpP9FHz8NXtAJ0H6sTjSLmpWA1BZHeeUGXlkCQJWxl3c0ePHSUoqD6yLBMYGOgYH6+gkur8tVjPCqq68rmTnZNTaFnR+nz23DlsNiutW7d2jMGl1+mxVbDHW0lqsz6XxKYojgDV32dTmXJzCB6aqps5vWsX+6SC586f5+ZOHdHr9Zw5c4ahg++ucJoeHh6kZ2RUVREd6gcF1Uj5rFYbqyMjuX/0PY7X+fP9vHARK/9aXWpgtaDz5y9gNpsZMmgQvr72oJ6XlwFLgQd3SZIK9ZoIrFsXDw8P4hMSyM01OsZqzZcfQCgrQADwyWdfOIKqBV//X7UmEg8Pj2ofZ9VOwWoBN3c1UXE5fHMgiRdv8YHcJFDpK93YXtq9Qt2AOjzx6OPMfOctZs2exSvTX3EE6Atet8u6jh07cZw8s5lhw4bjf+Wa5OPrS1Y1XFPLOq727W7C28ubrdu2sH3HNgb0K3us8Nqm0+tRyTJGY67j71eQq0He2r4+j2jQjR/OruexfZ/T0iuUDHMuP55bz1c3TSJY78d9u2aRac6lgbs/l3KSWXt5H3/dOqPshAvQ692ICA93ur5du/bUqxfEP1s2c/r0KTp26OAI5lX0e75B/fq46fVER0fTtk1bx/Lo6BiCGwRXqkddSfW4svmVdJxlncN6Nzd0Oh2HDh0q1nuwIE9PD7KzSx5P1JSXh1Zb+d6FIOoyXH912VXt2tkn+YqNi6V1q9ZVXtdLotPqCg2JVZS9UcvAhUsXyczMIsDf3xEjkVUqrJVoaKvtuixUj4KfpQiqXlVw0qqaVDSoOu7BBwEKjbla0eCqI7BaNHha8HdJkgr1AM1f3smQyp1+8WCSQGXj1jpxeGUaGOCXCxkSlpyr+7gpXgTkBeOTZCR+fyZa70wMDeLQKDn2ZjG5wHirAIrETc0snL5oZWQ/Kxaziq17VdfeW6hqQFZAgguxCigSSh4gSZy7qJCeceXvqFCuoQAOHNhPenoGt992e7HAUY/uPdjx7w6OHTuGv78/Bw4dJCw0FEVROHv2LO5ubmg0GnvLpZN1Rbm5uXFH336sXrMGL4MXYaFhnDx1ilxjbqX+PK5QazTcfdfd/P77cjQaDS1btcJqsZKYmOAYL8gVDSMasnNXFC2bN0ej1aKSVeV+FaY27dm7p9iXaf7Pe/buqdYvVFN4L3LufBl96rtojEfRGO1j6iiynpR6d2GUfdBnL0GTdti+gyRh8W9IVq//YQ7rXmXl8PH14ejRI1y8dMkxluKBQwfYsPFv6gQEcODgAfbu28uTT0wucf/S6rwsy9d0Pauq8yA8LJx9+/bSrFlTdBodKrWq2Gu9/r6+yLJMTEw0EQ0boVGpMOXlOXpkVYXarM8lkSWJGd0j+GLPRTadT2XaxlPMuaMJqgr0Cj1+4iSLlyzl5s6d8PfzIysriz/+/AuVSkWH9u3RaDSMuf9efpw7D61WS8eOHbBYLMTGxnLPyBEu59OieTP+3rSJDu3bodPpUKlUJY4nWl41Vb4dUVGkpqYxZNDdNGhQ+EHlzgH9Wf/3Rg4cPES7tmU35oWFhqJSqVj51yp63NoNrVZLdnY2Ou3VccDd3dyJi08gPSMD7yuTooSGBHPpUiySLNOgvr0MFou2QPNlAAAgAElEQVSFvLw8tFqty71YtmzdViyomv/zlq3baiiwKoEEuTYFtDJLT6Yypa0nWlkFSsUf5ly9VzB4efH8c88z4/VXmffzfB552N6oVvS6Xdp1LCQ4BJUs8/sfy+nVsycajZaMjIxy9U5zJtdo5KWXX6RF85ZMfGRimcelUsncdttt/LFyBYoC3bvfWkYO5cs/X3ZONtHR0fbbW0lCJavw8/ejTkCdcudhb1Csd7WnlIcnkiyj2Gy4ubujkmWXHuxr+/ocrPfnr1tn8MmJlUSlHCNYH8CCzs87xqBc2Pl5fjz3t2Pdws7PE6wv3ySDrhjQrx/Lfl9GTk4uzz/7vGN5Rb/nNRoNw4YO59elv+Lu7m6fYGf/XvYf3M/zz06pUBnLuq+pTH7OjrO0c1ij0TB86HCWLV+GVqejdctWSLJMbnYOFPiIguoFsWvP7mKzoefm5mIyGvEylDxxVXmJumx3PdTl0pw9d441katp07oNPt4+5ORk8/c/G1GpVLRs3rLS5anKe/dGjRpx6vRpJKBhRLhjuZubnsysTDwNnsiyCpUsOxogXVHbdVmoPtdKQNXV1+6rO+jprBw1EWyNjIwscaKqgmOuRkZGMmTwkHKnrYarPUoL9iwtqOhr9YqioJFhqFc8bjbArAIjhOgzadD2ICq9Gixe1NdrUNv86ZB2NxHG9ugkPbbNEge3KiiyGcktg4j+q2nYez0qneVqYFW292TVqBSG9zKy44ie0QPy2LFfj8Va/CGoVsZWzS+GGcerWB8PzgNHQFrhpW6mKxsrqNX23q2F9i3F5q2bCQ8LL7k3XstWeBkMbNq8iT69+7Bu3VouJ15GrVIRHBzCs08/hyzLpKWnOV1XkntGjgLFxpq1q8nOziEiLNw+rqJc/WMcDR08FC+DgTWRkaxdvxZ3d3dCQ0PLFVAaOWIkKakpfPH1l7i5udGnd5/rKrD60Ycflbi8Ri7GskxW8AjyfFvinrEOTd5ZbCp3jB5dyDH0QumhwRg+AM3FnUjGLKz+4eSF9cLqF+FahXbRsCHD+OHH71kTuZpHHn4EADe9O39v3EBcXDy+vj48PvFxutxyS4n7l1Xnr/V6VhXlGzx4ML8sXMDPC37By+BFty5diwVWDV5e3NqtO0ePHuFSXCxarRZPdw/ql/IabHnVan0ugV4t82r3cP6fvTOPj6o6///7LrMlmYQsJCGBRAiYAAECAoqC/gQFhVZB+61LrVqkWhX9Vty1bu23Ql3g+/OH1YpStS7YagUrKCgoIoKgrEESIUACCWSbkEySWe+9vz8mCUnIPpME8Lxfr3llcu+553nOuefemfnc5zxnTGIEv/h3Ni9vK2RkfAS3ZbUemdAaqqrg9Xp56ZUlHD9eSUR4OGlpg3huwdNkpAcWFrz51zfQJyqK9/71Af/694dEREQwZHBap4TLW2+ZTWlpKU/+z9OEh4cz68qfh0RY7Sn/Vn6ymrOHDD5JVAU4Z8wY+kRF8Z+VqzokrCYmJnD7bb9l1aef8v327VgtFmJiYhoW7AIYe84YNn37LTm5uZw7LpArs19iIocPH6mbQhmYrqdpGjU1tbjdbixWK9YOpHp5f1nL09V7YvGqkzAAWWKb00O+08cQmx1q/I1W0+wcnfmuEB8fz0033sRfX3qRsWPGkJU1+qT7dlv3sYSEBG6/7XaWf7SCjd9sRAIiI6MYN6713KZdpSPtmnzxZP7z8X+YNHES4WGtp1wJhoKCAhY8uwBVVTGbTJjMFqZeeilX/OyKLtXXr18/zOaAIF1TU4vNasVms2Gj4ymIToX7c39rLM+OuLnFfcMiU1rdF0omXjCJf33wAVFRUQwbNqxhezCf85dfdjlWq5X/fPwfln+0nMSERO79/byG6LvO0t44DsZea+1s77vI1EunEhUVxefrPmfzls3Yw+3ExEbTv9F3iJSUVDZv+Zaio0cbHpQDlJSWYjKp2CNDI6yKsRzgdBjLbaEqMj6fj/f+9R5Op5Mwm40BA1K47577GFiXS707xnpXSE1JZd/+/dhstiYpChITEik+doySklJsViuRkfZOCaunwlgWCM50pk2b1vC3cVRq/YJWq1evbijTWaSrr77aaCtio3m0aoNT4Q7m9M0Hsx8sfjBrgb82HWwyWFR8ipWv182m+odfoeg2VCQUI/DdX0fHp+v4dDd9hu5hzK+WEtmvFBQlIKzKCqCALlNWKRMbr7PyKzNvfHTiB1BzQbjx38bvd+/ezdovNnapg1pD1wIufr/azMsPRGNoLgyrhKEZyK66PguTAhkOqg2kqDBu+aODc6d70esCdE913G4Pv7vjVn4751YuOD+4SA5Bz/LBv9/n6qt+0dtuBM0TTz7OwIEDufmm3/S2K4JeZGBqv/YLtYHt2S+RJYma+y4C4E8bD/H4VweIsCh8/IuRXJTS8grngjOD7Tt2kJCQ0GTl3t7mYP7RDpcdtLKFskZARf3q5wOZtO0WOPghWPoRSPzezNaM7V13VCBoh9P9+8ZjTzzGuePP42czZrRfWNApvvjyC/x+P5decikQSLuy8ZtvGDCgP2elntW7zrWAGMvdz9vvvEV+QcFpv4L8ho0b6J88oM0UDb1Jd43lPy/4M9By/lWB4KdOu/M+WxJVw2SDX1pKA5GqkhFYjVYi8B4CCygYfkwWN5MufJu94eEc3PFrDD0wXUnWDSQkVMkgfnw2ft3NjmWzyPqvfxOZ6AClcZ0QZwdDM5h6vpvl68xUVve+KtkoYwG6XcYoVpBqFegjYXgNMEsYbgKLquNHsksY9Wt+6EDoUvuFjO++/w5D14mJiaW2tpY1n6/BYrUyolEuG4FAIDjdiDSrNA6+e+C8FLJLalh1sIy5a/ax+aZzQppvVdD7HK+sRJFlCouK8Ps1EuLje9ulEGOApqOpYRAzGPIITIsJYZ5kgeBMpaAgH0mS+eLLL6iuqebSSy7pbZfOSM4ZPYaPP1nJofxDnJV6Fvvz9mMYRpPIVkFwiLHcczgcDmRF5lB+Pl6fj5QBA3rbpR5HCKoCQeuorS1M1RZDZReRulEnrBLIMaoqgBFQHDUNvDrgQ7VUMmLCIhIHbWb3N/dS4zgLvCZkPZCP1FsTxchb3icsthj/cRl8Bvjr6pSpe0mgSZhVnVHpPr763txqtGpjGkeuhpr6af2Ds3xkjanhuENBMTSMOqlaqgUjDCQ/6H6IiK3l7HG+Jseeahw6dIiN32yksqqSsLAwBg0cxKMPPUKkvfVVogUCgeBUp/i/m+YBtigy780a3kveCHqC777bht/vo2/fvgwfPqxD06NPLySQdaLCLdC3LpXCqZaDXiA4Rfnbq0soLj7G4LTBPHDvgyct6CoIDZFRUZw77lxs1sDK6uHhEQwbGovaAwsf/VQQY7nn+GbzN7hdbhITEzlv3Pgz8HuFQCAIBumqq64yOrtowLXqca62lAam/5v9kOiCZD+Ey2BTQZYDUZleH3j9gUhWVcYnx3LMMYXvVj2EXmtB0nUMrwdbdD7n3/V/6TPgcCBnaZUMhgKyCooMioIRroFs8PHXFt74+ES+kvbSARiGQXZ2dshTAQgEpzKn+3QmgaAxwaYCEAhONTqTCkAgOJUR3zcEZwpiLAvOFMRYFgh6ni7FTsZoGnjVQMRq/csSED4xDFCkgMAaFwFnxcGQJEjvj2lYBFI/hSrdjstkwq2qeFQFR2ki25f9HN1lgOEHVQO3BG4CLw+BejWZ+Cgds9p6WEZno28FAoFAcOqihGC1cIHgVEOMa4FAIBAIBAKB4Myg3RyrzbFhEK0BKCdyqhbbwAwk+cCug6LVTd+XqShPpKLmLGp8/aiu7k/25v9CM5lQZQ0ZHUmWMGSJowdSKM9LpO9Z+YAGbjMgBSJWzSAZPgyvFYssoyhSIF1AC3Tn9H+B4HRh6NBh7RcSCE4DzGYxZVBw5mE2m3C5Pb3thkAQNOL7huBMQYxlwZmCGMsCQc/TaWFV1SVMbhlMdTlV68kPgzI/xPthqB+P38xX237JrgOX4SEBnxGDKplQDQWzCqohocggSwYGOp7KCJzFdvr2q1NMtTpxVZHAVJeo1AWmQFYBoOW8qhCIWhXiquCnzDDxgSo4QzBbhLAqOPMwm1UhrArOCMT3DcGZghjLgjMFMZYFgp6n08KqZoDPr4Ih1x1eN/XeqHvJgM/Lhm0X8+nWyzHC7Eg2CclciyKbMaFiNmQsEpjQkA0NyfCj+3Vqyqzg8YKugk+HahnMMvSrwXDLGLUK/loZvZ1Fb4WoKhAIBKc/kgSREbbedkMgCDl2exiVVTW97YZAIBAIBAKBQCAIki4IqxLu6jAIdzVoqgFRVQJdAqcEHoNvd42ixucCTQJNRzL8KIYXEyZ8yPgNsOg6quZB8nsxNC+qXAXVgCaDU8aoUSCyFsnwQ40VaiU0l4QudFOBQCA44+kTZUdVO/0xJRCc8phUleg+diqOO3vbFYFAIBAIBAKBQBAEnf7F6lMMKlzhYKqsE1O1wN96YVWXoNBCUuJ+9uUkYfh0MGlIPh+KYsaHiqYpaBpofh2zz4ficxNuLiPS5IDjCugqRoUFQ9aRbbXgBsOlQK2Mq1rC10p+VYFAIBCcGVjMJvpERfS2GwJBt9EnKoLaWjcer6+3XREIBAKBQCAQCARdpNPCqi5BgaTic4ZhstfWpVmVQOeEsPqDnXMHfsfmgyNwegyQNNB9SKoJk6RiaAqGB/Do6F4/Jo+H5LjDxCjlcNwUEFbdMtIAB/g0MBSMShOST6KwXMLfSioAkQJAIBAITn+iIsOJiY7sbTcEgm4nqV8cjooqkRZAIBAIBAKBQCA4TenSHMtDUT6O70mkb1p+XbSqdkJY1STQZM4uKWfK2RtZvmtqYCEqrxfdrOKVVdBkJK8EHh3DrWH4NS4d8R9sNRrUmMACcnQ5aECtjCHLGBVmkBX2lZ7sjxBUBQKB4PRFlmXMJhWTSSUiwobVYu5tlwSCHiMmOpKwMCvV1S58Pj9enw9d5DwSCAQCgUAgEAhOCzotrBqGwcE+Hsq0aMKPRxIW5WwUrao3vNQiiV/234iULrGu4DwqXXYkrw9kCb8hIfslZC8kmsuZMWQd/eViqFDBBli94JFAl8EkYXjNGMdNOBWZHEdglazOiqkDU/t1tqkCgUAgEAgE3Y7VYhYPFAQCgUAgEAgEgtOQTgurkiShKfBuxnHu/DEGs9WDiq8uarU+YlUCVYL8CK4K38bohAK+qRhBrjuFQm8cZsnHQEsZIyMPck54DgnmcqiRINwfSC1QI4NPArMMioKvNApZUllWquPSRBSHQCAQCAQCgUAgEAgEAoFAIOhdGoRVwzCQJKnhb/NtQJP3OfEucvLDyTgWS1xSObImIal1Eata3UvRUfw6g5UKBpu+BJsBsg6SAQRsoOiADl4JkAPT/80yWCQwyXgqozBcVgoUiXXlGkgdm/pfX0akCRAIBAKBQCAQCAQCgUAgEAgEoUaFpuJjvaha/74lURXAUCS+GlBL/xw7apmfyOhqVMMPmh9JkQMCqxwQV1EMkA3w64G/sh7QVWUjEN0qKQGx1SMFXhbAKuNzh6NV2tEsJlb4vIF0ru0Ipc33N26PQCAQCAQCgUAgEAgEAoFAIBCEArV5hCqcLKK2hGEY7Ep0kV5mYUJxJF6fTN8EJ7Ihg66BriHJMmhGQFyV6v7KdSKrZATEVanxe8ANWMBbHobb0RfFovKdVWeTGohWPUngbcNPEbV6ZmMAfr8fv6ahazq60fncuwKBQCAQCAQCgUBwJiJJErIkISsyqqKgqioi7EggEAhCS4s5VlsSp1rcJhu8P/Q4Vi2aEeXhHD2iEBVTi83mQzE0DElDkjUkvxyIUpXltoVVwNAlXEcj8DijkS0mtkVrvBzmxmjnE6DVyFohtJ2RuD1evD5fb7shEAgEAoFAIBAIBKckhmGgGQaaruPz+QEPZpNJLJgoEPwEcP/wA+5t23Bt345750482dn4i4t7261eQ01IwDJiBNaRI7GNHo31nHOwDh0amrqDrUA3Gfxz6HH4oQ+jy8OoKJWpsnqIjPRis/qRZQ1J0pGkQLSqJOmNxNQT4qqBhKvaSm2FHcMdhqKY2NrXy9sRtWhKy0Jp8xQGRisRiyIdwJmDz+/H7fEKwVwgEAgEAoFAIBAIOonX58Pn92O1mDGpQcsBAoHgFMIwDDz79nF07lx8Bw5gyczEOmIEMbfeijUzEzUhobdd7DX8xcW4d+/GnZ1N5fvvU/zEE5jT0kh66SXMgwYFpRuG5E7qsmj8Y0QFlblRTCi2QY2JslovJquP8AgfVquGLGvIso6EAZKOJBlgGBiGjMttoqYyHN1jRTFM+GWF76I9vJ1aha7qSB2YsNCRlACC0xuvz4fb4+1tNwQCgUAgEAgEAoHgtMUwDFxuD4bFwGwy9bY7AoEgSAzDwPB6KX/+eRwvv0z/Zcuwpqf3tlunFGpCAhEJCURccknDNvfevRy88EJi77qLuHvuAbO5SwJrSIRVSZLQVZ0PM46zN9bKxKIIhleEY7j8VLn8VMoasqohK3qgPAYSMromY/hNoKsohopiKOyL8rJ2QCW742tBMUS0qQAAl9uDz+/vbTcEAoFAIBAIBAKB4IzA7fGi64ZIDSAQhBivX+NomYPaGhfF5cfx+zTcXj+qWSHKHk5acjwxfSJRFSUk9rTjx8mfMQPbqFEM3r49JHX+FLAOHcqQXbs49sgjHJwyhdSVK1GiojpdT8hi/yVJQlIhJ8FFTpyb/sct/HJfHwY6wzF0Hfw6hmQAgWn/GBIyMhgKsi5zINLH8kHl7I9zIasQ0FNPXlSrLURk6plJ/XQVgUAgEAgEAoFAIBCEDq/PhyxLInJVIAgBPr/GviPF5OQXYugadrMJTTcIMytYzWbcHj8lJQ6OlTmIjQijf794UpLigxJYtYoKCn7+c+IfeYSwCRNC2JqfDolPP03Nxo0cmjGD1JUrUTsproY8qYokAarBkVgPz0QfI7ZaZZDTQv9qC+HeE8KohIRT1Tka4eNAHzel4T5UWUKWTkSpNhdK21uUqnGeVSGynhn4NU1M/xcIBAKBQCAQCASCbsLt8SLLcsii5wSCnyI+TePLHXspqajEVCd9Oao9hCsmrOFhWMwyHrcPs6pjNqlYVIPiY8cod1QyevgQVLXz15/h93NoxgwhqoaA8AsugPvvp+BnP2PgF18gdSIHdaeEVcNof2p+vbgpy2CWJaqiNLZH1vA9tS2WlwmIsea64xrX31hgra+3I3SmrODUxuX29LYLAoFAIBAIBAKBQHBK43K5ALDZbF073u3BHh4WEl8MwwjMPZUk3H4v5Z5qMLyYZAOzbCXSEoUsyXVzWbsv9d8e93FedexjTVUhBb4aAFJM4UyNTGZOzBCGW/t0m22qazGm3w4btrW8f+JopFV/BXtE9/lQh+voUQpffJHkX/8a29lnB86PLHe73XoKDh8BIGVA/x6z2dP4/BqffbsTRZboYzPh8vhQDJmwMCt+v5/C0kosJhlVAr/mB0PDr0h4NR3N7WXz93uYMDYTRen4eTEMg7Jnn8U2apQQVUNE+MSJOD/+mLJFi4i7774OpyaVZs2aZciy3ES8bHxw42n4LU3Jb76/JTG0I860Nt2/NYG0pejVxn8bv8/OzubgwYPt+tAZal0uFjy7CIA/Pv5ISOvuKJu/3YokSZwzJgu1h1Z0rHW5+OzzdXy/fScFBYcBSEkZwND0s7nyihmE1X2Qv7r0DebMvikoWx6vD4+3t6NVC1n15/nsHPckD0+N61G7a59dzN4JjzB3or0H7Xadkh3ryJYzmTwyvrddOWMRfdwbONixYhXFQ65m2rCu/VARCCDY69fJ/g1fUZQ4mQuHiHEoEAgEpzoul4vVq1cDMG3atC6LnZ1hy5YtAIwfP77LdVgt5qBTAtSLqoYh8cmRbeSUrmGfYzvHPDUU15hIi+zL+cljuCj5/zAsNiMoW63hNXTmFW3lpbIc9Fb0BFmSuD0ug4VJ4zBLIRYZ2xNV6+lOcdUwQJLQNY28Rx8l9i9/QV+0iLjf/x40DRSloUx38vU3m3h16ZsAzJl9IxPP714B8OY5t3fpuNdffanLNv2aRu6BQ3g9btxeDa9PR9N8yDKYZINwq0qNy4fVLOPxa3i9OgYSJpMJm9lEjctF+fHjVFY6uWbmz7FZrR2y6/7xR/IvueSUyal6/L33wO+nz69+1duuBM2+ESMYuGEDlrS0DpVvuIM0j/JsLHQ2jyJtaap986jSxu+b/22JxnYalwtm8aruilqtF1ULCg4Hbka9SJXTyffbduDvgRykX3+zifse/AMfrvi4QVQFKCg4zOrP1nLfg3+ou3G+wdffbA7antfn69JxtS4XHy7/iKf+9DRP/elpPlz+Uded8Jexd9NWDpR1vYqu2S1ky5p15BT3sN2u4tvPho/XkVdzuvzgd+HIyybf0WyzJ4cPFjzFX9eXdLJcD9DtfXwKtbUJrfjVU2gO8vfkUFAZRB293oe9wKnW5t72J9jrV3OQu3ET2cdC9FkfbH/0dn8KBALBKc7S15ay/sv1rP9yPX9/bWmP2Fz96WrW1Im5XcXj7drvr3oMDCQJnB4vn+S9REXVrUxMfJM7zv6W+4fuZ87ZRdT6j/DB4c94dNNjLNv7T/xaIJAmVL/dvYbO5Qc+58XSva2KqgC6YfBi6V4uP/A5XkMPiW2g46IqwNfbMabfAc7q0Nmvp05H8VVVcfzttzErClF/+hNVb78NihJYB6cHFgr/euOmhvfbtu/sdnu9QeGxYlzVTjA0wkwGFlWjb5SJQQlWhiRHcnZiJBcMTWTUoGjS+1kIk5xUVx7lwMEf+PiLlTz9ynM88r9/4slX/8wrH7zeIZuGYXD0zjvpv2xZ9zauExx/801qNmzocPnarVtx797djR41s/fMM5TFxVH7zDPtlh3w3nsU3Xln4DrpAA1hjs1F1dZE0pZoTZRtvK89cbWlOoKd0t8dKQEai6opA/rz0APzQlp/Zxh7zmi++357g7janZGrjZ80TTz/PKZeOqUhlL/g8BHWfLaWr7/Z3FAmWDRd7/K5+/TTNRQWFjH3zt8B8M477/HvD1dw1awrQ+Kb4GR8h3aS40pl8rDTI7oWXx5r3liG66on+E1Mo6fyciTR8X0hyta5cj3hcnf38SnU1g75dTrR233YG5xqbe5lf065e2Sw/dHj/VnE6kVLKL34AW7IsuH8dgl/2ZLOvLsuJKaHPBAIBILOsH///ob3+xq97z57eTgcjob3gwd3LMqqOYZhoOk6SleniRuBSNVi598YkbiQ/hQg6QZICoZJZkISjItLZvHeoex3WvnHwXfwGgY3DrsmqICqxswr2so6Z9GJDZYI5sUOYWp4PF5DZ2XNMf5W+iP4Aynn1jmLmFe0lcXJ5wZvvDOiaj114mooI1e1wkL0Q4cwXXAB/ooK7EeP4jYMLA4HkXffTUVMDNGXX45r3z58Xi+Rw4eHxC4EtIHPPl9HaVl53f+FDftycvc1zPrtGxfLpZdM7rb0AG1FoHY1qrUl/JrGsdJSdB0MzSDMbCLGbsXlclHr1qmodPDh2s/ILyqg2l1Dzo9H8eLBUDSqHLVosh+zRcHwS9giVN77ZBm/mfkrIsPb/s7o3rMH38GDWNPTO+zrwWnTMCUl0f/vf2+yvfLf/6bo1lsZvGsXpqSkLvVDVyicPZs+v/411hEjesRevaBa+8wzhD3wQJtlrcOG4c3JwfPjj1gz2o+sV6Hl6f6tCaXtTcFvTmeE1I4e21HBrSdE1bAemNbRGqqq9oi4Wuty8c6y94GWw/dTBvRnzuybKCsvJyd3X0hsBhOBu2XLd9x//z3ExgR+bl1//TUsXvySEFa7DR/52Tm4UieT2bnF8049TElMnn1H6MqFjF7s4x5v6xnIT7EPT7U296o/p+A9Mtj+6On+rMwnr6IvmQNtgI/8A0VEDpwqRFWBQHDKsX9/HsvefQebzdaQ8/Siiy7sdrtbt2whOTm54X1XhVUI/A5TzOYuHStJEpq2mZTwP2HSjuP220HS0QyFbYWJSBhMis/j4REentmVyc7qSNYdfosp/TNIjhzVZZ/r2eM+zktlOSc2RA2gPGUSy5wFPOXYj8sweDJ6EI+lD6X/wc+gtgKAl8pyuD02Peicq8blv4OvtyPRD1AxCMzylEgCLICGQTHgabrt6x8C4uqG4IKU6oPTyr1eSh5+mP5z5nD84EESNI0wScKlKJgcDsIeeogqmw3X88+j//KXAWE1RGkB6gOuWqK2tpac3B8ByMkN+Bts+sDepszhoLqmElVROV5VS5mjhG93bOdIaSGKIvPDjwfxSbVUu93ISJjMMoosY1IUohJM1FQYYEB4HwnVBBXOcj7f/DlXTZnVpl3P9u1YMjN7qJVnBmEPPNAhUbUe68iRuL//vuPCaj09ueBTd9nqien/p4KoWk9PiKtrPltLbW0tE88/r9WcKK8ufSNkoioEnvx0lVqXq0FUBYiNiaHcUREKt+Dge/z25sVw2xssuX4QOa/fyrwlOyl0gX3AKGbd/QT3Tgl8qcFfyNq/LuSV5V+TcxzsfZIZNOYaHllwDRlqO/tbsu05wKoXFrJkzVYKnXYGXnQjjzx6I6MiWyjrL2TtX+ezePlWDjjNxA2exfzX5jHeXMjaF+azeMVWCj12Bk68lnvvn8P4BIBCVj3+CEs2HaCw3InHnMyon1/DdPtOVn2yhZwyL3HDZzL3jw8zPaWRLV8+e/a6SLooEzuAz0H2ZytY810eJR4T9sSxXH3rDDJkB9mrV7BmWx4lHhvx6WOZfuU0MqIAHGx9bxkb8kpxOF34TXZSRk1itK2ArbvyKKn0Yes/mhnXXE1WXKD8jn8tY92+uvKWGFLSxzL1Z5MZXP9wz1fCjlUrWLc7H4fXRnz6JK686kJSGy5bP7nvPmcqfh0AACAASURBVMZD7wJyCtMfuoMLI/JZ+ewS8i94kDsm2TtXzteJ9sl24tMncMXVkxkcDuAif/0HrNiQQ1EN2KJSufjG33Jh/QPDJn3cRtk229yeDx1ta2fPVTf51YJAVfTFEt5an4/DA7boVLIuu5orR8Z0yEbrxzbGR/bbT/NW1VQevX1CYLzjZNNLf2Fd/M08enVyy+cmoXkftnO+m5gMZlw1pyvnrjX7LfWFjx1vPsX7/IInfhXNmpOukfauyaa+Zq/4gHV7iyipdIEtham33sGFsa3VEUp/fGS/+zRvOS7m0TsvDNRVtJqFL+aSdc/dTI4DKGH1ohfYM/QO5l0WHfz12zebZX+qi8zOCkRmuzYt4c9rY7j54asZXHcdVOxYxsL1+ZS4TMSkZjF15nSy4k2dP7daR8dkK9tPGtPBjtWW7Uwoe4un3s6m/lFrwdMPsaphjLzEHypv4IlfZXKaxrILBIIzCIfDwbJ33uVIYSEXXnQRl102jcLCQKReveAZSgoLC3G7A8Lt/v15bNmyheuuvw6Ad995l+TkZJL7Bz6IrFZbp3zwaxqWLvpl6D4M/5soYQbe42HIsg+zxc+R47E8tzsNRTI46zwnKbEOnhy9jQ3HUhia6CTetARDX4QkB3dHf9Wx78T0f0s4xSkTGXlkI4UV+Q1lZjoOcF/SaLakTGR8zn+AQFqAVx37WJQ0Lij7fL0dUGD3y5AYg9T3ZxhUwpr/gQtGgqYhfZ8LF98GXy6A8cNA05H2HIDzgn9gKUkSGAb2xEQK7HZKfv97Enw+wodKSHawKDo+WUat3IvluuuQqqsp/fWvg7bbmLLy8m4pe6ry9sp3+McH/0QxyVTWOvF4XFRW1qKoCj6/H3u4DcljwgDMUTKaX8PQNWxRBh6nl+rKarw1XipNBgkDo/H6NT7dsLpdYdW1Y0e3RXoWP/EE1Z9+ir+kBMPrxTJ8OPFPPEH4BRc0lDF0nfL//V8qli5FczqxDhuGr7AQ04ABDWWOv/cepfPno5WUINvtRF17LfF/+ANSozzOZc88Q1ldJGn8U08Re+edGIZBxdKlVCxZgv/YMSwZGcQ/8UTQC3SFPfBAh0VVAOuIEbh27OhQztieWfEohLQXxdpT0/9PBVG1nu4WV+tzoUy9dEqL+0OVU7UxXT2Hzzy7EIC7f3/fyfueW8QD993TdacqNjD/9wspm/ocb1w/CICkcddwb/qdxIVXceD9Rcx/fCFDxzzP9GgPW567lXn/iePaec9x7wALzvULmffBDkq5hgza298cJxsW3MWT20Yy79FXGKrm8MaChcx7biCr/jip2ZcfJ1v+civz1sRx7R1P83CKmbIyC8lhTrb8+VbmrUnmxnueY1KfItb+bTFz73Lz5j/mkqGUsXfbTpj4NIt/Hofn4CcsXLCQhQNnMe+e55lrPsiHixby5IIMxv91Fg1LeRXsIbsmiUlDAz/Ocz56lbf2RDBhyrVMj1VxV6vEW1zkfBDYPmnaDUwPr2DP2jW8tRR+O3caqbKTkoMFMORqbhgTDSXfserjVayMH8fU6deQpFbw3ccreH95CmlzxmHXnBTmFeBPuzJQvjKfTevW8fpSH3fcMY0kk4uc5a/z/sEkpl71W1LJZ8NHq3jro3geuCaj4Ud42mV3c+VQFVDbnHnTfrkT7W63fVnR4Mxjw6o1vP1xPI9ck4mpYB3vfVpE0s9u4MpUGz6Hk7DoRtU37uOCla2UbafNWjs+dLStWifPVU/5BdjTJjC931TsFhdFW1ax8t8rSE37DVnW9m20fmxjCybSBiehrswjzzOBLAvgyye/GJLOTYb2zmPD+exguWDHVSjOXRv2T+oLLZ+8AkidkoaJ5klxO3ZNNvY1f28e7tQruWF8X1QPREa3XUco/UkblISaW0S+DzJN4MwvoMRfQtERH8SZoCafgjIbqWlJbVyT9ee7I9dvx/ATw9jpk4g3V5D7xRqWvQ4R/30lg9XOnttmtDYme2qstmLH1PdqHnxkOsUbXuf1orHcfc1obK7tLPvrdyTddDMXJtmFqCoQCHqF/fvz+PvSQO7UcePHsf7L9YwfP57f3DK7YaGq7hBUHQ4HS19b2iDa1jN48GBG1IksWwdv5cMPP2yyPzk5mdm3zCYmpv1Y/6BS8VGO7v0MRfMgSxp+XaXgeBQHqiLx6DKSZJBXZUcHEsOcXH3WbgxFxu/7BMnyByCxy7YB1lSd6Jf7Ys9mTc3RJqJqPc8Vbee5kh9OPjZYYRWQGAgRNnA4IXkkFNblnFz4T3jsc/C8BvQNbPvLu/DUv+DYm3Dx+UHbro86dRcXE+VwMEStgNFALKAEXiabAV7gyDHsG0z4fvgBQ9OQFCV4+z9B3l/3PiVVx7BYFAwdNF1DcoPP7yMywYKk6kRE+bHIMpqkobl8WCwGhs+Lx+fHXePEW+oGs0xVXxOKSeHHvAPt2nXv3EnMrbd2S5tqN25ETUoiYcECjNpaKt9/n4KZM0n5978JnzQJgNL583G8+CKx8+ZhGz0a9549lC9a1KQe68iRJD7zDEpUFO5duyh+/HHMqalEz57dUKbPb37T8L+akACAY/Fiyv73f4l/4gksQ4ZQ8fe/U3DttQzesqWhTE9gHTGCiqUdy5F92gmrrdHaolqhYMEzCyk4fAQI5Ay5467286qmpAzgj48/EhL7m7/dirO64wmt68XVc8ePDYn9+ra3lv9kzuybQh7Cr+tdO49HCota33eksNV97eLdyZJ7nuTz1Id488FJ1AeJRg6fQr3cPGpAGWs/eZGdB2E6q3hzeRmT7n+Dh6+ukyCPJ2P5oK5wRTv7m1P2Oe994mHWC09y7XgLMIonb9vAJc+tY4t/EpPUpmXf/E8Vkx5dxsM/b/TzuexD5v+nikkPvcG9MwM2xw/xsHfmEt74+rfMvwjAQtyQ8YwfEwdjhlK2fhXP2ydz7dTxwHgGla9l7Qu72Ouf1WAzPzsXV9J5ZMYAzmw2bKsifdbtXDm2kW3nVj6o2z6jbntGoo/iRV+wYe9kUocDqFgTM8hIs0NaMs692ayyDWfCyIDoklCZzY7VeRRq4+qEZ5WIpEwyhtiBDDL6m3jh/27gq9zJXJu6gw07fIy++RouHGICUomvzePPq3aQ58toOF6N7kt8YqOf5S0GSnegXKN2t9u+IXZgMPGVuTyzMZd8LZPB1U5ccgQp6RmkxgHNLrUmfXyslbLOdtost+NDJ/ukw+eqtpv88vlw1acMkVVsFhP2lEzqJ8SkxjvJ3rWG/GOQdVY7NhTaOfYEtoxMkj5aQ06ej6xhJjiaT4EvifPOsrV+bpr3YWvnu3mbvEGOK71ZfWpnz13b9m8Ykk6S9gU5B31kZZigMJc8VxLnDQlENjehvfFJy75G9M8M+Arg3MSKtuoIpT9pacR7viPvCGQO9JF/qAibzUT+wXzIGowvP48iUyrjUoC8EFy/HVorRKVv1lQuHFN3LpJ8FD7/BZtzpzO4S/fQRrQ2Jlvb3mP3QBv2KJV8p5PIhFTio+zgdOKU40lNicEuVFWBQNBLLH3ttYap/uu/XM+dc+cGNf2+o8TExHDn3Dt5cfGLFBYWctnllzFt2rQmZe6ceycAn366mtWffkpycjJ3zr2zQfBtj67+DgNAqkVRjqL5ZUyyn61lA3h2dxouXQbJQDck5mcPIUzReTBzP+P7HsLvt6CoxSDVdt1uHQW+mob3F4fH82h5GzMq63KstnRsUFw3DnYfgGIH3HYePF4nrM44F84fCqu/xeAoEkCYGUgAsxkcruBtSxKaplH+r38R/cN2mCCRa5Gokg3G9QcssKc4cH6Hp8ng17Bt2oR+7BhKiB4EXH/tL6mtrWXN5+vaXayq4HAhC55dxKQLJnDB+eeFxH5PU1aQj8lvoHh17OEqxw3wmr1IESrVVbXExFlR3W4qnR7sMeG4nR4qDnuRFRmljxWzWcXoY8ISbUWWQdV1fszd0a5dT3Y21m5MBWAeNIiIiy8GwD5jBvlXXEHJk08ycO1aDK8Xx9/+Ruxdd9H3vkBAW8SUKVQ3WzzPOnQo1qFDAQg791xqvvySmm++aSKsqn37NpQB0F0uSp99lvjHHyf6xhsBsJ1zDrlDhlD18cfE3HJLl9tU+8wzDakAOhK5ah05EveuXR2qW63Pw3G60F5u1u6IWO0SvezDKdEHZwwedr78CFssk1m4fBbJ6ontB/7zIgv/sZa9hWV4wux4NZjuAfblsFfL4KZxcS1X2d7+5hzIYW9tGRt+dy5N1/2bSJkTiG5WVhvETWOaxSTVb29sM2E845NeZG3OQbiouVE7cbFmvOVlVAGRQFxsLNRW4dQIPJbR8tmxt4qkCZmBXHclBZTo8Uw6q5ntlrZHDyY1ahW5RaVwUr50G3a7CZ/TiR8wAVa7HdXnwq0DLeXT75tGWvQacosqwFZEid9J3tLH2NqkUBpOL9C1tFGt0+n2gT02BtVV1560CUxKep1VixeSN3YCkyaNZXBUnWLQvI9bK1vSTputnEQTH7pMO+eqW/zykf3+U7y1o06IS7yYu++ZjLptFSs25FJUUQVmGz7dT0wrglUTG4qPko4eG5VOZv+VbNibj2/YYNz5+VTFpZERA4S3cR6bNL2lcpzcpiuqgxhXLfTR3c3ltPbOXTvjemQmmUlr2LA3HzIGU5STS1ViFplxnCy8tTkOfGR/1J6v7dUBxITKHyA6g/TYdeQeKIEUF3n5dsZOSuK7XXkUMRjfvgJ8/S8m3UJort+uEJVKapSL3GMhuIe25ldH/e3OeyAVlJT4iD4vHgBfSQmOqCTihagqEAh+othsNu67/z7efeddPv3kUxwOB9ddd12TMu++8y5btmxh/PjxDSkCeow6bSHwc/Tk36QSYGBgSHVFQ5Pa8yTK/W5srVZcv70bfjPPPA/sYYH3owbD43UfuodLYO1OeOhaJLIC2+66GmZPhw+/wtj5NaHoBk9REcbHH9PnLC+kGTywGg7VKuz8bz9Ew61vy7g8Ktvu9oJHQSvIQ6uoCJmwWh+MlZIyoN2AtPqcqzm5PzJgQP9uW8iqOyk/dpy4OBu1lT60GoiIseFSFVRFI2GgCd3j5+APlUTGmFD0WlRdQ/foRCVIRIV7ibOZkMJNhKsSZSU6YVYD1dT1tIjdRcSll1Ly1FMYXi/eQ4cwamsJO7/tKOua9espW7gQT04g77Hh92M755w2j/Hu24dRW0vxY49R8sQTDdsNjwdfQUFQbejM4lWd5bSKWG0uFnZmwatgeOiBeQ1RqykpA3jo/nt6NBXAeee2PyXB7/fz/bYdVDmd2CMiGHvO6JDZTxnQn4LDRwLtb+dmV+ty8erSN0kZkMzMK37WZZunjEAOgIXkidOxb1rF84vWMuqPUwLT4Pcs4d4nVpF828MsvGggltpVPH3b8qaHtjejojMzLtRB3PjCc8xq/JmnRBLXiWmkncWiWqDxOmKqFTPeE/8X7CDXGc95w+umFenQ4m2lte1toMpq3XEBTHJAHKA1YbUBf12ZeCbcdAMTmsx4smEPp4PRYZ2gC+1DVjHhD3SvJZXJv3uAjN2b+Gr9Gl7dtIkJN9/OlUNsJ/dxa2Wh7Ta39Pnc2IcgaPNctXcuuuSXibQpv+X2+gfblhj6HlnD//tXNvaLr+TmzHhMru0sf7WNFCWNbRxZw1sdPjaG0SOTWLN+J/m+ZKrziogcNIN4aP3cDGpWRSvlpjZvU80auj6uTKQ3r++k6fAdOHdt2o8hc2QSazbuId8XSd5eB0lZWS0vKNTmODBBB3xtdyyFzB+AJDKGRLLhxzwcQ6vII40rxqdSsuEb9pcV4TpQRdLYDGwQmuv3LDVwX+vSxajS0k2tU/fQVtvQwTHdTffA6Z4VPP1udiCaefmf+cNHgO7HTy4vPLoBU+a1PHKdyLEqEAh6ntm33MK777yDy+Vi/PhxvLh4MePPHc/MmTM7HBkaLNddfx0ul4st325pYtflcrFlyxZGjBjRJVFVloOR98LQ/fGY5MNIhsHY2CP83wnV5FXaWbD7bGTJ4KHMfQyMrCLeVoNfV1EUDb8/CTNhQdgNkGIK5wftOABfuMp5OHoQV5TnNSlTMuI6+iqBRGpXFW7mw9KchmODRSIcJo6E73PB74dhA+sWsgJ2HYQXVsC9V8N/DQxse3YZPPEKBlVB267HcDgIrzmEEauAojHrbIkiWQtkH7DD1ecb6DV+sEpgl5CiKjEMT7v1Clrm/0wYSUXVUeR4qKz0EhltJsKuU1buJkJWwOwnKysZv65hDvNgi9AIi9IIt6vYLGYkk4JkAl0zGBCrIHkkzkoe0q5dy4gRuHfvJqITU+OVyEg0x8nfsbWyMgDkyJYWb6k/WEEym0FRMOqi9Q1f6z+qvXl5HL7+eiKvvpr4J55AUlWKH3usaaEWHnxI1kDUTeL8+YQ1yukKoPQJbnG5zi5e5d61C+vIkR0q26Y8carQmsDWONK2rSjWYAmz2XjogXkBgbHgMAueXUStKwSh+iGiJVE1lItXjRkdWKFxzWdr2y37zrv/ZNv2HZSVBZeIWj7FoqjjxtzJ4v/3a+xrnmTe6zl4gKoDORTaJ3HNLVMYlTGIjJFDT+QdTR5EMgfYscfZcoXt7a+j4SMudRCDlEIOFkcyaOCgE6+UOE66/aUOYhAH2LGtWd2DMhjafHvxTrYUmckYMrAj3XAS+XtyqUrMDESEAcQnES8XkXeome3E+u2NrpvK/eRX2ohP6tsl2ydRXRSoL7EvxCcRLTsoqbQRHx/f6GUPCCGyikn1469xt11nR8uFon2KjaSsyVw79y6m93ewdVMePlro49bKttfm9uhoWztLN/lli08ldWDdK8mO/1gJDksak6ZkkpoUT1JKApEd/IRzdejYE4qXPWscad4cvtuTS05BJOmZqSeKtXIeT6KFcmqzNpmCHFfN+6jT4lMH7MeMHE1qbTbfbdnKjvIkRme1krutnXHQIV87MJZC5Q9A6sh0Io9ms2lrLq6B6aTa08hIKCV381Zyy5LIHN4oOjPY61e2YQ/zU1FW2t5ZOUFpHnkVNpKSQvR0rbWx25Ex3U33QIbM4K5fjSNeTWP6XfOYd88dTE5Rib9gDnffM4+7fpYuRFWBQNArDB6cxmOPP8bT859m5qxZPPb4YzjKHfzPn/6H1XXTYQsLC0/KhRpqbDYbMTEx2Gw29u/PY//+vCbbukIws1kNYpHM0zjkT+bD/BGUee30j3aQFunELOuEKTqDoypJ6eNAxo9hKBBuRTFPIZAINDimRp6IQPl7yV4yLJH8rt9IaBQLGr/337xbdXLe1cbHdp2hgfyqVzwKV90PldUwvS49372/hMoPoeQ4/Gt9YJvLE1JRFaDaYkHvH8kPPomP9kvcfJHBI1cZEAHYYN61Bvddr7MuV2JDiYSvXyTVcuim8xUcPkLuj/t4demb7ZYNs9kYM3oUc2bfeFpGqwKkpA7GpfmodnvxSX6qatx4vT5sETLVbjexsQkoikxFVQmVzkrcHh8mVcLn0fG4vdQ4PVQfd+Gt9VHtqKG6uoaYsPh27VpHjsSdnd0pXy1Dh+LetQt/nZBaT/XatZgGDECJaH3RkdqNGzGffTaSogT+hodT/dlnrZZ3792L4fHQ98EHsY0Zg3XkSNR+/ZqUaUnoNaWmIoWF4dm7F8uQIU1eat/gdIOwBx4grqys48Lq7t1YRo3qUNmg1bfOphIIZeqBjgiooRJZ68XVBc8sbBBXezpytSW6W1SFwKJVaz5bx9ffbCYj42wmnt/yamxff7OpYRGrmVd2PVoVQFFkND2o+ckhJ3LMXBben8M1C55kybg3mJs6iDjnKt57bS2RE5OxaAdxEpgyT/IUrp24mIeffZjF2o2Mt5ex8+McPNQ98WhvvxpHXLSHz9d/yM6LbmRUwnSunbqEeS/cy3z/jUwZaMdTfhBnwnSmj7FD8SrmXTefshvf4M2b68o+N5f5tXVli530nXIJ1/zsVeYuupfFzGF8dCFrX15MzoBruPeiLqz9qeWT/UMV8eMyT0SERWUxIXMdb636Bys8FzI80Yq70k3M8CwmZW3g9VVvsVKeRLq1gj1rv6Aobiwzhnb1Z7Gf0h1r+Cp8eGAhl/VrKIjKYk66CSxZXJi5jrc++Tsf+CczPNEKzlKcUVmMG2gDJZmkRJXt361ja+xw7LXVqGlZDG7+WdLRcvYg21eSzVcHVVKTI6E6nyKnH1u8FVNLfdxa2ai0ttvcHh1ta2eJaudcdNWvqKbFbPHxRHp2sGFtNuqwGMJ8Dqp0OiTetnmsEobV5qdk73byMy8k1Q6EZzEufQ3LPl6JSc3gVyl1FbV2bpob7Gi5YMdVsHTEflQW4wat4f1VmyDtSjKjWqkr2HHQ0TpC6U9KFulhL7Fhs42sX6VhwkT6sL6s/HQTpEwP5EyF0Fy/ShLpQ2LYsGU5K6Mnkx4D1cec+JvE2/qpLsohJy8anAV8t2YdJYmT+EV6CMZCa3711FhtzY7Fjt3vxBmVRGpCDDHk43KaSDorlfg4IakKBIJTh/rcp/v35/HuO+/w1fqvqK0N5AyddtllXHbZtHZq6BqFhYUkJyfz7rvvsuXbLQCMP3c8ycnJFBV1TdRV5K7HXkmSiQrtVp7bfpjtDgvDChN4cMRuhtiP8eCI/YBEH4sbt9sEkopVqcXvsWIoN6JIwd/X58QM4YXSH9ANA3SNsw98zpbUC7k3Zgj/rDyCRZa5KiKZje4yPnAebjhOliTmxLQfJdgexvlWpKj/wiAQZCQl3wDUwqotgAXQMSgGPEj/50GgUeDApDFB2wewJSWRN+R8Bmu5vFEoMdYFSZEGKFJg6kqYQXWlzKf7JG4+S+dg3Fj6xwe3aFhj3ln2T3Jy28ht24iUlP7cfefvQma7N5g47nI+Xfs5ms+D5teRbTY8Ho1qj5vhqWm4HB4OHCzmF7MeQLdIrPjgWcrKHURE98EWJuPxaPi8GoYGskXGGqZyTtal7dq1ZWVR+UFrC7S0TMzvfkfFG29QMHMm0bfdhmK341y1ipq1a+n3wgtNylavXUvF669jGjCA6s8/p3r1apJeeQUA2WYj/uGHKX78cSSTifDJk4FA5KtpwAAArMOGgaJQ9txzRF1/PbLFglZaCo0WSbOOHk3VihWEXXABstUKqkrExRcTe/fdlD37LJLVSvikSRh+P96DB4m9/fZOtTdY3Lt2EXVdx6L+VWhZ7Gy8rS0xtC2RtF7UbDytu6ui6qkwLfxUE1d7QlSFQLuvv+6/eHXpm7y69E1yc/dx6SWTG54q5eT+yMZvNrNh4yYA5sy+MZCLMwhUVcXr6/ycyP7JSa0uYNU/OSkonwCSr36Se9fPYv7//INL/vFb5t9TytNvPsKNL3ogzE5c0lAmRQPEMf3xxZQtWMiyBXfxpj+OjIE0mvrf3v5BzJozi88XLGHJ17NYPNPOlMdfYf4LC1nyt0dYdtyDPTaDS+6eGBBWm9C8LNgHTOTeUVOY9dArzA+bz5Ln7mJJrZ1BE6/h+YfmMspC56egFmazpyKescMbP1GzkfmL33LtqhWsW7uMTS6wRWcwPSWTcTNv5lrzCtZ8/BYbPCbih5zHDbOmkWqilQWS2kfFwXer3qKkxkRMShbX3jydwZZmfnyxjK01flR7EpmXpdeJJnbGTp9K3r++YMUbm8CewuQbWhIRO1rORkYQ7fNVFpL9xWZWVbjAYid+0MVcM3UwFK48qY9bLQvttLk9OtrWztLeueiiX80Fs5TJXHNZBSs2LOPVtX6w2LDHJpHREf/bPDaJcRePI/ejL1j3wzh+c64NMJE5KYuYXRvwnzeWwXW/A1o/N02jIto6h837LphxFTzt2K8rM3x8Oitzc0kbn3XyavON6gpuHHS0jhD6o6QybmQ8m7bEkzkk0OCYEZkkfVqEKWt0g+QZqut38PQbmO5+nw0rX2eDT8UWHknKwCQiFQA78Wkp7MldxVs7XPgtdpLSJ3PzzyaTFIKx0JpfvmOrOzSmu+0eCFQcK8EXl0m8ArhKKKmOJlUkWBUIBKco9ZGs9/z+noZtG776qluEVZfL1RAVa7PZmHbZZQB8tX59w8JaLper05Grwf6e7BuexUXJv+GQ600O1Ibxl92juHOohQuSDoAkIfl0MDSQ4Kg0gMqqO0iLPTckAVjDrX24PS6DF0v3Bja4Khmf+zFEJnFHeBwVPj/3le+DmjKSo1Mp9ASiRW+Py2C4NbhpxgDS6ucxpt8OGwKirUHr4rbB0RP/TBqDtOqloO0DREZGYrniBlzlX/Nz6QcWfWXi9iiJQQMDH8ZHDsu8vFxmfD8/cfGDOHTBzfSN6+C6H11gzOhRDeLpCy++3O6CVqcbl108gzc+eINjJflUuSqpdetUef2cM2QokeEWdtUkcNPdC7j4rD4YhkxEdDofLP8LxQe2YYlIRJc0fLoXr9dHmNlEmKUPUy+c3q5d69ixFD/5ZKd8NSUlkfrRR5Q+/TQljz+O4fFgHjKEfi+8QJ/rr29SVrHbqfj73/Hm5aEmJpL0178SddVVDftjfvc7lLg4yhYtwvHaa8hhYZj69WvIoWoeNIjkl1+m7PnnqXzvPZAklLg4Iq+8sqGOvo88gr+oiKLbbkOOjCT6N78h4uKL6XvffaixsThefhnHK6+gREVhzcwMWljt7OJV7t27SXz++Q7VLc2cOdOov4G1JK42Kdxs6n1rN762BNWW/q8v11L9bQmqLU3/NwzjpPd79uzh4MGDrdbTWWpdriY5V//4+CMhq7szbP52K87q6m4VVRuzbftOXl36RqtpEOoF2NYiWjtLVXWIVmY8RSh771am/yODJcvnMaqFU9Xe/lONolXP8MK+scz778m0P1khxGj5rHx2CfkXPMgdk1qXTk53erWPBW1Ts4O/P7+OpDnzmBb8MxvBGYi4fgUCgeCny9LXlrJ7924ARowYDss6jgAAIABJREFUwexbZrdzROfZvXs3S19byogRI5g5ayYxMYFHfg6Hg+UfLmf37t3cOXcugwendareyIiu5xo1DAMkMAydFfs/4u1971Fl+AjTPcxILiUz8jjhZg8exUZeZThhyvVM7H8bMWFhgcWsQrB8k9fQufzA56xzthxs05zJ9iQ+GXQJZilEWRKra+vE1W0dK18vqkYEn2MWAMNANwzWvrWU9LWPUeA/xtoySOgrIatwtMJgfF8YFRvLnvTHufjGO1AVJWQriL269I2GWawAD91/DxnpZwOBgKwFzy5q2Dfx/POYM/umkNit5+Y5XRPfXn+168L28s+W8+Ga9zEMndLK4/QPCyfcbCFh4LmER56NXfFguI8jyyCp4RgWO8s2rmTn5rcwfDLIJvw+L1abhfvm3MvvZ7e96BcErrVDl11G/GOPYR06tMu+t8TBSy7BOmoU/TooKp4ulDV6gBDXLB1Cc1y7d1P2l79w1iefdKhutV7AbEnoBJqInh1ZPKrxMW2V7cjCUx2NUu2pRazqaRy5Si9H0vaUqAqBp03PPfNn1ny2lm3bd1Jw+AhhNhspKf3JSD+bqZdOCWn0rsVswuMN9SpDPYWHnE+Wc8A2kOS+kXgKvubNV3cSN/VOMtSO7D/F0YrYnu0gPitTCAbdhejjUxAfjqJS/FSR/elKitJm8AshqgpaQly/AoFA8JPmuuuvI21LIPJ+/Pj2FyLuCi6Xi9m3zGbEiBFNtsfExDD7ltns3r0bh6Mc6LiwajEHNyPgRMCWwqwhs8iMG86XR9bzddH3vPajSkJEXxIsNs6OzmJI36lcnnQOJlXCIDSiKoBZkvlk0CXMK9rKS2U5gbQALSBLErfHZbAwaVzoRFWAiDCkVS91TFwNtagKIEnIwIXX/JrPDIno7UuZFfEjlZ7joMI5KZH47UP4fvANXHLdLSEVVSGQRhCgrDyQDiEs7ETbwsLCyEgPpFyIi43l+ut+GTK7vcn/Z+++46Mo/gaOf3b3SnoHEkpC7116UVREOtKrgIBgwa5YeERARURFVCyAFWkqTaVKRzpIbz86JCFAAunJ1d3nj0tCeu5IQijzfr1CyG2b29udmf3elI4PdeTU+ROcPH+ShuXLEWvyZgcNqXfFhPHIUnTuBuyahGTXkDQLVrtM6eDWtOlagxNbviTyaiTePv7UrlKTEf1GOnVMSZIo9+23nGvblmqHDxfzO7w3uDJ5VcSAAVTes8fpfWe0WC2odakzLUjzPEi27bPv51b3m7llaubXMv8ARd5iVbh9EpNT7ohhIFwXw4ZJr/HZlpPExJnBrzLNOozi1Vc6U9nozPI7XMRKpn/9P+q8UEKt9e6HFqslfY6FnOyXWfvlN2yK0VO6Rlt6932EsJIdZlu4U4n7VxAEQbjLSJKEt2fRBfg0NCQcz/nx5jgsqgmLJgEGAgyeeOiNoGmOoGoxTVx8zBTH9zdO809CJJesjt6QoXpPOviUY1RAtSLp/p+npBS0Ls/B1v9yX14cQdXMVBW7pnH48GHCD+3AnHAFDQ03n9KUrduKRo0aocgSFGVQ+T6WnJrM9z9OJTS4IdsumLhy5hD+HiDLEopm5kZsIjIaRqMRm82MOSWJ0MoNqdWwKb/+/SWXzv3HrhUn8PXOa4KAnDRNI2baNCznzhE8ZUqRvZd7tcWqs66MG4exdm2CXnvN6W2yDAVQWLm1dM28DJxrSepsoLWgwGr63yKwevey2e2kpBbxLOWCIAiCIAiCIAhCBg93N0frRUEQbonFYmHBb0vZtXUleoMHbp4eSNhJSLKQYjLj4abHbrejMxjwcDNyI/oKfmH1sdcfxAedyuDj4XqLDc1m43y7dgSNG4dn69bF8K7uL8lbtnD9yy+puH49kgu9wov064ncxjzN/HdhuvbfyjGFu59OUTAaDCWdDEEQBEEQBEEQhHuSm9EggqqCUEgGg4G+vbrxeNfeXE+2EBF5jaREEzod+Pp44uPjib+/Lx5GAxaLlaAyFXj4gZp8dItBVQBJpyNsxQpipk0jedu2In5H95fkLVuImT6d0L//dimoCiD16NFDk+W7s/l39har2SetEkMB3DtSzWasVlenrRcEQRAEQRAEQRDyYtDrcDPeDWORCcLdIzk5mT1793L86GESE+I4cuIEpYICKFchDB9ff2rVqM0DjRvh6VE0Q0HYExK42KULxpo1CZ46tUj2eT+5Mm4clrNnCV2xAsXLy+Xt79rAal7DAKT/FoHVe4/FasVktpR0MgRBEARBEARBEO56bkYDBn3hJqwSBOHOoNlsxEyfzvUZM6jw22+41a5d0km646UePkzEwIEEvf46gS+/7HJL1XR3w/zjggCAQa9HlmRSzWYx7IMgCIIgCIIgCMItkCQJd6MRnU50/xeEe4Wk0xH0xhv49O5N1PPPYz55Erf69XGrV8/xU78+ujJlSjqZJcZ29Sqmw4cxHTmS8dtQqxaVd+1CHxZWqEn0irXFqmbwRPMpg7V0XWwmC+7hW5FUu+PAqg00u+v71LQsk1vlNZaraLF6b7PabJgtVlRVLemkCIIgCIIgCIIg3PFkWcZo0KO/xVZZgiDcPcynTpG6dy+pBw9iPnQI0+HD2K5eLelklRhdmTK41a+PsUED3Bs1wr1JE4zVqxfNvotkL7nQ/Mtjqd8Fq3tZ7LHXsXspmDzKoppN2C12tNQUNIsZY8oVvG2XMKhxTu03c1A1xzGzBVSFe5dep0Ov06FpYLPbsNtV7KodVVURH78gCIIgCIIgCPczSXIEUhVZQVFkdIqOQjTIEgThLmOsXh1j9er4DR5c0km55xV5YFVDwu5XAeujL6AiYzfZsHoHYzPbsGne2CQbFmzYVBs2zY7qVhXFZkPGTIhlL/62/4FmzzfTzy24ml+wVbh3SVJ6kLWkUyIIgiAIgiAIgiAIgiDcT4o0HJWqBWDyrYWhbWckFEcw1WzHnvbbZrZjNduxm+xYU22oNhVZ07Dr9dgkAxcNjxBlbkGA5ThB1hPo5fgcx3AmUJpfq1ZBEARBEARBEARBEARBEITCKpLAqorCdWoQr6+KX+3aSG7u2CyOQKrN4vjRrI4AqyXZii3VQvrQmKqSdcBsi9GDq4YHuK7WolTSIUprB5DQMsZWdYYIqgqCIAiCIAiCIAiCIAiCUJwKHVi1S0aipMYk6CrhVsYP97JBaUFVm6OlqsUOqoZqtpF0PRXVVvBkQ5osYVU8ifJrhZpkJNi8G0kWkxQJgiAIgiAIgiAIgiAIgnBncCqwmldrUSvuXFaak6gLQ+fjSalGFVE1sFvspJptmGxWx0DZJg3T1XiwArKS8wBSxj+OsVUlyfFblogOaAY39JQxb0OS7Lf8RgVBEARBEARBEARBEARBEIqKDFm7zhfUjT59uYbMFaUJCYbK2A3u+FYtg6TIWExWolNSuJ6ajF1WcVclUpMs2IxuoNMh2+3IdjtomiOWKklIkoSkSMg6GUknI+sVJIOCbNAhu+m5HtiIG3LtvNMiuv4LgiAIgiAIgiAIgiAIgnAbZWmxmj1Amd/f16npCKrqjMgeenRGGZvFRkJsHPboa3i6eeAVWIbUBBOWFKtjSACLFZ3Vgs5iBTRUgwGLtxfIMpIsgewIsEqyhKTISIoMOhlVkbnq3hSvhGiMuitOvTERbBUEQRAEQRAEQRAEQRAEobjIubX61DQt16Bq+nAAJgK4ZmyITeeGZlConBpDGcWGzWTHLSKchvs+p0bKcWypKinxJuxmG5it6GxWdBYLitWCW3IyXtHX8L4eg2KQkY06FHcdirsexdOA7GlAc1ew2+2oiobV3ZML/h2zpCc7EUwVBEEQBEEQBEEQBEEQBOF2kF1ZWdM0kBRi5WrYde4gSzQwJDJjXGtqVPTHZrLilnKFy7IbeBlJuZGClmLBS7MRoNgwWi0oNkerVcVmRW+x4B0VhWfsDRRPPbKHHjz1qJ46bO4SdjcZe4oZTFZ0Bgm7nw/xSv3iOheCIAiCIAiCIAiCIAiCIAhOcWryqswsmjuJurKoio4q/gr9W3lSMcwXr4hr2C12zKVqYihbi+NJ7lQxWhn1ZGWCA9yQAZPZjslk5dixq5w4eoXTRyKxpVjxP3GKa2X9Mft4o+kkVJ0EyVaw2FEUDdmuIrtJyAqk+lXC+9pJJNlcDKdDEARBEARBEARBEARBEAShYC4HVs2SPxbZGySF9g0C6fBIKP/uPUidsNK4exvZcbwMl88k0b+OJ8/1rIyXhz7HPto0Ccn4/9WoBK6Gx7H8VDyLzDrsEmiqis5sRRdvQpZANkrIOpAUsLsHosqeKOQeWC2O4QACPKagGSU0o4wuXg86Bckmo/rIKGYjmkFC1gygKKDXoYs3YiutcPVM1yJPi3B7ZB76Yv2/Z/n+132s33oakxnQbNStEczA3vUZNqARfj7uqKqGLEslm2jhrnXmzGnee28iAJMmTaJq1aolmyDh7iI9lvvr2rq8l6UvF4RcLFi6krc/nEFQgD9fTnmb1k0blXSShLuZqjomrYWbv9Ol1bWQJJBd6kgnCFmcnr+IiwsXY0pNRbXaAJD1Otzc3Qkb2IdqgweUcAoFQSgKBw8dpmED0YtZuLO4HFhNlMqhyQqyTqJhFT98fXwIDCnH8ZQkrifraV3Wg4fbhlAj1Nup/ZUJ8aFMiA/G6hbWboni2g0TugQTBpMFRe8Ipso6R2tVWQHJXYfVWgpFf6PAfRdFkDXA70M0dwUA2aygechImozmpaCkGtDcZWSLDmSQcQOLBO4KumQdlRr/y/n9bQudhrvNmrX/YLOrdO3cseCV70DpQdUb11N4ZeJKlq06C1ho1SyM4FLupKTaOXzsKv83dQc/LDjI5+934NG2VbMEY+9Hd/vnXhJsNhs///wTs2fPwmq1AjBo0ADGjHmWYcOGodO5nEUXK/EZ34HyC5w6s60IrgppLkRc5vylCBYtXcUfK9YjoRKflES3Ic8zpE9X2rZoTGj5sjSpXwdFUQp1LGfykrspv9m1Zy83btygc8fHSzopdxZNcz1gmr6NC9Zt2EjpUqVoUL+eiwnMatOWrfh4e/NAY/FFwt1C0zQ0VeX84uWc/WoO5/dtwaKqlKvbAjUxhaiLhzHIMtaYWCRFR+W+PZFk+b6ur7vi+59+JjAggJ49upd0UgThnvfn3ysxGvR0fLxDsR5nxarV6PV6Hn+sfbEeB+DbWXPw9vZiyKCBxX6skk5Lrk/tAZINHyxEaG7Ysg3Dapb8QVLQSSoe7o7Nw8oEsfeYlcfK+NKsqo+r9SEAgtwVSgcYiD95HWOy2dFCVZ8WUNWBpEgoFguyTsOmlQb+B+QMnkqSVKStVmVNwQ5ImgFdvAFbkA1J1SFZFGSrHtVPYsW6LjStG4gGoNlBUpA0KF9pc5Gl427y54pVhASXKbKHoaPHjmM0Gqh2m1rxSZJEQpKZviN/Y8+RGJ4f3JjnRjchtHxAxjoJCWY2bPkfr7y3mh5P/s6ib5+ga6fa92xwdeSYZ6lVsyavv/JSnusU9ed+rztz5jQTJkzgxIkTjBw5kiNHDgNQr159Zs78ig0b1jN58mSqVq1Wwim9SXzGwr3KmTzOWbe7zCqsVJOJ5958n1Xrt2K1q9SuWomXRw3Cx9cbSYO4uHjWbt3B/KWrUVU7PTs9wvfTJyMXonWhM3nJ3ZTf7N6zlzNnzorAanaSBElJcPo0XL0KUVGO1quZyTKEhECZMlCtGnh5uXSIyMtRTPt0Oi+/OLbQgdX/nTrFP+s38uuPc/D09CzUvoTip6kqkiwTs/8g4b/M5/S+LRjSJmCu/9pzWBMTiXzhORRN4+y+LbjP9cW3amVKNWmcsa2Qvy1bt9HkgcYlnQxBKJR/t+9k4cI/SDGlZnm9TauWjBox9LanJ6964l8rVlKzRvViD6wu+/NvataoflsCq/v2H6BmjerFfhxnFHdacgRW20jXGaxEIKMRjZGPbNVIzrSaWfJBkySsBj0Wu6Ny5O9pZECtQE6ePImqNrillgxeeplSqRYizOYsXf9lRULSVGRZQ76aAAYFi8E3Y7vsgdTM/5ckCTV7Bc5Fdh3IVgOKSYettB3JrkPSFBSTEdVL4ovPW9G0rj8qGhKSI6iKChIoZqNTx9i5azdvvD2e9ydO4OGHHsyxfN/+/bz82jjeG/82j7V/1KX0fzJ9BqvX/oPFYkGv1xMQ4E+jBg14cvBAwkJDXdpXSXl34mS6del8Wx9S35ywmj2Hr/Pl5Ad56qEQKB+Apjo+ZVXT8PEx0urR+vxWpTxPj5nHmLdXs6NuCKHl/Zza/7i3x5OaauKrGZ9lvLZv/37GvTWeIYMHMmJY8Wfy7056n4OHDrHsj9/QZbtn4+MT6NGnH0OHDGLEsKGEVqhAcHCZIjt25uvSoNcTFBRI/Xr16NmjO3Vq1yqy49yJMrdSLV8+lAUL5lOrVh3Gjn0OgLFjX+DRRx9h/Ph3GTRoIKNHj2H48Kdcar1qsVj47Y8lrNuwkYiICPQGA2GhoXTv2pmunTsV11vL4U7Lf8a9PZ4du3bneL1v7168lHb+72oFtT5NX+5iK9c74bwV97VUlHlcSZRZhXHwyEmWr9kEqsrrzz+Fp6cHK9dvJTwiChmJ0LByDOjRmeTUVKbN/IG/127i0uUoKpYvV9JJvyvcz+UdS5fCyy87gqoWS/7rGgyO4OqMGdCrl9OH+OmXuVStWpUunbIG4M+dP8+b77zLIw+349nRo3Jsd/78BX5fspT9Bw6SmJTIqj+X8dSwofyzfiNLlv3J0CGDcj1eQflh9vqdM/mnxWKh76AncTMaWTD3J6eeo/J6fykpKXwx8xs2b/0XVVVp0bwZr770Av5+WeunrtQBlyxbzopVq7l4KRw/X1+aN2vKs2Oexsfbud6JxSbtmc9uMpN4Iw4ZUDUNoyQR0KAems2GTpaxKwrIMkkxcdjTrkNXmkAUVKdy9jP+fclS1q3fQHhEJIqiUK5sWdq2bsXIp4bl2Pa+zjcEoYgtWPQ7qSZTjte37dgJUCTB1Yx7fMNGwsMj0Ov11KpRnb69e9G6Vcss695t9UTBOTme1HsoV5AdbS8phZnWciz/qKVybGiXJM5Gm0gPA3p7exMaGkpERARhYWEuJcJmsxFx8SJcikaXEVRN7/4vQVQKklFGTbYiJVuxeXhAimPb9EBqbq1Ui6LlqpJiAJ2C5imjJEio/jqwKtj9YMRztahazZ+la+PQNGvGNpKUNq6szrkA87XoGAC++W42bVq1RK+/OS6tqqp8OfNbAG7Exrmc/ujoaEIrVODVl15AVVUuR0Xx2+IljHrmeX6c/S0Vypd3eZ/3ut17L7Hgr+O82a8tT3kdhamdoPcMpEeGgqahk2X2RELHvzUeLBvA3Bk9adNvPp9+s42vPup2S8fcf+Agb42fwMAB/W5LUBWg42Pt2bR5C3v37qNli+ZZlm3YtAm73U7HDo4AzHv/906RHvvmdTkWm83OlatXWbdhI8+MfZExo0bcEd0FikP2VqqjR4/BYDDkWK9WrTosWrSI2bNn8fXXX7Nx40anW6+azWZefn0cx4+foGuXzgwa0A+j0cip06eJi48vjreVpzsx/6lWtQqvvDg2y2tBQUG3PR13m5I+b8V9LRV1Hne30DSNq9ExSJLMuBdHcOVaDJ99NxdNtaetIREVc509+4/wZJ+uvPH8CD79di6RkVcJK1f2nuyhUdTu1/IOsxleeQXCwx2tUvMbEkBVwWZzrPvKK9C1qyPQWoCY69dZt2Ej70+ckPFacnIyS5f/xa8LFmLO5UEaYOXqNXwx8xsef6w9Y58bQ4C/o0eS0WCg1xPd+e2PxQwa2D9HwDGdq/lhQeuvWrMWm9XKtYQENm3ZSvtHHs5zXwW9v4nvf8iFixeZ9O54ZFnmm1lzePWNN/lx9ndZ7ldX6oApKal07tiRimGhRERG8s2sOaiqytvjXs8znbdFpvF5FVnO6DVWpddAjAH+GHx8qd9/KFELV6KgEFQmCLvZEVjVNM2p4Kqzdar8PuPM++jerQuDBw5AkiQiIiLzrJfdt/mGIBSD1NTcywJwBFfTA6yZdWj/CIMG9HVy/6m89No4Tp0+TZ+eTzBy+DBMJhOr1qzlzfHvMmL40Nv2fC+UnAKbQOVWZ/b30lGnpj+nE22YLXaMBkfFo1SpUsTHx5OSkoKHh0ee+9Q0DbPZTEpKCpcvXyYqKorQ0FB8/LzQJSUj6UA225A99JBixR5vAqMCkuT4ctLJgGVR0NwkNCNIdjDGeWL1siPJOpo9GkrzJlVYuuoyUVEap8JNROy1ZtlWUpxrsXr9+nUC/P1JTEzkrxUr6d3ziYxl6zduIiIiguAyZbgRGwvAh1OncejIEX6f/2vGeqvX/sPUaZ+y4s+leGfrRuXt5UX9enUBaNigPs2aNuGJPv1Z8886nh7xFL/8Oo91GzcRHR2D3W5n2JDBPDnYUWCvWLWGX+cv4Fp0NKEVyvPcM6Np3rRpxr5VVeXXBQtZuvwvUpKTqVKlMteuRROSqeVPz74D6NalMyOG38xQHnq0A6+89AJPdL8ZiFy1Zi2/zl/AlavX8PfzY+yzY3jk4XYA/PjLXH78ZS4Azz8zmoH9+7Fh02Z++mUuly9H4eXlRb++vRkysPAD03/36x50isbYN5rDFT0sU2HWMFBtSO1HsDtSpetSmVhJolN5lYaNK9D1sYosWHaISa8/SkBg3td+bvb+t5+3/28CA/r1YdRTwzNe1zSNZX/+xeKly4mOiaFypYo8N2Z0Rle3gpZ//d0stm3fwY3YOKwWC1WrVuHZ0U/TqGEDAJo3a4qfry9r163PUaleu249DerXo2yIY6K5kWOeo2aN6rzx6stAwZ97SkoKT44YReOGDRn/1rhc37fjurzZba9zx8f5dtYcvpvzA/Xr1c2yLL/rcNpn09mz9z8WL5qfsf7QEU/TtEljXnjuWQDOnD3H8FGj+XL6pzRu1NClz6coDR48GJPJxBdffEG7djcfnHbs2MbRo8cA2LbtX9q0aYvBYGDs2BeoW7cuL730EoMHD2b37j0FHuPnX+dx5OgxPpv2UZZ7NXtr+KK4twu6BqHg/Kegfcz85ju279pFXGwcqSYToRUqMGbUiBzf/jrLyzPrdZdZYfLCe92tnLfC5mHZFWdZlj2PcyZtd0qZVRiSJLFp+x5qVQvDy8ODuX/8jUGn8MzQgdyIT+TEqTMkm1I5cyGcXxevYPIbz1O7RiXmLv6b1s2d6x7qTF7izDpQ9GWBM/lLfteVs+7H8o7wcLh+PWswtaBeZLIMN25AZCRUqlTgIXbt3oNer6dVpjrM2nUb2LRlCxPffYcvvvomxzYn/3eKGV/O5JuvZuTaWujhBx/ku9nfc/z48TzzvPzyQ1fXV1WVhb/9Qb8+vQiPiGThb7/nG1jN7/1dvXqVHbt2M/m9d2nRvBkAvr6+jBzzLP8dOECTxjfvWVfqgJmv96ZNHuDY8ROcOPk/p9//7eIYkk3DO6w8Rj9/NLudsL5PENzpMTyCyyBZbXgFlwVwehgAZ+tU+X3G6fv49OOPaNHM+XqDs/lGfuXV1E8+Y/+BA/y+YF7GftJ7Sv42/1fKhgS7VA5DweVpQc8fBaUZiibfFe48EyZ9SFhoBUY+NTTXv+8k/6zf6HRg9cdf5nLi5Elmzpie5d7p0P5RPpvxBT/+PJdWLZpTs0aNLNtkrycC7Ni5ix59+pOQkECF8uVz1EmK6t45fOQow0aNJjw8gqCgQEYMG5rxZVo6Z559XHk+stntjHtrPDdiY/n6i+l4eno66mE7d3L1WjSKLFOzZg26dOrI2nXrOXb8BLIk8WDbNrz+yksZjZHWrP2HOT/9zI0bsXh6eNCpYwfGjBqZ0bvTmXOQW1oKW0/PEVj9Ww1moJw2FIBmZLvdP8tyCRV/Tx2zR9dm//k4MrcJlWWZcuXKcfToURo1apSjK4vdbuf69etERUWh0+nw8PCgbNmy1KlTB5smI506ieImIdlV1JhUFD8d1ugUNFWCFDuarCCljZ3jrMK2ppAkHWgyitWILVBDn+pGQH0/fprRklIBbvR63I+la+N4c/IxNGD67OooOFqcvjL6klPHiI2LIyQkmFYtWzB3/kK6demMwWBAVVV+njuPJ3p0IyIikti0wGrL5s1YvfYfIiMvU66co4Jw8NBhatWqmSOomht3NzdkWcac9q3t1m078Pfz46Wxz2O32ykVFAjAH0uWMvPbWQwdPIg6tWuxbcdOXn/zHT79eErGDfP9jz+z8Pc/GDZkMDVr1uDM2bP8On+hS+c487EG9u9Lo4YNSIhPoHLlm5Xqnj26ZQycHhgQyJUrV5n8wRT69unNww+1JTEpGQ93d5ePm5v1W87SrGF5/AINENgC3loDn3eFnfOg/Qi2hEvEecDsRvB0Y8c35D071mLF2vPsOxxJh4edHxNz+85dvDtxMsOeHMywIYOzLFuw6HfmLVjIM6OfpmJYKMv+/IvX33ybRfPnEhgQUODy/QcOUbpUaV558QVSTSbWrd/Ai6++zoxPp/FA40bodDoe79Ce5X+tIDk5OWM8scjIyxw7foL/yyMgCkX3uWc34qlhLP97BStWrcmoMBZ0HTZ54AH+WrGKa9HRlC5Vivj4BM5fuICHx83r4eixY7i5uVG3Tu1Cp7EwLBYziqLwzjvv8Prrb/DYY4/x2WefsWzZUtq2bQPA888/T8+evXjttddYt24dn376CYqiYLGYC9y/pmmsWLWa1q1a5hv0K6p7u6BrMDfZ85+C9nHg0GHKlC7Nqy+9iMVsZsmyP3l30vss+W1Bjq6NztDQsNntWV5Lb5VUmLzwXncr562weVhBirIsy66gtN1JZVZh7PzvEL8uXsGLowaxZNU60DTMFisXwiNp0qgeTRvU5lLUVWbMmouExpJV63j8oVZ8Pns+7Vo2YWCvLgWch0B5AAAgAElEQVQew5m8xJl1iqMscCZ/yeu6Kqx7vbwjNdXRVVtVbwZXNQ3GvgUdH4aumcajTa+rq6rjJynJqUMcOHSYWjVrZBkq54nuXen1hOPeyy2wOn/Rb3h7ezP5w6lci46mbEgwzz0zhqZp40iWK1eWoKBA9h84lGegLL/80NX1d+7azY0bN+jZozvXomMYPmo0h48cyfPY+b2/xKRkAHx9fDJeq16tKoqicOHCxSyB1VupA2qaxrHjJ9j73356dr+1HlrFRZMcraI95TDCunVB52ZEtdkw+Plxff8hdDodVQb2u7mBE8+HztapIO/POH0fLZs3dymompfc8o38yquH2rZhxarVRERGUr6cY/iWffv3U61qFcqVDWH+wt9cKoedKU8Lev4oKM2BAQHFlu8KJSu0Qnn+3b6T5JRURo0YmuPvO6Fe5CpN01i9dh1t27TO9QuJZ54excpVa1i5ek2WwGr2emK64OAyDBk4AFmWWbI8Z52kqO6dlNQUhgwcQHCZMuzYtZsPPvoYnU6X8cWeM/e6K/VrTdOY9ul0LoZfYtbMLzPKnAOHDhMSHMK4114lOTmZ7+Z8z4dTpzFy+DD69+nNxUvhfDNrNtWqVqFvb8cwQdWrV+PVl17E28uLU6dPM/PbWYQEh2SUjQWdg9zSUhT19ByB1a1qIEc0H/ywEq4asUlZKwp6NQU0FVmCJpVzPtR6enpSo0YNTp06Rc2aNQFHV//w8HBOnz5NSEgI9erVy9LdHSAx1YoJFZ0B7FfNSG4K9qupqEl2kNNaqkqgaRJSHt3/i2U4AFmHbFOQVAnQowYrLPyhNaUCHBFzsxk+nXOW5GtWFLsRBT29OgSgSfCG+apTh4iLj8fXx4e+vXqy6PfFrFy9hp49urN5y1auXrvG4IED+G729xktVps3a4rBYGDbjp3079sbgMNHjvDYo7mPv5pe2JtSU4mIjGTu/IWoqkqbTN9+hFaokFGpBDBbLHz/0y/07dUzY+yfFs2bceXqVb6ZNYfmTZtitVr5fclSBg3ox/ChQxzrNGvK9h27XDrFFouFH9KO9czTOcfBAvD386dyptYLkZcvY1dVmjdtQp3aRfvwcCPeQrVKjsqE3WZDqdUC3t0DRkcL5LEPSDxRC6r7aNjtoCgSlcMCkSWNS5GxTh/n3PnzvPPue/Ts0T1HUNVsNvPT3F95dvQoenRzPLjWrlWTzt17smXrv3Tp1DHf5b2e6AFA+fLlaNa0CQAPtW3D2Jdf5ZtZs/lhlmN4iR5du/LbH0vYtGVrxtiba9evx9vLi4fbPZRrup353D08PFiyaIHT5yKd0WCgapXKXLjo+FLCmeuwSeNGKLLM/v0H6Ph4B/YfPIi3txcn/3eKlNRUPNzd2ffffho1aJBrt/vb7a233ubEiRNMmjSRjz+eiqIoTJo0mSeecLRUX758OdOmfczq1aswmUz06tWbWrVq8dFHHxa477j4eGJj46hRPe/gflHd2wVdo+nXYH75j7P7KFe2bEb+VLNmDZ7o05+du3bnmCjGbDZjsd7sOeDl6Znjy7WDhw7Trn3W7TavX5vxkHsreeEdI/vYqdnHXHVxbNXMXD5vRZSHZXk7xVSWZVdQ2rt27nRHlVmF8dzrk5BlGV9fXyIjr6Cpdvx9fIhLTOLQsZN4e3liMpnx8vQgLi6By5ev4uPphSJLvDLh4wIDq87kJU7lN8VYFjiTv2S/rorCPV/eZW4RqGkZ42Fis0OXDnD9BrwzBWZ9enNZbtvmIzo6mtKlS2fbNP9t/9u/n7p16tC/T2/HeMKr1/LauLf4cfZ3VK1SGYDSpUpzLTo6z30UlB+6sv6SZX/S/tFH8PHxwcfHh4YN6rN46fI8A6v5vb/QCuUJDAxk0e+LqVy5Ej7e3ly6FI5eryc5OTnH+q7UAbfv2Mk7776HXVVp1aI5gwb0y7G/2y7T86BRr0OTZaz2WPZP+ZSHvp+JJMtErdvAqY9+IrBOBUyxcVQfNhidh4dTDW+cqVOly+szTkxMJDY2jlo1a+SxpWty5BsFlFfdunTG09OT7Tt2ZTwzbt+xi44dHnO6DpbOlfI0v+cPZ49bHPmuULJGjXBcN9t27GLqJ9eZPOGdXP++m8TFxxMXl3c+4enpSbly5bhwIWuDu+z1xHSVK1XKaKFao3p1evTpl1EnKcp7p0WzZhmB3ZYtmnP12jXmLVhE+0ceduped7V+/cXMb9i9Zy8zv5ieY+ickJDgjBbtJrOZie9/SNfOHQkKCqJF82bs3L2b3Xv3ZQRWK1eqlHHu6tery559/3Hw0KGMwGpB5yC3tNyIjS10PT0jsJp5NvMbqo5YSZ8WyNSyTBDlpt4gNjb/CR78/Py4fv06R44cQZIkdDodgYGBdOjQIc8JWKKTLcQlm2hV2odNJxNBBnuiCooMmuYIpmoaqIA1beDxTOlKT3t+Y67eCjlVj2TUoXlISIrCl9NbULeGL46TA2PeOkbEDjM6vRuSqjjSoWkgSahG51rLJiYkEBAQgIeHB316PsGCRb/TrWsX5i1cRPeuXQgMCMDT05MLFy8Cjhu0VYvmbN76L/379uZadDThEZE0bfJArvvPXtiXK1uW98a/TcMG9fNM08WLl0hOTqZJtn02feABvvrGUShGXbmCyWSiYYMGeezFORcuXiIpl2Plp0b1arRt3Ypx7/wfj7R7iF5PdC+Wh1Ut7bqyVHBMjmIAPPRQ3Ujat923fp35B/gTGhrKilWrqVe3Do+mdSEFuHgpHJPJxFfffMfX387KeN1itRJ15UqBy/PSsnlzvp09B6vVil6vJzS0Ao0aNmDl6jV07dwJTdNYs/YfOjzWHqMx96EsIi9fLpLPPS+Z711nrkMfHx/q1avLrr376Ph4B/bu+4/uXbuw5p91HDhwkBbNm/HfgYOMGTWiWNJ7KzJX6HOr3Be0PC+a6jh3Sj4PXkV1bzt7DeaX/5w6fcbl6zgwIABvby9iYq7nWPb5lzNZsWp1xt9/Lvk9R4uLGtWrZXT3TpdfSyNnzlde98q9xOXzVgx5WHGVZdk/v4LSdieXWa6Kio5BkiRkzTHpi5ubG99Mm0BMbBzVKoVxNjycamFh9O/Zmf6jXsWuqhl1w5BSOcffz86Z8sKZdW5XWZBf/lIc7ofyrjglJSVR0YV5HcwWCwkJibRo1jSj5Vz1atX4d/t2Vq1Zw4vPOyYa8vL0JDGfVrOu5od5rR8ZeZm9//3HnG+/zni9V4/uTJ4yldjYWPz9/bPvKl8Gg4EPJk7go2mf0q1nH2RZxsfbG5PJlOu+XKkDNmrUkNnffs2Zs2f58Ze5vP7WO3zx2SclO85yWl3Hr2Z1fFo2ocL2U5xTz1K7fm3cS5fGlpJKyo04ritRxJy6im55KYIaN6RMi2ZoqlrgcADO1KnS5XlNpN3jipJzH5u3/sv0GV/yy49zXOqBkyXfKKC80uv1tGzejH+3b6d/396cOXuOiMhIHnqwrcvlcGHqQ5mfP271GUa4x2SP1RRR7Oa2S49FuTQlnnMCAvyz1EmK895p1LABs7//Ebvd7tS9fvFSuNP5wcZNm0lMSuLzTz4ucE6EkOBgwNGjOz3oWaZ0ac6eO5exzt7/9jN33nzOn78AOHrF165V06n3mVdaiqKenhHlTA9SZi4gs/8N4E0UEUmVuBZrprR/3g+TYWFhmEwm9Ho9BoOhwILXoJOY2KEmh0/HsVG+7IhXyTKS5AiophduSCqGtMpO5oIl+/8zB10LQzLq0PQyitnA8Lfr0q9rBWyShoLG+99dZP3yWCSdhmJ1A0mHVQNkDQkJRXOutUBiUhIVKjg+2L69e7Loj8V89vkXnL9wkakfvg+Al5cnSZkqeZ07Pc6b77xL1JUr7Ny1Bx8f7zwvKEdh/wru7m74+frh6+uT63qZOXPu0rtf2m22fNfT6XSYzXl3Y05vvZzXJZLbtaMoCh99MJn9Bw6yeOkyxjz/Iv369MqoFBeGv4+eU+evo6GhUxSSrNEsvTYWo9Wf/hW/48RXKmcmQcOfJSp0dVxn5y5eR9UkQss5Xwn29/VjxmfT+Oqbb5n4/ockJCRkfHNkMDjOycsvPJ9lTCIAH29v4hMS8l2eF1mR0ev1WVo89OnVk/ETJnL+/AWux97gctQVevbIu4uXs5/7rTBbLJw9d56H0rrFO3sPt23dmp9/nYfNbmfXnr1MeOct4uLi2b5zF56ejnundctbG5OzqE2d+hFubm68997EjKEA3ntvAuvX/wPAv/9uo1evnrz66usZQwEsX77MqX37+fni7eXFmbPn8lynqO7tgq7RdPnlP87uIzujwYgtl7QNGTSAzh07ZPyduTtkOg93jyxdcQpSVF/S3ZGyt2jNh6vnrTjysOIqy1xNe1y8I+13SplVGNMnjWPs+KkkpiQTXCaIS+GXadGkAas3/MuqdVu4FHWFHe77ef+tFzEa9ASXCSI+MRFVVfnm0/cK3L8zeYkz69zOsiCv/KWo3fPlXebxVNPvCU1zzJOw8p+cQwGkN0zIvm0+PD09SU5JcTpJep0OvV5PYmJixmuyLFOmdOksE8QmpyQTHJx3IxJX88O81v9zxQo0TWPUMznzgVVr/mHwwP5OHyNdvbp1WDD3J+LjE7BaLezYtZtpn32eMT51ds7WAT3c3alRvRo1qlejTJnSvPzaOI4dP1GiQ06kP+u5lwqi0XvvoPf0xGf3f/hUDEPW6zH6Gwnt9BhnZy8mkWukxieipV9bTtxvztSp0uX1Gfv6pu3j3Pkcy8xmMzdiY1GdvN4hZ77hTD3qkYfb8X/vTSI6OoaNmzZTuVIlKlUMy2iw42w5XJj6UObnj1ut+wl3v+9//IVtO3bRuFEDRo0YluPvu5Gfnx9+vr6cOn061+UpKSlERkbSsMHNXgiufCGVuU5SnPeO3W7HarWiOTnspiv5Qa2aNbly9SqfzfjS0Uo0MO+hPdLfoz3T0Co6nQ6bzfF3eEQEb749nsfaP8Kzo59Gp9Px1TffFjotRVFPl4GME5g5GJnbyZIkCSMxGOxJ/LMvKt8d63Q6vLy8MBqNTl08Ff08qBzgycoDV9AUGZS0Fqiy7PhRZJAlUGSM1vzHLi2qoCqAZlTQFGjVqwIfvl4bTVJQkFm+JprZH18EWUKWPFDdNSRJRpF0aMiggd3gXEGZmJSEm5sbAD4+PvTo1pW/V67isUcfoXRaixA3NzcSE28GVls2b06F8uVZuXoN23fs4ME2bXKMaZvOUdhXJyw01KkHUYCKYaG4p3Upy+y//fupVLEiRqPRsY6bGzt27c53X0FBgZy/cCHP5eXKhuDm5sbefftzXe7p6ZnxEJ5d40YNmfL+JMaMGskfS5aRmpqa/xtzQoeHq7Hn0GWuX00hVb3B4quvkuhxgWAPR6XUrwbYEmFXX5Xwv1QkSWL5yuMYjXaa1C/n0rEUReHlF8YycvgwPpvxJStWrQGgbIjjnJw7f4Gw0NAsP/7+/gUuz8vBQ4cJCw3Ncq20adWSkOBgliz/kyVLl/NAo0b5tgBx9nO/FXN++Ink5GS6du5481gFXIcAj7R7iOTkZOYvXERqaip169ahdasWbNu+g42bt9Cwfn1KlSr5md8NBiN2u50pU6bQq1cvvL29mThxIl9//TVHjx7j2LFjfP3117z33iS8vb3p1asXU6ZMwW63YzAU3CpSlmUebvcQW/7dxrHjJ3Jdp6jubWevwfzyn1u9jvNSvlw56terl/GTVw8JVzh7Dd4RtHVZf1xdXoSKIw8rrrLM1bTfaWVWYQzq3ZU+XR9lzebt9O/RiaRUC3//s5ma1SvTtHE9enZ6lF5dH+Pv9ZtJTDHT/4nOrN28nSf7dKXlAwX3WnAmL3F6nXuoLIB7v7zD3d0RLM3c2k+S4OuPoVvHm8HUzM8Isuz4cWK+AIBSQUHERMc4nSRZlgmtUJ4DBw9lvGaxWAiPiKBCuZv1t+joGEoFFe85tNntrF77DwP79+WnOd9l+Wn/yMOsWLWqUPv39fVB1TTmLVhI82ZN86zXuVoHBNApjrJVVe35rnc7SJJE6rVrxB89QbnH21O2U3t8KoYhyTKaqhJ/9hx2KdHR+1GWMm9Y4L6dqVM5u4+tW/8tkgm/sucbzpSlrVq2wN/fn9Vr/2Ht+vV069LJ6W0dz9SO59nC1IcyP38Udd1PuHtcCo+gTasWvPj8M3i4u+f4+24kSRIdOzzG1m3bOZI2EXFms77/EYvVSqfHb36ZmF89MT/Fee/s3r2X6tWqotPpnH9WdDI/CAkJ5usvpqMoCuPeHo/JZLrldJ47dx6L1cqI4cOoXasm1atVdam8Ligthamn52ixml3mrvaapqEjFXf7NX5bc5JKblHUrlMT/4CiyQQPXoznxOUkkCSU6Hg0TzdUd2PG2EyaqiFbzBjV8FzTXBwtixSbQun6/sz65AEkWUZSNQ4eS+KZt05gtBuR7AqSpCDZdWgGCU3WkFQNZA3F4twDd3JSMu5uNzOTfn16kZSUxMD+N2ei83B3JynT+EiSJNG3d09+/GUuSUnJTHNi/EVXGI1GRgwfyqw5P+Dt5UntWrXYvnMnO3fv4eMp72es8/TIp5j57Sx0OoXmaYOyx8XFZpnJ99GH2/Hl19/y489zqVevLjarNUsHeoPBwNDBg/jh519QFIVGDRtgs1rx9PSkUcMG1KpZg42bN9OoYQOMBgOKolChQnl279lLtapVUFWNU6dP4+nhUSRjio0e2pTf155izoz/GPh+Iuags1SN7ctDIWNRVZWQDjLNl2ns6qpxbjrEVI5kxcaLDO/XgIBAj1s65vChQ0hKSuKT6Z8THFyaJo0bM2TgAH76ZS4Gg4EmjRths9mIvBxF/769MRgM+S5Pt2vPHpb/9TfBwcHs2r2b7Tt2MvHd8VmOrSgKfXv3ZNb3P2K1Wpn64eR80+rM556SksKTI0bRuGFDxucxCVZCUiIHDh7CZrdz5coV1m/YxP6DB3nm6ZEZY4s5cx0ClCoVRKMGDfh57jw6tH8UnaLQvGlTLBYLf69cxasvvZDl2Ju2bGXKx5/w/sQJGZMJpL/2waQJGePCrN+4iY8/nZ7ltcKYP38+EyZM4JVXXmHUqFE8/fRoDAYDbdq0pW7dOgC0adMWcDzszZkzm++//546deoweXL+n0u60aNGsP/AQV54+VX69+tD3TqO/V4KD8disTBsyOAiubedvQbzUxT7KG7OXoMldU3dqQr6bG/XZ+/s5+dq2ou6zCqp60fTNIb27U73YS+RnJTC0L5deXHCJxhkMKT1JlFVlRSrnWF9u5KSnMqJ0xd549mncu3VlNv5LygvcXad4igLbpf7sbyjQgUIDIRLl24GV/PqUp3eYk9VISAAyjn3JXWD+vWY+e0sbHZ7vl3xM+vftw9TPv6EX+bNp1mTJixethyLxUr3ro7x6q5cucq16Oh8hxgpCjt37SI2No4e3bpmTCqUrlPHDqzfuImDhw67nI6oK1cID4/g6LHj/Pn3Cnx8fBj/Zt6TkRZUB1RVlVnf/0i9OrXx8PDgclQU8xYsIrhMGWqktdAssfwrrTt/7IlTXJq/iIgd+6g+vD9l2j1Iwtlz+FSpTO1nR3Pyq59JvHQYzclrJDNn6lQFGTNqJAcOHeL5l15hQL++1K9bBySJw0eO5rudM/mGM2WpTlHo3qUzc+cvQNM0Hk+b+duZbYMCAzlw8BDnz1+gUqWKTpen+T1/3A11P6F4TH5vfL5/361GPDWMg4cP8+Krr9Ovdy/q16+HyWRi1Zq17N6zl2FPDs7Sszi3emL6mMT5Kcp7JzIykr3/7cdisfDPuvUcPHyYzz/9GHA+DuRK/drf359pUz5g1LPP8/mXM3l73OsupTddlSqVUWSZn+fOo0unjhgMBm7Exjo1ZEt+aYm6cqXQsaUsY6zmJj14mRFgxYafdo5L4WX5YMI2mjfbRrmKpWjZphlVqlZCr9ffUiuhRJONudsjcDfI2I9fRkkykdqwctoMoWlNpiUNo+UKOntCljTnNolVUbVa1UrpWfRtG4ICDGioRMWYGPTsCQyxBtCB3aihM+lAUZBsCorqmGwLJFQP51qspqSmZrRYBShdqhRvvfFalnU83N2x2WykpqbinvaNTqfHOzDnx58IDAjggUYNC/1esxvYry8e7h7MW7CQn+bOo0L58nw85X1atWiRsU6/Pr3x8/Nj7vwFLF3+F+5ubgQFBWXJPHr26E5CQiLL/vqLn3+dh6eHBzWqV6Ncpork0CGD8PHxZuFvf7Do9z/w9vJiYP9+NGrYgKdHPMW16GgmfTAFT09PenbvhqenB4uXLiPycpRjps/Klfjog8l5ttp1RYsHQhnctSYfz92DvkFDRg+YjU9I3bT7AOw2jbKdJVptlbFJFh4ZvRB3vcyrz7bBZlPR6Zy/sTN77pnRnDl7lvc/nMrPP8xm+NAh+Pr68PviJSxeugwvLy+qVa2SkXEWtBzA08OTZX/9TXh4BEFBgfzf229mzPaXWdcunflp7jxCQoJp2bx5gWl15nPPT6lSpdi3/wAvvPIaBr2eoKBA6terx6yvv8qxD2euQ4Du3brw34EDdGjvmMTNYDDwcLuH2LBpM49me8/5fomUyxg5RTVuTtWq1Zg791d+/vknZs+exYYNG/nww/epVatOlvVOnDjG+PHvEhFxieeff57hw59yOl/18/Vl9rczmbdgIZu3bGXR74szWgg8+kg7oOjubWeuwYIUxT6KmzPnq6SuqTtZUeRhRcHZPCRzkLCgtBV1mVVS148kSZQvF4IiaXw88wfeeGEkE18dzV/rtnD+vONL7EoVy9Ojw8MkJicz9as5IMmUKRXkdFc2Z/ISZ9YpjrLgdrhfyzuMRvj8c3j5Zbh6FSwWsOfTwlGvhzJlHNs4+SDTonkzps/4kj179+Y4R3np3PFxYmPjWPrnn/w8dx6VKoYxc8ZnGa18N23diq+PD/Xq1ilgT4WzavVaqlermiOoCvBA48b4+fry96rVLgdWf52/gM1b/6VSxYoMGTSAbl06Z3nGyE1+dcCUlBTOX7jAylWrSUxMxNfXl9atWjJ86BCMaZ9TiV1jaceQFYXovYcJP7EX7y3l2TfuQ+q89TylmzYm5r+DVBr8BFFTj6DabJA+tJyTz4jO1KkK4uvrw+xvZjJv/kI2bd7MgkW/IcsypYKCeKhtG9xz+XxcyTecKUt7dO/KrwsW0rljhyxdhgva9qlhT/LxZ9P5bfES3nrjNafzqIKeP+6Gup8gOMvD3Z2vv5zBb78vZt2GjfyxZCk6vZ4a1asx5f1JPNimdZb1c6snOhNYhaK5dxo3asC27TsYP2EiNquVqlWr8MVnn9A4UzzJmXvd2fwgXblyZXn1pReY9MEUHmzbhtYtnSu3MytfrhwT/u8dfp47jzX/rEMC/Pz9eeShB13aT/a0+Pn6FDq2JHXv3l1zfeBxiWitPglXdWgnDuHppaNc1QCCQ/1o1rYeNetVJqRsCCEhwQXOzpnuRpKVY5GJHN56hj+WHsZSvTyqtxvKjURUTzc0nQ7JYiXo0kqMWiSQM7Ca+Xfm/584cYLz53OObeOMR/tvZsNv7VDRsJqh01MHObfWjOqjIZvcUDQFu6eCbNYjaQof/1KGPu090DSZqtUiOHsm/wF6C2vE6Gd45OF2DBk4oFiPc79JTDDTY8QC9u+8zrihzRgytl7W8VPTJigDGDfpH7p3qEabljln9itJI8c8R80a1XMMpi/cGc6cOc2ECRM4ceIEI0eO5MiRwwDUq1efH374gVq1ajF58mSqVi14NlrhPiY9dvP/uXXvL2i5AMCAIcN4pN1DjL5PJv1Jl15fGvXqBJat3ogsK1SvUoGOD7XG388XTdNISExi7abtHD9zHr0i07n9g3zz8bu5BgPuV1/M/IYzZ87y1YzPSjopd56kJDh92hFcjYrKOX6qLENIiCOoWq2a08MApJv4wRSuX7/OV58X/txbrVYGDX2KTh07MGLY0ELvTyhe6S1Wo/ft5+jEjzi+ZhmSpnFDVek6ZRqm6BhWfz6NCrIRk2SjzmPdqPfBBIIeaOTU5FXCrRHPH0Jxc7U1/5wff2H7jl0uHaN1qxY8fZeO+yqUDJ0zXbly0giSjmIr3ZSkCF8S46I5vi+JsyfC2bryKL4BHjzctyZVqoVRtUo1GjdpVOA4dAFeeppV9OHTCaewBQeguekxnL4Meh22QF9kixXfM3sw6CK5nQ19Is7ZaN9nN5oiEZ+oEv2fiuYhoel1oCmoKEgoqN4qitnAlG9j+XZeMnp0GCsUvvVkbk6fOYMkyfy1YiUJCYn0fqJHsRznfqVpGt4+RhbP6s8rE1cxZclOpv6+mbZNK1KqtBuSLDm+bVdBQcLbx8iiv4/w/bx9hFXyZ9Lr7Uv6LQh3geytV61WKwAHDhxg7NgXGDZsWJGMESoIQt5OnPwfJ07+j4jIyGJvoXYnkiQJSZKY89kkRg/tS3hkFP/u2s8X389HRUORJDRk+nZtz+S3X6BqWAVCy5ct6WQLdwtNcwRKGzVybRsXnktGDh/K8FFjWLtuPY8/Vrj619x5C7BYrfTt3atQ+xFuD0mW0TSNwMYNCRs+CHNsHGd3b6JK+XrUGj2S2P+dImzGD5ikOKo0a0fYyKEENmrg6NkogqqCcN94esQwESQVit0tP7VL2AmUj2OtU5PUo3a0uBhQVALDZG6Ex7Nq0R4qNjhKmZBSrN+4ntAKYTRt9gD+/gEEBQVmzASfTtM0/lx9krhEC0qKFd3lG2juesyVgpFTTXiEn8JTdxTQuJ2R1f/tbU+jx3cQc8yCpBnQvGQkFHSp7kiahKYoSJqCbJGRbArxh1USTXZC2sLxTSHFkqYPp35CRGQkdWrVYvq0qRlDAwhFI30YiYBAD375qg9P/nuW73/dx7ptp7GkSqgyyCpoacNTSKqMKmnImoSfr5W3XxQAACAASURBVCQCq4LTdDodo0Y9Tbt27XjvvYkATJo0iapVq5ZswgThPvHW+Hcd44wOGUzLFgUPg3KvUhSFFo0b0KJxA/p260j/Jzrx4jsfEXMjlinvvMTg3l1LOonC3Sg9QKqqN7teZ++Cnb5O+kRXLjb2qFC+PK+/8hKBgQGFTCxUqFCed958HW8XW80KJSf9y6HKfXqi2e1Ic9wo27k9ccdPIAGNPhjH1c3bqfrUYCr36VnSyRUEQRDuUVK3bt00Z7vr58aienA1tgLJZyJRk2Ko1NSA3k3CZtHQu0koOkeBZzQa8fLyomxIWerUrUOZ0sE0aFgf77RxXqKuJvHO+xs4e/4GUlo3IVu5QCS7HX3MdXzkvej1sTnGT81tnNX0rm3prxVmKABBEARBEARBEARBEARBEITsCt3P1CCnEOJ3hht1KhF7RiE+Oo4ylSV0hpvfOGuahslkwmQyERMTw9FjRwkICGDHzsqUCipDsxYtWbHhOmcuxiJJoMkykqahi7yOrFnwdj+IXonNMw3Zg6qCIAiCIAiCIAiCIAiCIAjFqUgG8NMpdkp7ncGrujtWqxdoyfn21ldVlZiYGGJiYtC7+bJqeypRMZ6OLkCqBpIGGuiIx0t/Er0cA+RspeoMEWgVBEEQBEEQBEEQBEEQBKGoFenMKB4eqS5uIXHFVB9zijeKbEFCQ0WPpKm4KxF4KUeRJBuaRo4hACDvoGnm112fmEsQBEEQBEEQBEEQBEEQBCF/JTLltB0jJqkcyVREwYqnfA4VN6yqD27yFTzkC+i5kWX8+uxBVWeJFquCIAiCIAiCIAiCIAiCIBS12xJYzdzaVJIk7JIHihaPP3tQMWKmFO5E4yPHI2spSFLOYKgrAdLMQVjRYlUQBEEQBEEQBEEQBEEQhKLmVGA1PSBaGJkDo3r1Rqb9JWHk+s0VC3GY3MZgFS1WBUEQBEEQBEEQBEEQBEEoarKmaTmCj3m9ltvv7DJvm/5/SZIyfgoKft7KBFXpROtUQRAEQRAEQRAEQRAEQRBuBzn9P5kDmukByuzd6TMvyy1Imnn97MHSzEHWzPvMfvzsy10JsIrWqYIgCIIgCIIgCIIgCIIg3A5ZhgJwpit9bmOX5hUkzU1uQdjsgVtnAqSFadkqCIIgCIIgCIIgCIIgCIJQGFkCq660Es0tCJp5gqq81slrP65yNgCb7szZcy4fQxAEQRAEQRAEQRAEQRAEITe5tlh1VkHjsDq7z7zWzy94mt+wA+m/M79++NDBAtMhCMK9KepKNCHBpUo6GYIg3AaFqcvkVa/J6/+5rd+6dWvCwsJcSoMgCIIgCIIgCHcnueBVSk5BQdX8iImsBEEQBOH+UpjhgQoTVM08lrwgCIIgCIIgCPePOzqwmpv8HnyceV0QBEEQBAGcG6/dmaBqQfsQBEEQBEEQBOHepCt4lTuXeIgRBEEQBAGKtk6Q276yB1BFcFUQBEEQBEEQhIwWq3fiw0Be46Wmy9zdX7RcFQRBEATBVc60Vi1oHTEMgCAIgiAIgiDcn3IdCsDVyacKcqv7SA+cSpKU70RWgiAIgiAIrsgrGOpKoDX7PlRVLeJUCoIgCIIgCIJwJ8sIrGZu/Zk5iJn+euaHB2cCnIUNgubX5S6vY4jAqyAIgiAIRSGvekj6b1VVRVBVEARBEARBEO5zOnA8JGQOrELWgGp6i9HsyzJLXy+31q7Z188eAM1+rOzpKSiomvk4IrgqCIIgCEJBnBlHNS+Zg6iZv3gWwdX/Z+/O46Mqz/6Pf86ZJZlM9pAFCEsCGAQiCMgmm+CGC1jFWrXKY136aK31V7VWcS9qXVoR16daFVtX0CqiIAiiWARkEQJCEBKWAFnInskkM3PO/P44mWQymaxkAXK9X68wkzNnuScbc75znesWQgghhBCie6mdvMr/JKKxgDIwwPQPRAO39d9HsNC1sWMFbtOYpkJUCVeFEKKOpmm4XB7cbjcejwePrhvVdrr8rRSnhtb+v99oyyOvF2+Q/Xm9uu/hgG11vMYG6PLaQwghhBBCiG7HHGxhc5fYBwalvvtt6c0arHq1pZNFCCGECE7XvVQ6q6iqrkbzeLBarVgtFkJCQzCbVFRVbfLNKyFOJq19TRCssjTYa49gPVSDtQbw7U8qVoUQQgghhOheggarLRF44tFel+Efzz4kbBVCdHeapuFwOHFUOrHZQokItxNitXT1sIQ4KTQXqgau19r+80IIIYQQQohTS5uD1UDNnVC01wlHcy0ChBCiu6qoqKS8woHdbiMxIQ5VVZvfSIhu5niqSoMFr8FCViGEEEIIIUT3YD7ZgsrWVMbKCY4Qojtwuz2UlldgUlUS4mMxmUxdPSQhTjpNtUFqLoyVqlUhhBBCCCG6p3arWO0srQlV26s9gRBCnKiczmpKSsuIioogzBba1cMR4oTW0kkvm+oZH+zyf6lWFUIIIYQQons66YLV1pCTHCHEqazC4aSy0kmPuGgsFumjKkRbNTdpp/+ywFtfNav/JFZCCCGEEEKI7uG4glXfSYSCFxQF8OLVjRMNX3sBL/U/920XuMxgVJgqgKIqtZ97vTTaK1AuvxNCdEcVDidOp5O42Ci59F90a635/78l6zbVR9U/RA1cLq9DhBBCCCGE6H6aDFab6r9aXV1FZHgo/fv1JS42hpCQECwWC4qi+G2jgN/mSsDntctqVvV97ruE36NpVFVVUVRUzN6sA5SWOaUqSwjR7Tmd1VRWSqgqRFeGmcEmr5KKVSGEEEIIIbqXJoPVxkJVp9PJwP49uGjG+birHVRWOtA8HnTdY5xg1JxoKKpaU2mqGAWtNcFqbZjqu+cLVRUFk8mESVVRTWbAiskSydDBqUw7ZyKffLqUzL1HCAkJaXTM/idZ0mNVCHGqcbs9lJSW0SMuWkJVIVqhpf1VA5c3dhu4rrzeEEIIIYQQovtpdSsAXdeJDLcybcoE8o7sx+N21YWm+IWxioKia2g1nyv+oapSu6SmhYAvVDWj1BwDj9t4zFWFs7ICs9nKjAumUVDwMRVOT6Ohrz85yWncFdvq7n80vOvG0Zl2VsBD+4z7Q+3w2MCuHY8QbVFaXkFUVIRU7wvRToJd+t+SbYJNXCWvO4QQQgghhOheahuXNjVRQ71luk6vnnFUVBTXD1WVgFC15tZ4NEioqlA/VDWbMalq7TL/xwA8HjdVlRX07p2At5lL7eTERghxKqqoqMSkqoTZQrt6KEJ0K42Fp20JZYUQQgghhBCnDhXq91Jt6lJ6Yz0Isai4qqrrV6oSEKrWLGm0UpWAUFUJEqrW7IGavqsudzW2UGuDPq2BWlLNKoQQJxNN0yivcBAZYe/qoQhxymguCG2sZ6oEqkIIIYQQQghopBVA4AlC4AmExWxCUbx4vQE9UwMqVWmsUtUvVDWbzaiqX5/AgEpV//sKEGK11Oaqre2XJoQQJyuHw4ndbpO+qkK0QUsv72/pOoETV/kvE0IIIYQQQnQftcFqi08GFFBUxQhV8daEpgo9e/Un/cxxhNkjMJsb5rVeL2xc9xVHDx8AvKiqislkRvWvLq0XqtYPWH23qmocr6XjlZMcIcTJTte9OCqdJCbEdfVQhOgWmrrcv6XrCiGEEEIIIU59rZ68SkFBRa1XqWoPj2LoGaOxmM24qhy4Gtl2yLCRKIpC7uH9Rqiqqn47bqJS1demAFBVU21VbGMz9fq3MJC2AEKIk12lswqbLbT+38yOPubRnWzZvpf9R4spr9IwhUYQ07MvQ88YzpCetk4bhxDtpbWhZ2vDVQlVhRBCCCGE6H5aHawCfqGqF2ou5zdbLHi9TU8qZTKZGDfxfKwhgT0CA8NPL7qmkfHjOvZn7apZxddmwHdS03QvWCGEOFVUVVcTEd5JvVW9Zexbu5IVOwrx+C32VJaQu6+E3H072T5sGhdNSiFS3rcS3Zi81hBCCCGEEEKobTsxCJyoSq1/SX8jwiNiCA+PwWI2B3yYAj7MhISGcsaZZxMdE+9/RAJD2MaqRILN3is6zs6Ktm2X74JsZ9ccuyWOd2xCHC9N09A8HkKslk44mov933zOFzsK8Zgi6D/8bC694pfceON1zLniQqaP6EOkSaNgx0qWrD1CdSeMSIiO0txl/U091lSv1RPFvn1ZXD/nBoqLi5tdt6ioiOvn3EBWVnYnjKzOh4sWM/vKq0g/40wGDhrMyFFncf2cG/jhh01t2t/ESVNJSR3EihUr23mkhsWLPyYldRAXXXzpSbXvpowcdRYpqYNqPwafPoyp55zL3AceZP/+/Z06lmBfg7vvuZeU1EE89pd5nToWIYQQQoiWanPFqhGqGhWreL1YQ2zYI2LqT0QVeDBz81WttbxeLBYrqtlcryXACV8gpW/jH3f+g63u49yPZQS3zL+ZMzvvyt96HBq8eBAcft+u2/tAgtW4v7MClhbA/iojHPVJsMJViXBWFNgb+VHIdsLnBbDTUX/blFC4JN6oRf665jzwnBg4J7bhPj4/BhtK64eqdhNc0gMujoen9tctf2xA6573h3mwsxyyq+qWDw2HYXZj3409LyE6gsvlwWq1dsqxtMMb+WZ3OZiiOfPiy5iY7HfcxL4MSezLgJT1/Gfpdgp++oYfBv2SiT27xy9Ewab/sKJsGFdOG0TnfDfEyeZEC1gfefQxvvvuv1x9zXW89+6/iImJCbpeUVER11x7PZmZmTzy6GO8vfDNThnfiy++zN/+/hwAQ4cOIToqmp927WLt2u/YuPEHFi16n/RhwzplLC3Vs1cS086ZSp++fU+qfbdEXFwc4XY7lU4nBw4c4MCBA3z88Se8sGA+5547vVX7+s9/PuGPd93D50uXMGTI6S3erqu/BkIIIYQQbdG2YBVq+5wCmMwhRMUkGv3/mjqpaOUJh6KAV2+6V2pgGwBx/BwaPLy3frDoC1XzXfDiocarRPNd8MIhOKcCbg/yujjbCQ/vM47R4LEqY1u7qe7xoUGufn7xYF3wGjjuD/Jg6bHg+2/OzgrjueUHaRK8s8L4+LoY/tQfUqTFpOgkbrcbq6UzqlU19u/YS5kOMSOm1Q9V/YT0HMf5ww/zzqZCftpxkPE9U+iQaNVTxM9bfmTPoXxKnC40xUpEdBIpw8cyIll+AUX7Cnwd0dLK1RPZ8/P/ztXXXEdmZmaj4ap/qJqWlsb85/7WaeN7862FADzy8IPMmXM9AE6nk9lXXsVPP+3iww8WnXDB6tkTJnD2hAkn3b5b4s/3/onZsy8HYP/+/dz75/vZuPEH7rzzj3z11ZckJSW1eF9Ll37epjF09ddACCGEEKIt2hSsKih1FasoqCaT0Qqgg042akNVRWnQjvWEO8FRh3PLgpe6ehRt1lio6l81ml1Zf5uhdiMMzXcZFaxgBJBhZvhNL7/tmghVA8fQmKeyYWNZ27dvTLYTHtpXf9lQu1GpurPCeLxSN57j3Xvg2dMkXBWdw+PxEBIa0vEH8h4jJ88FajSDB/doctXYtBTitxRSkJtHgTeFpHa/lMDFwe9XsbEkmTGTLiE52orJVUHu7g2s+2Y1posvJj26vY8puqOWBKhNTVbVmkC2s8XGxvLeu/9qNFwNDFXffedtYmODXCLSQcrKjP/Mo/3CXpvNxhv/fB1VVYiPj69dnpI6CKBeBeRTTz/Dq6/+g0suuZgXFsyvt2+Xy8X9cx/k88+/wOv1cvnlv+DBB+7HZDLeBho5agzFxcUsXvwBby/8Fyu/WkVsbCxz7/8zY8acxV13/4mNG3+gb9++PPP0k6SnpwPGper3/OleTj99MF98/hkAHk3jlZdf5T+ffMrRo0ex2+2MGXMW9/7pbvr169fidYLtG2Dr1h+Z//wCtmzZisvlon+/flx99a+YM+e62tfHt/3u9yxbtpyHHnwAi9XCyy+/Snl5ORPPnsATT8xrtFq5Mf379+fll15gytTpOBwO3nnnPe666/8BUFxcwlNPP8OqVaspLS1l4MAB3HPPXZwzdSqVlZUMHTa8dj8XXzKT9GHDWLLkPwD897/reH7BC+zenYnZbOLMESOYO/d+UlNTmvwaBCooKOBvf5/Pt9+upbCwkB49enDhhedz1x//SFiYvDgTQgghROcKGqzGKh6iFDeH9BA8BLkWXfG7o4ASbJ12Uneok6ANwEmuJaFqghWuSoIPco3bS+Lr7+ODXONSejAu9/cPVpcW1IWeYaqx/TmxdaGsf3uBYHZW1A9Vx0TCL5PqAk7f9s0Fr8G8dLDufv9QuDelru0BGON7KrtubG8eaV2LASHayqPrmE2d0BNEr6SqGiCCsObmyQqPJBIoqK6kSod2L1n1lpJb4CJh6AgGJdT8gltj6Tt6Etaoo2DSjINqpfz8wzp2HCyi0m0iLLYfQ8aMIS3OGJAr/yfW/bCTw8VONNVGXJ8zGD8+jVgzUP0zKz/aS/yoeA5vy0QdOosZQ63k7ljH5l2HKaw2EdEjlRFnjyIlwvcE3eRuW8nmXfmU61biB45l6pi+yGl893Yi91ltLFz1er1dGqqCcfn/tm3bmXv/A+zJ3MPkyZM488wRJCYmHPe+F7zwIhEREZx11mhWr/6ahQvfJjm5Nzfd+BsAQkNDAXj00XkkJSXSu3cv9u7dxz1/+jNnnjmCiIgIkpKSyMzM5A933sVXK5cbV2UFMf+553np5VcYPHgw115zNUdzc/nii2Vs3bqVb9asxmq1tmidYDZt2sQ1116P2+1mzJizSExMZOXKr3j0sb9w+PBh5s69r97zWfr55xQVFTNhwniWLVvG8i9XYA8P59lnnmr11zAuLo4LLjifjz/+Dxs2bgSMN/quu34OO3f+xMiRZzJh/C955933uOXm/2XRog8YOnQIN9wwh7feehuv18usmZcyLN2oOt6xYyc3/OYmvLrOr6+7lqysbFZ/vYa9+/ax4stlhIS0/A3EW2+7nc2bt3DO1KkMGJDKjz9u44033uLo0VxefumFVj9XIYQQQojj0SBYnWwq5jrLEVS85HutzKtOxREkfzWqVr3GLR15MqH4jtZAsIkkGntcNC0wVA1T4c8pRsVmoEviGwaqPlclwcbSugAy22kEn/kuWON3+X7gvhOskBBrLLsr06gODfRBXt39MZFG+OlvaLjx8cLB+sdqzge59Z/3YwMb9lFNsBrL79oDBTUh8NdFwfu/CtGedF1v9IS+XakhhIYAlZVUOoCmznErynAAhFgJ7YihKeHEREBW1k4O9z6T3uG+X8hwkgYNqrmvkfvDajaXDWT6pTOID3VSsH0Nq9ZsJHzWeHoruWxeuxVHv+lcfmESVudhNq5cw9qdScwaHgUKmLylZB+OZ8yMy4kPs+Hct5o1mXDm9Cu5MNzJwQ2rWfeNjdhLjGo17djPZCWO5cLZ8ZC3mRVfbyYjtS9jmi7wFV2sPV4LnKjBaUsEC1e9Xi979uzpslAVYN5fHuN/briRwsJCXn7lVV5+5VVCQkKYMH48c+Zcx5Qpk9u878TERN5e+CaKovCXeY/zxhtv8e9/v1sbrPr+pvbu1ZNXXnmJnJzDTJo8FYfDQWJiIs8+8xRZWdlMP/d8srOzOXz4CH36JAc91rdrvwOMlgZjx44B4N/vvIvT6aS8vJy4uLgWrRPMX596BrfbzWWzZvJcTZuGZcuWc9vvfs9bby3klltuIj4+vvb5ZGfv55s1q4iIiGDEiOE8+ODDrF79dZu/jv1qep3m5+UD8NWq1ezc+RMRERH86+2FhIXZGDJ0CLfddjsvv/Iq//i/V3jowQd4++1/o2kat9xyc22F8d59+zh3+jSGDBnC7bffRlVVFSPOHM3Bg4dqg9qWqKysZPPmLVgsFv7v/17GYrHg0TSen7+AxKTENj9XIYQQQoi2qk1MvV4viqJwmTkPtSYoTVBcTDSV8KVWd9bo9daEqQq1tx1aSqrUtnKtO2YTuvzER9/GP/7YTpNX/b1zJq8KFqo+NrBtl7rnu+r/OOyvCVa/LqpbFm8NHtiCEWBeEl9X9eo/Rv++rjf0bnwMv+/bumDVf7/nxDU+OZXdBGOijEpckGBVdA6v7m20x3S7UhJJTrSyfV8hu/ccY/S4xtPCop+zydUhJKk38R0yNBuDzp5K6XfrWPNJJtaoWOLje9KzV1/69onFpgCew+ze7yF1ajrxNmOb+GFnkJy5luzcMfROTmLMJZejmW1YTUB4b1J6WckqLkIjyiiy9WpE9T+D3hFWwEnmvqOE9J9BWqwVsJIyeiIc1TD5/lux9ePMoUlGhWqvFHrafqaiTIMe3WMCL3HyCgxXAU477bQuC1UBhg0byrffrOazz5byzbdr2bjxBwoLC/l6zRq+XrOGp556kl9eObtN+77kkotr/25Onz6NN954i4MHD+J2u7H49ayeNn0aAMnJvYmIiKC8vJwpkycBkJqagtVqxeVyUVBQ0Giw2qdPMhkZGdx62+84d/p0xo0by3nnnluv8rYl6wRyOp1s3fojADNnXVq7/IILzsdsMuHRNLZs2coFF5xf+9iUKZOJiIgAYMRw45L84uJiPB4PZnPru3+53caLWWuIUVG7ZfMWAAYOHEBZWSllZaWk9DdaGaxb932T+7ps1kwumzWzdr+KohATE0Nubi55+fktHlNoaCjx8fEUFBRw/gUXMX3aOYwbN5Zbb/0tYWFhrX6OQgghhBDHywxNh5FG69SGE0j5KlabjzqPT/2uA3VH6vIA9RTy5uG2haoOzQgwsythpyP4pE++Zf6PjYlq/Rj3O+t/ntCO03L7tx74qbxhr1V/BUGeoxCnBhP9hw0kMvsnijO+YX2/SxnXs+Evmpb3A6u2FoIawZBhfTtm4iqAsN6MPv9KzqwoIDevgKNHc9m9fjubNqcy4byJpHhLcXicHFzxNrsDNu3pcAFWKo7sZPNPhyis9IAKWrUTraffikoY4eE1z9FbQWkFhPfz++Nniycl1bjrBEx2u99l/yZUFdBq2hIIcRKo9zpOUTrnTZsmhIWFcdVVv+Sqq34JwPbt25n7wEPs2LGTBQtebHOw2sOvAjQq0njR4fV6KSkpqde7NSoysvZ+SEgI5eXlRAYsc7lc6HrjzdsfefhBKioqWLv2OxYt/ohFiz9CURR+fe01PProwyiK0qJ1ApWWlqHrxuU7sTF14beqqkRGRVFUVERJaWm9bWJi6ppP22x1f600TWtTsLr/wAEAevY0/nD6+uJu3foj4ydMqreuw+GgtLSUqKjgL/KOHDnCX/7yOOu+X1+7n1qteE2vqiqvvvIS9/75Pvbu3cc/33iTf77xJmFhNh595JHaCbiEEEIIITpLvVdZXq+XTz0J/Npy1GgFoFv5zmO8SFMUxS/M9E0ipRjVpB39urxeqNr8wZprEdCh1OHcMv/kmrzqa7/qzpacYzk0I4z9uhVVof6BpL0NVbj+E1L1D2399k3t13/f2Y30dw2msV6wQrQnRVVqryjoaKbeY5gy+BCf/VTID0s+oujMszgjNYH4GDtacR6H9u/kh63ZFLuB0Ghiwzo+UDSFx9M7PJ7eA4Yw2lPApmXL2LR9ICnpgBLFGZfMYkSwgruiH1mz7hBx46dxeapRoVqwcRErHPVX64wuC+LUcbK+qRs4UZXX6w06oVVnOXr0KN9/v57y8nLmzLm+dvkZZ5zBQw8+wC+vuprDhw/j0TTMJhOqqqLrOlVVdf/xFhc1/iKkuLik9n5JiXFfVdUOeZ7x8fEsfOsNjh07xqbNW/j++/V8+OEi/vXvdxh91mhmXnpJi9YJFBkZWfu8i4rrLvvxaBplNYFqbAd+3/LzC1i58isApk6ZYoypJjQdMuR07vrj/2uwjX+YG+gPf/gjmzZvZsqUydxyy03YQm3ceNPN9b5XLTVy5JmsXLGc7OxsNm/eyurVq1m2/Evu/fN9TJw4gaSkpFbvUwghhBCirRq8fb3GE8N2PYIYxcNBzYq7ZmKqhicTCgpGxWpH8w9Va4PcIOc2J+sJz4nEocHT+41Z74NdEu/Q4O49watT+4fWTETl7tjKzvb8iWvssv+WcDRewCJEu/GdWPtms+5YVvpPuZiL1JWs2FHIvk2r2bcpcEAmQqwa1VWHWLVkJaZZ55EWGXRnbVeazcbtpfQeO4Le/kWz5lgSokxkupxoYVFEmSooKnFBrG8lF84KsIVbcRUWUBHamwkpNZf946SoyIXWWO9YJZyocDhcWgG+ulRnLpk/O4kfktLIRqK7ae51xon4OiQwVH33nbcBGkxo1Znhavb+/dx195+My8FjY2uDRU3TWLFiJQBJSUmYa/7uxcf3IC8vn23btjNy5JlUVlay+us1je7/yxUraisXv1q1CjAu7W9L1WZTnE4n77z7HiXFJdx99x+58ILzufCC88Hr5e1//Zsjh4+0aJ1gwsJsjBgxnC1btrJ06RecM3UqAF98sQyPpmG1Whk9elS7Ph+fo0ePcscf/kh1dTVxcXFcdtksgNo+qPn5BZx99gRCQkLIy8vn+++/Jz4hvnYSLt/rtMpK450sr9fLj9u2AXDtNVczYfx49uzZUxuqejyeFo/twMGDfLZkKfEJ8Vz1yytJSUlh9uzLueCCi9jz88/k5uZJsCqEEEKIThX0FWaRbqYo+EOAX1tVxYg8VbUjT/iVmn+bj9PqV9WKlgpT4Te94Y3DxqRR+S54an/wWe8/yAu4rD/S6Inq3zP1ob0Ng1X/ADNYKNsc/+1bU1XaEmFq3WRZF8fD2BaGRJ1QrCcEZlXFo3VWsAookQyYfAVzBu1my45M9h8tprwaQuwxxCf2YsiZwxlgOsiXS1azpzybFZ+uhPYOV21WtILtrF3tYeyIQSRFWcHjpCjnJzYfMtF7fBImk5WU/lbWZGzmYMIY+to1ijK/Y9V2ldGzptI3zIapqpDcYo34KBe5Ozdw0G0FrQIn0LDNs42+KT3ZuvVHMvpPJC3KxeHN37OpJIUZ6e343MQpwzehLvBlBgAAIABJREFU1Yn8uiNYqOrrqRo4oVVnhqvjx43jwgvOZ/mXK/jDH/4f8+Y9QWxsLHl5uZSUGNWYd955R+36U6dO5YMPPuSZZ/9GZmYmW7ZupWfPnhQUFNT7+vsund+1aze//vUcIqMiWb78S4B6lbHtxWazsXTp52zbtp0ft21j2LChlJWVs+TTJZhNJiZPntSidRpz75/u4dpfX8/HH/+HY8eOER0VxfIvVwBw++9ua9fv11+fepoXX3wJt8dDbm4uuq5jt9t5fv7fa1sMnDt9GqefPphdu3bzi8tnM3rUKL79di0HDh7k1v/9LWdPmABAYlIShw8f5oEHH2Hi2RN44IH7SUnpz88/7+XFl17hh02bWbr0c0aPHs2mTZv417/fITGxZRNP2cPC+L9/vIbT6WT9+g0kJSVy4MBB9vz8M0lJSZx++uB2+5oIIYQQQrRE2966r0lWFcBksXTCjNU1oWpNuarxIrph0HpCnNzo2/jHne00edX8zpm8yr+n6ouHjNudFfDGEfhNr/rr/lRed/+GXkao2hL9bbCxpqXWAWfT6za2vb98V/v1WU2xGT1iARyexifWEqIrmM1mPG4PIVZL8yu3o7Ceg5nYczATgz46kAtmAh0Vrlp7M/786YRv3c72tZmsdWpgshIRnUSf8TM4M9X4g9B79HTGbNrA5qXvs8YDtujeDJ48gZQQoNcIxvb7hg3L3me7NZzeaWOZOD6O1V9tZ9nXoVxydsPD2gaNZ6pzAxu++Zit1RDRYxATpqQTq0BBOz01ITpLU6EqNJzQqjPDVUVReOGF53n3vff55JNPOXDgIHv37iUyMpIpUyYzZ851tRWaYASMZWVlrF37HWu++YYbf3MDtrAwtm/fTnV1de16Lpfxzu1jjz7MkiWf8dVXq4iOjuaaq3/Ftddc3SHP5c03Xuepp5/l25oJuCIiIhg1ehS/u+1Whgw5vcXrBDNmzFm8996/mT9/AZs3bcbt8TBw4AD+53/mcOXsK9r1eRQWFlJYWIjJZCIxMZFJE8/mt7+9hdTUuop9s9nMv/+1kCf/+hSrV6/hgw8XkZzcm/vv/zM33fib2vX+fO89PPrYPPbv31/b7/Zvf3uGuXMfIjMzE4ejggcfnMuA1BRu+M3NbN+ewd69+2orXpvSo0cP3nv33zw3/3m+/XYt5eXlxMXFMXv25dzx+98TEtLYZQlCCCGEEB1DmTFjhrc1wahX1xg9PIX+fRIxmc2oqono2CQuuPiqDhngmpWfUFZ6rLY6dt/+w6z5749A3ZgDe6r6Pvfd//nnn/nb3/7WIeNr4CQJVq/YVnf/o+F19184aExI5XN7n/oz31+XUVfd+expwSe5emhvXVD5y0S4KskIav0nhQrcr49Dg4f31lWl+rYP3O/Q8OAVtQAvHqzf/9X3/PzHMNRuBMoASwvgTb8r8e7t37YJtsSJ62huAT2TWvguwAnG6aymqrqamOj2vt6+HZTuralcBSJSOL8j2gII0YSWvKHq/5ogcHngY75bXdcb3Pd6vbUVkbqu1y73v9U0jcsuu4x+/fq1zxM8Dtdd/z98991/g4aq/oqKirj6muvYs2cPkyZN5O2Fb3bySIUQQgghhDh5taliVVEUzGYLiqoaE6p0VJtVr7emOtYIVZVmAuATomJVHc4tC06uyav8/b4v7HfWTcz05hGjWtQXoPpXd35eALf3rb/958eCT+o0NNwIM33bvnnEuLzfP8DcWWFMitXYpf5XJdUFozsrjH38MrGuTUC20wiFWzOpFhhVtxtL68b21H64KtFoC1CvBYHTOGaCpeHzFqKjWK1mysrLm1+xK0R1cOWqEKLNHn7oQR597C88P//vjYaqUFe5+oc7/8jDDz3YiSMUQgghhBDi5Nf6YFUxLgVSVLU2T/XWVGm0dw9ATdfQdW9tP9dgTogw9RRzbwrclWlUpgZOZjUmqi6A/LrYuD8mCvKrjb6qTfU/9Q9GHZoRYNpNRlDZkr6pgeHs0gLjIyX0+Puu3t637jmD0Uv2gzxj32FmI2z2TVa1028bITqayWTCZDZT7XJ3ejuAFvELV7NUUxv7ywjRuZp67XCqvK4YOHAA/3r7rRatGxsb2+J1hRBCCCGEEHWCloA2f1KhoCpKbdjpcFRQWtrKMsEWKCstobKyovY4/v/WjiQgcA1sAyBaL8EKf/abBNs3mRUY1Z1jIus/trTA6J/aXLg5NNwIaMP8fuocWutC0XtTjHDVX3tMZpVgNVoD9A9tuO+dFXWhqo/8ZInOFBoSgtPZzrO2taeogVwwaxazZ01jgFSrCiGEEEIIIYToJoIGq/5hZaPhpFI3oVSlo4yvVnzKgf37qK4+vpN/r9dLVZWTnJz9rFn9BVXOiroxKTUTV3nrr9/kOEVQYc30bh0abkxO5bOzwghQwQg3b+/TcB9hqnFpvn/waQ8oYk6xGQHmmMjg29/Qy9hHY+wmY/uL4xuGoABTY+CVxueBaHRcvrH9Lc04frB9h6l1+/+9VKuKThRmC8XprKrt73hCikwkXiZ+E6cYeW0hhBBCCCGEaIoZ6k4cAqs/g/HqXnTfiUbN+larFWdFMZ998g4ejwddN3qj+l/Cr+B36zuM4n+j1I5BVVWsFjMREeGEhdn8alQVNE3DS8e1de0u/pXe/DqXxBsfwZwTa3w4NOMy+f624GFlMCk2I5wFo29ppVZ/+w9ym9/Hb2pCX9/xw0zBJ9LyNzS8/kRdjbkqqW7CrJ1Grt+q5ydEe1NVBXuYjQpHJZERkl4KIYQQQgghhBAngnrt8PwDVq/Xi6IotfdrKQrVLjeoKuh67TphYaHYbL4yv7rwVAkIVn0TUdWFqn6xas2+fNupvs8VxVhTAbfHUzO29v1CiLaxm4zAsq2ChaGOVhTlBTu+LwwFiLe2bVw+x/PchGhPdruN/IIi7GG2du9nLYQQQgghhBBCiNYzQ134GXhZvS9c9VEUBV33UlFRWVN56v+YipGB1l/f/9YXjtbcrQtbffeUutuaVeqFqoqiUlbmwKt7QZVL9E5V+yvr7g9rQ7Dp3w814QSc60eItjCZTESE2ykrdxATLY1MhegMLX2dIa9HhBBCCCGE6J5UaHqiJ//lxn2FnCMFKIoJRVUxQs+AAFVpbFnNjloSqgZUqqqKCl6FA4eO1hy3ha0L5GTnhPJ1Edyd2XAyKJ+dFbDTUfd5YMWpQ4OH9hn7acyHfq0EpOJUnErCw8PQdJ3KE3kiKyGEEEIIIYQQopswN79KfaqqUlTi4JvvNnLutEmoCng0D16/SVXap1IVFMWEqqqYzBZ03cuyFaspKCzDbjdmR2ps4ir/z1sSvorO8XURvHjIuH/rLqNP6tTYusfXFMEbR+o+nxoDCX7BqkODh/dCdpURwO6vgot71K2T7zL2n12TOYWpjfeIFeJkFRURzrHCYixmExaLlGQLIYQQQgghhBBdxRx4uX9L2Gxh7NpzmKN5n9GvT09iY6MJCbFitlgw1VSr1qtU9W1Y7zD+vVb9H/Di9YJXB4/HTZXLRVFRCdn7cygqLicsIFQ1DqE0WnUrFasnJocGLxwyPoIJU+E3vRtu4//dXFpgfDTmqiSZcEqceiwWM9FRkRSXlBMXGyX9VoUQQgghhBBCiC7S6opVMILMMLudKpfOzswDKMoB8HpRVNWoXFWon4C1ct9eQFUU9NqKVKO/YJjd3iAEluD05HFOrFFd+tdsqGxigqr+oXB734ahaIIVHhsILx6EjWWNbx+mGqGqVKuKU5XNFoKm6xQVlxIbI+GqEEIIIYQQQgjRFdoUrIIRgJpMpi45oW9JtaoEriemoeHw6hDYWGq0Bsh2GiHrULsRpA4NbzoQtZvg3hSjFcDqItjvNFoCxFuNiaqGhtcFuEKcysLtNgAKi0qJiY6QtgBCCCGEEEIIIUQna3Ow2lV8rQsa668qTnx2kxF+nhPb/LqNGRouE1MJEW63YVJVjhWWEBUVQZgttKuHJIQQQgghhBBCdBsnXbDaWD9Y/7A12OdCCHEqstlCMJtjKC2voLraRWSEXVoDCCGEEEIIIYQQnUDt6AO0d7gZeNm/L2iVEFUI0V1ZLGZ6xEZjMZvJLyiirLwCXW+ikbEQQgghhBBCCCGOW4cHq41VmLbXPhsLVCVoFUJ0N+HhYSTEx4IX8vILKSktp9rl7uphCSGEEEIIIYQQp6QTshWAr49qU4/73wohhDCYTCYiI8MJD7dT6ayivMJBiceD1WrFarFgtpgxm1RUVe2QN76EEEIIIYQQQojuojZYDRZm+oLLloSczZ2gNxaWNhei+h+juWVNLRdCiO5EVRXC7TbC7TY0TcPl8uB2u6mursaj6+i6jleXv5fi5NaS//ODvoaoaZXhDXjc69XxeuvaDvm/kWs85sXrxfj9qXnc+F3S0b1edF1rnycmhBBCCCGEOCnUBqv+kz35gs7AS+596zQ2MVSwkLX+CYu3wXGCHbclWjI5lYSsQghhVLHabCZstpCuHooQ7ao1wWrg65HGbv0/fL2KAz/XfW9O1Czz3dc0CVaFEEIIIYToTlRoOCFU4AkGNB56+k8e1dhEUr4ANVCw4zZ2shNs22D3m9pGCCGEEEIIIYQQQggh2kO9Hqv+Fan+/IPKpipbGws7g4WuLak4bQkJUYUQQgghhBBCCCGEEJ1N9f8ksFK1Jb1P/bdpSS9WaDzAbWobIYQQQgghhBBCCCGEOFGoTYWXLZ00qrnL9o93/eaOL4QQQgghhBBCCCGEEJ1JbX6VE0tTLQQCe7b6lgkhhBBCCCGEEEIIIUR7OmmC1ZZWuTbXXkAIIYQQQgghhBBCCCGO10kTrLaWVKoKIYQQQgghhBBCCCE6irmrB9ASEpIKIU5l/n/jfC1NdF1H13U8Hg8ORyUJCfFdOEIhRGv8vO9AVw9BCCGEEEII0QlOimAVgvdWbe3kWkIIcaLz7xWt6zout7uLRySEaK1BA/p19RCEEEIIIYQQneCkaQXQ0nBUeqwKIU5W/r2kdV1H93rxeDxdPCohhBBCCCGEEEIEUxusNhVcNvZY4OWrgY/5V161ZD/tUVkq1alCiJNJU3+zdF1H0/ROHI0QQgghhBBCCCFaqsmK1eZCUd/l+V6vt96l+r7P/dfx3W9s/4093pJQVwghTkler/EhhBBCCCGEEEKIE44ZgleMKopSG4q2JBDVdR1VVVFVFQXw4gV82zV2eX7DxxUUdL/JW0wmU5OhbmNjEkKIk1lTbywJIYQQQgghhBCi69VOXhVsciif5k7uzWYT48eNZ8CAVOx2OyaTqc29Tr1eL5qmUelw8PPevWzYsIlql7vZcLct4xZCiBNJgxYq0jNaCCGEEEIIIYQ4YZkDL+P3aWko6aqu4qG5D5GWdhpuVxWa5sHr1dscahqVsiomk5np06YyeeIEHn7sSazWkNpxyQRVQgghhBBCCCGEEEKIrmQ+npDS7XZxwfnTGJDan0pHGdA+k095vRq6ruF2uzht0ACmT5vM12v+i9lsPmFDVamOPXGcqD8jQgghhBBCCCGEEOLUYQ6sAG2qJUCDjU1mRow4A4+nmvYIVRvy4vG4OHPEcNZ8s65uaSPVtcF6xXaUBmMwFtbeik6mKEanXkVp8PWXoFWctORviRBCCCGEEEIIccIyBy5oTShptpgJt4eh63qz63o8GlVVVbjdbgAsFgthYTZUVW1yO93rJSI8DIvFjK4Hn8ylqVYG7R2yBk6Y5f/h+zroMpN351IU1JrwVFXV2onX/CdgM1aTgFUIIYQQQgghhBBCtI8GwWprqIpCSEhIk+sUFhazacs2srL2U1FZidtlBKtWq5XIiHAGDkxh9MjhREZGBN+B10toSAiqqqDrDcPKxoLT1lTetkRtUAt4dR29JkjVdR2v7kVRjFBPVVXMNbcS5HU8r9/3Qdd1PB4PXi8oqlL7/VAVBUVVa8Nu+b4IIYQQQgghhBBCiON1XMGqFzA1UnFaXlHByq++YdXX3+HxaGiaRmVFFVXVLgBCQyzYw8PY8mMGnyxZzsUXTmfypPHYbKEN9mUym4DgQWljAWp7har++/GFd5qmoek6qqJgtliwmI/ryyiOg6IomEwmTCZTveVujweP243H48GkqphMptqgVSpYhRBCCCGEEEIIIcTxOq5EUFGCh1NZ2Qf46JPP2bMni8KCEkpKyql0VGG2mDCbTeA1WgN4PBr2cBsxsZF8/Oky9uzNYtalF9K3T+96+1MVlcYysI7sp+rfTkDTtNpA1WQyYQ8L67DjiuNnMZtrA++q6mpcbndtwGoymWoDeQlXhRBCCCGEEEIIIURbtHup5Y6du3n734soKCgia98hqqtcxMRG0bdfEv2T3PSJK8ejmcgpDONAnpncI8fIOZjLsYJiPG4Ph4/kcvNvfs2A1H7tPbRW8YWquq7j0XQ8bheqqkqgehIKrWlX4XQ6cblcmC1WzKa66lUJV4UQQgghhBBCCCFEawUNVpsKm5p6rKCgkE8/W05u3jGy9+ZgtpiZcFY8548qZWLaRuLCnfXWzy8L4+udffhyUzy79pSx7+dD6F4vH/1nKb+9+XqiGuu72sH8J6PyeDx4NI0QqxWLxdIl4xHtw2az4Xa7qXa58OomzGZz7eRpEq4KIYQQQgghhBBCiNaoDVb9A9O2hEyapvPu+x+zd+9+svflYLVauGhyKDdMyyQxyoGqeAEFRVEBBS86CZGVzB67h3GDInnly4F8s6GMrL05mEwqXyz7iquv+kWTx+yINgC+UFXTNDweD7quE263t/txRNewWCxYLBYcDgderxez2Vzbn1XCVSGEEEIIIYQQQgjRUmaoC1Vbcll0Y49v/TGD3Xv2kp9XjObxMPnsaH57/k+1VaqKYgaTBYWaEAsdr65hUtz061HK7y/KxOEczHcbCsjPK+Lb7zYwbuwoUvr3bXIs7RmuNghVvV7sEqqekux2O47KSjweD4CEq0IEcmSz9qPFLNuQQVYJxPRNZ9KFs5k1JYWu/KuYvehu5v0wngeevIIUU/Prd6ltr3Pj48so0Wo+D40mOSWdsRfN5soJyZyM10Dkb1vC4k9XsXlvHg5LIoOHT2bmr2YyMuF4no2DVU/eyqphz/LEpQntNtYWc2/guZufY2NVzeeWMKISUxgxcQYzL0inR80cne6d/+bhf+Yz7U93MrVH5w9TCCGEEEIIceKpV7Hqf+sfMDU3i7rL5WbTlm24XB5KistI7pPElRP214WqqgXFFILTZWbfES8mVSG1t0qoWUPXVLx6Nb2iK7ji7Dz2Hoyn8FgJiUk9+O+6jfTtm9zmJ9ea0DVoqCr9VE9p9rAwCVeFCMaRwcJHn2EV45h97T3M6QHFu9ay+K2H2ZIzlyevTeuyUDDmtMlMtqYQc6KHqj72cdz25BzSVaCqmKxtq1j82v3syX2UuZentOzrqGWy8I75uG95hZuGd/B4m5C/+hnu+2cWqRfN5ndXJmN35LB55WKefiCL3827h0ldkIm2n3jO/+ODXNRXB91F3r4f+OrTl3ns56t56PbJxClgSRzMqLFJ9A3v6rEKIYQQQgghThQtmrzKVxnqX9nqr6S0lNy8fIoLSzCbTZw1RGNE/7yajc2oplAOFli49uFSjpXb8Hq9pCZV8/7jsUTaVHQP4HUyKS2Hxf37U5BfjKPCQc7ho1SUVwDNh6THU7lab6IqjwdN0wgPlzOn7sAeFkZFhfEzpigKJpNJJrQS3V72J6+zTL+QR+ddQ1pozcLT0hl1mp375r3GonHPcs2Arhlb9PCZzOnCcLH17MTEJ5BgAkggoW8a6Sl27n/6NZaNfYKZvbt6fC1UspaF/9rN4Buf5J5pvgQ1jbTRo0h8+i7e/XgL4/535ElZhWuwYomOJyHBeK3TI6EXQ07vycuPvs57/x3B7RMjoMdofnGlDoCud/FwhRBCCCGEECeERoPVxoLKYMsrKiopKyunqKicMLuNacMOowAoCqophMzDKlfeX06PpDSG9I0BoKCggBl3ZvPRX6NJig5B93ow4WbasCNs3xlKUWEZpWXlVFQ4CA0NbXDM1oyvKYGhqtvjITKiaybNEl0jPDycsvJyFEVBURRUVZVwVXRfWgar1hUz7tpZdaFqDcvps5k1chXvrs3kmgGpZPzzDuY75rDgjnG17QEc3zzDrR8lMPe5OaSZ3OR88y4LP/mWzHw39r7pnHvlzVwxMhpws/65G1kSdzXDDi1n+U92Zj/9KCnLm95n4lePcMeGsSx4aAbRAFo+6xctZPHqDHLcdpJPG8es669hUm+Lsd3nqTzx5BUkm4CyVTx+62s4frWg9pLz/E/v5+4d01kwd7qxv05gHzaLCwf+L6s25DDz8mTAQeaXC3lveQZZ+cVYeqYz/cqbuWZsgjHmW15mixt47AqWJc3kiQVzSDM1sU0HKNmwioy4i3h0SuD+o5n8q5txZFpwANGAY9cyFr6/nPV78yB6MOMuvJo5l6bVtZBw57D27ddZ/N1u8khk1GVzGBawV8eeZSx8Zznr9xZjiUsl/byrudl/H50h6iwumvQpT/7wI6UTJxGZs5RHn8zhkvm3cKYCOLNY8+EiVm4/SKkWRZ/h07jiF2d35giFEEIIIYQQXUxtj0rPqqoqqqtdVDmrsYaYSetZDPhaAFhZutZNWEQv7HY7VqsVi8VCZGQklVosKze6UUxWFJMVFJW0XiVYrRaczmqqqqqpdrna5Yk29zw8mo7L5SI0JKTDjydOPKEhIbhcLjya3iGToglx0ijMIacklbSBwSIsO2mnpVJ8MIsSLKRPGId123oyfL0pcbBlQwYxYyeTZoKSdS/x+Ds5pPzqAZ597gnunGbn+xfm8VG2b30XWd9tgHPvYcErc5mR1Pw+63OT8dbjvLYjgVl3P8uCJ+9kVs9M3npqIRlVYB82jNTcDDIKa9belUGWBjk7MnAAUELGjhySz0jvtFDVEM3gAYnkH8jBDTg2vMbTH+Zz2rVzWfDKqzxwaQwbXn2NVYVA5HTmvvUIMxKimX7f+3y0YA5ppma26QCHDhzCctppQfvaWvqOY+Z5NV/Dw8t45uklFA+fw6PPLeCJG0fi+OJxnvksp2ZtB1v++Tiv7U1m9n0LWDDvJoYdWMySPX7/1+cuY/5TS3CMvoknnnuWR28ciXv54zzzZX7HPLkm9E3pj+XIAQ5rgY+42fHR63xRls6v7/krT/z5GoaXfcl7q3OC7EUIIYQQQghxqlLboyrPuHxeR9d1LGYFi1kHFBTFglcJ4ViZgslsxu1243Q6qaqqwu12Y7FYyS8BTCEoqhVFMREW4kZVVTSPhq5p6I1cbxesB2xr+bbTNA2P24Wqqlit1jbtS5zcrFYrqqricbvQNOMMWgJW0S1VVVJhshPeSGmg3W7B6qykAuC0cYyzZ7B+m9t4sGwL63clMHZCCpDPt19kkHrt77hmbAoJCcmknXczc8Y7+HZtZu3+YiZcwTVjk4mOtGMxNbfPACXfsuS7GGbdPodJpyWQkJTGpOtuZrr1e9bucEPcKEb2zWLHLiNG3b0jkz4XzSA1O8MIbqt2k7E3gVHDO785qCXcDlUOXIB97J0seG4u14xOJjoympSJ0xkZkUXmAd/KViyqFavFQs38j81v084cVW7C7c23yMlcuYSsYddw5+UjSUlIIHnkTG67biSHli8nQwMK17NsnZ1Zt95kfM96pzPjltmk+/UQyFyxnJyzbubOS9NJTkggefhMbrs6nay16+n0aDU0DGuVG0+DByopLS4lKmUYafFhhMWlMf2WR/h/M9reF14IIYQQQghx8mlRj9XmWK1WzGYTZrMJt1un3GklKkxDMVlQzVb697bx2bpiTCYTHo8Hr9eLy+WitKSEAX2iUFUrumpBUc2UOELQNA2L1YLZbK6dUChQU6FXawIxXdfRNA23x0N0VFSrn3trXbGt/ucfnVS9Ak9t4eHhlJSWYjKZUFUVVVW7ekhCdL7QMMI1BxUOCHbdtcPhxmULIxzAlMbkseHM27AZ99hxuLavJyN+PFenAO4ssrJL2PyPO7j+Lb8duBy4RhdjxKZW7PaY+gdoap+BcrLJcewm477rWVzvEC4GFzqABEYOT+DTbRm4JyaSsctO+q3Tsex5nB17YZS2g8zokczogj6njgoHhNrxvZXnzt3Msi8zyc7JJ/9oFrtzHYxzN72PtmzTVvZQCxWOimbWKiHnoIPU0en1fnTsQ9JJLV9LTiGk52eTYx9cv7dsaCpp/azk+PZxKI/8jKe5cYPfG50uF47IGPI0avrVdpKqSlyhliAvlqJInzKJlW8+x2N7hzJ00GkMGnoGgxPlqhchhBBCCCG6E3N79JK0hYYSGhqCLSyUqio3mUejSe7hAsUMqplfXpjA8+/tprAQbLYwACoqKkiIrubSaYmgOkCzgGJm56FYqqvd2MJCsYXZCA0NfpISbBKtljzm4/V68VLXW9VsbpeMWZzkzGYzHo8Hk8mEoqogvVZFdxOXTHLkYjL3OpiREJisOsjcm0VM36trL51PmTCWmHnr2exIx70hg+RxV1Nbs2dK5tw75jKzb/29WENjmpzkqMl9BrKP4+YnryG93vsgVqyRxgiTh6cTvmYHuw/ns8eVztX9k7GebuelHdlkuTJg2E1BWgx0tHyy9uSRPDwZC5Dz5SM8/KGLUedNIn3CSBJ6uln/3HyKm9hDW7Y5Hn369cGxag85WrrRr9aP++B6lmXamXxeH1rUvKfBZfX1uTRIu+JR7pxSP3S3muzYO/l7dXDvfty9zqV3kONGnvEr5j4ygV0Zu9id+QOLVn5G4ozfcdllnTtGIYQQQgghRNdpl5K8iMhwYqKj6REfjaPCyZc/JuPWrUaPVdVCYpyd1W+O4dIp4STHu+iX6Obai+NY/s+zCbOFoihWFMVCeZWN73b1oLKyih49ooiJjgo6kZTX660NTv2zS8OiAAAgAElEQVQD1FZPXOVXrRpu79QpMcQJKtxux+3xoGkaXpn2WXRHpnQmTQxn/SefkllV/yH3rk/5dFMCkyal1S1Mmcz4uAzWb/iW9T8lM25CTQRqSaZP72Lyiq0kJCTUfljL86hobu74xvYZKDmFZC2fEi3B7xhWHPnFtZfMM2Ak6WSwdnkGeWnppJogZfhgHLuWsWpHBenDB7fpy3Q8HNuWsDx7cM3zKiFjQxZ9rriT2341g0lj00nrCY6ywIjS//OWbtN+osdOZ1TBF7z3XUnAIyV8+/5rLNvnxk40qX3tHNrl62FrcPyUQVZEMslxGN+zqt1k7PdfYTcZWb6xR5PaN4a8o8XY/X5uYvRi8tw095PTvorW8cXaEoaMG0Gw61mcBbmUhvRh6Phz+cX1d/DHS5PYs2F7Z45QCCGEEEII0cXapcdqdFQkvXsnERUVjqIo/Li7iu8ye4FqQqmpWk3pE8Wz943igwVTeO/5qcy7axTxseFQ0wLAq5hYtaMXu38uISTEii0slNSUvoSF2Roczzd7u+++/3JoPmD1Pa57vXg0DZNc8i38mFQVj6ahBwnvhegO0i67iRn6Ep5+9GWWrMsgc08G6z97mYefXg4XzWHWAP+1kxk7LpEt7ywmI3kS45Lqlk+/MJ2sRfN5d102+fn5ZH63kKfnvcySPY6GB62nsX0GiB7HjIkOPn3xddbuyiE/N5sti+Yz77nFbC6rWcc0mJFDKvj2q0xSh6cZwdzAYaTlrGJVQTojT+/oqM5BcUE++fn55B/MZP2n83l4/vfEXDmHGUkAdhIT7BzatJYtB/MpOZzBqn+8y3r/L5HJTkykg92b1pOdW4K7Jdu0t+hJzLluMLv/cR+Pv7+KLbsyydyyineffpjX9g5m9uUjsQBp582kz453mf/xFnLy88nZsoSX39lCnwsvJN2E8T2b4GD566+zdk8++YczWPbPJWT6VYSmnTeTPlsX8vKnW8jOzydn1ypee+pxXl6RQwd1OgBcuEsKyM/PpyBvPzu/W8SCvy5k78DZXD0uMsj6R1nzxlO8uHgjhwrLKDuyk+935GJLjO2wEQohhBBCCCFOPO3SCkBVVc4efxabt2wnLj6Ko4ePsejbBFJ7qQzqXxOuKmZCrKHY7HZQTXi1KnSXB0Uxo6gmMg5E8J9vzJQUF9GnXxLh4XYmTRzXYGyBIVdLQ9Rgy3Vdx+N2Y7M1DG9F9xUSEoLT6cRiseBVVWkFILofezpzHn2S5EWLWfavZ3i3DGJ6pzPuukeZPS2lQevV5AnjSP7wXawTxuM/DVT0lDt5QHuXdz+ex905DkgYzOTr/sSc0XZoJiJrbJ8BA2XkDXO57cOFLF5wPznFEDNwHLPunsP0ON86FtKGp2NdV8Kw02tGHppOepqF9Vo66R19sYJjPS//br0xktBoEgemM/l/n2Tm2ISa6ksLI6+5jYteW8hL9y3CYU9l3GUzmL53od9l/clMv/5KMv/xGvdtGc/cBTe1YJv2lzDtTp6MXsLiT5fw0hd5OEwxpJ5xLn96bCYjfd+k3jO45z5Y+M5C7v8oD6IHM+7Cudx2qa/q2M7IG+dy89uvs/jJO8hTkxl12Rxma8+wioB9vL+QeR/m4QhNJn3Kbcy9Oq0DK1YLWPH3O1gBYAkjqtcgRpxzBw+ddzqRRleYAD05b87VON7/gpfmvUGlJY4+w6bxm0tGddgIhRBCCCGEECce5bzzzvO2dZIei8XEvEfuJy4uBl3X+fiTL/hy5Rqy9h7C7fIwfnQPbpqlcNbQUMwhUajWKFRrBIpiRndXortLcTlLWbvFyev/cbFlez5h4TZSB/Tm6qt+wZRJ4wEoLCzmgUeewO3Wmrz03789gP/9rKws/v73v9dbT9d1XG43zspKYmM7r8JEJq86ORQVFWELC8NqsaBKuHrSO5pbQM+k+K4eRlD+f8d0Xa/9+6TrOi6Xi8pKJ6qqkpBwYo5fiK7UkisKmmodFOzW/0OvaQkT+Lnvd9T/99Xr9aJpGpdddhn9+vVrvyfZDrx42XzsZz7Zv44thXs54ijkSGUhAL3C4uhlj2NUj0HM6jeeUT0GoSD/5wkhhBBCCNES7TZjk6qqzLzkfI7m5mFSVXbv2s8363I5lNeTi6eYuWaGQmSUglkxoZgsuKsV8vO9vPM5fPmtk0OH8ggPD2PAwD6cOWIYE8aNbnCM9rwk23cC1H1nfteozNnJD1t3s6+gHIfbRGRsIgOGnsVZQ3rQ3ec1VlXV6LMqk5oJIYQ4Sbl0D6/89BnPZCzmsONY0HUKqkrZVpTFskM/MG/ruyTbe3DPGVfyv6dfglWV/wO7m7y8fB56+BFSUvrz53v/1OS61dXV3HvvfZgtFv761ycwmzp9JkAhhBBCiC5X7xWzf1uAxloENNU6wGq1cvmsi6isdOLRNHKPHCM7K5fXj4bw8Qo7A/qG0yPOhterkH+skn0HKigpKcfl8pCQGEtizx4MOX0Ql828EIul4QV/iqK0OlwN1krAW3OraxpqtwzONAq2LOU/648R0nMQQ0YNJVKtpig3mz3ffsy+o+dx5fQUwjppNGVbP+WdjDguvW4iySdIkYxqNqNrWu3PC+3QMkMIIYToLEsOfM+d618luzy3VdvlOI7xh+9f4fkdn/D8+Fu5pO/YDhrhqeObb76lsLCQyy//RbvtU9d1Fi1aTP/+/Rk7dky77bc58x5/ghUrVvJ/r77c7LohISEkJyfz0suvkJZ2GjffdGMnjFAIIYQQ4sRSmyq2JFSFunDTuG1YRdq7d0/u+N1NvPv+x2zasp2EpFiOHj5GzqFj5OQcq728zLddfEIMiUlxhNpCmDxxHJfNmkGI1Vpvn7pXD3qs/8/eeYdFcXVx+J3dZYGlNwVEBStFsQFKsXex99hiEpMYNT2mG2PMl0RNNEaTmMQYW+zGHnvv2DsKiiJVqpSlbfn+WFgWWBAUoybzPs8+uzNz77n3zszu7Pzm3HMqoqifRusUTt1TazSYmcjLbv+Xo048xc6wZOwC+jHQz1GfPJumLWlZfx9rdx3kgHstetX/7+2bIkykMnJVuWg0GqRaLYiiqoiIiIjIM4AWLV+c/ZNpZ5dT+GgQgDqWNehfN4jQOgHUt3LFVaELgxSnTCUyI5Ztd8PYePsYd7OTALiVGU/fXVOZ1mo0U1qMfCJjqQ42btzE2++8R6eOHfj999+q3X5WVhYvjXsFtVpN/fr1adbMt1rsHjx0iA8/+gRzc3OuXL7wjzzcjYqKYuvWbTg5OdG5cyf9epVazc8/LWDe/B8pKChg+bIlBAcHATBixHB+/OlnfvnlN14Y+zyy/6TDgoiIiIhIdXPp0iXm//gzp06dJjs7G1dXV3qH9uK1115FofinXMCqnwMHDjL/x58IvxaOuUJBSHAQ7777Dm5utSqsl5CQwIwZszh46BA5Obl4ejZm/Kuv0L17txLltFotixcvZcXKlcTExOLo6ECf3r15/fWJ+txC3bv34kZERLlthZ08hpOTLgxdeHg4703+gCtXruLXqhVr164yWker1TJw0BDOn9fFvjywf89TFxrrcWL034+hwGq4XHq7AKgL440ZYm5uxphRQ/D2bsyJk2dwdEwkIyOTHGUe+QUFCAiYmMgwV5hhZ2uNq6szIcGt8W3ihdTINCK1Sg1ULUlVeX3HwJJarUYm+69NW1Jz+3w4afa+jGxlIKoWoqgXSJuGaVxMSEBdvw7Sgki2LDqCPCQEi8hTXI1X4tZ5LL0aSlGnRXHqxFmuxqaTJ1HgWKsB/oH+uBsmUFbGce74Ka7EppGpVGNq70qjVsEE1rdGSg6XNizjQDxAIht+vgo12/DSIF+dt2xeMlfDTnD2ZiKZBXKsHGvhExBIi1qPP9mYTCZFrVQDuvNFlFVFRERERJ52tGgZtX8GK27u16+rZeHIF63GMLZhNyRG/hPVt3ahvrUL3d38mNNmPItv7OKzM0uJU6agRctnZ5YScT+WpR0qnhb+X8XS0pKxz4/hXlISjRo1rDa7LZq3oHv3bnh6Nv7HZsysXLUGgF69eur/j1+/fp1333ufK1euGq3j6upKw4YNiIiIZPeevfTs0f0f6auIiIiIyL+XI0eO8sKL41CpVFhYWODq6krM3bvM//EnDh85wrp1a57J8DNbtmzlrbffRaPRUK+eB2lp6WzctJnjJ06w4a91uLi4GK2XmHiPAQMHk5CQiEJhjoWFBefPX2D8axOZ/d0sBgzory/72Wefs/zPFcikUho0bMjt27f5ecEvnD13jj+XL0UqleLu4V6mjfyCAm7fvg0Uh0X88cefmTf/R1Qq1QPHtmrVar2o+l+k0qEAjAmVao2GvLw8o4ZNTEwIbN2KZk29SU5JJS4+gbj4RDIys5AgYG1jhVstF5xr1sDJ0R5T03KiegoCuXl5aDQVC6vlhQko12O10JvVmJD7MJROSlUZfCwrX6/aklxpE4mJz8epSUPsjf5PN6dx50E0LrEun1unLlCvWRv6Bloht5ZCVjg7Nx0iwcYb/47+WJHOrbNn2bIphz5D2+FuCqgTObF5O+cKXPEP7IabJdy/dYqDu3cgsxxKm5rmNOo6FKsLu9hyzYoO/QOpJVfoRFVtOuf+3sqJrJq0COiEs4WatBtnObF1C3n9B9Gm5uP9IZVKpbpwETpXadFjVURERETkqWfqmWUlRNV+dQNZ3uEDLE0q90BSKkh4qXEPhtZrz8j937Al+gQAyyL30tCm1jPtufo4+fTTj6vdpq2tDQt+/rHa7VbE0aNHAfD3a6Vf99vCRVy/foM33pjExo2biI6+W6Zeh/btiYiI5MiRI6KwKiIiIiLyyMyc+S0qlYpRI0cwbdpUJBIJMTGxDBs+ggsXLrJ712569uzx2PuhVqurTS9SKnP4fNp0NBoN//tyOiNGDCc3N5eXXxnPkSNHmfXtbGZ/N8to3ZmzviUhIZEBA/rzzdf/Qy6Xs2rVaj76+FP+99U39OvXF4lEwoULF1n+5wrMzc1Zu2YVPj7exMXFMXDQEE6eDGP9XxsYOmSw0XA/S5cuY+rnX+Dn54eDgwMxMbHM+X4uXl6etG/fjgULfi13bGlpacyc9S3W1tZkZGRUy/561pBA2Uy5xrw/BUEoM72+oEBFWnp6hU/SFQpz6tSuRZuAVgzs14uxo4YyZtQQ+vfpgV/LZrjVcilfVEXnKZiWlk5+fn6ZPlW0/EC0WrQazRNLXuVjCVeynkDDKiUZuVKsbawqX0cLVt7t6d7CA+cajtibqYk5e4o7Zi3o0zeEpvXr4F7fl0592lO/IIJT4YVfJokdjdq0p0+/nvg1dMXZxZXGQW3wtkon8k46AKaWttgrTJHJrbBzsMXeWhd+IO/WKU4l2xHStydtvD1wr9uAFl17EOKcycWzURiX86sPiUSCVqPRiaoiIiIiIiJPORtuH2X6uT/1y281GcCGrlMrLaoaYmVizsaun/O6Tz/9uqlnlrE1+mS19LUypKWl88mnU2jdJojGnj6079CJH36Yj1qtm01y9eo1POo1pEOHziXqvTf5AzzqNWTp0mVlbO7YuYvgkPZ4+/jy3IhRXL16Tb9t0aLFeNRryLffzmbmzG9p0dIP32Yt+d//viY3N5cvv/yKlq0CaNHSjylTppb4X+rbrCUe9RqSkKCLZ6vRaPjp5wV06tyNRo29ad0miPff/5CUlJRHGp9Go+G3hb/TpWt3PL2aEBjUli+mf0l2dnaZcXz33RzmzfuR1m2C8Pbx5cUXXyY+Pr7c/Z2Xl8f16zcAaNK0iX69t5cXmzdt4O233ix3mr9PEx8ALly4WK79Im7evMVrr02kZSt/vH18GTxkGIcPHylRZteu3fQfMAgv76Y0b+HHmOdf4PLlKwCcO3cej3oN8W3WsoQHzekzZ/Co15CWrQJQFe5DEREREZFnk7sxuod4vXuH6vUaN7dazJ83l1kzZ1Cvnoe+bFZWFtO+mE5gUFsae/rQtVsPFi9eWkIfysjIYOrUaQQGheDp1YRu3Xvyxx9LSpR55dXX8KjXkLXr1jNq9PM0bOTFkSO6B46RkTd5dfwEmrfww9vHl9FjxnLp0iV93fz8fPoPGESHjl1KXOsNOXLkCKmpqTRoUJ8RI4YDYGZmpk8UuWPHTgoKCsrUUypz2Lbtb0xNTflsyqfIC8NmDh8+jC2bN/LHot/QFM4i37R5MwCDBg7Ax8cb0M0sefnlcQBs3rzFaN8KCgpY8IsuXNLrkyYAIJPJePutN9m8aQPeXl5G6xXx9dczSE+/z7vvvEXdOnUqLPtvRa8qFgmnRZ+LKDrZSguuWq0WlUrF2bMXebwTpQVOnz2PWl025IAxqiKwPinJ7ImJqg+NFHsHu+JFbRoxMfnYNWiIk+EDHLM61HeB5LgU1ACCHHv3BrhZQ15GOgkxUVy/HEF8DqjL8XQuIulOLGrnxjSyMVxrTf16jqgT40j6Bw6eKKmKiIiIiDwL5KkLeOvEAv3yAPdgZrd5VR/X/mGQCALft3mNPnXaALowA28e/5l8zYOng1UHr7z6GitWrMLBwUGfFGrO93OZOevbh7J38+Yt3nnnPVxdXbGxseHEiZMMf26kXgwtYuOmzWzdto3mzZuTnZ3Nwt8XMXjIMPbu20/Lli3Izlay/M8V/PrbwnLbmvP9D8ya9R1ZWVkMGjQQNzc31q5bz0vjXnmk8X38yRS++uob7t1LIiQkGKlUyh9/LOG550aVuRnbtHkzS5ctp2nTppiZmbL/wAEmTnqjXNtpaWl6UbdmjRr69S++OBYvL89y6wHUquUKwL17SRWWu3PnDgMGDmbHzl04OdWgSRMfzp49xwsvjuPY8eOAbvrn+NcmEh5+nR7du9GmTWuOHDnKiJGjuXcviRYtmuPmVovMzEzCTp3S2967dx8AvXr1eCanh4qIiIiIFNO0aVMApn0xnaNHj+kfmLVo0ZzBgwfSuLFufm1+fj7DnxtZKKRqCAjwJy4ujmlfTOeHH+YDugeHQ4eNYOmy5chkMkJCgomPT+CL6V8y7Ysvy7T93XezuXz5Cs2bNcPCQsHt27cZOGgIu3fvwdOzMQEB/hw/foKhw0Zw7Vo4AKmpqVy4cJE7d+5w61aU0TEVPXwMCPAvsd7b2wtra2tycnL0DzgNuXr1Cnl5eTRt2pSIiAiGDH0Onya+tO/QidOnz9C0aVP9g8/y2ghso/svV95U/fXr/yI+Ph5fX1/atWsLgLNzTd54Y9IDY6efOXuWdev/wsvLk5EjR1RY9t9MuXvJMEkVlAwFUPRZKpWyd/8hggJb4+PdGI1Gg1ar0WdRfygE3W2AIEiQSKRcunyVAwePYlKJJFNV9lpF9/T/n/RafeKiqkyBtZma+PuZgG3l6pS5L8tHmasmKWwN88KMlK+lJA9QkE/C2YMcOB9NUj5YWFhhZWeF+oF5DdRk5+ajunuIX386VHazVEGeBsoEiK1GNEZiB4uIiIiIiDyNzLu6ieisewDUtnBiWYf3H0lUPRh/EXcrZ+pa1uDPjh/iufYl4pQp3MqMZ8G1rbzh0//BRh6BnJwcTp8+jSAIrF+3BnNzc9LS0vjq629wdHB4KJvRd++yetUK/P39KCgoYMTIMZw+fZrff/+DTz75qETZHdu3oVAo+OGH+cz5fi4pKSkc2L8XU1NT/VS5o0ePMWniBKNtHTp0GICZM76mQ4f2aLVavv56BqDzrJFKpVUe37Vr4axevQa5XM66tato1KgRSqWS7j16cenyZdauXa/3gNHtw1x2bN+Kg4MDd+7coXOX7pw7d564uDhcXV3L2M/IzARALpdjZmZWpX2rMNclEckstFEeM2bMIjMzk+HDh/H1V7qb2aXLljN16jR+/XUhQYGBHD5yBK1Wy9ixY/RePCtXriL8+g1SU1OoUcOJPr178/OCX9i7dx9BgYFAsbDat0+fKvVdREREROTp48vpXzDu5Ve4di2cUaOfR6Ewp03r1gwY0J/Q0F56jWrVqtVcuXIVb28v1q5ZjUJhTnh4OKG9+/HbbwuZNGkCK1eu5vr167i7u/P3ts2Ym5tz9eo1+vUfyJIlSxk9aiT169fTt12zpjMrVyxHodDN+JkwYRKZmZl88P5kxo/XPSBdsWIVn3w6he/n/sAvC37C2dmZ+fPmkpWdjb+/n9ExpaSmAuiTQhUhCAJOTo5kZGSQlpZWpl5cvO4B8P376Yx5/gW8vb3w8/Pj6NFjTPtiOhkZGbzxxiRdGynG26hRQ7ecnZ1NQUEBJiYm+m0qtZqfF/wCwBuvT3zgsTFEpVbz6adTAfjii8+rLWzCs4isSDwt7Y1q7HPpZYlEgiBI+HbOPPxbtaB+/XpYWloiM5EhEQTd9kp2RItOzNJotagKVGRlZRERcZPTZ88XiqwSo/0xpHSoggchoIubUR3CamVjoJaOqVptsVMri+CIm4uci7dukdqqpZE4qzlc3/s3F80CGRjsWo52KUduCtbunejVvGwCLGS6OKnqOyf4OywB57a96duoJgoTgHROr7nLlQo7KcXUTA5OPgzo2BBFmcNjis1j/s6q1WoxYZWIiIiIyFOPRqvlu4vr9Mtf+o3FQlY1YcyQfXHn6bPrM2qY23Ig9FvqWtbgi1ZjGHd4DgCzLq7ldZ9+jyTcPghzc3NcXFyIj49nwsTX6R3ai1atWjJr5oyHttmwQQP9zY6JiQnPDR/K6dOnORl2qkQ5f38/fbZhT8/Ghe+e+rBVXoXT4VJTy978FFGvngcXL17k669nEBV1Gz+/lnzwweQSNxxVHV/RdPmOHTvQqFEjABQKBSNHjGDGTF2WYENhtXXrABwKRdq6devi6urC3bsxJCUlGxVWzUx150xlElSURqnUhSIwN6/4vDt4SPewfPyrL+vXjRjxHO3btdXf5NWrp7u5XbNmLaamprRuHUC/fv14TlEc0qJPnyJhdT9TPv2E6Oi7RERE4uxcs9wbWhERERGRZ4c6dWqzbetm9uzZy9/bd3Ds2HH27T/Avv0HWLf+LxYu/BWZVMrBg7rrypjRo/RCqKenJ4cO7tNfz4oedj4/ZjTm5roy3t5eBAcHcfDgIQ4dOlxCWB08eKDeFsC+/QcA6NKls36WS3BIEFKplGPHjuvLhYb2qnBMRWKwsZnYqgJViTKG5OfpQg9FRETy6acf89KLLwC6RFhvvPk2v/z6K+PGvYRCYV7chqZkSJyKru2bCuOne3l50rlzpwrHUJrFi5cQHh7OwIED8GvV6sEV/sXIHiXTqCAImJiYkJ+v4uDh4xw5FoZUKimxvSoYhh3QaLSo1WpkMhlyubxCW4b1itp9oLgqCAgSSRnF/t+PHHdfT6w3nWPvmToM9CspjCpvHedERCZOXY0IpkUIdri7mHPpXhrYNMBeXzCfpFuxqB118VvzMtLIk9fC27smiqLDp0wgPgMwTHgnAVQlf2BcatXC9GYcSSb+tDAIB6CMj+Ke1Bn7hxx9ZSkoKECQSMSkVSIiIiIiTzUn7l0jIUcn8nlYOTOqQecH1CifIlFVqcrjdmYiYw/OYn/oLMY26sa0s8u5m51ETHYyZ5Ij8HNsVF1DMMqCn+fz6ZTPOXDgIAcOHATAw8OD6V98TnBwUJXtudYqKSbWqlULgPT0kgKpqbzsDCmJwX8B/ccK/md+8vGH5OTksHfvPr6YrvPMtLOzZeLECfoboqqOLyVVF7PNrbDfRbi56ZZLx3SztLAosVz0X7e8GTn29nb67ampqdjbV/6fVpHIbGtrV26ZnJwclMocAGrWrKlfL5NKqVu3rn558KCB3Lx5i1WrVuuncZqamtK/X18+//wzzMzM8PLypEGD+kRG3uTmzVv6m+beoaFVvvcQEREREXk6MTExoWfPHvTs2QO1Ws3hw0f46ONPOHjwEEuWLOWlF18gudBD0/C6AsXXeCj2FC26XhZR3vXTytJS/zk3N1efrL1rt7LJsrKyssjLy6swZ1ARDoXX1aSksmFzkgv7YGdX9jpqaaXrj0Jhzgtjn9ev79OnN7O+/Y67d2OIiorCx8cbBwd7bt++TVJScgkbScm6ZUtLyxLaV1FMeIDXJ1XNWzUx8R7ff/8DVlZWfPTh+1Wq+29EZjjd/2EQBAGZTPbA2AuVs1X8WSrFqOBZOjRB0boqhQEQBCSFMWXz8/P1ngn/FaQu/vTyS2RD2CaWxzbEp14NFNJ8MuKjuBqRiLR+VzrUryj0ghQ3P3/c1h1iy+Y8/H3rYCdTkxZ1luPhShr0GIaztRSFiytWBVc4cfAK6gZ2mOYkc+XcBeK1YPjTY2FlhTT/DqdOhpNX15X6LtaYNmqB/+VNnNi8nbyWnrjZSMm+F8mpM1Hg05vaNcwfZyQA8vPzEQrPE1FcFRERERF5Wtl0p9hbYqB7cAkRsCoYiqoAdS1rsLj9ZACkgoT+7kHMu7JJ3+bjFlZ9fX3ZvOkv7t1L4ty5c2zatJntO3Yy/rWJnD0ThkSiG2d+qdiiubm5Ru3FxsaWWI6+q0uMUZEY+LA4Ojqy4Ocfyc7O5vz5Cxw6fJhFv/+hS4DVogUtWjR/4PhK42Cv8z6NKTWOmBjdclWEUGNYWlri6upKXFwcERGRtG4dUOm6RTHhKorFam5ujkJhjlKZQ3x8PB4eusQjKpWKO3eikcvl1K7thlQq5eOPPuD9ye9y5cpVTp0+zYIFv7J6zVrqutfltfGvAtCnd2/mfD+Xffv2cfCgTljt0yf0YYcvIiIiIvKUcCc6mu/nzMXR0VEfqkcqldKhQ3ueGz6cOd/P1cc2dXTQXftKJ2e8Ex2NqkCFu3tdvaBZdL0sojLXTzMzM73W9OP8H4yGyqmsDubrq4sbG1ZqpszZs+fIzs5GoTCnUaOGZeo1aqhbJwgSNFothpN5i+KrFyW08vVtypkzZzl5Moz+/frqyxXNemnWzLeE7W3b/ubWrSgaNmxA9+7dKjWOInbu2g1+YooAACAASURBVKVPnukfEFhme4eOXRg0aCDfznr42UbPEv9ccNHHSFVjqxbdckil0jJ/yP8bSHHy683wUH9qk8DFk0fZe+gsV1Pk1G/bj+FdPXig1GztSa8BnWhkGsepfTvYsP0gZ5Os8e3Wj07uhaKsoz99u3hiEXeKXVu38veJKMyahuBrU9KUtF4g3ZrakX31KLsOR5IKIDjSonc/2tdVE3lyHxu27ubgtUycWvVkYGDNxyqqgu5GrWjKniirioiIiIg8rZxJjtB/Dq3T+qFsGBNVD/b+jrqWxUmMQmsXC22GbT4OoqPv8tZb7/D++x/i6OhA9+7dmDHjawRBICsri4yMDOwLhcbExET9Ddbt27f1GXxLExl5U38zk5eXx8LffgegTRUExMqg0Wj4+JMpjH3hJfLy8ggODuKjDz/As1B0jIuLq9T4ShMSEgzA/v0HuHFDJ2QqlUpWrFwJQPt27R657/5+uml85e3D8jh//jwAAQbT8FUqFYsXL+XosWP6de3a6hJi/PzzL/p1f/yxmC5duzN16jQAfl/0B+NefpWTJ8No1syXcS+9qL85jIuN09fr27c3ABs2buJkWBh169TB17fkDaOIiIiIyLOHjbUNf2/fwcLfF7H8zxV6refu3Ri2bN0KoM88X5RoacnS5SiVSgAuXrxIx45d6Nd/IFB8/VyydBk5ObqZE1evXuPo0WMlbJRHx44dAF0SzE6dOtKpU0c8PRuzZ+8+oqPv6jWDHTt3sXrN2nLthIQEY29vT1RUFEuWLAV0/0fmfD8XgO7du+sdCw1t1avngaenJ9nZ2cydO09vb+Hvi0hISKRGDSc86ukeVhbFGd+4cZM+kVV8fDxLly7Tbe9bHIdcq9Uy/8efAZgw4bUqh8d0sLenaZMmZV5FWFlZUdvNrUo2n2Ue3c30CVBZIbXccoXxX6USCTkPEUvq34EU67q+dKr7gD+hJg3o82oD4xbsGhDSqwEhFVS3rt+GPvXblFzp9Qol15jjHtwb9+BSlU0d8W7XG+9Hv1eoMiqVCjNTU90PjOixKiIiIiLylBKnLJ7C1sC6bOzMB1EZUVVnu3gKXVx2yWlz1Y2rqwvnC7Pr3oiIwNPTk7CwU2i1Wtq2DdHHDm3ZsgVnz55j8JCheHl5ce3aNZydnbl//34Zmx4e7ox94SV8fHyIiblLQkIiVlZWvFg4Nb+6kEgk5OXlcfDgIfr2G0hISDBRUVFcvnwFR0dHQkKCsbCweOD4EhPvlbDr7e3FsKFDWL1mLYMGD8Pfz4/w69eJj4+nSRMfhg4d/Mh9HzhwAJs2b+HgwUO8++7blaqTnZ3NseMnMDExoU+f3vr12/7ezrQvpiOXy7l86TwmJiZMnvweR44eY+269Zw7fx4LCwsuXLiIVCrllVfGAWBtbc3evfs4ceIkXbt2IS83l9279yCVSunXr/iG0N3dnSZNfLh8WRe137BtEREREZFnF1tbGya8Np7v5/7AlClT+eabmdjY2BAfH49Wq8XZ2VkfU3z48GGsWr2W8PBwOnTsQr16Hly4cBGtVsurr7yMVCplxIjhrF6zlhs3btClaw8aN2pE2KlTqFQqxoweRYMG9Svsz/uT3+X48RPMnvM9x44fx87OjmPHjnP//n1eL0z2lJCQwIQJk9BqtXi4uxMQ4F/GjkKhYMqUT3jnnff4fNp0Fv2xmMzMTNLS0qlZswaT33unXFtfTJvKyFFjmD//R3bs2IFMZkJ4eDiCIDD1synICsXd5s2b8dxzw1m5chWDBg+lXj0PoqPvkpeXR+vWAQwaOEDfn127dnPjxg3q1q1Ln95Vn/ERGtrLaFzZkLYdiI2NZcvmDSVC/fzbeWY8Vg3jqJYOXVCVUAaCoEu3IAgCEqkUQRD0Ty5EREAXB8zw/Cg6X0RE/nHE805EROQBxCt1scMEBJzNS05rv5UZz4H4i+XWrayoCuCqKJ4qZyjmPg5kMhkrVyxj0KCBJCQksH79X+Tl5THupRdZ8POP+nLz582lbdsQNBotcXHxfPD+ZNq3N/40tnGjRsye/S1paancv59BmzatWb1qBc7ONY2WfxS+/upLJk2aiEwmY8OGjURERBIa2ot161ZjY2NT6fGV5quvvuTjjz6gRg0njh47hlarYezYMaxcsbxa8gW0bRtCo0aNuHzlCpGRNytVZ9vf28nNzaVfvz4lplN6e3nh5OREx44dDBJTefDX+rV069aV5ORkrl+/QYsWzfl94a+0aaPzth4yeBDfzppBPQ8Pdu/azaFDh2nl14olSxbh51cyMVVfAzFVDAMgIiIi8u/hzTdfZ+7cOQQE+CORSEhKSsLV1ZURI4azccN6/QNWU1NT1qxewZgxo5FKJZw9ew5XVxc+/fRjJk2aAOim869ds5LRo0aiVqs4euwYLi7OfDblUz7//LMH9qVx48Zs+Et37QoPD2fPnr3UrFmTaZ9/xttvvQnowgk0adKEevU8KhRq+/fry8LffqFVq5akJKcgkUjp17cP69auwcXFpVxb/v5+rF2zirZtQ4iPi+dudDStWwewbOlievXqWaKNL6dP45NPPsLdvS7R0XdxcnLktfGv8seihSWSaM7/8ScAJkwYX2K9yMMhdOnSRVtVt98niTEv1NLJq0q/37p1i9mzZ5cor9FoyC8oICsrCwAnR8fH2u8iBl0ouby+2T/SrEgVMAzuLDcxQSKRiMLqM058QhIuzk5PuhtGMfxN02g0+t+not8oZbYSiURCjRpPZ/9FRJ4klZnBUvo/gbF1hu+Gr6JEP6WXi76jht9XrVaXdLN///7/6BN6u6WDSM/PQkAg78WtmEh0k5FuZcbTcdv7JOfe5+/uX9LepeQMlQeJqrr/SEpycnLJyy9ArVaj1WpRavKIzUsh0M0HS0sF8v9UAtB/P2Fhpxg2fATdunXllwU/VVg2NzeXzl26k5GRwb69u3ByEq9TIiIiIiIiIv89nslQANWBUBgOwEQm04urIiIAebm5WFpaioKqiIiIiMhTj4vCnvT8LLRoSchJo7aFTtx68dBsorN008lDd05hR4//EeKsi31VkaiaX1BAaup9lMocrKwssLW1xlQuRybTeTOoVGoa5tdBqcwhJiYBhcIce3sbUWD9lxAQ4E/UrcrF0DUzM+PokYOPuUciIiIiIiIiIk83Rl1VS3uAVDU5VHVjzNvkUSkSVmUmJkhlMlJTU6vNtsizS2pqKlKZDJnoqSryBBAEQf8CQKsVwwGIiIhUiKvCQf85MqM4uc+S9pP13qfZqlx67fyU4/euVSiq3s/I4k50HHK5CfU8auPkaI+FwlwvqgLIZFIsFOY4OdpTz6M2crkJd6LjuJ8hPqQWERERERERERH576H3WC2KXfqgGKaltxsrXxmbxsqVt83wvSIblV1f1CeJICCTSjGVy8nKzi4RG0rkv0lWdjaWFhbIpFIkheekKK6KPAmKHv5ICk+/e/eSnmyHRESeQqoSCsCQoin9pbeXnvpfMkSABo1Gqy9nGB6gOCyA+pHG8zC0cmzI3rhzAGyLPklHF12MobqWNdgfOosO2yYTnXWPzIIcemz/GJVWbVRUTU27T2ZmNnXcXDA1lVe6fXs7GywU5iQkJqNWq7G3s6n+QYqIiIiIiIiIiIg8pcig4vhjgFFxtGh70TpDEdWQ8tYb1i3dXukyVfFUrYp3qyCRIJVKkcvlyPLySUpKeuzxocSYqk8vSUlJyGQmyOVypFIpwjMUe1jkX0phErXsrCzy8vN1oo8WnuwcAhGRp4eHFVYfFJvduLBauKzVoikVh7X48z8vrParG8jMi2sA+Ov2UWYGvKx/MOhh5cy+XjPpsO09YrKTyShQ6uuV9lTNzMymlmvNEt6poMv6fuLESWJiYtBqoXZtNwID26BQKPRlTE3l1HKtSWxcIlKpFBtry39g5CIiIiIiIiIiIiJPHhmUFE4NbySKMLyxKF3WcHt5VLS9Io/Sx4kgCKDV6sIByGSYmZmSkZGBQpmDhcL8sbYt8vSRrcwhW6nE2toamUymCwOA6K0q8vip6PdOKpHo4hZaWGBqaopWC1p0wo6IiEj1CKulHyqXfhlbX9pjteizWv3PC6ttanhR09yOxJw0ojIT+PPmPkY36KzfXt/ahf2hs2i/9T3ilClA2Ziq95JSqOPmUkJUValUzJv/IwsW/Ep+fn6JNuVyORNeG8/ESROQFWaSlcmkONd0JDomHnNzUzHmqoiIiIiIiIiIyH8CWekbhwdRnrha2fqlbVVl/aOWNYak0GvVVC5HYW5OSkoyForaj2RT5NkjJSUZhbk5poXeqhLRW1XkCWD421p0DhbF+9WLNyAKqyIihVRXKIAHeawaiqfGhNXiUACaMm09biSCwLtNB/F+2EIAppxezCD3EBQyU32ZBtau7A+dSYdtk5FLZHpRFSA19T4O9rYlpv9HRUUxcdIbhIdfZ8jgQXTt2oWmTZsCcOnSJXbt2s33c39g9549/Dj/B+rWrQvoPFcd7G1JTb2Pc03Hf2oXiIiIiIiIiIiIiDwxZEKpOJIPukmpiqdqdVBVb9eqbC8ai1QqRWYix8xMjUqlIi4uDldX14fqr8izR1xcHDKpFDMzM2QmOmEVRG9VkSdD6fAqUomE3Ii9rDmhpfWAzjRSGCa0yuLq9k2ckQcxtJM7lY+K+LhRc3Pfas7b9GRQK7sn3ZliEsNYsy+PwOFtqV3O11udFsmx45e4k5wDlk40ahlIK3dLpMaLVwI1KVeOcPhSLOl40HlIILWNGMu6c4ZjZyKJy1BjalsLb78Amrk9jtkTWVzetpm79QbQ06ua7OfcZu+mU+Dfm871H8HmQ9ipirBqWFZixEu1zGeNBk3hZ4mBiAqUEFIlhcKqRqvl/sU9wOhK9b06ed2nH/OubOJudhJ3su7x/MFZrOn8CQLFJ3ojGzf2h87CTCrXi6r5BQUolTklRNCCggImTHyD1NQUli1bTHBQEADr1v2FRCIwcOAAunTpTJ8+vXnn3clMnPQGGzf+pfdctbez4VbUXfILCkSvVRERERERERERkX89JZJXVYbqioX6T1DZPgmCgEwqQSuXY65QkJmZSUJCIs7ONf+BXoo8SRISElGp1VhZWeli7UoloqAq8kTRJ9cr9FIVBAGLRgG0vLaZ8xcTaRjsov/hzo8+x4Vke1oOqI/i4ZW/x4AWqaCLY10ktjyauXiOrj6EKngY7R9lQoFEQEDQPUwz9jVX3mL/rjNkuLehZ1sHVLHnOXR4N1qz/gTXkhmpUAmUEZw6m4RN6+50qWWFpVxKaUuqhFPsOhxLzTZdGOwiIzv6AocOHsSkTyi+1a5L6xKiCYK0eo4NgJkd7vXrg6PZo9l8CDsPK6wa81DNubaH1bdcGNLTC3NAIwh6AVYvohokvyxa1giCzstcq0X6hK4fZlI5c9qMZ/De6QCsizrM5JO/Mav1yyXE1cY2biXqZWUpsbKyKLFu7tx5XL9+neXLlxAUGKhfv279emRSGQMHDgCgbdsQZn83izHPv8CP83/izTdf15e1srIgK0spJrISERERERERERH51/OQd4pleZKi6qO0bShiyGQyzExN0Wo0ZGZmkZCQgLOzczX2VORpIiEhgby8fKysLDEzNdXHVgXRW1Xkn6X0QyDD3yWtVotEakfToEZc3Xaay03609JOC9oULp6+i9y7B01tJTxdwSukuu+QQUiDR0Kri3kskUh4JHMSAUGQIEh04mJp0m5cIVrRhMHBDbATAPt2dLn/F5sv3aRVbS8UZas8mPxclDji1cgZ+3Kc95Ju3iKnbiDtvJyRAva2bWkVu4rLURk0d7B9mFYrQIKAbj9UW8gTuSNeQdUw7fsh7FSnsKr72dftF8Hg+1e6nF5kNdgO6B+EPCkGeYTwSfPn+N/5lQB8d2k9d7LusaT95BJhAQzJycnF1tZav5yRkcEvv/7G8OHDSoiq5dG2bQhDBg/ip58X8PLLL+kTWikU5qSnZ4AorIqIiIiIiIiIiPzLkRVNN33WqE4ht7S4am5ujkYL2VlZxMTG4VZLDAvwbyMmNg61SoWFpSXm5uaiqCryVCEUesAV/c4JgoDc1Z8g97UcOB2Bd/dGcO00V/Pr0rmlMyYSADXJ145z7EIUCVlqTG1r4+UfSEBdndChvLiF5VENGNWvWCC8s38Zh026MyqkhtF+ZNw6xoGwmyRk5iOzcsWzdXuCPAprqzO5deoYJ2/Ek6mSY1XTHb/A1jS0lwJaJFBCvMtLuMShE9e4m6wEhS21vQJo18KVIrnHcLvKzAEP39a0862BqfIam/88RqwG2PEH4RZeDBgZhLPwYJvKmPMcOn6V6PR8TB0aEOQjAaFQoC3zNVcSH38fO496OEiLBEcJLvVrY7Y7gXtqH+oZE0bV6dwKO8nJiHgyVVKsajbGL7gVDW2l5F3dzqLDcQDsW/wH+9xCeDG0MaUlrhotQxkotcJEUtyuiRTUEm254me5x0Ybx/5lB6DTCDoWOSdmXuKv1TF4jeiJl0KCIICgTuLirjDOxihB4YBH8yCCvB10fUs5zcpt9/Hyk3Dj9B3SVQqcmwTSwSOLkwfPEZVWuD+7hNDQmrJt5t3j/JFjXLiTglJjjoNHCzq188LRRLef75w+zLGr8aTngcKpAUEdAmloKzXS90qc03dr08EpnrCriShR4NzYn85t3PXneOn91DigHYHu5mUE04Sjq9h8LRetNoGVi8/gEjScno1kaFXp3D57mtORiWSqJFg61aeZf1PqWkr0AmvR99X4efXPMt3veSIz4lh96yCg81w9lXSd6X5jGVm/E5JS17e8/AJM5cVBRI4eO45KpaJ7t66VbrNbt66sXbee48dP0LlzJwBM5XLy8guqYUT/DWJjY7l46TI9e3R/0l15ZomKiiLq9h06dezwpLsiIiIiIiIi8h/j6XJyqmaqIr4W3RhJpVJkMhkWCnOsrCzRaNRERd0mKzv7MfZU5J8iKzubqKjbaDRqrKwssVDoRFWpVKo/B0REngTGzr0isUZ3bprSoHUznGLPc/b2HcLOpuDYyh93M915mxOxl80n03Dy78FzQwfQxQtu7P2b44lFwk+xTf0LARBKrit6pZ9nz4E4rFuFMnrMSPq1Mif68BEicgQEoYDYY9s5EGONX/cBPDe4K3429zi84zix6sLvkWDQVsZldu66RL57EP2GD2ZgiDv5V/ex81JW8fYdl8hxa02/oYMZFFKLnPO7OBCRi2DhTb8Xu+OlMKVh9xeYMCoYF0klbKafZ8euq6gbtmPosMH0biHn2plbKDXljJdsMjPBxta65Ho7a6xUmWTmGKtXQPSRXeyJtaBF9wE8N7AHLayj2b/tMNEFAmY+vXh1UAvspLXpOPYFJoR6YmakbTNrO+wtZAb76waX4hS413V8iGNTKJyWqlPi2KMm+dJ5El3aMXDoYHr7O5Ictl23v4VCG3nxRKTUpfOQkYzu6k7e5b2sO5hCg27DGTcqlOamtzkcdqdwGrxhmxqij+3hrNKdLoNHMm54Jxooz7DnbKruPL1+hL3XZfh2H8y4UQPo6JzM4QPXyCxjp3LntDrxBlHyVgwcNZqxvRpBxFGO3CwouZ9a9mLU6BH0bWnG3SNHiDRyLJ2DhjC8jRPSGi0YMnYUoZ5yBKGAmBP7OBhnQdNOoQwM7UQTyxiO7jlJrKqc8+gJX0IEBFZ2+ohPmj+nX3cn6x5jDsykwZqxvHfyV/bHX+BudhIFGhVqtRqZrDjsQkxMDABNmzapdJtFSa3u3o3Rr5PJpKjV6kcdDpu3bKVHz954eTela7ceLF22/JFtVoXt23cwYcKkB5ZLT7/PokWLH7qdWbO+w9LC4oHlsrOzeWncK3h5N+XEiZOP3O6D6NChM3fu3KlWmx9++DGrV68BoHv3Xty4cQOArt16cOrU6Ye2W7t2bb75ZgaZmZkPVX/Dho34NmvJzwt+eeg+iIiIiIhUDz1696Nd526069yN7qF9+fzLr8r9fY++e5dBw0aQm5v70O3diIjg8JGjD13/aSRbqWTK51/QLbQvw0aOKXd8arWaufN/okfvfoT2G8jSP1eU2H7w8BGGjRxDt9C+fDZtOkqlEoBPp04jpGOXEq/QfgP19a6GhzNizAu8+/6HRtv9+deFhHTsQlZWVjWN+MnyrxZWqyqSlRZXzc3NsbKywtRUTnx8AgkJiY+ppyL/BAkJicTHJ2BqKsfKykrvqSqKqiJPC+Wdg3rRxtaH4CZSru3ZS4SZNyHeNoXT4+8TfjEeu5adCGnkjK2dPXV8O9GpUQHXLt6hQCJBMJwGX/gqErEkBuv0r9xcsiQ21HZ3wlJhQQ3Pzgwb3RNPSwmSnNucvWmKX48QPF3tsbVzxrNte7yltwmP0SCRCDrPuELbiZevkV6nPb1a1aWGjQ0OHq3oHlCT5Bu3SC/cnuwSSK/W9ahhZ0ON+v5069Ka2gq1ri8yGTKpFBMTEyRSSaVsxl6+RnrtQLq3qouDnQ01GgTS3ssKtcE0+BIvQY1aI0MmL7U/5KaYCWry1Ubq5Nziwi0pvh3b4+Nqj62DMz7tOtPC5A4XbuQikUgwkQGCUKLvFb7UqYTtPUOWexv8ncspU9Gx0QuThmMTCo+1BImk8LeuVjM6t6yFg50NLp4hdGtqRfTVm2QWeV1KbPHxa0gNSzMs3X1o7CBgXd+XBnYmmFg64+tZE3V6ir58cZsFZGUXoHCpSx07C8xsauHfeyTDgpyQSCTkZ2WitnKmvqsNZpb2eAT344UBzbAtY6dy57TMwgO/5s5Yyk0wc/aluTskJqSU2E9uhfvJqXEnhozsQWNLI/tUaoKJVIYgmGBqYlJY/zaXb0vxbhuMp7MtNvY1aBzYliayGK7eyjP63XkaLiMCAl/6jWVd5ynUtnDSr4/KTOC7S+vptO196qwchemi3lV6AG2hUBB26hQLFvyqT+JVot1qHvv69X/x9dff8P7kdzl65CBfTv+CFStW8csvv1VvQ9XA/fvpLPpj8UPVTU1N5dTpMwQHBz2w7O49e0lJSeHc2VO0bh3wSO0+bUx+710aN2700PVlMhmtAwLYtHlLlet+9tnnbNi4iaCgB4e/EBERERH5Z1i36k8O7d3F+jUrUatU/PDjz0bLOdesyYTxr2BmZvbQbV2/EcGhf5mwOnvuPMzMzNiwdhVTP/2Ib76dTUxMbJlyS5b9SeK9e6xcvoTFv//KocNH2LZ9BwB3Y2KY+e1sPv5gMpv/WouZmRmz584D4PMpn7Bv59/611uvT6JJEx8A9uzdx/++nkFQYBujfbt95w77Dxx8TCN/MvyrhNXSNwgPEy7AUFw1MTHB3MwMS0tLrK2tyM3LJfLmTZKSk6uryyL/AEnJyUTevEluXi7W1lZYWlpibmaGiYmJKKqKPHVUfD5KcWrlSy1BTp0WLXEq+gVXp3AvQ4Gbm7VBWRmurjVRpyaToUWfvqbSZ7qzJ83tE9m3ci1b9p7g3I1E8osqp90jLT+Fk2sXsWBh4WvRZi5l5pORVUDJ1nJITs4kO3IPCxcWl//j0F3ycjJRanNITlZi51azxBR5i9qeNK1jXbRTSnXuwTbTU/Oxcy1p096lJhaScnaCIEMmVaMqKLVRpUGNDFNjYQDSkkmTOlPLyWCdxBE3VzlJScnFu8DwvUJyuHlgB+fV3vTs6FEmZICeio6N3jXZcGyG7wIgxc65Vsl94+qI6f100rRF5RQozEsakEqLw7LLpFLQgFpbuk0F9Zu4o76wmaUbdnMw7Cq3MzT6gO72jX2plXGaFSu3suvwOa7G5CAUnceGdip7Tptb6Y5p4XYzmSmqfHWJ/bR/1Tq27jvJ+Yh7xfvJCGUOVXoq6dKauBqGfRXscXE2ISUl9QFWnjyDPEK4MXQRMwPGUdO8bBY0LVqUmjxUqmLPUrdatQC4dOlymfJz586hT5/ezJg5i2HDRxIdfbew7CVdXbfixFgqlRrpIyQy02g0zJz1Lb8s+IlOnTpib29P69YB/PzTPLb9vV0v7O7cuYuOnbrSpGlzRo8ZS3x8PABpaWkEBoXwww/zCQwKoUfP3kRG3uT5sS/Suk0QL417hby8PEDnNblq1Wo6de5GYFAIU6dOQ6VSld1fWi3z5v2If0Ag/gGBfP3NDFRqNfHx8XTo2IXY2Fj8AwL1Xpc7d+6iU+duNGveitdem0hyOf8d9+07QECAvz7sR3r6fd5+5z1atgogoHUQ8+f/BMCqVat5++13uXDhIm3bdeT6jYgqtbt9+w7Gvfwqo0Y9T3BIe6N92bhxE8Eh7fFt1rKMgJ2VlcWbb75Ns+ataN+hExs2bNRvCw8P57kRo2jWvBWdOndj7959+m2XL1+hT9/++DTxZeKkNygwsm8BvvtuDgkJCfpjt2DBrwQFtyMwqC07d+7Sl4uIiGTIkOE09W1B/wGDuHjxon5bUHAQe/bsNWq/Inr27MHSJX9Qs0ZxWJyqnEOGaLVa5s6dR2BQCM2at+LNN98mJycH0J3X38yYSfMWfrQJDGbT5i0EBoWUGNvgIcNo0qQZPXr25sSJk1Uei4iIiMi/DUsLC156YSzHT+p+E2fPncecH+YzYswLfP7lV+Tk5DD7+x8AWL9hI59Nm66vW1BQQI/e/UhJSSUjM5PpX31DaP9B9B00lCXL/gRg7/4DzPh2Ntt37qLvwCFoNBq0Wi2Lly6n78Ah9B04hJ9++dXoTByNRsOC3xYyZMQo+g4cwqLFS/Xbbt+5w2uvv0XXXn14/qVXuBERqd926PARho9+nm6hfXl78gfcu5cEwP379xkwZDhz5/9Ez74DuHnrFtlKJZ9/+RU9+vRn6IjR7Ny1W29nyrTpZTxMAXJzczl46DCvT3wNC4UCby8vQnt25+8dO0uU02q1bP17O++/8zZ2trY4OTryzf+m08xXNxvp7x076dWzB818m2JmasobhLZ+egAAIABJREFUE1/jwKHD5ObmIpPJkMvlyOVypFIpq9eu4/nRIwFwdXXh918X4OPtVaZvWq2WWbO/5/UJ4ys1W+dZ4ZkUVssTTIvEiEeNv1paXDU1M8fSwgJra2sUCgsyMzOJiIggLi6erCwxRMDTSFZWNnFx8URERJCZmYlCoTt+lhYWmJqZi6KqyFOPsancAEhNMZWCmWlp0aKaMrzrzTnQYsBzDOvaAjdFPjFndrB09SFuF82ykbvTbtAQRgwzeI0YTi9vc2PGcGoeWrLsc8MZM7gNLkVDq/Ks4Yewqa2gEcEaawvIvF9qmlFGGhlSK6wf+3VfTcLJ7eyOq0m7Xm1wrii15IOOTWnKOhcCxsWN6kBRvxMjR/ajXSNHSI9g/18r2XguXbfRxpM+I4fQJ6Ae1ppkLu1ey9Id4WQYtfSI53ThfhrapTluinxiz+5k+drD3Hn4mWLPHGZSOZN9hxA3YiVH+8zhfd+hdHZtgZdtHWzlltzNSyEvP19fPjg4CJlMxu49e8rYsrS05LtvZ/Lj/B+IjIzgu+9mA7B79x7kcjlt2rTWl83Lz8dUXk62tkoQERGBhYUlvr6+JdZ7eHiwedNfSCQSIiNv8v4HHzHvh++5eOEsAf7+vDp+or7svXtJuHu4c/zYEdq1DWHI0GF8/dWXHD1yiLzcPLZs2aYvu3PXbrZt3cShg/tJSkpiwYJfy/Rp1arV7Nm7j507trF/324uXLjIH4v+wMXFhQP791CrVi1OhR3H39+PiIhIPvn0M+b98D1nz4RRu04dPvjgI6NjvXTpEt4GNx5bt21DbmLC8WOH2bVzO2vWruXq1WsMHz6Mb77+H4MGDeRU2HE8Gzeqcrsnjp/g3Xff5uiRsl4i166FM/XzL1j42y+cO3uKbGU2cYVCNcAnn0zB0sqSU2HH+WPR73wzY6Ze1Pzll9/o2bMHF86fYe7c2Ux+/0PUajV5eXm8/MqrPD9mDJcvXWDw4IFsL/SCqYh795KwtbXh2NFDzJzxNR99/AlqtZqCggLGvfwKw4YN5eKFs4wf/yrjXh6vFy59vL25ePHSA+2XJrAcj5qqnENFXLp0iaPHjrF50wbOnAmjoKCAlStXA7Bi5SoOHTrM/n272b1rB5s3bdbXU6lUvDTuZQYNHMClS+eZMuVjxr82kaSkpCqPR0REROTfh7YwhJmO8xcuMG/Od3z+6cclSnXs0J6wU6fJL/xvE3bqNA0bNsDBwZ69+w4gk8nYsGYlyxf/ztbt24mIvEnnjh344L136Nm9G5v/WotEImHLtr85evw4SxctZOXyJVy9Fs6adevL9OrQkaOcv3CRZX/8zsrlS7gREcm9e0kUqFRM/ugT+vUJZde2zUwY/wrvffARBQUF3L4TzVczv+WLzz5lx9ZNNGvalI8/m6q3mZScTJ3atdm26S/q16vHrNnfY6FQsOWvtXw74yt++vU3roVfByAksA3enp5l+nXr9m1qubpgbWWlX9e0SRMiIm+WKJeWloaFhQW79uxhwJDh9Bs8lF279+oftEdE3qSJj7e+vKWlJbXdahF1u2SYoB27dlOntpu+L95eXpiZGncR2bZ9B1aWVrQNCTa6/VnlmRRW/wkhrKgN3VROKXK5HIW5OdZWltja2GBpZUVBQQHxCQlEREZyNyaGpORkMjIyycvLq5bYYiIPpuiPe0ZGJknJydyNiSEiMpL4hAQKCgqwtLLC1sYGaytLFObmyOVyTGRSMVGVyDNHmXiZhrFRZU7UtMkkJjbToJyGhLhEpPZO2EgEZCYyUOWRp9+eS1amGrXROJECgiqX5HQN9rUb0jKoPX2HdaJxQSTXYjQIdo7YaTPJwRob66KXCfkZ+YUhBwSDfiuwd5STcT8HM+vi8pbaHDILBGSCghqOctLi4sgxaD8n7jrXDMejm8RfuPxgm/b2ctIS4sg3sJkWn0x2eTFWBQVudWxJi4oijeJ9mHjzLkqnWriaGKlj54idOpHEZMNYrSnEJuTj5FSjlCheXru6V2b4frZfhhY9O+NjXXHZCo+NIMNUqiYvvzipkibrPpn69kFATVrcvRL7Jjk2kTwbOxwkgpHYu8XOriXPQ8NxF2/LT7+P0tQRjyYt6dC9P8MD7EgIjyQZAU3OfdLyLHBp4ENgh24M7+2LPPoG0dml7FTinBYQyvRJ162y+6lFYDt6D+lIo4KbXIvVlN2nQvG4NfrQG/bYqu9xL8UwPm0aCfcKcHAwHv/2aUUiCATV9GZGwEvs6fUNVwf/RtqY9QS7+aBU5ujLWVtb8/K4l1ixYhUnT4YZtdWrV0+2/72Nr776kqPHjrF23XrGj38FCwOvA6UyB3Pzh5+Sl5KaipOTY4VlNm3ewpDBg2jSxAeJRMKkSRNISrpHRKFHiJmZKb1DewHQpk1rPD09cXV1RSaT0cqvJXdj7uptjR41EnNz3UPXceNeYvOWstPJ/9qwiQ8/mIy9vT2Wlpa8/vrEEl4jhmzespWRI5/Dx8cbqVTKu++8xbHjJ4zGf0tKSsLJsXiso0aOYMaMr3Xfy+RkbG3tuH379gP3WWXa9Q/wp0WL5kbrbt26jeHDh+Ll5YlUKmXSxAloCz2Dc3Nz2bt3H59N+RS5XE69eh4MHTqUXbt0AvycOd8xZvQosrKyUKvUKJVK7t+/T1jYKWrUqMngwQMRBIGOHTropwlWhEwmY/CQwQC0bRuCRqMlLS2NsFOncHZ21tvr0b0bdevW5cyZswA4OTmSlpZm9D94SkoKc76fazSMRXlU5RwqwtfXlzWrV+Lg4EBiQgI2trb647dp0xbefedt7OzssLKy4oUXxurrnQwLw9ramueeG44gCAQHBdGhfTt2GHjrioiIiPwXycrO5vc/lpSYVt6taxccHOzLlLW3s8PTszEnC2dxHDh0mC6dOgIwoF8fPnr/PQRBIDU1DRtra31s+dLs2LWb1155GVtbGywUCsaOGc2hw2VDBcjlcrKysomNjcNCoeCb/31BjRpOXLhwEStLK3p064ogCLT292PhLz8hkUjYvXcvoT2706hhQySCwPOjR5KSksrtwpjmZmZm9OvbG4kgkJeXx9Fjx3lz0gRMTEyoU7s2vXv11MdL7d6tK36tWpbplzJbiZWBqAq6kE7ZypJOgckpKcTGxREReZOli35j7nffsn7DRg4cOgxAdrayhDirs2NBdmGcVdB57S77cyVjx4wyui8NuX//Pn8sWcbbbz44fv2zRkU+MVVCrdGg0oBGP40QMHQcFQw/aJEKAjKhOOOxVqslTw1qBHQmtLq4cGiRoUUmLdaAy/NIfVRP1dIIgi4rtyAI+qzxRfFX5aamqMwKKFCpUKlUqApUZGVmka65j1atQaPVFPenerslAvrzSRAEJIIEQSpBJtEdG0tLS2QyGSYyGTITE2RSKVKpVB8DT2/iKb4JFhGpGrZ4N3Pl4uH9HLEM/j97dx4W1Xk2fvw7c4YZZoCBQYZh3xECAoISUYgoCAkuUeOWtckv6ZJub9M0ybt0ed+2adq+S7o3bdq02ZvN2MTEBSMRxYBiIKISiQvIJsgOMjgDZ+b3xwCyDJuaaMzzuS4u4SzPec454yz33M/9kGhS0X2mlN0nNMStHBxS7mfCsO8YJUcCyQjV0P5JKYfbZKRZzlu01BaxpdBCYnYGibOUdNeepNHiQZSnBO7RJEdWkP/eXnTpiQS5D9Dy8X52H5XIuH0lce6j2wqak4ThzSLyD0Fa9Cyk83WU7imhKWQld99kwi8hCcPmEnYe1JARMwupo4rCgmNo0jcRB6DQ4eYqc7z6JE36QIwG7ZRtBiXGY9hcSv4hHenRXsjnKig6YUbF+CHRQ7zjkgitKCR/n44lc/wYOFvGnkqIuSV6eJb5UQavw/aCvegzEwlytVB/uJByazh5sc4ydye41g0lvL23AcO8LCJdemgfGmWu0uGtV4/ffrJ7ozDg7wtHyko5ZYjDaGnk0IEzWOxjzrvlMLvL1aRFeGFtqmDPEQsRWbHoxx1tplo5svMtjhnTWZ4aipu1hYqaDiRDPHqFzNlD29naFExuViL+ait1x2vp0RrxGHe5pn5Mm50c3el1ykonYfA6nbV4EOkp4eyFWeOmRequ40SDH1E+3ri7RZIYfpRde4txX3QD/moLDUf3c7Q/hCWRrkyQCvy54u6uo76+CaPPxQ8n3/3ud9i9u4CHvvswv/7VkyxYcOO4/fz8THxQXMzDDz9CbGwM3/7WN0et7+npJSjI75L7Ncvb+2I5jQk0NzWRMDhUDRyv6WFhYTQ3N+PjMwuNRjPqNV9SSqO2lUeUQDCZTMO/BwYGDg/JG+nQoUPcedc9+AwGQe12O7NmOX8CbW5q4vU3NvPyy69cPL4k0dnZiZ/f6OtisVpxcbmY3Xv4cAU/ffxndHZ2EhoaitncO+0v6yc7LoB2kvpzLS0tJCZdzBBWq9UYB4fGt7e302s2k3HTkuH1sjzAiuWOoOPmzW/y56f/gouLC5GRkagkx+RlLS0tBAcHjTrOyJIRE3Fz0znKjQxycXFhYGCA5qZmDh4sJfXGi7VQrVYr7R0dgOPDqFKpxGq1otWOflJpaGjg1Vdf475778Vg8JqyD8CMHkND2tvb+f73f8ixykqCg4KRbTKRkREANDc3ERoaOrxtSEjI8O/NTc2j1oEjQ7tZzO8gCMIX0PneXm7beAcuLi64urqSdmMq3/7Gg8PrJ8qGBMjJzmLP3n0sSltAyYGDfOvrXwMckyn97vdP0d3TTWBgIH19fcgTfNlWceQo//LwI3gbHO+f7Xa709eORWkLqKur5z9/8jjmPjMr8/K47957aG1rIzDAf9S2vkZH7bDW1jZiR9QUVygUBAUF0tLSisHLC41a7ZirAujs6qKvr4/1t981vL0sy2QtdV7SZ4jOTTc8ydSQ7p4e3HTjh+DZ7TYeffgh1GrHPDR3bNrI+3sKWbL4Jtzcxgdju3u6cdNd/GS0673dmHx9SZgz9cSnf/jT02xYt3ZU6Z3rxWUHVu12O219A/R5BuM6yx/JRY1CUjnefAwHv2DkH0rs9Ft6OV93Co++c7hrVJgH7PQFp6A1BjgCqnYbyDKy3E9X/Um8umrQqK7wUNdpGFleQKm8OPGLpFI5ygTYbMiyjE2WkQd/t9vt2G02x8c2EVT99AxmUSkGZ02XJAlJqUQ5JpCqVCgc2wztJgKqwnVIF5PLKnk/RQff4aXzMhpDCHE5q0jzH3ze9E4hO62TnaXv8FKJDr/YVFJCGyidoD1NZAbLO4ooen8zpRdAozcRk5VLqi+AmrDMPLJLiinetZnCC6CZFU7qioxxQVXHsRO5dQXs+aCELR/2ILt44BedyapFJsdgb8PQ+iK2lPcha2cRkZzHkpihD8ZeJKQncnZPEVtqI1h1z2KCpmrTO4UVuTK7iwt49ZCMxhhD+sJoevdMEo7TRZG90sL+feW8/XoPss5E3JI8MkLHBzcdHNchq6SY0u2bKeyX8AiIImvVQsImfr83hpVT5RV0yNBxcAevjEwSDEzngdXx44K6U92byPRMEnYVkf/aMSSvEFLnxeJTMPLDuYR/8kL864t440Anss5EzKI8MiMnOs+Z8CE5N5PewlK2vLwXi6TFGJbIrTdFoQGCFuSQsbeQwi2v0GtTo/eNIHN5OmFOYp1TPqanMHyd9rw5eJ18mb00h/nG8ccCkMLmsrD6fQ7uepf6+RtYGachOD2HxaUHKXtvK/v7JdxNYaTnzCNYAzNIfLtmqV1c0Om0tHd04W3wBBxBrD/84Xd885vf5o477+bOO28nZ9kyEhIcb5iPHDnKzvxdvPLKq8TExPCH3/8Wleri28n2ji50Oi1ql0svBRAdHU1v73kqKipGlQOorq7mOw99j39ueQOTyUTtmdrhdXa7nZqaM/iaZv5m/cyZM8QPDnWrrq7G19c4bpt581L4l29/i8WLb5qyPV9fX77+4Nd47LFHptxWr9fT1n6xZu+P/vPH3H//fay+dRUA99//lemexoyO62zfobq54MhSPXfuHAAGgwG1Ws3ewoJxAcve3l5++KP/YueObQQHB2Gz2UhMSnHaJkBtbS0Lbkydcf+G2ktOnsubm193ur6npwelUjmuj+DIJC0p/vQnJvnz03/B4O1N4Z4CFAoFTz/9V87UOrKQDAZvGhsbiYqKBKCxsXF4P5PJRG1t7ai2qqurSXGSiSQIgnC9c3dz4/m//3U4GDkTmTdl8Ken/8qBg6XMnh2Np6fj/c2vfvM7Nq5fR052FgCP/tv3J2wjIT6e++69hwWp86c83qYN69i0YR1nm5r43mP/TnRUJD6zZlHfMHqiqHMtLczy9sZn1iwaGi4+/9vtdhoaGvHxGf9lraenJy4uLrz2jxcnDSaPFREWRl19A71m83AQ9OixSqKiIkZtFxAQAChGfYFrs8koBr9UjI6K5Fjlx2Qsckyw2d3TQ2PjWcLDHF8E2ux2nn/pZR757kNT9umCxcK2HTvx8PDghZf+ATgC6MtX38YffvPktAKz1zLV5QaZWrrN9MTkoPUL5Wx3H339A8gyDAwOQ2Toh4tD9ECBQukNYUG41B8luvMYSknJmfMyVne34QkslEolaheJ4BgTPcV1aK5Yfu3MDV8nu90RXAXsSqUjiKpSYbfbh4cX2ex2uMLZs8IkFIrhb3WUg0FWZ0MzRUBVuC5I4dz85XBnKzDGLWZt3OKJdsSYlMPdSSOXRRE3wdagJWh+DrdP9H5C8iIyPY9Ip+VxJGLyHiBmxBKNfyI3r0t0tvH01gemsuqu0R/Gp9pHF5rKqtDR+8RETLDxUJu+8WStiydr8s0ukryISc8jZqIyQd6p3P21yRpQE7fyq5PcB2emuDfu4WSsDSdjxKLk6KHf9CSve4BkgISNjn/H8hnb5xH7DInM4euRQ38EkHXfPcOrJO8oMtdG4fS7dI0PCTnrSHC2TjG6nake07qk1TyYOPq11i/jdi6GoRzXadM8xzYjR7U4fYVWeHHD0jXE2u2O13a7HZR6ohYsI/JG++jX+Qmiqt5zb3G6/Frm7e3JmdpG3HRaNBpHcD0qKpJ33nmLX/3qN/zlr8/w0uAb4CEqlYpvfP1BvvOdb4/KtrRYrLS1dxIaEnBZfVIqlTz26CM8+PVv8bOf/YS5SUmcOnWKH/zwv1i7ZjVKpZJbb13F+g2bWL36VuLibuCPf/wTRh8fZkdH0zGYwThdz7/wIgsXpqFSqfi///sVt65aNW6bNWtW839P/pr4+Dj0ej3/9+Sv8DZ489WvfhmtVkdbWxtNTU0YjUZWrVrBXXffS97yW5gTH8+OHTvZ8s+3ePrP42c0joyIGJ50a4g8MIDNZmPfviIOHDzA2rWrnfb7co471ooVy7n9jrtYu2Y10bOj+fkv/ns4YK7VasnJWcbjP3uCH/3wB5jNfTz62L/ylS8/QFzcDSiVSvr7+7FYLPzt788OZ8mkps6npeUcb7zxJuvWreWdd96lsvLjKfsykRtvTKWlpYXX39jM+nW3cfLkKR597F957tm/4enpyenT1URETPEk/xkYeq6ora3l1ddeG64/vGJ5Hr/69W+YOzcJpVLJ3599bnifG29MpbOzk1deeZVNmzbyQXExewr38u///m9X6zQEQRA+l9zd3YmPi+O3f3yKe+++a9Q6WZax2e2Ulh6i/PBhbs5dBjhGdJyprRsORObmLOOvf/s7s6OjcHd356/P/B1PT0/uvH3jqPa2vPU2Hx+v4rHvfdcxl4tGjUKpICkpkfPne3lr6zvcunIFxQcO8j//9ys2v/oyOcuyePBb3yE3J5uoqCheePFlDAYD4WFhdHV1jWrfVaPhpvRF/O4PT/Gdb32DvgsXeOKX/8MdGzcwNymRnfm7MPmZmDumJr2rqys3pS/it7//Iw99+5tUfXKCbdt38NTvHZN8/f35F1iRdwu+RiOL0hbwq9/+noe/820azzbx8iuv8ejDjkDpLbm5fOPb3+Gm9EWEBAfzm9//kczFN+E6OAKm4P09eHp6kjx31AdMpzRqNW++Nvr95G0b7+DZvz5NcFDglPtf6y4rVNnf30+LZwQqT3+au81kxgbi5+mGShrKDlQwIk1wsEabY8GFARtbys/QE5TACY0bAWcP4ddYSoMdbP4xIKlAocA6YKemr48QpQTIMx7u/2mUBxhqd2Tgzg5IdvtglqoIqn7mRjy+xoZPRUBVEARBEJxTu7jga5xFU3MrgQEmVIOjg1xcXHjssUd48MGvsn//B8OZF0FBQaQvWoheP7pwxMCATFNzK77GWZeVrTpk3brbcFGr+eUv/5eamhr8/f257957uPfeLwEQHR3FL3/5c779Lw/Rcu4cySnJ/PnPf7ykY61ds5oNG2/n3LkWVq1awde+Nj5L9K4776CjvYPlK1ZhtVpZuHAhX/3KlwHw9TVy331fYlnOLfzxD79j8eKb+NnjP+G73/0ezc3niI6O4ic//i+nx16w4EZ+/otfDv/9xM9+yqOP/Ss//snjpKcvIj194skdLue4Y91wQyz/+aMfcP8DX0GWZb7ylQcIHTFU/edPPM6PfvRf3LhgEVqtK2vWrGb+/HlIksRPf/Jf3POl+7BYLNz7pXuGSyRoNBqe/vNT/Ou//Qc/ffxnZC1dwpo1zoPE06FWq/nbM3/l+z/4IT/+8U8xGo089NC/DGcjHT58+JKzYa+UB7/2NR555FFS5t1IWFgY2VlZw8Mo73/g/9HU3MRNi5ei1bry8MPfHZ4AzMXFhWee+Qv/8R8/4PHHnyAoOJin/vh7TJeQgS0IgvBFtyx7KT/7xX+PmiDp0Ye/yxO//B9+/bs/kDovhdQRIwLSFy1k567drL5tA1u3vMGaW1fS1dXFfV/+Kv3WfualJHPHpo3jjnNLbg7lHx3m1ts24ObmxtIli1m0cCFKhYL//vnj/Pf//orf/eEp/PxMPPHTH6NUKgkLDeXfH3uEH/3kcdra2pkTH8fPf/rjCc/lsUce5slf/5Zb123EVaPh5pxlJA6OItq3/wPCw8LGBVYBHn7oX3jil//Dqts2YDB48ejDDxEaEkx/fz/vbtvBnLg4fI1GHnvkYf77f59kzfpNaLVa7rrzdtIXOUruhIYE88h3v8N//vRndHR0cmPqfP7jXx8FHPGw5198iW+NKNEwGYVCMS4D2d3NDV+jz6gv6T+vFMuWLbMrBzMvZ6r7Qj81/gsxe/hzb3osP1yditZFchrIGrtMttkpPt3M/c8X0XOhH6ntDP41hWgUds74pSIHJwymICtQWHoJ+XgrJvWA034OLRv578jtqqurefLJJ2d8fjNxpQO4wqUTgVRhrLNNLfj7zXwoiSAI17bpvPaOfY/gbNnY9w9DP0OZqWP/ttls2Gy24WVDv8uyzJo1a8bVSvw8aO/ooqenFz+Tz3Dm6nRZLFaamlvx8HAbLinweXHzzcv53e9+zezZs6fe+FNgt9vJys7lzc2vT7v2p+Dc3ffcy/ce/u6EE3Rda6qrq7n3vvvZW/j+1e6KIAiCIAiXQQmXHhTstyuwSq4M2GFeuC86tWpcUGuimXIlpYKMaH/+Z/0CvD20yMZwzgan029XEHC2FFXzCcCOQukoJWAfMVnRVK7G7LyTzuAsfj7TH0EQBEEQZsbb4ImXl57a+rO0d3RNvcOg9o4uauvP4uWl/9wFVa8FCoWCb3zjQZ57/vmr3ZXPtePHj6NSqa7poOq7727joYce5vz581itVp599nnmzr12+ysIgiAIwvRcVikAOwpQuYBCgauLo6nJAlvO1q1MCEKjknj4zUN0BcTQqNbgV72XwDNFNMpW5JAkFErFlKPrnWWiCIIgCIIgCNPjqXdHq9XQ3t7F6eo6PDzc0Om0aNTq4RIBAwMyFqsVs7mPnp5edDotoSEBV2T4/xfVhvXrrnYXPvdiY2N59u/PXO1uTGrp0iXs21dEVnYuFy5cIC1tAb/4+c+udrcEQRAEQbhMKnAEPIeCkSN/n4rdDkgqFArl8MzszkwWbFUplSyfE4SLSuI7bxyiUxVFk91G4KkCAhsO0qDRoXDzRmWXne4/UV+dDf0TBEEQBEEQJqZ2ccHP5IO1v5/z5810dnZjsfYPzxgrSRIatQtarStBQX6f+4Dqzp3brnYXhC8InU7HL37xxNXuhiAIgiAIV9hlZayiAIVCCUql89UzyF5dOtuPx1fN5fvvHqY7IIazCgnfmn0EVe/BpnTB08UGuIhAqSAIgiAIwqdM7eLiGNovhvcLgiAIgiAIwoSUYyd6gplM/qNwZKqOyFadrNblZOtcJCVrk4J55s6F6HWu2INiaYnOwq50waRV4qJSOQ2qTtVXUXNTEARBEARBEARBEARBEIQrTTk20Oks0DqZkYHVyUoBTGedUqFgYdgsnliZhMHNFbt/NI0RS2i7MHEZgKn6KjJcBUEQBEEQBEEQBEEQBEG40pQwcfBxymxPBaBwZK2O3W+i7NSpZnCXlEpWJwTxm7UpeLppUATH0Rwwnwv98vT6NKbvImNVEK4PfX19l/zzRWc+/BZPbTmG+Wp3ZBQrlVuf4ZWybqdrr6k+t5by4p93ccr5d3yfmu7TJWx9+Vme+tMz/O2VXRw682k9lrsp3/wMW45cufblM3t57m/vcGT6k8t/qu1MW20Rzz9XSPXIe23r5sj2f/D3t8tpGfiM+iEIgiAIgiAIwufCqBqrYyeums6EVo5sVaUjwKpQ0G7up91sHbddpI8b5y0y585bnLczIgDqrVOzbLYvP8iJ49/ePYYyJJa+5nK0Y/oxWb/E5FWCIAifBplTO5+l2GM1dy/yudqdufLsjRS+sBs58x6yQq9eN+SzJby9u5aA9Dw2BUqYa8rZvSsf6bbVJHtfvX5Nl+QVTEx0D0bXa6OdS3eBuv27ONQTxNLlyRhVtqvVEUEQBEEQBEEQrkGjAqtTBSnHG8w8HVFOkicfAAAgAElEQVRj9U/FZ/j57lPjtmz9aS5vHW3iTx914q7VjFvvZa9jnu1l+gZUqEMf5fs50Ri0alAqQKXBjhK7ffQHmukGWQVBEATh8+Rs1QnMYRlkxpmQAO+kTFLrXqDiZCfJN3pd7e5NzTOctJuuoXYuiUznkfcpqNExf/kiwtzAJuKqgiAIgiAIgiCMoJp6k4kpFIBSQqFUDP4Bjy2N5HtLIsdt66pyZLWmRPjh761H7u1Ecrv44dDLZmeluYr+C228pnh0sH0FCqU0mBE7eV9EUFUQhOuZ3H6cwsJyTjb3IKu9CErMIHd+AI6vqWRaKospKj9J03nQGEzEzU8nLULvvLHztRzaV0pFfScWSYdPWCJL0uMxDn3nJXdz6sB+io830tMv4REYy8LFaUTqOzn02msUtwK8ye8qZrFw0zrmG6bTZieV+wopPdmKGR1BKWkEzeQCTNH+pNfH0kz53iLKa9rotWkxRqSQvSQeo8uYY5iPseX5/dTbgHef5ph7HBvuycAPgAHMZ0rYsv8Y9b0Sev9YMrLTiHQf3LermqL9ZZxq7KTbrsYvLImbFifipwHsjRQ8V4h0YyIXjpZxut2KxiuE1KwsEnwlp6drTFnFepUHI9dKShhgorHofdQc3ENRZSMdF8DNGE16VjoxBmnw+Lth2T1kDV307gpe/0ct8fesJE43uKy/ifJtJZTWmUHnQ1RKOunxPo5r2FrKi293Er9Aoqq0mo5+HX4J6WRH9FC8Z/CcZkWTnruYGM/B7Td3svDLOURKU92DSfo+th1kWir3U1R+mqbzMhpDCHGp6SwI0zpuYcXbPF8bzFJjIyVHmjCjw++GBeQuCkc7xUNsLHPNfnZ8aCYiewUJ3tKo9xl99Uf4oPwkjR3nkdVeBETOITXBH/UMjyEIgiAIgiAIwufbZQVWYTCeqrg4eVXlufNUNI6vmXdXSiAoFMzSqZilMHNk+1/QB0URuWQNSpULEMlh7ZO4d+0Cs2K4cUdwVcHYyKoIpAqC8IVhb6Z4ewnnQjJZf3Mgrj0n2LNzN/uNd5IVKmE+UcDWEjNxmSvJNqroritjT8EOcN9Imu+YtuRWSrYVcNKQSu66YPQDbVTuL2RrgYbb86LQYaV+37vkN5rIvHkdQToz9YcKyd8msX5TKvM33IfH9hco8VzJ3WkmJGl6bZ4q2EpRRyiZKzLx15g5U1pMabOMLnAa5z9V+5NeH6gpyqfUHM/yjcsxKjo48n4+O0tN40sZ6OJZ+4AHBS8V0L/4Hm4Oly6+9NibKavyITNvA9m0UfF+Abv3+RCUF4XG3krJ9gJOGdK4eUMEejqoeC+fnQd8uHtxwGBw1EzVsQ6yczZxs/sFTu17l/z3yvC7IxWjky8ONXovRo3t6DpORYOOsHnOyy+YP95D/nEVC2/ewGxPG2fLd5NfcAz/dYlMEF4fe5Fp+agMTXIm69PdsTZVsGffO+xWbWJ5zGBI0tpAVUsG2RszcGsp4+38XbxSG032zXeyzKWVit3bKSwJJurmcKQxbU92D2bSd3NVPls+sBKXmUe2r4au2lIK3nuHgRW3ke7vOOpAUxWnA5ey4V4fpPbDbHt3L4XGQG6JGhtJn9hA22Hy99bhceMKbgp2Hf2eo6eKPYWfICUsYPlSH1y6TrB/bwkHPVaQEew8UC4IgiAIgiAIwvVJZbfbL2OCp8EyACNKAbz78TmeKDg9bsuNcwMA8NQoafvofc6dOELLySN4+/gQnZZFfeVHNGk90Pg9An0NFye4UipBoRzXniAIwheGzUy3WcI3JARvnQS6eJbfFYsjqtlJZXkDxrRNpEU6AmD6+Ewyml6msKqZNF/TqKbkMxVU9Mdya1Y8fhKAnrTsHupePU6NOYo4TlB6QiJ5dRZxvgBexC3JQVPZCQOAi4RKAkkhOQ4/nTZtJ6g4rSFx3WJifBxtJmSl0PjCLjqmcfpTtq+Z7Pr00XPeis4UQpCnFtAyf+U9JEsTBMBUKiSl5Nh35EujwoPERamEeTqOvzA1nMq9jbTYowhS+JC27h6SVWo0CgAtybE+lFc20UUAQyVR/RNvJNKgBtREzo/H5x/VNPWC0Z3J9bdSkl9KT1gWt5qcb3KhpwfZI5ZIfz0aICx9DQ/YJWYU5gtMIjt5MMvXM4PcrmZePXqC7pjBAKfCQPz8KIw6IDSOGO9jVIUmEukpASYSZ5soKW+li3BGl4G1TnoPpt/3TioPN2KYt4GMaEfI1WPOUrLa/sH2w9XM948CQKULZ/5cEzoFYEpiblgF7ze2QpT/tC6DPNBI6a5TdA+4ECI5eX/kEUPu+lDsLioUdjs2TTRRxqMcau2GYMO0jiEIgiAIgiAIwvVBdelBVZAkJbNNBtB54qnToFQq+WHObH6YM9vp9m4aF5rONnBi79to1I7MkdNF2+jvOMfHRTtw9/Yl7UsP4+HqSKTVu7oQ7++JvddOl3J0P4dqqoraqoIglJaWkpqaerW78emRAkmM07B1x8ucCw4lLDCYyOhwR4BLbuVch5WafS/z1P4R+8gyhPYgMzoS19XaiqWnhy1/OzZq+YDsQbAZuNBGh4sfycYRK118iEyaeKKqabWp8SN11sg2/QiYJU0rsDpl+7pJrg9aIueEU/beWzx3NoSwwABCo6IJ855pZqEe3YgAqKRRoxmwXhyYbzNztvIo9S2ddHR10N7SxoD7yGuvxs1txEBxjRoVAwyMnH3eqT5O7dlOuRzP2iXhjK9Q7uAdk0hQ5X5efLmW0OAAgsOjiAmaXq7q4Blh8Asc1b53gBHN0U7a7QxmjurQjRlPL0kXv/iUVCqwgTzuJXnyezDtvsutnOvSERw4cp2Ef4Afcmkb3fYo3AB07rgpLq53ddEwcGGiEgpO2C5g8U5jZdhZCg4UU+mfyw0eY7axtnPqkwba2jrp6Omhra0fKdwGXJj+cQRBEARBEARB+Ny77FIADA7VH8owfe9EG++daBu32eO3RANw8O2XoPtiqYALDbW0NNQC0GeuYfezvyH19m85mkYxWF914oxVEVQVhC+20tLS4X+v3+CqmqD0jdx/Qy2nahqpqynhjYNlJK9c4xjqr/QgPnsF88fGPtVu47L+ZBuoAlPZlBk25gXABY0H0ADMcIKe6bY5LrQ1zeNM2f5k18dfQheZxd2mVurO1HKm/iQFm0sxzF/D2uSZTQI14QumpZaCN3ZRp48mPiyEuKhE9B0lvHFsoh2mS6apZBv5DX5k3paG32Qj2T1jWXVXAE21ddTUNVKRX06Jfzrr82KdlwJw+tLZDzOuRDo9k96DGfX9MxhqL/mxcMkNBLqGkl7/FgWFFfitSGDo0SK3fMQ7O06gDIkgwj+S4BgPej/O58NPv2eCIAiCIAiCIFxjrkApAIaDqgBVLb28/XHLuC1/nBuFpFRwPGIlRKyctNWF0mBpgcEfR9OXnlkrCML1aSioOvLv6zK4arfS3XYBjU8Icd4hxKWkULXtBfZ/3Eyavw++Hmbq+lzQ6y8GxczNjVxQjw9LeRsNSCe6sbrpGU7atHRS396Pv14LXrMwyBXUn5MJMw1u0N/JqeMd6GPDx0/4NN02+49R3wJhQzVfLU3UdcgQOvXpT9n+pNcnAEtHJxZ3H8LifQiLTyH18Fs8d+wELXOd1zeFKdNIR2upocYSTtbyxYQN9q/7nGVmbTjR/XEB245C8qos4qZIPpXNnXTZPPCLjMcvMp60uFJe3FLFmfOxJLhJqCWZbovMUGBS7umkZ3QLdDSew5KkH85abalvwuIZi/cVePmd7B54903S95GNSD74evZQ3dBNmu/QBZE529iE5B2GXjHjO+eUJOnQqAG0hKWnEfbPvewpD2RVsgEF0FlbS5cphY3pobjY7dhsFj6xyoMx6enXcRUEQRAEQRAE4fPvCkxe5aixOuSbi0L45qIQp9veNsfEbXMmKBAHTgO8CoUCu6ixKgjCGGODqiOXX3fB1Z4T7N5ShurGbDIjDQx0nuCTVvBIcgf0xCUFUFacT5E6jUSTBvPZo+zZW40hexM3R4yep1wKSyTuwDvsfE9PdmoYelsnpw4WUtIbz6YNKXi7R5McWcH23YV4Z6YQ5G6h/lAhhS3hrJ8TDki46XT0NJyk5pwaf6MezXTajCpje8FejEvn4u9ynlMHymgCdM7Od4wp+zzp9WnlyM63OGZMZ3lqKG7WFipqOpAM8eidBQwVOtxcZY5Xn6RJH4jRoJ06R9LDHQ+5iqqqZryDtFhaKik62smA2vlr4XRYGkp4e28DhnlZRLr00N4+uEKlw1s/du55mbOHtrO1KZjcrET81VbqjtfSozXioQUUBvx94UhZKacMcRgtjRw6cAaLfUw90JbD7C5Xkxbh5Zi86oiFiKwJMl5nZLJ7MEXfR42s9yIuKYCKfe9T5J5OoklF15lSCk5oiFvhKJNgvuy+jqEJISM9ks3v7eNQwApSjQrc9e4oT1RzoslAiFs/7dWHOdJsgzD4TDJqBUEQBEEQBEG4ZlxWYNWRSKocHK7v+IT6/Idneb7s7GV16kvz/Ll3XoCjxIBSiUKpEAmrgiCMct0FTyejjyc7u4fCknxeKraCqxdBsTmsSBysfHlDLmvtxRQd3M5LPVYkNxNRi/LIjBgbgAMkExm35uC6v5T8zSX02rQYgmPJy0sZnHBITVhmHlklRZTu3Mzufgl9QBS5eRezO/2S04jbVUL+lloS120kzWcabS5eReb+Qkq2vo4ZHUHzMkmzb6diOuc/VZ+nuD7JuZn0Fpay5eW9WCQtxrBEbr0paoJ6pV4kpCdydk8RW2ojWHXPYoKm6p9nEtmLz7P74Ds8txf0/jGkxZloOjmdk3PGyqnyCjpk6Di4g1cOjlgVmM4Dq+PHBKQlghbkkLG3kMItr9BrU6P3jSBzefpgBq2ayPRMEnYVkf/aMSSvEFLnxeJT0DyqDf/khfjXF/HGgU5knYmYRXlkRjp5DM2Yz6T3YPK+j6aLyWWVvJ+ig+/w0nkZjSGEuGUrWeA/3YBmH0ffeoXD/iu5M3XiusEjqYMWsHj2FnbsO0TQylT8o1LJaC/m4J53OGjT4BMST0xwC5XTvh6CIAiCIAiCIFwvFNnZ2Xal8tIyQjtlCfflD6LQefGDZTFkhM1iy7EWthw9N9HhphUgvW2OL7fN8eWDui6eKKrB3ttJ++v/i6eif3ibsbVVh/529m9NTQ1PPvnkzE9QEIRrRl9f3yXv29l1Hn8/49QbCoLwuTKdOuuj3hfYz7H/5R30LryTnHDJ6XuGkT82m23U8qG/bTYbNptteNnQ77Iss2bNGkJDp1HjQhAEQRAEQRCEz73Ln7wKBSiVKAYjpmvjjayNHx/AmKyO64TrFDjKDCgUTDdlVaFQXHsTWtn7aDl9gqrTtdS39GA2m7GgRqfToTcGEhURRWSEDzqRlSsIgiAInx5rB50WX8KnneEqCIIgCIIgCIIwscuvsaocnLhqMCj4mw/q+e0HDZfV5kPpwTyUETxcv9V+yZNrXW0y3afLKCyuoKZr7JQafXRb++jubKP+RAVFnsEkL0wnNUIvKrQJgiAIwqeho5UuUwihrle7I4IgCIIgCIIgXA+u0ORVFzNK04I9USyaOAN1wnZGrEwLGTFVhmJ04HYq1062ah81H+ST/1EzFkDjFUxcfCxRIX4Y9Fo0WDF3d3C2tpqqY8c51VlH6Y43qZubxYpFIdOa0EUQBEEQhBnwS+fOFdfSewVBEARBEARBED7PLr8UgHKwFMBgADQtRD86MMrkZQAmX69AoVBiB7DbP0fBVZmmD7ay/aNOBiQPIhdlkZ1gGjNRihqdwUSkwURkUgpNhwvZWVJN00e7eJuVbFhkEpmrguBEdXX1tLcNDw//FHsiCIIgCIIgCIIgCMIX2WUFVhUKBTbZjkoxVAcVfvNBA78pnlkpgPe/PJdww+hxeQqFYrjMgN1mGxVTnSpwerXrrFpOFbLto04GJC8Sb1lDZuhUsyqr8YtJJlulYU/RcVo+yuc90yZuviKzMU+svuBZtrQmctfGoZm7R5Cr2fbXXfTeeDsbkvXOdhcEQRAEQRAEQRAEQRCEL6zLC6zabdhlKwqFAqvsmCn3tngjqUETBOImyDj1c1c7zVq1yjYUSiXywADKERmrVztwOim5mdKSk/SiJmjRLVMGVeXuRio/KqPstETqxlxuHejmpf2NfFJSRlJYGn4ibVUQBEEQBEEQBEEQBEEQrjmXFVhV2gaw9HSj8Q3mk/Y+0kPsBHtpCPEaPeh9slIAztbZcQRVqzosICmw9HSilK3Yh+qtTuGqZquerKCyC/COJ2POxJmeltaTHCk/TNmpNiw20M9ZSYxOQkpMI/njNyltP07Z6RSWR3+6WauCIAiCIAiCIAiCIAiCIMzcZQVWNci01RxlVvQcdld30H5hgFk6NdLwZFMKhuOgiqHpqYYXDK5TjFwEKJDtdtovyHzUYsZFqaTn5EfosaFQOLo7MnDqLIh69TJaZeprarEAfjfEYBwXA5Yx1x+ntLyCyroeBoYWSyYSkwIcNVUVPsTdYKJ0fzP1pxuQo8OvoVqrVpoOl1B89DRN52Ukdx9C41K5aW4AuqFzPbOXp3f0svAWE3XFFZzplNF4h5OWlUFQdxmFJcep75bReIWQvDSTZNPFwLHcUU1pSRmVDZ1YlDp8AqNIXZhKmKhEIAiCIAiCIAiCIAiCIFxjLiuw6uLigvLEQbpi5+MbeQMfNvUyYDvvmGxKcTFg6gipDoZVFYrBeqwjA6qK4R8FoFAqcBn86Tz9Mfajhbi4a532YSiD9ZooDWDv4GyrDEovwoPHRwPl+v288vZxepWAEnBUT0ATkUic58Xt9MEBGJXNtLQ2024PdxKgvYJsMnK/jKwcs3xAHrNApumDf7LliEzovDTyjDosbScpPbSd13vyuH1xwMXJuezNlB7SkHrTGtJUrVTuLWT3O80YPIJJzV5DuqKDT/YXUpR/EP87MxzlDs4fZ+dbe2nyjCN1aSoedHK6rIytb/WxauNiwjQIwhdYN+WbX6dm9p2sTXD+XHhdM59k22vFsHA9y2Ouw/O3N1Lw3G5Ydg9ZQVe7Mxe1H9rMq03x3L8yliv+FHxmL38rVJJ7TwZBV+Q1rpOP/vkWFYal3JUZchlfSHZyeOtWjnpmsjEjcLpzZgqCIAiCIAiC8AV1WYFVgFlaFV07n6EudA46/1BcdO4oJBWSSoVCqQQU2EdkrtqHAqoKRzDUkV3KcFBVlm3YZCvnzefpbThN/6nDGLTOh8Nf3P8aCKoC2Mz09gF4oHMbu7KPqvIT9EomMjauJJHDvPnaIZrsXiQmhY/+0OrmgRvQ0memFzB+mn1uL+eVv5RPuNpv6Jfzxyk+0oPfog0sTxgMGoeGEKzdzouFxVQmrSN5ODgsEbkgk4RACfBiYWotlTsaCM5ZSIzJsSwtrYGqt5qp7wY/g0x9WSlnXJNZf2sqRgkghLBADy68XEDp8bmEJYm0VUH4VLWX8uLrraTen0eMy9XuzBgaL8Kio2GWKI0yLdfyvfzU6PCLiMLi5nWZozx0+IVFYnHzRGL4+09BEARBEARBEASnLjuwKkkSBqWdgdpyBmoPY2UweGq3OzJXneV7jFk0FBgdWqxUKFDYbbhiw12lQqGQhrcbWWN1qqDqNRNwBTh3lLIGefgkhz74qQITSfS9ar0Cz1hys2LwHJex2kDxO4eGyxXIDbU0EUDm7NEBTl1ULEFFu6ip7yPZcyiTzIC398WPtpKLGhU63HQjPu5qNEhYGegH7B3U11sxzI4eDKoOcg0h0h8KGtuQk/TXUEkEQRA+U5IPcek+V7sXwjVNjV9i+sUvAy+jHVPCQnzt9mvrPYQgCIIgCIIgCNekyw6sgiPA6eLiwqUkxjg+uDgbbCfBiFDadD7gjN3mM89mVWpw0wI9PZh74WIaqpVTh4/RYQNopujVZygBBmxa4pOj0Y1tp7eHXgCtjnGJr1eaiztGfxPeY5fLZjQwHFi1XLCCiwH92IQxlQ69K9T3WYDBwKqCaQdBHe1bMV+QaTn4Gr876GSjQDMWGH+dBOGLpr+J8m0llNaZQedDVEo66fE+F59qztdyaF8pFfWdWCQdPmGJLEmPxzi4QfepInaXnKSpx4rkEUDcwmwyIrRwahdP7axmAMj/y9MUROfw9ZzwSTrSR83BPRRVNtJxAdyM0aRnpRNjkMb3Q6HDb3YymemxDH3fYjlbwZ4PjnGm1QxaL0ITFrIkebCciL2RgucKISmG3soK6m1RrL0zgsoXLg6VNx9+i+dqg8kyNlJytBkzOvxuSOPm9PCLzxPd1RQVllLZ2ImsNZGQEYN1bznqvDvIMI05HWdD8bsreP0ftcTfs5I4nUzV9mcp98wkqquMstpOZO0sYlKzybrBa+bXxMm9GU2mpbKYovKTNJ0HjcFE3Px00iL0TtbLaAwhJC7KYH7QZPdyqjatNB0uYs/hajr6JDwiUlnoMclDAJDbj1NYWM7J5h5ktRdBiRnkzg9Ag+N6lRpWc3faYEDc3krRy2/RnXYfyyOHXiFsdJ8s4vX9VbRaJDyC48nIGKyrPfg4kObF03ukjDM94BGcwrJ0H+r3F1FW14msCyDhpizSQ7WATNWO5zhkuJW7Fvg4vR+Lli5ktpc02Pcq9u77iFPNPchqTwLnLCI7xR81MifyX+RDr+VsnO94ZbQ2V7LvwMfUtZnBVU9g7DzS4n0d73nszRRvLkGRMJsLnxyjrsPKmjVrJr9wgiAIgiAIgiBcN6YdWB2bLXopnLUx3eCns2NPFEgdWv6ZZ5sofPD3lijv6qS6rpv53oMfWLuOU3baenE7m4QuOIaU5ETigsaHIM11jXTYQOVjwvsaKfCmcVVDfy+9VhhVt2DATLcFNNrLqcCnRq0BfVgWy+f6jA/KqnQiqCoIyLR8VIYmOZP16e5YmyrYs+8ddqs2OeqOyq2UbCvgpCGV3HXB6AfaqNxfyNYCDbfnRaHrKGNnQSOzFq/k5lA3es8Us3PPHox+ecRE5vDV9aX8Y0srKffmEqeZ/KsR88d7yD+uYuHNG5jtaeNs+W7yC47hvy4RvdxKybZdVHmkkrUuDO/+c5QXFrF1n467l4QgdVTw9ruHUSVmsnaZF3ScpGRPPm/b17AhZShI2UPVifNkLruNXE83NMpmKsf0YaCpilOBWWy41wep/TDb3i1kj28gy6PVIDdT9E4Bp2alsnxDGDpLIx99UMpJi4q4y7gDHZ8cZ2DpLTyQ60r78UK2FhVyJHA1CfrpXJNJ7s3Y63uigK0lZuIyV5JtVNFdV8aegh3gvpE038H1H3QzOzOPbF8N7aeLKdiej2bjahImuJdTtlm5m7c/tJKYuZrlPtB+opSiik6YaESFvZni7SWcC8lk/c2BuPacYM/O3ew33klW6DQvaN9pSo9GkZa3AX+XTk6VFLJ9G6zfkIpRCWCm6hMz2Xl3kq1sYP87u9iyxUTC0lU8kANnS7exdW8ZoXenj6vTav64cPh+ROtlzn5UwK73K/Ffm4CH/RwlOw/QEryY23L80XSfZO+u9yn22URm8Jg+dlWyPf8oUtxCli/WY+84zYcfFLLLlsvy+KHIcx/VJ7pJW5THIte+aZ68IAiCIAiCIAjXg7EDwCc0nUmipgpkThSYnU7AdqJg6ch9J1v32ZAIighABTR9XEWLHUCm/vAxmmRAqcYYnUzuxnu4d1UGCUFOhrfbW6n4uJkB1ISGBV4zw98l/xD8aKTyZPeo5ebTx6kfmEVwwGVMKKMwEOavxXyuAzy98PYe+tEhd3ZgvWaugiBcZYFJZCcH4O2pxy8mg9xED84cPUE3IJ+poKI/lmVZ8QR569H7hpOWnYJH/XFqzIDZTI/Cg8BQH3SuWowxWdxxbx4xg1E9afBrNkmSnA8iGOFCTw+yh4lIfz0anRdh6Wt44LZE9EP9uBBN5rJEwrz16E1RZN6cRYpJgwVoOnKYjoBUlt8YgtFTjzEshdyFgXQcraB+eM48NaHJ6cSZ9Ghcnf//V+nCSU02oXOR0JiSSA6DpoZWAOSaCioHosnMSiTIW4+3fyyZaeFoLvO7Nk1IIqmheiRJjTEumdm6Vuqa5eldk8nuzSidVJY3YEzLJS3SB73ei6D4TDLCLVRVNQ+ur8VjXg4Z0Sb0nl6EJWezfHEUusGCoOPv5VRttlJR0Yhx3lLHek8fwuYvIWWyAt82M91mCd+QELx1anSmeJbfdSdZodN/vh6w64i5KYMYkx69dwjJ2RmEmo9zZPiBIBGUmEqkQY3GM5yEMA8wRJEaqkVy0RI0JxqfvjY6ncQyL5wfcz8Wreb/rUnAY7DvPWYJY0gwBq0anSmOm2/fxJKQ8X0/V3mUTr9kclKC8NF7MCs4gcx5fnRWfUzTiAKsxthEQjzVoHKf9vkLgiAIgiAIgvD5Ny5jdarM1EtdN5WZZK5OtN21MJGVJiqFhEN1lLcfo+hoDGsjGyk/DUFz0kmdG0uQfvIPnd1HS6hoBzxjSYm6hiZq0ceyMOEYW4reZVtfKnFGNZa2k5R+WIcm7hYSDJfTuETQ/FSC3tjL1rctpCaGYFDJdFSXUXzcTNQtm/Cb4roJwvVPwuAXOCph3DvAiOZoJ+12GGhtxdLTw5a/HRu114DsQbAZ8IsledY7FLz8Gp+EhhAUFE5MlGnibHC5mm1/28Wp4WCnhN+CDWxI1uMdk0hQ5X5efLmW0OAAgsOjiAlyZOh3tbYi+6QQPLI2jGcICZ4AfZxqs2IICxh1HprAAIx9J2nphSAPx7FctVP8n9d54Db8kiPh6qJh4IKjuEhXW8e4Pkh+fhilusnbnIJap7v4NY9ChasaOvplQJrymkx6b0Z+LyW3cq7DSs2+l3lq/8jlMoT2IMs9nOvyIDhwZL1rNX4x8RN3fMo2ob3HA3//kW1q8TN5wLkJ2pQCSYzTsN7CyngAACAASURBVHXHy5wLDiUsMJjI6HCMMxheoHL1I2jWiAUaP4INVo6390IIjHscKCRw0Vx846KUHL87mWHKe3YCQccu3o+gsEhmBw5mmEoBJNyg4Z2dr9ASFEJIQBARkaH4jOt7H63tVrxC/FADQ+8uNP5+zLpwmjYzmHQALmi1LiO2EARBEARBEAThi+Kya6xeiRIBQ2Y6GdXY7a92UBUAyURqWhSf7DxJ/Qc7KJQySL/9Drxdp97VUl/E2x80YkHL7LQU/K6pWKKE36JVrHUrpfhoEdsPyUgePoTOW8lNyaODJJdEH8vytSqKi8soLaikV1ajnxVIYm4OaWHXUIBZEK6qfkZH4S6SbaAKTGVTZtiYJ3YXNB6AwofktXcSWl/LmdpG6j/cTsmhCPLWLSbM2fOTFMKS9RtJG7HIVTcYePOMZdVdATTV1lFT10hFfjkl/umsz4tFns406tMeK3FpnPdhhk+oM305meKaTHpvxlJ6EJ+9gvlj5+tSuyFRDcjD9a+n7Yq3qSYofSP331DLqZpG6mpKeONgGckr15Dm72x7efwiGzM/j+kacz+O7CrngN8i1t0SgwdqAhet577YOk6daaT+zAG2lJaTtHwVqWPr78Kn/ngVBEEQBEEQBOHza1xgdaZB0is93H6i4Kqz5Vd9sqoJaCIzWJ7UypbDnVTsK6RXziE7wWeS4KOVliOFbPugmm5ZwpCUy5LITz+YGJR1H9+eaKUUzvKvfXXMQi1+SYtZm7R44kZDF/PVr41ZFpjB/Q+OWeadyt0Ppo4+pCGKjOVRZEzddUH4ApLpaDyHJUk//FzSUt+ExTMWbwW4GQ1IJ7qxuumHJ4nC0kl9ez/+ei3099FyHoxBUXgHRZG8IIyCF3ZRWZdOWLSzoKOEzuDlNKNVNnfSZfPALzIev8h40uJKeXFLFWfOxxJnNCAdr6WuP4qwoYzRrlqONGmYHWPCOEtNccPo87CcbaRFayD1Cs3Wpzd4wIkmzspRDJexbm2mRQa90z0k1JJMt8WRfQog93TSM4NjTnlNJrs3I1+2JB98PczU9bmg118MopubG7mg1jvWe5qpbugG34sTT7VUnaDXN54wZ6MHptGmt4eZulFt9tFwtmfieLTdSnfbBTQ+IcR5hxCXkkLVthfY/3Ezaf4mNCoJ2Tqitri1h+4xQ/YHrE00tUHYULD3QgN1bWpmpbgB5ye73FMaeT9MEXEsuOEQL/3zE86cj2GOm5Xu1j40PsHcYAjihrlzqdrxEsXHz5FqGln/QIuPt5rSxlasce7DE3Ramptoc/UkSRT/FgRBEARBEIQvvFF5GJ9mUHKmmagTmUkgd+REVp8tNX7pq8hLmoVG7uHUvjd57pVdFB2upqmrD4sMyFbMXc2cOlzCtlde5pV91XTLavyScrgt3XT5GaCCIFx/Wg6zu7yW9q5umqqK2H3EQsTcWPSAFJZInFTFzvcqqG/vpru1lvLdW9ladJIuwFJbxJYtuyk504n5fDdNVSdptHjg7TkYOXPV4aZs5dQnzbSfd5JdOEzm7KHtvLqtmFOt3Zi7W6k6XkuP1oCH1tGPRNdqCof6ce4khfkFlJ21oAL8EpIwNBaz7VAtLV3dtNSUkV/cgCEhESdz+V0STUQScVSxZ89xmjq66W4+SWHJCSwT7aAw4O8LZ8pKOdXeTffZ4xQeOINl2i8fU1+Tye7NaF7EJQXQciCfohPNdHd30lRVxNtv76a00epYnxBAx4e7KBxcX394N1v3nqRj6BV93L2cus3ExAA6PnyfolOtdHe1UnNwD4c7JrkhPSfYveUt8g830n2+j/b643zSCh6z3AEJ3wAfzCfLOFTfTXdHI0f2Hh5RQ9dBJVmo2ldEVXM33e21lL9XzBl9LAlOap3OjMzZD3eMvh9VtfRovfDQAudP8v5bW3mv4iw9vX2011dxshU8Zo2P7PvGzcGrqZRdH9XT2t1DW90RCj9swiv2BvxEJqsgCIIgCIIgfOHNqMbqpa6bzHTrpY78fSaZqZ/9BFZDtISlr+F2vzIKSyqoaa+mfH815fudb63yDCZ5YTqpEU4mtBIEQUDCP3kh/vVFvHGgE1lnImZRHplD2e2SiYxbc3DdX0r+5hJ6bVoMwbHk5aXgDRCZwfKOIore30zpBdDoTcRk5ZI6NOu7LpaMGxvZeeAd3qjN5IG8qAmeiySCFuSQsbeQwi2v0GtTo/eNIHN5OmESgIm0lTmwz9EPi8IDn4g0VqWHONozJHLrCtjzwX62fGgGrRehCbnkJntduUvlEkDGykyK9pby9mt7kbUmEjJSCG2pmGAHNZHpmSTsKiL/tWNIXiGkzovFp6B5mgec+ppMem/G0N2Qy1p7MUUHt/NSjxXJzUTUojwyI9QX19v2D66X0XgFEJebS7LnUAPj7+WUbcZlc2t/EXv2vcURi4QhIpWMRCvbGyc4ZX082dk9FJbk81KxFVy9CIrNYUWifrALGWQ276bk3Vco1cwi5sZ4Ys7tp3fUiUaTkThA2c7Xye+TMATGk7c8FaOCyyxXKhF047Jx92Nx3kJCJcAjjqVZ3ew7sIt/lFjB1ZPA2dncMkfPuOIEnnHk5cK+AwfZ9pEZXPUExmZyU7wn2KZT90IQBEEQBEEQhOuZIjs7265QKGYcgBwKbDrbb2wQdOTymWacOjve0O9D7Y3dbuzfNTU1PPnkk9M+7hVn76Pl9AmqTtdSf64Ds9mKRSGh03qg9w0kLCKKmAgfdFcrBiwInwN9fY5xxNXV1dPeJzw8HIDOrvP4+002xblw3bEDI59T+0+y9dkyjGs3kja2zqjwuTWdL1lHvmeYaNnIf0f+2AaDp2P/ttls2Gy24WVDv8uyzJo1awgNDb1yJykIgiAIgiAIwjVLBReDlTMJgg7t42y/ofXO9plO2862H9u+M9dCfVWnFFqMkYkYIxOvdk8EQRCuf5ZaCt7Yz4W4dNKijbj2d1BTVka9LoRUZzVIBUEQBEEQBEEQBOESDJcCGBvonG7gc2y2h7Pg7NhA6ti2pwrqOgvcjv3bWVD1mg20CoIgCJ8eTQhpma3sK97PGwd6sEhaDP7R5K5MxU/UWhEEQRAEQRAEQRCukHE1VkeaKLN0ZBB1ZHB1ouDsTMoFjPx7JqUDnNVdnUktVkEQBOH6oQtK4eYNKVe7G4IgCIIgCIIgCMJ1bMI5bZ3VLx0ytibrZDVandU8nc4+Q9s4O/Zkpls2QBAEQRAEQRAEQRAEQRAE4VKNCqyODIJOlG06NlA6tMzZ70P7T1YGYGwdVWdlAS4nQCqCq4IgCIIgCIIgCIIgCIIgXGmjAqsjg6ATBU8nWj+0zFmg1Nm/Q7+PnABrbJbsREHRqSbVmu62giAIgiAIgiAIgiAI/5+9O4+Lus4fOP6ai4EBhluu4T4kUMiDBEFRTE0l07xLs3Pbdrt3t3Zr791+u1vbsdXutpW7a5elmeaRqYkiGCR4QEmegHIoAiL3OTO/P4CRY1Dwrn0/Hw8ezHy/n+/n+57vEI1v3t/3RwghLoYSrCdRe7cBOF9CtXd1a39tBLonTAcyT9fj/loCWEsES4WqEEIIIYQQQgghhBDiSlPDhReX6m4gFaDdE6TWkqi9b/UfTN/UgcQnyVUhhBBCCCGEEEIIIcSVpAbrt/BD/0nU3uPP97i/ROf5tg00eTuYhKsQQnx31bJv9YdklJ/borZ1xCsslqSxobiq+jms8SifrcyE+LlMH2p3VSK9sFZO5WaR/k0BlXVGVPbOGG6IZcIof3TXTeeWs+xbs5Y8l2QWT/Cnv8t7vTiTs5qPTkVxb0oEWmsDjGc5lJZGVkElLT5JLJ0ean3cd5KRirztpO47QTVh3LJ4OGfXf0qey0TuTLoM792ZfaxaV8PoxUkE9LvcpxBCCCGEEOJ/lbr7k/56nPauMO3+vbuB9jM9XyL3YhKj52tBIIlWIcT3gwqXmGnMHO4AZhMt1SfI3pXG+jYbFib7W0+UaZ0JDAsDN5vLcH4jxzb/l0zH21g81v2iZ6nIWc+6fB3R8dOY5K6l9UwBe7O2sqpxGovH+1wnSUwd3sGhtDg4XyfxXBpjUTZpBSpGTptDsJPj9yipCjQeZFfWKfQJM5hs0OOkUmEbHEqL/ffjvRNCCCGEEEJc3/q0ArhQcnKgyc/eidPzzWlt/vP1dO1vu7QBEEJ8n6m1OvR6fccTJ2emKs6yfMshisb5M1Rj5QCVO5EJF58EvezM5Rw6dBbvMbcSF9aZ7HUZyVRbI+tySqkw++B1XVSt2uAVk4jXtQ7jMmlpbMHo4k+4rzP6ax3M5dbcRAPu3BDuiWvnfwNe0Qnfm/dOCCGEEEIIcX2ztALorr9kqLXEZfdt1pKhSqUCFycHJsbfwMSxkfj7uAFwoqyK7V/msz3zW6pr6jGZrFfLCiGEsE7l4oyj6Qh1jYC+jNTlaRAzlIb8PEpMocy+I5j8d7fBzUtI9q0ka8WnnBx+B7OHd7UFMFK07V22mJK4b3IQqppCMnbt5VjZWWrNNngFxjBufDRe2rPkrFxJZiXAJ7yW50b8gjmMdgGMtRz7aheZB8uoM9rg6BVEbEI8Q632J+jY1tzYDJyrolX5xjLbt9uw7nO2qXD0jSB+fBwhXVnB+hNkpWeTX3KWFpUOr+BoEuOj8NACZivXYXEiXqbBxGnk0Kb/ku1yG4vj3IEminbvICO/jOpmsPcIIyE5gaEuVo6tzOa91WeJv38yIZ27jYc28WauJwvmj8QVqD2Wwbaso5yqa0Xl6ENk/CQSg8+9JxX5mWTsO8qpetC6eBI5OoG44K4X38qp3Ax25BZS3aTCMTiWeMf+fkKMHNv6Xz47YgTKWP6PLDxums/C0c4Xdw27J71r81i14iB+c+YT15W7N5eT8cEGKm68g9lRdgM4R+fPpqH7nCeIWpJCpK7jPdjnEIfhTB5fn7Ihdn7nz1ynlgMbeDOtDICtb7/FVr9xPJASRtHny8lxmcmdY9yhMpv319URPdaGQ7sPUdmkwtEnkvHJo/C17ZyopogvM/dR0Plz7+k/jPiEKIZY+2NF7yt89hhZWd9QVFGPUePIkLAbmTXrwsddqq+/OcCLr7zOW/98FY2mI9CXX/07jg4O3H/vUtra2njgoUeBjs9m7u5uLJw3h1EjbwRg1eo1HDx0hF8981Tf12QysfbT9aSlf0lraysxw4ex+M4FODo49Bj382d/S/np07z8wp9wdnaybF+1eg0bN20BQKezY/iwKO5cNB+9o2OP2LtbMO92pk2d3GOfjY2GwIAAFi2YS1BggNXr0P1cXf765z/i7u7W5zX+4f+eJ2JoGPPmzLZ6La3FA3CiuIRl/3mH0rKTeLi7c8fCuQwfFmU1HiGEEEII8b9HbW2jtUWn+kuy9q487d0OYIibnp/+YAZB/kPYkZnP5h15AAQYPFh021jiRoTywpsbKa+oGXAy9Xzj+qtabWs3DmhuIcT1Y0/OHpYvXw7ASy/99RpHcx1qqKVRqUPXlSCijkNH6km6+XamONmjVZaT37VL4U54qCP7jhbQODwKHYCxlIJiFaET/FGZK8nalMoxlzimzgtGTzV5X2xh81fuLB7vw+h5d+O46V2ynFJYHOeJSgXQSkn6Rrad9iNp2hy8dS2czM0gbeMu7BeOx9A7MaVwJ/pGT/IzPmVVdRTR4cEE+jqj7fG/jY45t5R5kjR1DgZdIyU5aWz5TMXcBbF4mMrJ2rCVQ06xTJkTiL69irz0NNZsVbE4JaLjdfW+DopBxtlL47c72HJQTfzUeYQ7mTi5bxtbUg/gPSd68BWg1XvZnFqG2/gUpgbY03A8k807duDhNY2hOmg8ksr6rEYik1KY5KGmtngvO1I/B4f5xA2BxvxtrNvTSnTSbUx3hzNHssnIOwtDrJ1MRcjNd7N0yAbeP+rHglkxuKpUYLyYa9hran0YEV7Z5BZUEufemVk9XcixJh9iQ+wGeI4BXK4jRzEkTWbpZD3aXm2CtVEpPOSezYdrKxlx12QitSrAyv/rWwvJKx3LlLl34dJeRtbmL9j6lQ9LkrxRmqv4avMOCpxjmXx7EA7mar7e/gXbsl2ZP9aL8xZQmyvZu2MfVd6x3JIwBE19IVnpXwE/GOCru/IWL5pPQIA/aem7eOOtf/PKX/+Evb39eY/5ePVaduxMZ87s23Cwt2fdhs945dV/8Mtf/MzyGa+ktIxT5eXY2NiwZ99+Jk1M6jGHj483dy+5g5raWtZt2MSLr7zOb559GqXyXKPaX/7iZ6g6fpHg5urS4/inf/o47UYjaTsz+MsLL/PcH36Nm6ur1XgNvj7cd89dlufdk7yDYS0eo8nECy/+jYih4SyYdzt79u7n9X++xd9e/DO2trbnm04IIYQQQvyPsLQCsNYCoLv+qlJ7J1J7VqsqefSeWxjirucHT79N1dl6yzFms5kP1u7i5d8s4bF7buHZF1YOOLF6oTilJYAQ333V1dV89tln1zqM65axtozsL4/S4ptIoBYwA9gQMCKBSM/OUslevwZdw0JxyS3kWH0Uwx3AWHyUIgJI9lOBwp24OUsYobbpTKLZMSLCnX35p6jBB1eFCrUKVApVZ1IVaCwg+6gNsfMSGdqZy9CPS6KieAMHihMwBPet6NRHpbDYKY/s/QfZtTGHLSpnAiNHkhAb2nErd+MRso+oGHFbMpFDAJyJnDAZbf5ZaAfjiTzymsOYMie6MyGqJ3FyHSc/yiOvMoI4NyvXofHIoOPsrrmuDqNjBCHeerRAYMIs7jOrLq6HZ2MjdQpHogPc0dmCbmgyi0LpvKZnyd9XikfcAuJC7DqvVxKJpz4g7VA5cUNU5OWV4TFqHnGd5bv60RNoPPkBaf2dT6FCrVQBamw73zhj0UVcwz7sCAn1JOPrQs7c5I4rUHG0kBafWEJswXhsIOe4MG1wLIkh/bezUHX+eVilUtFvFlThTtToCNxtzYAfo4d78/W+UmrwxkXhxpjZdxCj0qBVgNlsS0y4G3kHT1OLF+dN0ZmbqG9S4ubjg5OdArNtGONnWK+svFY8PYcQFhqCs5MTGbsyKS07SXhYaL/jW1vbSN2xk4Xz5zAxaRwA/n4Gnvn17zl85ChDw8MA2LN3H15enoSFhrBnb9/Eqp2treU8gQH+PPWLX3P4yFEihoZbxgT4+1mqbXsLDQlGo9EQdUMETz/7G9IzvmTWzBSrY7Vabb8VrYNhLZ7Wlhbq6usZOSKGyBsiCA8LZeSIGwe8poAQQgghhPj+O+/iVRe6zd/Y3o66vQUbjKjMpj5jh8cMJSbCwBv/+oTGkyX0XpO6sfksqz78nB8+eDs3hQ8hL/dwj/0KhYJ2s4I2hYp2lQ0qtdUCWyHE95DR2E5FRcW1DuM6YqRi90pey+l8alJh7xvN9Amh3ar/VNjanSfd5xLKUOd9HC1sYvhwG4qPlULgJPy6DjE1cjL/G0oqzlJdU82ZiiraHTz7n+/Maapbqzi1chlZPUI14l7XCn1+63fQGaJJMkST1FbLqYJD7M1J4+Mz7R2VjGeqqNZ4McKj2wEad0JiOpJrFRXVGIeMxK97/kPvg59jNhVVRnCzch0uMs4urkOjMeTv4r0PThDg54NfUChDDRfZrdQrghFuG0j9YCWHA/wxGIIYGurZWUFcyenqVorSP+Cfu3rGSUAdRiOcqXPE27v7ue3w8nSE0wMP4czFXEMrdEGhGL7M4/CZWOJcKjlU1ILhpo6F1Ab2Pl2Yje3lWHhNh123Ik2tRovKaKS16+OMqZFThwsprez8ua88Q7u91RLgnpReRITZ8MXOdVR6+eAzxAtfP+/LEO/lZTSZ2LNvf0dLALfzX/jTFRW0tLRwQ8S5BKiPjzdOTnpKSsssidWcvfsZcWM04aGhvP6Pf9HQ0NBvJayHuzsuLs6UlJb1SKx2tSoA+M0vf241OapUKgkLDaGktKzfmI8VFHL3/Q8B4Odn4A+/efa8r7E/1uKxs7MjMSGet//zDl/tziEmZjiJY+P6TQgLIYQQQoj/PX16rPb3uDdjTRVzQl2IHzkWJ3cPbHSOKLoSn51/yLf3c0GlULJofCK3j449d7Di3AOtvRaVQslP7p1FQ0lNj4oTs9FIa2M9NWcqyczZx+pvT6N0dEGhUAyqulYI8d3j7u5x4UH/U1TohyVz63AXQImtnT0628HWTOoJCXUnu6CAxghHCorVhEz26ai8bDlB6sdbKdaHERXoT2RoNPrqLD4+cIEpbYJImjMGQ69Q1HbnT1YCoNHjNTSW6W7w3upDHKuPYDiAaZAvayAuJU6nCG6904dTJ4opKi4jb8s+srwTmDstYmCtALq/HpU7I2bfQUDJCY6fKKNkzyaycoKZNmc8gRpA6UjUpBmM7l2kaWOPikLASPtAznk16IIJ981i39GzxAYepajFn/jAS0iEXsEbTfr9s2xLMTs+2UaxPoRIfz8igqNwrN7N2m8HMqsG79EpzAsuoaj4FGWl+9ma+w33LrwKTVYH6MVXXkehUKBUKJgzeyauvW65vxgVlZUUF5dw150LCfD3R6VWs29/HokJ8f0fZO77mezXzz6NuvNzo5fnef6AYzajOE9TBoPBlx/cdzcANpeQ8OwvnvvvuYtxCfHs3ZfLp+s2sn3Hzh5jhRBCCCHE/7Z+PxV2/wDcu5eqtqGa34/15QZvN8wluzEfOou5rQVMRlAoOr9Ae8f9oByC3aoXsDOZOpKmXfMqFICi4/7HHzyJw9lKNJuWW47t2qewscXb3pkbxoQQ76fnV9sLaLE9f/8saQUghPg+0upccHVxvqQ59GGheOwp5NARHUWaIKb7dO6oKKKoJYjk6eMJ7Ew+1p5uOf9kzm64mA/SaNajt2QYm6goaUBtrXitJo81q4/gnTKHuO4FgUYjRlSg7JzTmEfJaSOBXbeht53l2MFq9BFBuHq4oDpcRnFbaEciEqC2jOI6R/zc+kk0DzbOXoyNZ6kxOeIVEoVXSBRxkdm8t+YQx+sjGO7Qa7BGhZoWGlugq5S4pq4O6EzUtDVRUQ8ehlBcDaGMGBNI6rtbyS9OIDDMnSGOjRQ3adDrzyV8G8vLaLbRg8odV8dGiktrYUjXC2mi9GQdg+lLcFHX0CobAkN8Scs9wqG2E7QGxFnmu/A5VNiojNS2GOkK3lh3lrpBnP2yqDzO8dZAkqYmEqDq+LxTe7p1YMea26g/04za2YdQvRchkTdwdPunVzbeTlqtFoAzZ6rx9Bxiedy7InXBvNuJGT4MFxdn7AbwR4QhHh7Y2Njw7cHDluRiWdlJampqMfh2/LLI2bMPgD+/8HLHnUXt7WTtzu43sXq6ooIz1dX4+vj02O5n8L1g5afRZOLI0QISxsb1O0ZrY4O/n6Hf/QNlLZ4z1dXs3ZdL0rgEhoaHkTwxiaef+TVFx08QGhJ8yecUQgghhBDffT0Sq90Tkr0Tk137jO3tjHE0EmFnxHhgF5hNvZKlliNo274ZNGroSqrSmUzteqwAzCZaNq6C9vaeSVWFAswmzC1NmFuboOY0ET6hxLmp2F5nRKns/x9/klQVQoh+OAQT6pFF5pcqdJEp51Z6d3TA0XiIQ4fKcTXY0VKRT8Y3Z2m38e8coMJep6Ou9ChFp23w9tCjdQhjREgeW77YiS4hGoNDOxXf7mLbNyoSF6YQ2Tvp6BRIqMdeMr5IRRsbgcHFhpbqQvKyDmAMTCJEB9Ax56ZtabgmjcTg0EJJThppFUHMHRaEKjCa6OwNpKU6o47tWhRpL9W+ccxwx3rV42Dj7MHIyZxNrD/lx5TkaLxtWik+eII6Ow8creWpHLzwtttHbuZRvGKHQEU+WYfqaO/Ig9FyIoM1aS1ET0ok2k1J7YmjlLU4EuqkApyJjPFhb+YWMmziiPbU0njyG3bsLMRl0gKmBjsTHe1D3pfbydAnEO0OZw5lk1utgv7bkPZxUdewH9rAIAzpGWTUqgid7GvJ717wHLjgPQS+3pvNMZdIPFrKyPnqOC3mS6+oHBRHBxyMhzh8+DQuvrY0V3xLZn4N7TYDSNQ1FLJr89coo+OJ9XOkraaI42evfMgAgQEBODo68Na/l3PzpAkcOXKM4pJS5s/tueK9wdcHHx/r7QlaWlooLDoOdHzGCwzwx8ZGQ/KE8az8+BOMRqNl8aqgwABLz9Q9e/dzQ8RQ7lq8EICMXVls3rqN5pYWbDsTvk3NzRw+cpSamlo+7Tx+aHjP3q7HTxRbFotydXHByelc/ffRYwW0t7ezY2cG9Q31jB839jJcNaipqbW8Zjs72x6VqdbiUSqVrPjoY4pLSokdNdLSUsHF+dL+wCWEEEIIIb4/+vRYtab74lYaTISomjCdPNaZMO2VVO2qWAVMp0q7VakqLHnVjnHnjjGVnug1TmFlnBlTeREhtu3srDVh7laeI4lUIYQYKDtCwjzJONlIaHi3bJxTDJPG17Nt9waW7wS991DiIj05dfTcEK8RcURuzWLLmhNEz5lPnLsNgUnTmJSVSebW1aQ1g9YtiNgZif0kK/UMn5KC6qss9u7aREazEbWtM4awJGbFdfWK7ZgzOSuD7M2r2damQu8TypRpsXgoAJUncSmTIT2bLauzaVHo8AqNZXbC+VaaH2yc3akwjJlM4s400tZ8SIPJBv2QYJKmJ1gqe3sO9yEuOZratAw+XgE63ygSh/lQcqRjtzYkkenVGWRsX012M2j1ngxNnkJsZwWv7oYpzDZnkrF7E+/XtaKy9yR07DSSgjtusddFTmJmWwY70j/l6xYVLsGxJEa3sqn/FpRWYryYa9gPbRBDAzI4djKA8O59Fi54DhtCEpIYvjWDLSsPoHL2J3ZUBO6p5YON4NLohzMxsZ7t2Z/x/i5w9AwjNsKD8oIBHOsQTkJCPZl7M1i3txVsHBkSeJ7b4S8jGxsNP3n8Ed59/0Pe/vc7ODnpWXLnQoYPixrwHCWlZfzuj38GOnqZh2lnQgAAIABJREFU/vvNvwMwb+5slEol69Z/RmtrK8OHRbFk8UIUCgU1NbUcKyjkkR8/iLeXFwDTpk5m0+at5OV9w02xo4COKtf/+8uL6HR2RA8bxp2L5vdpBfDHP71geTxvzixmTJtqef6Xv76CjY2G4KBAnv7pE7i6XJ6Ee8aXWWR82dFpOfKGCJ76yWPnjcfZyYknH/sx777/ERm7MnF1ceGBe5fi5uZ6WeIRQgghhBDffYpJkyaZlUrlgJOTqrZmfuRUSbJTO5jNfW/v7/GYHklVTdI80Np1PG+up+3LtZxLuCp6PbYyn1LJttNm/l5ii0mt7RFX90rb3n1ii4qK+MvzLyCE+G559JFzi4m89NJfASgsLBzw8UFBQQCcranH20t6tgpx+Rkp2vYBaZpJLB3vc+Hhl9lAPrtYuxOn97benyG6vkwmU4/tXc9NJhMmk8myreux0Whk1qxZBARc+ir1QgghhBBCiOtfn8WruvTbp9RswkbZlexkwElV9dBYtHOfAIUSMGOur8F0sgBj0dddE3VrF9Dt2F5za9UqFL3i6q9tgRBCCCGuDGPjWc6cOkhWoZahM69+UlUIIYQQQgghrjVlfzv6S0yazWY68qrmvonUHo/PJV8VNraoZz8GSlXHfqMRTEbUU+4GjbZbi4DeFavdHlt2W08CCyGEEOJqMVK0ay0fbivEfmSSpZWBEEIIIYQQQvwvUV94SF+K3tWkHQ96PcZSdaq4IQ61b7fVU1uawGxC7RVAW1A0pqN76JtUVfRM0nZuViovnESValUhhBDiSlIRMvluHrnWYQghhBBCCCHENWSpWO2v6rNre8/9F+iFaqlYVYCNFptRN3dUqwINRQdpKPq28+wq1FFjQW3T/3zWerD2ikcSqUIIIYQQQgghhBBCiKtJaW1Rh+6s7u+TBKXnY8t3UDoPQRk2smMOk5HabR9Qm74Gc+cCEKrgGBR6157z0Ws+Kz1Yu8cjrQCEEEIIIYQQQgghhBBXk/qSkpI9btW3sviUQoFy9BSUejcAmk4ex/bEN2Ay01xRhp2nAaWjC8ph4zFmfHyBitVuc/dyXS9e1ZbDsqfeIbf9AuPUMSx9/j5Gaa5KVEIIIYQQQgghhBBCiEugvKgEZLcWqz2Tql37Onur2juhGTfHcljbkX0oa6tQNpyhregby3bN6GkodPrO48/TVqBzs7VEanfXTVJVCCGEEEIIIYQQQgjxvXRRi1edS3QqeiVYu/Z1fFOOvgWV3tVyVPP+7djT0QKgMf8rGHMLACoHPcrh4zFmf2a9rYDllB3n7EqkXq8J1Lr8tSxfmUlBdRPtACb6r0i1VLTmsvynj7IcDXYuQcTPv4tZkfqrH7wQQgghhBBCCCGEEOKCLqIVgAKFvR6Fs7JbGwB6Li6lUICtPTY33WI5qqm8BM2ZUhTO7oAC9dmTNFedxtZtSEcgw8djKvoaWpt7tRigRxWroqkVFA0dj/tJsF7TVgCmQratTOVwFd2WBuugVlkZr+qTaaWp6jCpK1O58dezCFRaOeYyqzuYzufbM8k/UU5Vsxo3n3Bixk1lapwBuyt/+qvDVMiGF94g03MeP797NI79DKvbvYw/r6ki6aGnmOJ/VSMUQgghhBBCCCGEEN8harPZfBGLP1nvrap080IdPwuFvRPY2qP0CQe1bcchSg36eT+1zKBFQZuDKwp9Z2LVVo9i1pPQ2oS5vpq23esxN1TTq+/Ad0AtVTWcq1ClsyL1Qof1Hl9TRc0Vj7WNkm3/4rW1hejCRxM/bRyOyiaqCnPJXPEyucfu4sk7Y/pNQl63TPmseHYZVTN+w8OJXVW/Opzc3PB20VvKtKu2v8xzqQZ++Lt5hHcmsNUObni7gqP2WgQuhBBCCCGEEEIIIb4rBt0KQGF1UamO75ql/4faJwisFIva+YSAT0i/J1doHVBHJlrmwiuE1hW/7dVugG6LWnWwVpl6bVsEaNBpgJZaGhsA+0Ee3tBEjQnQ6rjS61i1F25k+bpiPG99gkenGM69H4nJJEWv4KV/f8AnkeEsHfE9qFtVejLu/qcYd4FhdpGzeDjyqkQkhBBCCCGEEEIIIb7DLr7Hao9+qgpQKDE7OGNuboKGGrjY5KZCAfZOtOlc+harWqmsvaa3/VujNGDw08DhErJ3lzNu4uAOL9+dQ4kJ1H4G/K5oG4A2DqRlUm6YxLM3G/r8IDjGzCDlpmLSThTTPiK8c38TRTvXsmHnfgqq2tG4BHHjuCmkJIXj2BlryfrneOlYLPePruLzzTmU1KtxGz6VO+ePpvXLVaxNz+dUvRq3iHHMW5RCuB6glvRXfsfOkAeZp01n1fZ8ytvUeAaNJvm2FOIN3RO73WMAJ68gIselkDK2s23BkVU8+2o6dQAf/ZJHP9IT/+M/siii4xyphof5zVw30l/7JasOAxTy+mPpEDKP5x4fh+PBFTz7rypS/vAw8Q6dp2wsIXPzBlJzjlDVqMbJEE781FlMGebWOaAz/qC7SFFmsiH9COVtdnhGxDF7QQqRzudiL8nYwNodORRUNIHeQMyEecyfFPT9abkghBBCCCGEEEII8T9i0D1WzWZz336qHXs48d/n8FvyNDZu3pcUVHNlGSdXv4pX99gUCqtdAa6rpCoAekZPjOHzwzkUbXyDZabIjgrUCyVJTbUUbFvGhk2FtKMnfmL/fUAvC1Mhh481YRgXg6fV2PSMuvMpRlmet1G0/jVeTWsjaso87vfX0VSaw+cb/8WrVQ/y5NxwS3KwvWwnGw4nk/Kjp9BX5bJ2xVr++VImniHJzH94FnZVuWxYuZZln/jx27tjLMfV7lnBKu94Uh5KwaCsIn/7Gla9uoz2nz3MOI+eMcR0xVCUyYZVr1He/iQPj/eEwKk8+YwXq55fRe3ND7N0tBs6114vDT2jlzyLW9py3tjlxqInUgi201u/3qZyUpe9xtqqIKbMuI9g5zaqvkllw1svc/Lup1g6oqvVQBtVuzeQPnoqd/5kHna1+Xy+YhVvv+/Esz8ehxtQl7Wc11ZXEZlyBz8M1tNemsWGtW+w3P5ZfhgnC5UJIYQQQgghhBBCfJcMvsdqt1v/LUnVzsWlnI/v4eiv58HsJ9B4BgLQXneGuo9fRtt4Bktm1LIgFbTaOWM/5R7U9h2JpfbqchQ7luOl04C6d1wXkQS+BuyGzeOBW6r45+eF5G5M79zaRGMj4NBrcH0jTSbAVEj6RgA7Am+5j1nDrnANY1sttfUa3Fz7ZB2tO5vFhtRyguc8w32JnZWaEZGEOy7jjys2kpkUTrJH1+Agpi5MJlIHeE9h1k2ZPL/Li0lz4wnUAp7JzBqXw3PphZSbYjoX6GqjyRjO0runEKkF8GTcnW40vfA8n39xmPhF4ajPZrEhrZaohU+xdLTeEoOB5/nL1p0cjp9HuEaPm6cbTrYa2p288PS0nrC0c/bEU69BrdXj5unZT3IZmnI3sLnAjZSf/JAphs6NkeG4GZ/jjfWpJMV0W2DMI55Fs0fjBuA5jvnTD5P7fi6Ha8cRr4fiY4W0Badw+6TOvrVBQXj6xlDnIvWqQgghhBBCCCGEEN81F9djteurY4Plsa1GRWBIBHY3jUVh05Esqt1fhlnbgtrWnt5JVVBgpB20RhxDAgEwt3nTXPoV5vKC7ie1fJl7JVettQK49u0B7Aic8QS/DE9n264ccr8ppKqlkD17q4gf79ZjZNX+PRSYAK0bgcNiiE1IZlzYVaxeVA1sWPvRwxQQxryRPeN3jBlN5MfvkH+kiWSPjvdc7eaHl+7cGI3WDnRuOHVrGmuj1UFLE43d5rILjyS8+6JRSk8ih7ny+b7DnDKF43X0MAXKcO6P6Xl9PGMicducT1ElhF9asXQfxQcLaTIkM8rQfasdkaNjcMw6zOEKCPQE0GDnY6D71bFzc8OJw9Q1AXrwCwpCk5PK+5+qGT8qinCDHregSHpeUSGEEEIIIYQQQgjxXXARrQDAiLlnYrXru0KBKuRGFBpby+C6zM9w7urH2qN1QOd4oCZ3J47hN4JCgUJtg8p3KO2nCztOZkmqdhxjMpv7rI3VlUjtSqZeL+0BHMPGMStsHFPzV/DHf2ZyeM3rLGubR8qYMNw4w+GvNrBqw+GOW//vfYpFkVexclGjR+/QRmHFGcDzgsObGptA54abbd95nBygvL4WLqlTqAa1nb5Ppt/J0Qma6mjsjKG9KZc3nsyxcryemvpLOL1VbdQ1NKF20uPUe5ezG07KfBrrsVw+G2Wv5cZ6Ja0dxy7lIdMGPt+5kbe/WEG7gyfho5KZdWs8Bi1CCCGEEEIIIYQQ4jtk0BWrZqDNaAaFEsymjo2dyVKzUklNxSnat6/peN7Whq78cEd/0T6tA7AkS+0qjlH25SYUapuOoGor0SmUKDD1GIdSQavR3LXhXEzXSSK1P3aRs3jgllMdrQHWvkHu2h57O279v5pJVQClH+EhdqTn5lJ+8xQrt8LXsuf9N0hzmMWjt4Vjp7ODxhrqmoFu1agYa6mpB53DpcbfRlNtFe0E9fihrKquot0uEB2gtrVDrQwn5SfziNL0nUHnfokh9KHB0d6O9rJaaqBnZWltFU0mO3S9Wzuclx2BifP4YeI8qK+iKD+dDWtW8M82J363KPJiV5ITQgghhBBCCCGEENeAcrBJSbNCSW2bCZTKXi0BQGE2ovpmB5od76LZ8S7aLz/CRomV1gH0WADLRq1Au38zmj3r0exZj/robhRm07mEale1q1JFXasRU2di9UKxD7Ya98rpaA3w1EOziI/w7KzrtMMzIp5ZDz3FkzOuxarwdkQlxeNZso33vyihvdfeutyNbNhdhZu/H2pAHRpOMEfI3F/Vc9y+HPLbPIkMufT2Be0Hc8mt7bah5TDZuVU4hgTjpQS70HCClcUUnrbD09vz3Je2hlPVoLZUiHamKE0XOKEKMPV+5T35hQVhV5LDnpPdtzaRvzufKrdwwj36O7K3JkpyUkk/2PkCHdwIvGkWycPsqCs7Rc1ApxFCCCGEEEIIIYQQ14VBF8m1o+RITRtmjRZFa1PHxm5VpbYq6y0Czj3udoDlMdipFecKUXu1C+jaZlbbcOhME+1mNWr6Jk5791a93ipZ3SKTWRThRutTy9hDFCkPLSKmn0WTrgZ10AyWzijktfUv89yROOJjDLgpmzhZmEvm7hJsRt/F7SM6U77OcaQkZ/LqJ2+wrH4q8f46mkpz2LYpH33Cg8RfuJvABdnpT/H5v1ZQc3MMBmUN+Ts3kl4fzrybO6s5XeNImbCTVz98jeVnphIbpIfqIjI/38wB/QyejuxMWiudcHNtIztzI+m6GMIjIvG0Ulnq5OSGpv4AqZsyaYoMJyaob7dTu5EpTM14iQ3/eoPWW8YTrm+j/JtUNmS1MWpJ8rmFqy5ITeORdFbl5VN1WzI3etpRU5zF5n3tGCaGS59VIYQQQgghhBBCiO+YwS9epVTy1VkzX1c1EW3wQNHSgNnY1tkWwNzRK4BeydUej7slUPv0Xe32WKHsqIpVKlFobDBr7fn6xGmyT7eisulo9Gk2m89blXrtF7G63mkwTHmYpwzpbNmeSdq6LOra1Dh6BRG74AmmjjV0q6TVEHjrIzzqtJYNO1fx9qZ2NC4Gbpz2ICkTwy9Dxa0GXcRs7hySw8qPl7G2UY1b8GgWPZxCvMe5MYG3Pcmj+rVsSF/F2xubwMGT4JhZPJkyrlunWE+SF83j5EepbHh/P5F3/5GlMX3PqI6ZxdLkD1iT8THL86fy9M+m9O02q/Qk+QePYPfZBlLXLyO1UY2TIZxJD9zFlGGDqdLVED73hyzVrOHz9ctIrQc7NwORUx7k9psNFz5cCCGEEEIIIYQQQlxXFMnJyWalcnBlk62traia60jxtycuzA8XvQM2NhrUag0KpZUEau/EabdK1R7tUrslX82YaW830treRnVNHZmHTrDhaDUmrSMazbkGm70Tp9YWsSoqKuIvz78wqNd4xbTlsuwXy8glhvv+dB8xVnqF/u+pJf2V35FqeJjfzA261sGI68ijjzxqefzSS38FoLCwcMDHBwV1/DydranH22vAfRuEEN8RA/njqbWFLXtv6/69+5fJZOqxveu5yWTCZDJZtnU9NhqNzJo1i4CAgMv3IoUQQgghhBDXrYtaL0ej0WBUOrHmZCsbSo+hVZhQKTqqVZXWCkgv1Ou0924zlj6qRhS0mBS0KlSobfVo1AMP+bqoWG3LYdlT75Dbp5VnLsuePJc0Qh3D0ufvY5QkWoUQQgghhBBCCCGEuO5dVGJVoVCgVqtRqVSYTCZauHL9TLtu9bdVKi2PrVWfWHsuhBBCCCGEEEIIIYQQV8JFJVa7KBQKVCrVhQdeJhfqqWpt/DWnGc19L4++1lFc5/SMe/xFxl3rMIQQQgghhBBCCCGEGKBruCb94PRXpSqEEEIIIYQQQgghhBBX23cmsQpYrVbtvm0w1axCCCGEEEIIIYQQQghxsb4zidX+FqKytspv92OEEEIIIYQQQgghhBDicruuE6vWEqm9K1TPlzyVtgFCCCGEEEIIIYQQQogr4bpOrHZPmnYtXNU7Wdr9uVSoCiGEEEIIIYQQQgghrgb1QAZ1JTX7e361nC+pau15f+0DhBBCCCG+j/bvz2XnzvQBf/5RKBQkJY0nJib6CkcmhBBCCCHE98+AEqu9k6hSGSqEEEIIcX3Zt28/t8+ZN+jjXn7lb6xds1qSq1dJS0sLU6dO5+233yQ0NKTfcamp23nn3ff473+WXcXoBi91x04OHznKDx+491qHclmZzWb+8H/Pc+ei+YQEB13rcIQQQghxnRpQYrW7a1WtejGkWlUI8X1x4sQJPvtsE/nfHqSttdXqGI2NDZE3RDB9+jT8/f2vcoRCiGstPT3joo9NS9t51RKru3Z9yeNP/ITs3ZmXbc777nuAsPAwfv70U9fFPOfz3vsfEDUsqkdS9cCBfB597HEaGxvJ/LLjfUxOnsif//I8WVlfERc35orFcyna29tZ++kGfv6zJyzbXnzldb7+5kCPcfFxN/Hg/fdYnm/dtp3NW7dRU1NLUGAAS+5ciJ/B17K/qamJDz5cRc7e/SgVCuLGxLJg3u3Y2NhYjWP1mnUUFR3nJ088Ytl2prqa3/3xz4wacSN3LV7EocNH+Ndb/+FXzzyFi4szz/35rxw5eswy3tHRgbibOs6jVqtRKBTcMuVmVq1ew89/9uQlXyshhBBCXLxFdyxGpVLx3rvLr3UofZw3sWotidr7+Xcp0SqEEN9FJ06c4K8vvtxvQrVLW2srubl55H97kJ/+5IkBJldbOZWbRfo3BVTWGVHZO2O4IZYJo/zRDehXey37Vq+iKPwOZg+3G8gBF9Z4lM9WZkL8XKYPvYQ5L9c81x0jhzb9l2yX21gc536tg+mmlfz175LnO4+FI/VWR7SUZLNl5wFK6nSMmDWfOM/LdOr6QnalfkX+qUZcbprLbJdc3ttWw8g5KQyzHsogmDi67X326m9hzkiXyxHtFXMpf1D+rv8xevLkm/Hy8rpu5jmfDz5Ywc9+9lPL8//8ZzkvvvgSI0eN5MiRIz3GJidPZMWKD6/bxGrO3n3onfT4+HhbtlVXV7N40Xxu7Jao19pqLY8zs3az+pNPufuuO/H19WFb6g5eePFvPP+n32NrawvAm8v+S319A7946kmam5t5f8VK3luxknuXLh5QXC0tLbzy6j8I8Pdj8R0LAPDwcGfMmNE4ONhbxk2/ZQrJE8YDUH66gv+++z42NjbMmzMLgOjhUfzr7f9wqrwcL8/L9QtLCCGEEN8n5128aiAJU0mqCiGuhMrKimsdwnXjs882XTCp2l1bayuffbZpQGMrctazLrcBv5umsWDBHGaODYJDW1mVXobxYgO+VFpnAsPCCHSzXpl01ef53jNybPMy3vuy8gqf5yxff5lHjU8ic+fdwoghl2/mU/t28XVrEJNvv53pN+hRORsYGuaPh+3lO4e4vi1cuIAJE5Kum3n6U1RUREFBIfHdEqVffLGNDz/8gHlz5/QZn5iQwI60nddt4nt/7tdERgztse1MdTUGgwF3dzfLl6ODg2V/1u5sJiSNI25MLH4GX5YuuQOT2cQ3B74FoKGhgf25X3PPXXfi72cgPCyUe5YuJjNr94Cug9ls5l9v/wez2cyPHrwfpbLjnzuuLi4smHs7Go3GMtbeXmeJMSoygtkzU8jZs9ey39bWlqDAAHLzvrmk6ySEEEKI76/zJlYH43wfdK7XD4NCiOuXSqXG3cPjWodxXcj/9uCVOcZczqFDZ/EeM4m4ME9cXZzxChnJ1AnR6KtLqbhWv7pV7kQmxBHprro+5hGXh7mRhmYVPkGheLjq0V62v8saaWhqxdE3hEB3Z3RawCmIuHHReGkvePD3Unx8HI8/9iiPP/YoWq2WWbNuszw3GHy5++67iIqKxNbWlscfexQ3N7dBn6O4uIQ77lzC0Igo4uITeOutty37fvSjh3nlb6/2GD9hwiS2bNnaY1vq9h3Ej00kalg0P3jwIU6frugxx4svvszd99xHxA3DmJEyk6NHj/GnP/+FG0eMZnRsHMuXv9PvOTMydnHz5KkMjYhiytRp7NyZflGx79u3n3nzFnJD5HDGjZ/Af/7T8/azkaNi+eSTNcycOZuhEVHMSJnJgQP5/V633Lyv8fMz4OTkZNm2fPm/GTYsyur4yMgbqK2tpaCgsP85c/N6xPjJJ2t67H/r7WWMiRvLDZHDWXTHYk6cKAbg2V/+iocfeazH2NWrPyEhMWnAn90Li44T4O9ned7a2kpjYxMuzk79HqNQKNFo1N2eK1CpVJZiDa1Wy+9+/Qze3ucqhwdzh9zHn6yloLCIJx77saUCFqCktIy773/ovMcqVUrU6p439AX4+1FQUDSgcwshhBDif0+fVgAXe2v/+Y652KrWrlgkMSvE/x4XFxdmTJ/W4x/O/6sGU606uGM6Eo7Njc3AuapOlW8ss7ta3ZnLSF2+DW5eQrKhc1ttHqtWnCBqSQqRuq4TnmLfZ1lkFzeCzp3QkQkkRLmjBajM5r11Z4kao+JQdiHVbTq8hicwKbiOzB17KTjTitYtjIQp4xnqZOWcLeXs25nBvqIqGkx2eASPZNKEKDw0AE0U7d5BRn4Z1c1g7xFGQnICQ11UVmI3UpG/i4x9BZyqN6J18SfypkTiAjvaBDTmfsryE34ke5SR9U05jejwuiGOqQlBdL3M2mMZbMs6yqm6VlSOPkTGTyIxuJ82A8Zajn21i8yDZdQZbXD0CiI2IZ6hripajmxleaaW6XeOx9CV963Zy6oPCwmaP4fRLq2cys0g/ZtSKutaUek9iYwdT2KYlfvaK7N5b/VZ4u+fTEjnXMZDm3gz15MF80fiCjQe38uO3YcoOVOHUetGQGQsE27yR8dZclauJLMS4BNey3MjfsEcRrsA9SfISc8mr+QsLSod7oHRTEiIwqMrWWk8S356GtlHK2lEh2FkHIa+0XWo3suHH+VQYQI2vskBTSjT700mRDWQ98SHRMcysg9V4pK4hNlR3SqQzeXsfG8defUAa3h9vyPRsxYyXpPDe6urib9/MsGKMra/sxNl7HCaD+yj8EwrNk5+jJ4wgSiPzr8vt1Xx7Ve72V9YTl2zEjuPQEbEjyHcZSCfX5opzcsk58hpzjabmTVr1gCOuXLUajVvv/UmH320EgC9Xs9f/vx/vP/+CqDjj1Y33ngjERERbNm8hXvvvZvXX//7oM+z5K67uXlSMn975SWOHz/Ojx9+lKhhUYyNjx/Q8XV1dSx7+9+8+a9/Ymtrx19ffIl77r2PdZ+uQaXq+EH+aOUqXnrxBf72yks8/fNnuH3OPB64/z6+3LWT9PQMHn7kMSZOnIh/t8QeQGlpKffcez8vvvgCCWPj2bkznYcfeYxdGWk4OjoOOPYTJ4pZsmQpP/rxQ7z44gsUFhby1NM/B+Cee5Zaxr319r958a/PYzD48vs/PMdjjz/BF1s3W33dp0+fZsiQnuXavRN53bm4uKBWqSg/XU5ISHCf/aWlpdy5+C4e/MEDvPjiCxw5coSf/PQpbG1tmT59Gms/XceyZf/mjX/+A29vb9586y1++rOnWPnRCm6bOZN77r2PpqYm7Ow6/pv7bNPnzJyZMuDP7jVna3DulkQ9c6YagE8+XU9+/kE0Gg0TJ4wnZfpUy5xj427igw9XMWrkCHx9vPli2w4UKIiKusFyPfz9ev422Za6gxsiwi8YV8aXWXyRmsYzTz2Jq8vgWneUnTzF2nUbSUpM6LHdyUlPcUnpoOYSQgghxKUrLS3lk0/W8sgjP7ZsM5vNvPba35k3bw7e3t7nOfrqsXyS60piDqSH6sUkX7snSc93bPf93b9fanJVo5aKJSG+a+Lixlj6yjU1NV3jaL6HFO5E3+hJfsanrKqOIjo8mEBf54uoJDRSsX8v2hFJzE1woPVUHjvSN7BNveBcb9PWUg5VJDJpfiL2FXtZt2UrH54IY9LUO7hZU0netk2kZfkROjUIVa+5izK2kN0YxfT50/FQVPP19i1szvZk8Vh3Gr/dwZaDauKnziPcycTJfdvYknoA7znR9E5BNh7awpovW4lMmsakIVpqT2Szbet62lPmkOjdcdb2U4c45pvMvKXuqM7k8tnGNHYM8WV6mA1U72Vzahlu41OYGmBPw/FMNu/YgYfXNIbqep2MVkrSN7LttB9J0+bgrWvhZG4GaRt3Yb9wPAb/UAzpGRw7acTQmVmtLSim0jWIqS7QciSNdXsaiUyaxgxfexoKM/lsx06cPFMYPtieobUH2LzlAOpRScyd4YVtzUG2bU5lh8sdTA9zZvS8u3Hc9C5ZTiksjvNEpQKMlWR9lspRl1imzPFD315F/q401qdqWTgtFB2tHEtdT0Z1AEkzkvDWNnI8O5PsciM6XysxuIxk4X3upL6fStvhf0AjAAAgAElEQVT4JUwNUIFqgO9J2UGKRiUxa4kX9tpebR0UnoxfvBTPz9/jK6cZ3DmmM/4+XQ0aOZxfTfLN85hi38Kx9I1sTd2H5/xRuCuMlH61jYyTPoyfMhZ/exOle7exbUcubrNv5EK1nE1HvyKjQE1M4i3427cP8s25/HQ6HTqdHb//wx8BsLe3x2QyUVtbS1VVFcXFxaRuS+WXv3yGtrY20tMzaDcOrvGH2Wzm5MmTTEyegIeHBx4eHuzYvs2SnBuIlpYWfvObXxIeHg7Ayy+9SOxNY8jOzrH83k+eOIHEziTXwgXzSU3dzo9+9ENUKhVTp07B18eHQ4cO9Umsniovx8ZGw8QJSTg6OjJ79ixuuWUqdnZ2g4r93XffIy4+jh899EMA/P39eOaZX/CnP/2Zu+++y/I59e6lS4iM7EgKPvH4oySOm0B1dTUuVhJ7DQ0N2Nvb99neH4VCgZOzMw31DVb3L3/nPRISxlr+weHv78c//vEaZlPH5+bS0lL8/f258cYYFAoFzzzzC8wmEwCxsaNxcnJmR9pOpt0ylbq6OtLTM/jZTwe+UFNLa2uPqlClSsmYm0YTGhLMlJuTOXmqnHff/xCTychtt87oOO/okezLzeO3f/iTpVr14YcewFZrvcQ8O2cvu3P28ttf/eK8sZSWnWT5ux+gUCjQ9LPIVW9rPt3Aug2bMJvNtLa2MizqBiZOGNdjjIODA83NzQOaTwghhBCXz8aNm3jp5VeoqKjAZDKhVCh55tlf8eGHH2HvYM99995z4UmuAksrgP6SnV3bzWaz5au3gWwbSFK1vzikYlUIIa4MfVQKi2fEMKTxKLs2ruTNZStZ/+VRzrQNciLfGCaN8MHVSY/X0ESmRDty/Jsj1HbtV7gQNToUD50NuoBIhrqCPjiaECcVKp0n0eGeGKsrqekzcSt19a3oPP0xONmh1fswOmUJi8Z2LNrUXFeH0dGTEG89Wp0zgQmzuO/2vklVOEt+bhkuoyaSGOaJ3skZw/BkJoW1kL+/kJbOUWpdELEjPNFpVGg9YxgRCKdKO7N0jY3UKRzxDXBHZ2uHx9BkFi21llQFGgvIPmpD7NREhno7o3fyZOi4JCKVBRwoNoLWn6F+Ro4VlHceUMuxgkrcw0PRA9qwZJbekUJiSOe5IqIItK2krPIiOt/qo5i5ZAHTR/rjqrNB5x1FpDdUnKrufG9UqFWgUqhQdVW8Hs8jry2Cm5OjMLjq0Q8JIm7SSBxLDlLUCNQfIa9AS3Ty+I7X5+rD8OSR+J6vwZBajUqpQqNSdRZLD/A9cYogYXRH7FprfyO1Er813sNjCXa2AY0jwaMica87yalGABW+CbO4a2Yi4UP0aHVOBEUG41x7msqW/ufr0tJQj9HeHf8hDtjYOl74gKusoaGBX/ziWVRqFY8++jDDhw9jR9pOXFxdmTvndrbv2DHoORUKBQ8++AD33/8gP3zox7zz7ns0NjYOag5bW1tCQ0Mtz3U6O8LDwzl8+LBlm1e3W8E1Gg22traWalbouGXcWsLrxpgYYmJimJg8maef/gUbNmy09NkcTOzffnuQkSNH9Ng2etRIystPU1VVZdkWEBBgedyVTG1osD6nvb09Z8/2/U13Pg0NDdg7WE/G5h/IJz4urse2sfHxJCSMBWDWbTMpLi5h8pRbeO65P5G9O9vSY1ShUHDrrTMsPbm/+GIbQYGBREREDDg2rY0NDQ3nkr5DPDx46Af3MXnSREKCg0gcG8fSJXewZWuq5fP8R6s+4dixQh750Q/49bNPMzNlGm+8+W+Ki0v6zH/8RDFv/+cd7l5yBz7e519U7Ex1NbfOmEZC/Bj+9da/aW+/8B86Jk+ayO9/8yx/+O0v+eUvfkZraxsvvPRqj397NDc390geCyGEEOLq+MEP7ufHP3qId997n5ycPWR99RUffvgRjzzy4+smqQpWWgF0Z616tL/kaPft1qpTeydHB1u5KslVIYS4MnSGaJIM0SS11XKq4BB7c9L4+Ew7i1MisJYz7EuFi5cv3WuNXH080H5zljNmOpOcOnS9CsJUqnNZOJVaDSYw9vlVb0fIsCD2fvEpy0/6E+jrQ0BoGIGuHckV16HRGPJ38d4HJwjw88EvKJShBislncZKTtfo8PPtvk+Ft68Xxt2V1JpDsQfQOWKvOLffVqOlvbnzH+deEYxw20DqBys5HOCPwRDE0FBP69fozGmqW6s4tXIZWT3iMOJe1wrYERjmT9rOAkoSfDDUF3H0jDsRIefiM9YUsm//KU5Xn6W2pprKOiMBF/u/wtZKDn17gorKas7U1lFR0Yo6ov8kbU1lJS11daz594Ee29uNjvg1As1VVGu9iO1ezqnxwsdNRfVAYxroe6LVcekpDRt09t0q2LQ2qGmne6FmXVk+x0urOF1zlrrqSirNrhjbgQv0aXUOjsDrSA7r1pfi7el+zVsBNDY20tjYxDPPdNyy/s9/vkFkVCQASmVH/8ja2lr27tlLbOxoduzYeVHnefKJx5l5661s37GDL77Yxl//+hLvvftfoqOjrY430/dzYG9Go+miYulNpVLx/nvvkJOzh53pGbz+93/yyt9eZc0nH+Po6Djg2C+2Pdb5DBkyhMrKgS8UV19fT3NzM55DrK9IbzabMZn6v26+vr5sT91KWtpOvszM4rHHnyQ+bgx/+9vLANw2cybz5y+kubm5ow3AbbcO6vU4OTtRU1t33jFDw0JpaGykqakjCb556zZ+9+tnLLf7BwUGUFtXz+at27j/3nMtFqqrz/Lyq39nys0TGRs/xurc3QUFBjAzZRotLS38+nfP8cna9cyfO/u8xzg42OM5pKOfu+cQD5549Mc89pOnKSgsIiQ4CICamlpcnJ0veH4hhBBCXH4//emTKJRKS+uqRx99mCcef+wCR11dVnusAj3aAgwkmdp9v7WxvbdZay/Q37HWWEvUCiGEuAQaPV5DY5nuBu+tPsSx+giGWyuSsvrrtg0Y+G3Ag6ELSWaxZyXFx09wvOQoqauzcRk9i9kjnMEpglvv9OHUiWKKisvI27KPLO8E5k6LsFK1eumLYY2YfQcBJSc4fqKMkj2byMoJZtqc8QRay/zZBJE0Z8y5Hqqd1J23HKv8Qgk07eLYKSP604VUDwklpHPh7DO5G/h4TzsBEWH4hfvj6mTk0OZUrN8MbEW3PIuxPJtV6w6iCo4gwhBBiKsLDXlr2XWew40mUPvGsiApsNcHBQ1aR6C04xx96sEGnRe7Htr0NHF4yyekn3UjItxAsG8wzpoy0jeVDexwxxCSZ3pwurSM4rJTVzbUAWhvb+eBBx7kpptigY7PR42d1ZOvvf539u/PBeDVV18nfGjY/7N35/FRluf+xz/PM1tmkky2CQlbyAaBhF2ibAKCbCoIKkKrtlatVmtrqz2t57T9WU/X09Nq7aKnWq37jqgoKAgCsgSDLIEgkSWQhOwhySSZZJZn5vfHJJNJmJAEEkC93q9XzMwzz3LPjK9k8uW6r7tXIV/gGppGwaECsrIySU9P47t33M5d37uHlW+9zdixYzFbLNSeao/YW1paqKrqeB2n00lBwReMGuWvjqytreXIkSNkZHRcYf5sOBwOSkvLyM6eRHb2JO677wdcdtlUtm7bzty5V55x7MEyM0eRk7OTu793V2Dbjh07SUgYcFYLfgGMGzuG8vJyamvriInpPqzLzz9IZGQkqa0hX2eZmaPYtn07t912a2Db9h07AH/lalVVFZqmMX/+PObPn8eK5Tdy1dWL+NWvHiImJprMzFEMGjyI999fwyefbOX//fIXvXo+KcnD/IthTfP3pz2Q/zmbtnzCvXffGdinuKQEi8WM2RyG3d6Az+fD1GmqfpjJREV5ReC+0+nkL397nJEjRnDdksU9GktEa4sFk8nEnXd8h9/9z58ZOyaLkRkjevx8wsJMGAyGDpXQJ4qKmTA+9D8YCCGEEKJvaZrGTTd/ixuuv54bbrgOgAfu/xGq6s8of3TfDwP7vvnmW7y5ciWvvvLShRou0NoKoC2U7KrPaldChaptOoexXQWfoYLczo/1JDTtqjJWCCFEF+rzWPXMSnIqO23XNDR0rb8hdBh1Gi3O9tI+raGOjvVJGrWllQTPmq4qKccZFU1sHxR7OWvraDLZSM6ayMz517Li0hjKPz9MlQ80Rx2nnOEkpmUxedZcVlwzFmNRAScaO51EZ2NAVAPFJ+1BGzXKTpaji7Vh7ck43c1U1WrEDklnwtQZLFo+mwz3YQ4Wh6j8jI4jxmfH4bNitbZ9GXDaXe1NeHSDGZHs4fjhw3xxrJaBw1Nbq1+bOXmsmpgJc5k/dSyZaUkkRulo6WpaukGHHieOoMfrG9rfoVOFhdQOnMLiOdmMGZXCkAQLmvPMLQVi42PQ1dlxhQeN3+TF3uRGr7Q+P3c5JVVBBznLKa7tRauCvnhP+oJWSuFJPaNmz2fq+EyGDxuITafR04ntWrOdepeZ+KThjMue2q9D7antO3bwl8f+yl8e+yt1dfWB288++zxaa5nutu3bT1vhvqca7Hauv+FGnn/+BcrLK8jJ2cnevXsDiytNumQib7/zLtt37ODYsULuv/8ndP6oGB4ezn//+jfk5eVx+PARfnjfj0lNTWHSpEvO6bkD5OTs5IZly9m6dRvl5RWsWvU29vp60lJTuh17sFtuuZldu3bx2GN/o7i4hM2bt/Db3/2O791111lXsiYnJ5OcPIwdreFndz79NJcrZs0MXM9ut7N8xTfZuPHjwBhzcnL429/+QVFRMevWrefuu+8NBNtPPfU0d955N4cOHaKk5CSvvf4GAwbEE2ltb1uxeNEifvu735OVlcnQoV0uQRfS+HFjyP/8UOB+0tDB5B88xEuvvM7J0jL25u3n6X+/wLwr5/j7xUZZGZkxgieefJoD+Z9TUnKSDR9vZt1HGwNVqT6fjyeefIaWlhYWzL+Sk6VllJwspeRkKa4eLuaYlprC1Qvn8eTTz+JwdN2jvanJQXV1DdXVNZw4UcSzz7+EohD4/8HlcnP8+AnGjR3dq9dFCCGEEGfHB+zc+SklJzu2CPrxj+7rEKoClJwsYefOT8/j6ELTw5kD0rbtoULXnkyR6i6s7ep8wdP/pRWAEOLrzGA04u7hH5PBx3QrKpn0+N1s/WgjpuyRDIkx4qwtJC8nHy15JmkWgBgGDoD9u3M5GpNJvLOUXTtP4PR1WpSlah8b9hiZnBrtX7xqv5PU2aGqRnurmv0fvkN+/DSuyh5GuKuKvOO16GKysCoaZbvWsrp8KPNmj2Wg0UXxoSIazPFEnlY8G03muEHkffIxWyOmMTZBj/1ELhsOm8i8JgUTdBukOYu2smqzk7FzpjM2TsVedIRSZyTpUSGqLiOGMyEtj3UfbcEybSxDIjxUfb6NDQd0TF9xDZkRADqGDE+BtTnsJoGZqW2DNhJpNVJ7vIDjQzOIVRs58VkOx1ww7PQrQUQiA8172LfjCInZA6DqIDkFDXhap7BboyLRHTrMwRIbaVYPp47kkntSg0BhoI5wi4WGk0c4XmlkYLwVU/JYMne+x4cfWZmTnYzVW8fRTzeT05TF8mUTiY0YzoT03azduIX4K8Yz0NDI0Z27KYceto/om/ekT6gRRFocnCw4SpXBhslRxt6cL2j2RXV/LBpV+zfzUWUi0yaPIE79eixwExMTw5P/fIL/+eP/8tvf/YHY2BiWL7+Rm2/6JgDLblzGvn153HHHXURFRfGzn/6Egwc/73AOW1wcd935Xe763vepr69n6tQpPPP0vzr0UD1bs2dfwb333sOD//lzKisrGTYsicceezSwUNaZxh4sKWkoL734Ar/57e/4v38+ic0Wxw9/8ANuvfVb5zS+b37zG6xbt56rrlrY7b7vvfc+Dz/8UOB+S4uTo0ePUd3a4zUpaSgvvvA8v/3d7/nH408QGxvLf/3Xg1x99VUA3H//j3j4v3/DN2+6BYejmfHjx/Hsv59BH/Q6L168iD8/8ig/uq93bQAAJk2cwMuvvEF5RQWJCQlYrVZ+9pMf8fKrb/CrX/+eyIgI5s+bw9UL5weO+cH37+L1N1fx5L/+jaO5mYQB8dxy0wqmTL4U8FeI7t2XB8Cvfv37Dtf7r589wIjh6fTEtYuuJm9/Ps+98DJ333V7yH3WfLCONR+sA/x9f1OSh/EfP/5hYCGtfXn7SU5OIjEhdCsGIYQQQvQtVVGwWMzk5OzkL/z1jPvm5Ozs1aKg/UWZPXu2T1XVbqfihwpRQ/VS7emxXe3XeQxnClRDtQMI3tZ2+/jx4zzyyCPdXl8IcfFqbvZXnBQWFvb4mJQU/9TJuvpGBibG98u4zof/+79/sq/1j8yeGjduLN8Lmr7aJWc1B3fmsPtYBbUtGvqwaIYMn8i0yenEtv3d3VjI1vVb2V/hQhedRPYl0RzZWEHWLdeQabGzZ+UblIxYyJCSreSeqEOzJJBxyTRmZtn8E72rc3lxZR1T7phLmg7Af8yR1GUsm9AavR5dzxM7o7nhG9nEU8rG5zbAlbcwewhop46wdXMuBRUNOHVm4pOzmHX5RBLD/OPfv2UzucdraPIasQ5IJfvyaWTadODreB7QqDq4ja17jlHeqGGKSSLz0ulMTvYHmo597/DcsXS+vTQrEA6Wf/IK77ZM4865SUAzJbu2svVAEVUtYLImkJE9nenDo0NPaNfqOJqzgx2HS2loAVNcChOmT2fCwKDQ21fB1hffYb9tNrctTG9v59lSyq6NW9ldXIdmiGbYhCzCD+bQNPlWrkqDgrXPkhtzLTdP9i/i5SzJZd3mfEoawTI4i+mDq1l3OIHlN04k1mfn6PYtbP28FLvPTGLaRNK1XPYY5nHbrEGB93jz+hwKKnWMvf5GJtuAxiJ2bcslr6iGJq+ZmKEjmT4jm+TWdgW46zi4bTO5R6pxYGHIJTNJK1tLXuIyVkwMEan7Stn8wga0mbcwO5AQ9/496XBKnw/QOLruOXIiF3PTFP/rQfUuXlxZy5Q75pKqnOTj5zfim3MTVwxuPa7lEO88f5BhNy5hnBU8lfls3LKXwlPN6CIGkzU2mpLtFaTfsJDMcC+HP3qJ3dYFXD/R/w8KXq8Xr9fr72/ZUsPnO3PYX1JLk6bnjZef7bCY0fn017/+nUf/8thZHfvjH93HD394bx+PSITidDpZsPAa/v3MUyQnJ3e534cfruPlV17luWefOX+DOwsfb9rC0cLj3PGdcwucLzY+n49f/fr33HLTCtJDVDQLIYQQon889a+n+ctfHjvjrBPwL376wP33d2iJdCGcFqxCz/ucdhZqAavg22cKYnsSzna3rXPrAAlWhfjq+DoHq0VFRfzpz4/2uGrVYDTykwd+TFJSUj+PTIgLqyezWUK1Ferq80LbP9C2fbUtCtT5fodgNei2pmksWbLkggWrn+3ezQ03LD+rY1e99Sbjx4/r4xEJIYQQQgjRe16vF283n/VVRUFV1TPucz4E1qQIDkG76o/aXVAaasp+V4Ft5+3nGrR218NVCCG+rJKSkvjJAz9mzZq1HPz8UJcBq8FoJHPUSK66aqGEqkJ8DV0ycSJvvvka27Zu7/HnH0VRuPzy6RKqCiGEEEKIi4aqqlz4yLRn9HDmBaTatofSufq0q3YCXp8PzavgU9TWxaQVFHwoPi86xYtK6NC1u/YEoXT+Q+Jsq2+FEOJikpSU1LOp/UKIr7VLJk7kkokTL/QwhBBCCCGE+FrosHhVqOrS4KrU4Mc6V6l2XnRK0zQcmooWnsjQEWNJHDyEmKhIjAY9CuBye6itb6SstJiSL/JQG8ux6Lzo9frTQtaeVF10rqAVQgghhBBCCCGEEEKI/hJoBdDVdP8zBZWdp+u37dvU4qLJNo7Lrv4mYzLSya9wUlDtoqzejcPtRQEsJh2DovWMGD6T2ctM5BccYef7LxFWsY/wMGOHsfSEtAIQQgghhBBCCCGEEEKcL/rOG87U2zRUiBo8bb/ZA+74LGLGLyQxMZ39TT7WbanGFzim/YbD7eVIjYujp9x8+EUjg6IGMHzJ/TSWHebUZ++jrzhA2Gmj6ziWnixoJa0AhBBCCCGEEEIIIYQQfa3D4lVnmu4PHataO/dWrW3x4Rq1BOuomRx3GWkpc3cMVAOtAtrP33bfp8BJu4fyRggzphA/8y5OHfiYlv2riDaFDlFDBag9CVrPB8fxHN7fkk95o3ZWx+sjEhgzYx7Tk819PDIhhBBCCCGEEEIIIURfUNuqTjuHpm23g3W+33ZcnddMfdY3caXNpbhJT7Pb5w9VlfZQtS1b9X8pgdv+x/z3fUCzB0qaDfhGzscx8VvU+8w9Ckcvmin/vgpyP8k761AVwNNYwZ5PPqP8InlKQgghhBBCCCGEEEKIjvShpvcHO9OCUIqicKrFR33mUhiaTbPH5w9Kg6b8h6pQPf0x8KewoOCvYG3WwJRyGQ7Fh2/3C0QbT7/2RROmBvM20NQEqEOZd/tCMgy9PN59hNVPb+R4UzNNXkDXD2MUQgghhBBCCCGEEEKckw5dTIODyq5uBweaDpeX2pSrMaROpdndVuXKadP+VUXBqFcI0yvodQqqouAFXJqPFo8PL/5A1R+stqargAsdluGX09hUj+nwO5j1XfdLvWiD1otYycZnWXXI1b5B1WGKjGZIchbZl4wkPuzCjU0IIYQQQgghhBBCiIvZGZaH8uvcTzVYbVQGxhGzWitVg6pSW/+jKKDXqcwdHsE1IyMZOcBEQoQek16hyeXl2Ck364808vK+ehxuXyBQDa5ybdF8WEbPxl5TQFj9odP6vYpzFJnOrMvTiQTwumioLuLQwS28eqyYedfOJcPam5NpFKx5mo26udw9P6V/xtudyhxefKuIkTfeyKTYCzMEIYQQQgghhBBCCPHV122w2hZgdg4yG5tduEZfiaaaweevSqWLaf9Th1m4amQk+RUtrMq34/HCtGQzEwaFMSbRREqskZ+vr+zYEiCoZYBLtaCMnIdj837CzZ16AnQaZ2ehAuHzwlvMuqefZN1ZHQuofTyerpiiGZycRCCDTE1nzOh0Nr/9ARs/zmfgtVn0KlsVQgghhBBCCCGEEOJroNtgNRRN06iIGIkxYQQeX2uv1OBQVWmvWvX64KW9dbySV88X1S58rbsadArfnxzHXZdGc8NoKy/l2fm8yhnUEoBAH1avAmGDR1ETO4qwxi/Q6XreePSiqWz1tn7vHJh2tf1CsiQxfWo6Rz/I52B1FpNt/s3OykPk7MzjeFUDdreOmEHpTJwyhUybDrQjrHlqI0e9AOv52+MQM/46bp5qAzROHc5l295Cyuoa0JRIElOzmDJ1LImBdgMuqvbnsDXvGOUNLrDEMWz0dOZMTMBE+z7l+3LYceAY5Y1girKRNmYyk7NsmICqnNd5dXcdADtefZIdwX1u7YXkbNvNwZIamrxGrInpTJ4xhYwYaWIrhBBCCCGEEEIIIXqvR8Fq5/6lDk3FMPoaNNUAXl8gBO0QiEKg8vRwjbvDQlUKCh4f/DP3FHPTwxlhM3LZEDOHqp2nVbu23ffqjIRNvJbmTX8m4suQhQWHeloha/61nqOkcNUdc0lrG3+o7W2LV124kQOgG5rCYP0RysqawWaG2jzWvJND7YCxTJ6TQqyugZK9O9iwxovlGzNINqQwa/l1DNz0Flv1k1kxPQmTORIAR8FG3v74JJGZ2cybaiPMWcHuHbm8u9HCzVelYwEcBzewansdQ7JnsmiwBU9lAVtz1rIubDmLMs2ARvn2t1mVD6kTprMw3oijIp/cre9xyrOEpeOiiR+/gJtidvH2xxUkz13I+FgTUQZAq2Dr6vUctGQyfd50YnUNHN+zg41r9EStmEzil+H/JyGEEEIIIYQQQghxUelRsNq56tNhjMM8eAR2py90ENqhV2qIitbWxzSfQl2L5h+I2qmFQKeFrDQfRCSNoskUR7hW0+sxi15SI4myQHlDE2AGSxLZM6KxpCcRqwNIIDHSQeEr+zhRAclDdFhiYrCYQK+LJD4mOnAq08Asps2dQHKarbX6NIE5zpM8s7WQMi2dNB1UllWgDchm1sQULAAJCcTaknFEtrZ+aDzEjnwHw2YtZ/5ws3/bsCQSWclre/IoGT2DIWFWYmMsGNFhjYkmNqZ1AI0nKWswkzFzOplDWsceH82QKj0xF1OlsBBCCCGEEEIIIYT40jgtVuqqJ6miKCiKgub14o1Nw+1TA1P1FRX/bbWtP6r/tv97+7FKYH//7bhwHWmxRjxe+LS0pcNjgX0VBbX1vBoqasJwvD0ITS9Yb9WvmEAxpymaIRlJxKoajtoKSo4f4WB+EQ1otLi0M5/DOoiMNBsmrRl7ZSnHjx5i//E6PJoTp8e/z4BEG1Ts5sNt+RyvbkYDrAOTSGwtT9bKiihXkshINXc4d2xqEpHOckpqzzCAiMEMCG+mYPtG9hyuwO4ETDaGDInGJP+bCCGEEEIIIYQQQoizcFrFaleVnm3bvejwWQeh+doqSztO+w9UqBLqsfbAU1XhT/MTiLPo+NfuOg5WtbcBCHUuRVHQfApKzGC0EgVVArH+5W2g3gHhkeH+++5q9m/ZRu6RCpowYo2MxBqjp0ez6GuPsHlLLgfLGkBvJjIqhlhjx//5LFnzWOrNYUd+Lmv3bcNjjGTIiAlMnzKSeAM4HS48rmLW/PNIiAuYcTrPcH1dAtMXz8WUk0fepnfY6tYRHp/E2OzpTEo2n+FAIYQQQgghhBBCCCFC6/XiVV4UFHMkmtfXvlBVW3pK6Gn8nVsCWAwq914WQ/aQMNYfbeLp3fVtB7X3aw1xLq/Ph2qJAlUPeM7xqYsz0U4UctITTeZAf/BYlbueTScimXL1CiYMtqJTgJZDrHo2p5sz2dmzcTMHvVksXD6R5JjWqf3HNvJEmSNoPyOJY2awdMwMaKmj/MQhPtm2hdUeC9+enSsBP4gAACAASURBVIQuzIheHUT20umkGk6/SljkmUehi0ph8vwUJqPhqD5JwWfbyPlwHboV1zIhqqevihBCCCGEEEIIIYQQfr3uMOlDQTGY8AVCVaVDS4C2afyhWwL4t31rfBTfHBvF3vIWfrulBrvLG3jMv7+/ojXQEqD1WJ/Seu0Q4+o89V96rJ4DRyGbdxzBOTiLTBuAhr3egX5AOhOGtIaqgLO8lJAz8DWNQHMAXyP2Bg1bemZ7qIpGVXl1UDTuoupwHvtPNPvvhkWTmJFN9jAjTTXVNAGmgYOxKdVU1pmIjY1u/9I5qG3woOv0TwQeb9Adeyn7dx+hSgPQYbElMWFyFjZfLZVnaiEghBBCCCGEEEIIIUQXel2xqigKPp8v9LT/DhWqnb63tgW4ItXCfVNi2V/h5PZ3y3F5Tj9XlwtgBZ2zs85Bats4RTfcdZSfKMIBeDQXDZVF5B88Qq0hndkzs7ACoCN+kA1y8vhoj56sARacp46xO6+oY4CJjqjISDwF+WzNh7RBKQyJsZGYYCTvwDZ2WbJIDNewF+Wz+5AD/MtUATqaivex6Xgh9ZMnkB6jp6nyELnHNGLGJPnHYM3i8tGHWLVlNWsaxpKZaIWGk+zflUeJJZvlw1oXxoqIJlzJoyB3NzEZSQxNtWHxVXPos1x2V9mZnjWYcK2B43n7KDcOZuyA8/dSCyGEEEIIIYQQQoivjl4Hq/i8GHETFqbzV44G91ENfG+9E3RbAaLNOr5/aQxNLi8v5NVj0imYdGrQlH+C0tjO5/E/5PG5wecLBK9dDlNC1Z6pP8KG91v7lqo6wiNtDM6czZwJ6cSb2nezjpvHQudWcvZtZlULhMelkD19IkfW7u5wusRLZzOlYTN52zdyfOQ1fPvyQWTMXohjy1bytnzADq+RmKSxTJ9sYd2WtlYAOpIvX8Q8/VZyc9azxwWmcBvDJszl8ktsgX0Spy1iqWUHnxzMYe0uFxijSUydzNIpWcS2DcAykjmzKvnw0zw2lpQyfcA1jIkay9ULPXyyo4AN7+3CqTMTMzCFOYunkGFBCCGEEEIIIYQQQohe63WwquJDddmJMOn81YpBgWqHRaqgQxUrKAyLMpAQrqfaofFFjRuzwd+JIHjRqraTdaxQ9d/X6xRqm2pR6FAmGZJUrHZvyOxb+cHsnu5tJvnSuSRf2nHrmO+N7bjBlMCkq25kUqdtE+Zez4ROZ7wzM+iOIZqMGdeQMePMY0icMJtlnU/UiTVjBss6ncgyZCLzl00884FCCCGEEEIIIYQQQvTQWQSrGlptGQa9gsft61RtGmLxKdorWh0eL3mVThpcXppa55AHT/vvEKoGV7u2Pm5QwVNXhsmn+Ru6XozUSMLDgYZi1j31JOs6PFjImn8+GeKgENsjzYRfpE9RCCGEEEIIIYQQQoivO72/X2o38+qDqIqCVnUEneJFbQtFg6ftE1y1GrxNoaxR4887avEBPp/Sno22LXYFHcLZDq0FAB1e3KVfoFO7TxwvWLWqkkD25ZlUbimgvFHrfv8Q9BEJjLn8EhJ7/rYIIYQQQgghhBBCCCHOI31vQlXwB6RhzVWcOnGIiKRMPF5fiIWllJAtAXwKNHt87Q+cYdo/weEs/jYAVccOYmyqAKOuR+O8UOGqJXk6y5KnX5BrCyGEEEIIIYQQQggh+p96NuFjuN5Hfe7bqF43iqK0fvlDUAUFtXX6vqIoKKoSuK1TFNJiDaTFGVDVoONa90NprWJtO1fb46qCqrmo3vYmlu4zVSGEEEIIIYQQQgghhOhXZ9XFU6/XY63Mo7HkELrWMwT6oarQVnIa6JXaOtV/epKZv84fwN/mD2DmMEt7/9S2jgJB4WxwSwCdCvYTBwkvy0Ov71lbWFm4SgghhBBCCCGEEEII0V/OenmkyAgzzn1r0XuaA71WlaBAVVEJVLO2TftPiTEQplcw6RTSovUdql39PVXbF6tqe0xVQeduovGz94gMN/fZExdCCCGEEEIIIYQQQoizddbBqk5VMVflU/XZh4QZ1Nap/R1D0cDCVq3T/vdWuKh3erE7veyudAVVq3Y8tq0nq6JAmF6l7NN1GEoP9GjRqmA+n08qV4UQQgghhBBCCCGEEH2uZ/Pqu2Ax6mjZt4oaayzRWZejKbr2FaxaF6JqW4QKBfZXu/jWexUoKDg83sDCVG3haqA1AP6AVY+Hqj0fo+18DWuYNFcVQgghhBBCCCGEEEJcHM66YhX84WdMmIon52XqP9+K2aC2T+tvrTpVgypYFQWaPdDs8bVXqaqgti5a1VaxqqoKZr1C7YFPcGx+nmiT2tpmoGekUlUIIYQQQgghhBBCCNGfzqliFUBVVaJ8LdRtfprSpjoSJs1HM1jwx5odq1Bbt3RYmCr4sbaAVedqouiTtWifvkGUUUFVz65aVcJVIYQQQgghhBBCCCFEfzjnYBVAp9MRE+bFsfsNyks/x5q9iJiUTDTVgEvzQYcp/7QuVEV76Kr4F7Qy+FzUHDtI/c530Z/cT6RJh9qpr2qosLRtmwSpQgghhBBCCCGEEEKI86FPglXwV65GhKmEVefTuPIzTg2dSOqcFWSkj6TBo9Do8tKs+dC8gAJ6nYJFrxJhVLAafJw48jkF61/DWLyHiDAj+jAD4A9Lg9sAKIpyWoCqKAper7evnooQQgghhBBCCCGEEEKcUZ8Fq4ET6vVERYbjrjrAyZf+H0XWBGJTMrEmDCUqMgqDyQSA5nbRZK/jREUJp47lo2+swIqGMdx8WpDaHalUFUIIIYQQQgghhBBCnE99HqyCPww1Go0YfD68LZW488upOAAoegIRqM+LTvGh+LxE6XSoRh2K0vVw2ipXO4eoEqoKIYQQQgghhBBCCCHOt7MOVjtP0Q9FURRUVUWn02E87dHeLUjVdq3uwtXg26H2FUIIIYQQQgghhBBCiHOldr/LuenJVP6e8Pl8XQaqXV1DQlUhhBBCCCGEEEIIIUR/CASrvQ0hexuY9ub8Xe0bfM2enK+vQl0hhBBCCCGEEEIIIYQIFghWzxRCnmvlZ0+P76oCNbi/aqhzdZ7+39vrCiGEEEIIIYQQQgghRG/0qBXAuVZ+9jTs7Gq/3vRKlTBVCCGEEEIIIYQQQgjR30IuXtXVwlShtndXZdqm8+JTbfdDHd9dOCrhqRBCdM/n8+HxaHg8GprmxevT8Pbyx6eqgKro0OlU9Hoder3uvLdZ8fl8tLS4cLpdeNweNE3D29sn8hWnqgo6nQ69QY/JYCQszPi1eJ968nkg5EwXr9f/nc4LYHrx+dr7urc95r/tbf3uP1JVFFS9Dr2qw2Do3YKcQgghhBBCiK+G04LVrkLVMz0eXFEaHKD2RFf7yZR+IYQ4O5rmxeVy43S7z/lcXh94fRoerxY4n8lgwGg0oNP17/qHHo9Go8NBs6OFsDATJqOBcHMYOp0eVZUe2sG8Xh+a5sHt9tDidFJXb8dsCSPCYkGv79/Q70K+T70JVjsGqL4uvwd/edsC2E73/f9g4cblctPidFFf34IxzEiY0dB3T64fud1uKquqAf/nrTCTiagoKzqd//8Vl8tFVXVNh2MiwsOxRllRAKfTRb3djsfjISzMRHRUFKra/vOgpcWJ3W5H83oxh4VhtUaiqio+n4+6unoczc0A6FSViIgIIiLCAWhsbKKpqQmbLQ6dTkdlVRVut8e/r05HlDUSs9mM1+vlVG0tTqerwxh1OpW42Fh8Ph81p2qJjYnBZDL6n7PHg73ejtPlwmg0EB0VhV7v/xjs8/koKyvHGmUlItw/Foejmbr6egYmJkjPfiGEEEII0SU9dAxLu/vwGCpUDf7euRq1c0Da1f1QYzjTIlYStgohxOmanU6cznMPVM/E6faHtiaTAbPJ1C/XsDc04mhuIcJiIWGATYLUbqiqgqoaMBgMWCxmvF4fDkcz1adqsZjDsEZG9Mt1v67vk6oq6PV6dDodJpORcIsZh6OZ2nr7hR5aj5SWlfHr3/6R+Pj4wHOZfNmlLJg3B0VROHGiiD/86S/Ex9swh4UBMPmybObOuQKny8V7az7gs937UHUqRoOBhQvmcemkiQDU1tXz5sq3OXz0KPjAYrFwzVXzmThhHC63m9dXruJA/kHiYmNpbm5hwAAb37rpG8TH29i2I4f1Gz7mwZ/8GJstjr/94580NDYSHRVFc3MLGRnDWX7DdSiKwpoP1lNYeJza2jrcHje2uDiioqx8c/kyGhoa+OvjT/L9793ByIwRuFwuNm7awuYtW/FoGga9nksmTmDxoqsw6PVomsYvfvUbZs2YzvJl12MyGdmzdx/Pv/Qq/3jsT4EAVgghhBBCiM4CnxRDTc+H0IFpT4QKPju3AeiufUBPH+vJtYUQ4qtM07w0NzvxeLXzdk2n043m9mI2m/qsetXj0airt6PX6xlgi/vaBHV9TVUVIiIsWCxm7A2NVNfUEh1l7bPqVXmfOlJVhfBwM8YvScUqgNUayR23fYvoqCj25u3nndXvM2hgAuPGjgHAbA7jhqXXkp6WCoDJZEJVVaqqq9m2fSe33XozAwcmsmHjJt58axWXTpqIz+fjjZWrKPjiMLffegs2m40tW7fxzur3SUtNxmyxADBuzGhuuG4JVVXVPP7kv9i4aQvLl10XcpyTL81mwbwrKS0r46lnnuPSSRPJyhzFdUsW4XF7eH/th1RVV7PixuuxmM2Eh4fT0NDQ4RzHCo/z4foN3LD0WkYMT+fQF4d5481VxMREM3vWDAC8Xi87duZy2aWTyBgxvL9ediGEEEII8RWjgj/g7K5yNFToGtx/LJRQQWjn87Sdo6veraHO1V1wKlO2hBBfJ5qm0eRwnNdQtY3H67+2pp37tV1uNzWtFZbRUZFf+7CuL6iqQnRUJBZzGDWnanH1QXsIeZ+69mV6LVSdjiirlbi4WGbNmE5cbCybP9kWeFxRVCIiwomOjiI6Ogqz2V+56vFoeH1eVFWHOSyMpdcu4le/+C8AKquqKfjiMLNnzSBz1EgGxNuYf+VssjJHdui3azIZiY6OIiVlGGazmcqqqi7HGRZmIjo6iiGDBxNvs1FWVoGiKESE+8cWFmbCYDASZY3Cam1vZxBse85OMoanc8nE8cTH25g+dTIpKcP4ZOv2wM8unU5HmMnEq6+vpMXp7JPXWAghhBBCfPWpELr/WKi+qV3t11lbUNq5V1nnIPZMC191pSeVq1KxKoT4utA0L02O5l4vStWXvD5ocjSjad6zPofHo1FbW4/VGonFYu7D0QkAi8WM1RpJbW09Hs/Zh+DyPn016XQ6Bg0aSGVldaCPrMvlZOu2Hbz97nusfn8tJ4qKARgQH8+4sWN45rkXePLpZ/lw/UacrUFkfX09breb1JSUwLkjIyNZceMNxMXFBrYdKzzBvrz9fLRhE/X1dkYMT+92jJVVVZyqrcVmi+v18ysrrcBms2FqbV2iKAopw4bR5HDQ5HAAoNfrmDb1MpxOF++v+TDwOgghhBBCCHEmeujYJzU4PA0VrnYWvF9X/VdD7dvVObsKRc9UNdvdsUII8VXV3Oy8oKFqG6/PP5aIiLML2+rq7URGhGMO65+erQLMYSZ8Xi919XZscTFndQ55n766vJqGqqqBz1qa5qW65hQulxu9QU96WhoA4eEWvnHj9VRWVbNnbx6fbN3O4SNHuf++7/uPR0HTPGe8VuHxEzz59LO4XW4uy57EzBnTu9x3w8dbyN21m+bmFhITB5Camtzr56bqVLxeb4fPkpqmoaCgKu1tTBISBrD4moW8+sZKxo4Z3evrCCGEEEKIr5/TeqwqioLBYCA2NoawsLCQU6rOh66qZ7vi8XhoaWmhpuYULpdLQlYhxFdes/P89lTtjser0ex09npBK3tDI3q9XiogzwOLxYzL7cHe0NjrBa3kfbq4tDhd1NbW0+Ro7vYzz/C0YWd8vLGxiRNFxYwYPjwQPJrNZpYsvpqRGSM67FtcUkJVVQ2js0YxbPHVxMRE89Irr+NwOIiLjcVsDiNvfz6jRmag0+moqKjkrXdWc8PSa4m0RgIw54oZXLf0Wv71zHN4vBomo7HLsSUNGUxm5khioqMZMyaLyIjeL8SWlppCcclJGhubsFojaWlxcuiLw9hssYSHWwLtABRFYfJl2Xy2ew+f5u7CfYbWGYePnuj1OIQQQgghRP9TFIVwi5mYmCjCTF1/zuwreug4xT8sLIxBgwZxodqUBlez9iYc1el0hIeHYzZbOHnyJC0tLf01RCGEuOA0zYvTee79Mvua0+nGqDf0eDErj0fD0dzCgLOY3ivOjjUygsrqGixmc48Xs5L36eLS4nRRXFLGAFssCQPiUNXeLx7ndDrJ259PWJiJAwc/x6NpzJk9M/C4x+PhyNFjgX6j8XFxDBo0kMbGJl5+7Q1mTJ9GvC2OvfvysMXFYjQaMZvNTJs6mXUfbcRsNhMbG8OevXlomhbo0drGYjYzaeIEXnn9TY4eKwwsktXZ8OFpXL1wfq+fX7DJl2WzL28/K99+l7TUFAoLj1NZVcV3b/t2yNlT1y6+hqLiEioqu+792l1YLYQQQgghLgyv10tDQxMlJ8sZMjix38NVfecNMTHRgVD1fBd9dm4V4PO1BaxnHktwAKuqCrGxMZSWlvX3cIUQ4oJxuS6+ULWNy+XGbO5Z1Wqjw0GExfKlWvTny05VFSIsFhodDqJbKwi7I+/TxaW2tp4Btliionr2/oXS2NjE6ytXYTQYSE5O4q47vsPQIYMDj7e0tPDemg8D/0gya8blLF2yiLTUVObOuYINH2+h2eFg8OBB3H7rt9Dr/R8p58+dg8Vs5qOPN9PY0EhGxnCWL1tKeHg4TpcrcH5FURg/biwfrN/Au++t4b577z7r59KdIYMH8Y3ly3hn9fvs3r2HAQMGcPutt5A5amTI/QcmJjJ92lTeWf1ev41JCCGEEEL0D1VVA5+Ta2vrGZgY36/XU6644gqfqqqBcDI1NSUQZp5Pofqvdt7W3fGtt/D5fBw9eiywraioiEceeaS/hi6EOA+am5sBKCws7PExKa0LqNTVN/b7D9PzyefzUd/QdPYnqN/Bv/74Nqem3cNPr+pYddW47Sn+J380P7tzChGlH/LIE1XMf/hmsnpZEBcVGd6jhQbLK6pJGGDrZWDXzLFNb/Hu5r0crXRjiBnK6OkLuGFeFtbeF+5ddJoLPuCZ17dwqMrM3Ad+yeLuCuNKVvPwn8pZ/Mh3mdDD5+/1+qiorCYxwXYRv09uPv3Xf7A24UEeWpTY5di6E2rhzc7bgr8Hf7UtYNThvreAl//7bSK/8wALBvm3tfXv1DSNJUuWMGxY/1YzHjlWRGrykLOqVBVCCCGEEOLrwOv1cux4CempSf16HRVO72d6vnVeAKvzIlo9OT7YhXgOQghxvpzLqu4AjQcPcMILDQcOUNRPC1/3ZIwtLS7Cwky9roIs/uBx/v6RnYxF9/DzXz7Ivddl4dn+FH98s4CLt463p8rZtOoDqtOX89MH72Hu0P65iqoqhIWZaGlxdbvvV+Z98n7B67/4BS8fuhAX71s+n09CVSGEEEIIIc4guIi0P+mh9/1M+0rw6qydw9U2F2psfcdF+a4N5HrGMW/yIE6fHOuiPGcDufqJzJuUEOLx/qbhKMknd88hjlY10OTWYY1NIC0rm+xMW5+Np3zLC6yqGse3rx+LpY/OKcTX1bkFqw3s33+c+MtnE/vpXg4UXU1Scl+NrJ3Ho2EwnNZtpgOn24XJaOjdib0lfLqzmJGLfs/Cia2LKCUu4Dvhbv7xYSHF3gxSv8x5k7ee+kYLaWPHMXRQ/17KZDTgdLu6bdsg75MQQgghhBBChNZh8arzqaupeZ2rTb/0oeqna3l3VwVOtYE96Tcy2dZpl+p9fLS3mFpvBe96F7L40vMZrmpU7X6PVTnVmAYOJ/OSLKyqk1PlhXyx5S2Ols1l2ZwUCUKFuMho2jmUmdYeIL84gTFLZhBTs4N1eSe4Krnvpy33ZIwet4fwTgva9IQBqG90AO2r0xsyFvGjjNY73gJe/cVz8O3fsaJtW80G/vfX+Uz9zQ+ZFgHgpnz7Kl5dn8vRGjeWQVnMWrqchRnW1nPUsGf167y7o4BqhwXbqGwW37iUCW1rN9UVsPbNVWw6UI4jLI60MTO5/roZDG0dkrt0O6+99gG7C2twmxIZM+dGblmQ4R9xcyHrX3uLj/Yew04UQ8cv4JZvzGBo7Qf87terKfYCf/8+20zZfP+RWxldevpUf/fOJ7j/oxR+/vMFhJ4k34PX0aDH0dz9Qo/99j5Bx9fZbcGWks3CG67h0sTQQW5z4RZWvvURu0/YIXoooy+/mhVXZrRfoa6AD1a+7X9fDFbSJi3ixiWXkOjcwV//82W+8AJ//yHbYmfzwEPXkqxA8/GtrHp7A3uLGiBqMKOmLmTZFentv4tr81n95hp2FtbisSQx45pxvX4thBBCCCGEEF9NF6ReJFSAGvzYlztMbRMcqkYy4ooFp4eqALZsFl+RjlV1Ub5rLe9+WoHzPI1Qq8jlw0+ribn0Wm5eOoPJ47LIHDOR6XOvZ8W8dDi8mU1Hu58mKoQ4v7y+s69YrT24hxMDRjN6gJmRY9JpObinX9oB9GSMmqah0525qvU06hCmzsmg7J0/878vbeDTgnKaz2L89txneXRVMUOvuo+HHnqQ27Jh05PPsqkKoJmC1x7jhTwrV373QR76r+9ypfkAzzzeGnp6S3j3H//iU/1Ubnvwlzx092JSKz/g7y/twk7r40+tomzocn76mz/x23tnwtbnWJnvBtwceOMp1tqzuO3nf+KRX36bCfYPeOaDEkhcwH89cg/TYixMu+cvPPHIrYzux9/SOp0eTbuQ71Pr6/x5HAvv+iUPPfhdFg4o4NW/r6Ig1C/Cqi388/GPcIxdzk8f+iU/XT4ez+aneXJzjf9xbwmrH/8/tpHNd/7jF/y/7y8iofB1Hl9ZgDtiCj/83+8xNdrM1O/9mb8/dC0pKlC9lX/9cyOO0Tdw/8//kx9fPxZt67M888kp/zk9Rax+6iUOmafx7R/ezwPfHE/ztvUUfPl7TgghhBBCCCH6QC//Uuo5g89LhNtFnNNBekMd8c5mBjhbMHs1VHy06PTUGsMotkRywhxBRZiFBr0Bt6oD2itVv5ytADqHqlczv60KKgRrxmyWAqs+PuIPVzkflasax/ceojZ2LDddYkPX6VFL6hQmD68lr7wcLS2p9XEX5fty2HHgGOWNGroIG8Mys7l8/CAsQTm5s/IQOTv2UFDegGaIZtglM8kMMQLHid18squAE9UOsEQzMHUc0yanE9t5MEKIDrxn/SPxFAfyThI/+gbiATJGk/r2h+wthKS0vhsf9GyMXq/vrFaZt02/m1/Fb2HNxu2s/Mdb/NuQyIQZi1m8YByJPfrBWc62DfnYFvyS67P9Jai2OTdzV0QuDg2w7+GjnQZm/fgmprUW89pu+i6WbSXgBvfnH7HNM5W7vjWjdTp7HIu/VU3Br3PZ3ziJaaYaamrNDMwaQaLVANYZ3PnQFDAYADvVdQ6iUkaTEW8GMlh478NcqbZWaBr06DHg0Rv6/Z8+VVXB24M3qt/eJ/sePtoVxcIHb+TSeIA4bDfcTPnnj7Ht86VkjO94vmObP6JszHJ+MzcLA0DcHG5e9AW/+HgX5TPnE7d/A5uasvnOzbPJMPnPt+I2M5sOG2kGIju8tv7nXfjJRspH38BDc0ZhAHwxV7Bi4REe3rKbiulziDm4iZ3uS/n2jVNI0/vweiexZGElhx7f3+vXQwghhBBCCPHV0+fBqurzktxQz9hTlQxuaSLa1eKvTlUU/EWqCigQ5tUY1NLEYKeDyXWV1OsNVISFc8Aay+fhUbgU/1+U3YWqF1/o2rtQtc15D1d9FZSUuYgfPZzYkH8vm8mYcz3tMzY1yre/zar9GsMumczCeAvOmiPk7lrLGw0LWTGjtX9sfT5r3t1GbfxYps8dhEWr49jezWx2ufAEzSR1Ht/CGx8cwzRiIjMnRaNvLCUvdyNv22HFwnRpPyBEf6g9wIGSBMZcP8B/35zB6LS3WbP/KIvT+jhZ7WfWjBmsyJjBCmcNx/Jy+WjNv/lj6Y386u6pdPsT111BcXkcGRlxQRvNpF42w3+zoISisFSuDF44ypDIhFn+SfflpcXYK/fy6P2bO5zW444jow4YMoKZMy38/Z8PUTYqi4yM0UyYOI6hBgArE2dk89Gzj/GLIyMYnZHF6PETGD2olz1MvyTO+D6VlVDkOMah3/6Id4MPcrtJq2smuIUA2CkqrsF+5Cnu3x202evGY4mj3guUFuMetrA1VG0Vn8VMW2vrodNGZ6e4uAb70Wf42Z5O5zTHYveCr6wS9+CxDDMEnWDgMAYZJFgVQgghhBBC9HGwatY8XHu8gOTGOtTWANX/1VZ1qqAoPnwoKL7Wx1pFe9zENNUz0lHPCXMkLw9MxaF2X7oYXNHqbzHQl8+ot84uVG1zXsNVjwN7iw5rVGTP9m88xI79DSROXcZVY1qf07AkhprX8uLmHRwcdz0TojSOf7abEvNYll0zmUQdQBLJQy2seXkj9kCwWsf+nEMw8hqWzRrUWg2bRHK0hxdX7yavOj102wQhBACqcnZVq7V5ByjynKTo0Z+xrm2jF4jaz9Fr0kjrw98IPSlwbKuYPJtqyABTHKnZC7hzMPzuD7vYXTeVWT39sdvNLPguZ3troB91HT//RlanX6IGwmMAzGQsfZA/XpbP/vwvOJC3kkdXr2XWPQ+wOM2AdfxNPPTfMynIO0DBFzt44Y+rGLjoAX4052y7pZ6dnr72/fY+AVjGs+LB68joVJ1rjLBy+jtgYOiC+7hzavsb7PP5QGchSoWas+qQYWDIvHu5fbL/d6HX6+9X4FPNRKpQczanFEIIIYQQQnxt9MlEQ4OmMbamgjsO7Sa5oRYF8AVKOxToJA/VXAAAIABJREFU0FNVoa1wFZTAXr62Y3wwrLmBH5/IZ2LDKQy9qEjtqm+rOHfaySLKGUTGiI6JhSV9JEN0NRwvaQZfLSVlzcSkpLeGqq3CUsgYHLShsYjC+kiSMwZ1aEGgG5TK0LAGysqa+/W5CPFlpypn0y/jFAcOnCRmyi3c/+MH2r++P5+kpgPsK/Sc9zHqdDo0rZfXrdnCX/7jD7xb0mm7sxk3YFABjBj0bhzN7cGcu7qG6rYen4YEhsbXUHAkODZrpjh3OwfKgYFDGNhyjILioIfd5ezZso9iJ8QNHoqhshyHNQ5bXOuXxY3d7kavAt5mqktrYFAWl85dym0//E9WjKhhW84x/5XKy6k3DWH09AVcf9sD/HxJIke35/r7t4ZismCgGUdj0MtQU9+71y0ETfOg013A92lgIgO1Guxa0OsYZ6C5ujnEpxMrSYOt1FfZCY9r3z/Ka8fu9i+UFTd0KIYTBR37s1bls/3TQgK/VVT8/5jQes6hg63Yq+1YYmOJi43FFheH1WunofWcsQMHYCg+wpGgduPuk0cplR6rQgghhBBCCPooWL28/ARzi48Q7urpQkdK65Q6H11FoWavl0VVxVx5qrQvhnieGEm8dCGLJyVg8jbwxcfv82GBvcdH2ws2surjI9i9RhIn9XMrAL0Fa5iGvb6hR7s7W1xgCMdqDHUecDY7AQcuJ5jCwzvtpCPcbGyv7Gpx4vQ1kLfqSf72eNDXE++R79Boaj5fy3cJ8eWk053Fj+6aA+wpTSB76mjiBwxo/0qawpSRHg7lnaAvo9WejFFv0ON29/KqcVlkD6th/b+fZf3uAopLSijI/YAn/70Zx9ipjLECaiKpybDng/fYU1pDdeF2Vr63F0fgJIlMuzKL6jXPsjK3hOqacgo2vcg/X91FtQ6wTuDKbDebnn+JbUfLqa4qZNsrT/HM5iIwgGHMTGYZcnnhhS0UlNZQXZrP+uf/yqNv7PVXONpzefGPf+aFTYVU19kpL8hl7wk3AwfbgHI2Pf0H/vHadopr7NhL89mUV45h4EBsXb1kcamkRhzjo7d3UVxTQ/Hu1azcXnPO75fb7UFv6L5Mud/eJ2s2V2Y7WP/s662vcwl7Vj/Lo0+uZn/T6adMnTETW/5rPPNBPsVVNZQXbOfFJ/7Ki1vK/WFt5gxmmXN57cWN/velZB8rn3mOD465/L9/1CisEc0c3f8ZJeV23EDK9MuJO/gmz687SEn1KSq+yOGVp57g1a0VuAF95iwuM+1m1Rs7OFJ5ilMndvHOB4dwfzU7NwghhBBCCCF66Zwmfhp8Xi4vPU525cnANqW1QhWltTLV58OnKCit2/yb2qbst/4V2VbR2qk9gMHnY3p9FYoC66MH4lZ7HiZcuN6rreEq/pYAX3z8PtB9S4DzGqoCKDaGDDSSd+wYpy6ZGKLPajMFG9aQFzaF66YNwhRmBHcTTS7oMDCPA7sTTGYTYMFoAkejnY698TTqm1ztIYDRhAkjyZdfw7TBp/8vqA/rYXsCIb6m9HodTnfvSuaq8vZSNWA0owd0fsTMyKx03l2zh6OeNAb34Ri7YzIYaXE6sVjM3e7bLo5pt98Hq1ez+c0neKvejT5qKCOzb+bH10xq7a9qZsJ1NzPr3yt55g+bsSSMZ+HCGSQ9/0XgLNbLbuVe9ypWrn6Mh2vcWBKzmHXbrcyK9x8/+sZ7uOW9Vax96g+86DCQOGIqt31vEUNVQE1h8Q9uxfDmap7581vYNQtDR03hrjvnkAgQPYObb6/ntbcf5+E3HBA5lDHTvsttM/w9Xa+8/WbqX3mXRx9+iWZDHKlZC7j3xkl0+SqoKVx7ywKeefU1/vgw2EbNYfEVqRzK6cXLFoLT5SbM1P1vmv58n0bfeB+3vPc6a5/6A682gGXYeBbes5xp0SFOmTiHe+8xsPLt13h0TQ1uUyIjL/sO9yxO8S9mZUhh0b13YFj5Hv/+39U4dFaSJizhnusz/AtTkcDMJfMofO11/rR/Evc8fAPDE67g7rsMrHr3Tf724SncpgRGTLqZ7141DAM+vPokFn33JnxvruG5v7yHJyKJGdfOZ+SqDb14LYQQQgghhBBfVcoVV1zhC55Cn5aWCviz0e5k1VQwr+gwRp+3NUhVUAKLVNEeript29uv41/Qig7b/ZvaF7pSWvu0ulWVd+OGsDsyNuQ4QvVYPXLkaGB7UVERjzzySM9flT7R836r5z1UbaWV5fDiO/lYJl3LdZNsHablO45t5I11RcTP/SZXpRnBns+qV3Jg+jKWZrU/D0fBWl782MHE5dczKUbj+MaXWV2WwrIbp5PYVtHjOMKalzdyNGYyt18/FouvmpxX3qJg0AJWzEpqf65aHcePObAmDSL2fLwA4kuludk/mbewsLDHx6SkpABQV9/IwMT4fhnXheDz+ahvCFHSdxGJigzvtj2Lz+ejvKKahAG2c+vfKXrN6/VRUVlNYoLtS/0+9eQfUYM/I3S1Lfh78Feg52qn+16vF6/XG9jWdlvTNJYsWcKwYcP67kmGcPjoCYan9e81hBBCCCGE+LI7H5+bdSkpKb8K/qMqNjamRweGedwsO7Ifk9cbFIwqgd6pbadUFAUlqNJUVZWOoap/p6AANvh4/3c9kORq5rPIWNxKx6rVzn9UtV23puZUYFt9fT3z58/v0fPqOzoiBqcy2FfG0ZOnqDxRgi85iyGdl7uvzmXVmoPUnudQFUCNHMhgStjz6R4OljbicTdTV1PK0bwcPs4tRk2bzdWTbP5KIFMcMa6j7NpVQBVmDO5GKo59xoac46ijZjJnZBR6VKKjFUrz9rC/xI3e5KX51Al2b9lPpc6LRz+Q8ZkJGBQL8eH1HNi5l8N2FYOi0XKqiLytm9l8qIGBo4Zj69xyQHzteTz+mue6uroeHxMT4/951uJ0ERnRuUXFl5eiKPi8PjRvV005LyyTwYChB1PMFUVB83rRPBpGo8ytPp+amprR6XWYw7r/jfN1fp86f8boHMCGuj1y5Eiio0OV3PadU7X1xMX27zWEEEIIIYT4sjsfn5vPqhWAVwcjHccJ07T2qftKh2+td/zVp+h0mMaMx5icgi42zt8BwFUFjQfwNR1A8TaHPIe/O4C/D6sZuNVg58kTl+HxXlwVM11rawuwgVzvOCaEWuneNo7p4yvYo89m3qTzF6r66YifdA0r4vPZtfcQeTsP0+TRER6bQNrl1zI5K3g8OhKnLmJpeC47Dmxl7S4NXaSNYZdcw+UTBrXvFzOWqxbr2LYtjx3r89AM0QzLnsmshs2sLmu/sil1NssW5P5/9u47vql6feD4J7N7b0ZLBxSopRYolDJFRVGmiuBCBTf+XLjHvW5RrjgRUa9XceJCZagslT0EBCyrQGUXuvdKzvn9kSZt0rRNS7FFn7evvJqc8T3fc06wydPn+3z5ZXM6v+4rplLnQUBENCPGDSDe+y+9CEKclYxGQ7PLAfxVmhN88/b0JCcvH09Pj3aXDfl3pSgqJWVlBLv4h1SQ+ySEEEIIIYQQzrQosFoQXMmiZB8GZp7Eu1JBRUXrZBoqDWCM70nw409j6BQJBiMavR5QQTWDUoFashPzvvug5A9ARVWVmpasWSLWjCyVRCWL7hWd+eNE01UANRpNG9ZZrcsSXB3dyPpOqaPo9Bf2yJ4O36heDI/q5cK2HoQnDWF80pBGt3ILTWD4+ASG2y29ktsdtvPsksIlXVKa110hBGCZHMrNzUBlZfsKrrq5GZo1uZZer8PTw52i4hL8/aS+8l+hqLgETw93l+rgWsl9EkIIIYQQQoj6mh1YNWtV8sOqKPY1sCwpkLGbc9E6BjA1oPXywu/qG/CbfBOFZgN7T5jZ/Gcle7JK0WogNkRPUmcj53buj3+flSiHXkE5+iYaU5FDgVctlkCsJYM1NeYAe0+FUWXS1asLZ3ndHoKpQghx5nm4uWGuVjAp5rbuCgB6rQ4PFyZDcuTr401Obj5lZeXNnCBJNFdZWTkmk4ngINezVa3kPgkhhBBCCCGEvWYHVqvdFMq9TSjAmh7+nPdHAf5lNV/q68Q5fa++Hr/JU9lfqOOZhUVsOVRNQZl9PUAPg4a0OCP/Gu1NXNS9oNGgZL4AGtUSXNWoNXFSjW1ZdHAe/h7lZJfUz5ipO3lV+8hWFUKIM8vDw43SsjKUNv5fnlZj6UtL+fv5kpuXj0ardanup2i+8opKiktKCWpGCQBHcp+EEEIIIYQQopbr4zVrlHubqXQzo6pwJMjIV6nBKJqa+GfNF3tj1274T76Z/YV6rngrnxW7K+sFVQHKq1VW7K7kirfy2Z9jQBt5DxrfZGpmtrJ0T6Otea4BjZYgr1LCfAslcCqEEFhKAnh5etCWZS+1GvDy9GhWCQBHer2OgAA/ioqKKSsrb8XeCbBkqhYVFRMQ4NesEgCO5D4JIYQQQgghRK1mfwsu8au2jMyvmQV3xTn+ZIS716xVwc2d4Af/RaHZwDMLS8gpaXrW6uwShacXllBQ4YY2/k3QGu0DqjVBVevrXh1PuFxDVQKwQoi/O51Oh5enJ3ptywNmLaXXWo6t053+sY0GA0GBAZSVV1BQWIzS1mm4fwOKolJQWExZeQVBgQEYDa5PLNYQuU8Nk2shhBBCCCHEP4vTwKqfUkkncxF66gdFi32rLMFKVQU0VGvhk0EhVOotWabGuG4Y4+L5/YiJtfurXO7IlkPV7M0yo/GIQePXH9CAag2saqkNsGoI8y1stC0Jpgoh/ml0Oi3e3h64uZ1+4MxVbm4GvL1PL1PVkV6vIzgoAK1Ww6mcXEpKyiRY1QKKolJSUsapnFy0Wg3BQQGnlanqSO6TPUVRKS0tJ6+goK274rLHHn+CSy5teGrNf5KioiKiY7qydu26BrfJzs4mOqYrS5cu+8v69cQT/2bYsPOprKw8rXb+/PNPevdJ4ZNPPjutdhYuXER0TFfbIzYunpR+A7j3vvvJyso6rbbbs9a6D2eSq318+eVXWv3ffWFhIXdM+z+Szu3DRRddAsB33y8k6dw+pKfvanTfpUuXER3TFbO5tla8s/aEEEKI9qxejdW+lccYW74XjaqQq/XgbZ9+lGlqv6hXeliCrZah/5bn+0Pc2RLtzcCMEty7J6Bxd2f7kQoqql3/klVQprD5zyr6R7uh8eyGWrCuJkNVxTp5lSW4qtIxoBjA5axVIYT4p/Bwc8OoN1BVVU1ldfUZOYabwYDRaGjVgKojXx9vPD08KCkr4+SpHNzd3XAzGjAY9Oh0erRtWfugHVIUFbPZRHW1icqqaioqKvHwdCc4sHUDqo7+qfdJUVRMJhNVVdVUVFZRUV6B0d1IgJ9vW3dN/I2EhYfRObJzs0YEvP/+B8x5ey6bN623LXN3d6dz50gCT6O+cl1vvfUmnh4eKKrCsWPHef/9D5hw5SR++nEJnp6erXKM9qQl9+Gv5qyPvZJ689CDD3DNNVe1yjFuufV23NzceOP1V+2Wz549h7Vr1/H000/SsWMHAPz9/IiKjGzRRIfO2hNCCCHaM71lwqfaLz4XVBxEUxMwDVLK6V15nDXuUbb1Jp0CqmpJWK0pqlqh1/BFSiADM4rRBgSg0ek4kG1qdmf2ZJlA4wnGUMvQ/5qsWKiZyAoVDeDtZmo0oFr3fOo+F0KIfwKdTouHhxvu7kZMJjMmkxmzWUFRzc2e5EqrAa1Gh06nRa/Xodfr/rL/r+r1Ovx9ffDz8aaioorK6irKyiswm83/6OxIZ7RaDTqdDr1Bj7ubG/5+Pv+I+9TSkkCqUvtH4rrrVVVBrVPuyLrO8lyp+WnZU6vRoNXrcDMa8fayBA/qZl0JcbrunHYHd06747TbCQ8P57tvv26FHlkMTBuAr2/tHxGGnzeMIUOH8+OPP3HZZeNb7TjtRWvdhzOpLft46PBh0gakMnZMbSbs0KFDGDp0SKu1J4QQQrRn+qa+eFlXW79caFRsBQJqg6saDgUamZ8SxK01GaYt+S5lSWypGfqvaixPaw9Rk7iqsbys6ZjTL0ySxSqEEGg0GgwGPQZDvcEJZxWNRoOHhxseHjILfXvWFvepOYFV+wCq2uDPug/FGoB1eK0oCoqi2JZZn5/N1q5dx7XXXc9XX83niSf+zYEDB4mPj+c/M2dw+PARXpr5H44cOUr37vE89+wz9OzZw26/X35ezkMPP8q2bb8THBzMNddcxe233Wr7vPbyy6+wYcNGxo4bw+zZb+Ht7c2ypT8CcPjwEV54YQbrN2xEURT69+/HIw8/RExMNACXXT6BiIgIZr/5ul2fJ1x5FcFBgcyZMxuwBGRmvPAi6zdsxGAwkJran0cfeYiIiAjbPoqi8Nact/nss/nk5OTQr18KT/77X616LT/6+BM+/HAeR48eIyIigmuvvZopN95g98eOfRkZPPvs82zZshVvby/uvedujh07zoYNG/nyy89t12zFypUsWbzQtt8nn3zG+//7H0ePHiM8PIypU25k8uTrAJh01TVs3LgJgOiYrvTt04cvv/wcs9lMXNfuzH37LUaMuBCA8vJy/vPyLBYvXkJBQSHdu8fzwP3TGTgwrdnn26FDByIiwsnM/NO2rG77paVl9EpM5J577iIlpa/dvsuXr+CVV1/jwIGDREZ25sUZL/D88zNITe3P9On3AjBhwiT69O1NWWkZ3yz4lnHjxvDsM08DMO+jj/nww3mcOJFFdHQXJl93LRMnXml3jMauGcCxY8d47rkXWL1mLQD9Uvry1FNP0qlTxwbvQ1PvWWu/+/fvB8Dn87+grKyMtLQBPP/cs4SGhji9lsuWLefW2+5g44a1hIRYtlm0aDH/d9c9zHp5JuPHjwMspSn69U/jvXfncv75w+36uGHDRq66+loAHn/iXzz+xL/4+KMP7e7tqlWrefa55zl06DBRUZE8/NCDDB9+XoP3ODqmq+35okWLuXPaHUyefC39+qfZbTPxygnMmPG87f8L23/fYgvCFxYW8uxzz7NixUoqK6u44orL6d8vxba/9ZyctSeEEEK0Z1rHLwIr3GNQNZbhnXlaT7YaO9h9WdBWA9Yaq6pliL6qWLJYFyX6coBiVJOZ+LDmf5GPDdGDaoLqPNBqsdVW1djXWi2tavxLW90Prmf7Fx0hhBBCiL/Kc8+9wNNP/ZuvvvwcVJUbp9zMm7PfYsYLz/PlF59jMBiYdudd9T5f3XLrHVx++WX89ONiHnv0Yd57731eeOFFu232ZWSwYMG3vPzyTN584zUAcnJyuPyKK8nNy+OlF19g1sszKS8r57LLJ3DixAkAxo0by88//0J5ebmtrZMnT7FlyxbGjhtb287lV1JUVMzMl2bw7DNPceTIEa6ceBWlpaW15/f8C8yZM5cpU27g/f++S0rfvtz5f3e32vV79bXXee65F7j88st47925XH3VRGbNeoUXZrxk1/eJE6+iurqa116dxZP//heffPoZy1esbLTtb7/7niefepqrrprEZ59+zI033MALM17iu+8tAb9ZL8/k6qsnAbB82U+89tosp+2oqsrUm25hyZIfuffee3hn7hy6do3j+humsG3b780+58rKSvLy8ggICLBrf8XylTxw/3Temv0GoWGhXHPtZP74I92238+//MKtt93Buecm8c7cOdx4w/XcN/0BTjip1/r5519QXlHOJx/P45abbwYs1/rFF19i4pVX8u47b3PxRRfx+BP/Zt68j1y+ZoqiMPn6G8nOyeWt2W/w1uw3qKys4sYpUxvMQHflPWv15VdfUVVVxfzPP+WduXPYu3cv0+9/oMFrOXDgQIxGI2tqgryA7fnqOstWr16Dm5sbaWkD6rWRlNSL5ct+AuDGG69n+bKf6N072bY+OzuHN96Yzd13/R9vzX4Df39/7pj2f/X6XtfyZT8RExNNjx7dWb7sJ6ZMuYHAwMB6y63BcEdms5nrJt/I5s1beOLxx5jz1psUFhTwyquv2bZpTntCCCFEe1Iv+rnZrSN7DUH4mCs5qfehSrXPaPUo1VHkZ64te4paU29Vpchdy3fuuSSbq+kXbcTfU0tBWf0JsJzxMGhI6mwApQK1ZCcaNKgaTU1abM1DYzlobokXjiUM6qr7YV9KAQghhBBCuOahBx+gb19LVuE999zF1JtuYebMGbbAzIMP3s+ECZM4efIU4eFhtv0mXjmBCVdcDkCXLl3Q6XRMu/Mubr31ZoKCggBLEOvDD97H29vbtt/bb7+Dm5sbH837ADc3yx/Ohw0bysUjL+X1N2bzwvPPMnrUpTz99LOsXPkzl15qmcxmyZIf8PHxYfh5w2zthIaGMG/e/2x1JtPSBjBk6Hl8/c0CJl93LadOZfPBB/OY+dIM25D1gQPT0Gg07Nmz57SvXX5+AbNnz+HJf//LVtdy0KCBhISEMP3+B5ly4/WEh4fz9ty5+Pj48OEH72M0GgEYMMDS1/hu3Rpsf+PGTZx77rncNHUKAL17J5OQ0JPOnTsBlszR2JhYgoODiY2NabCdFStWsmnTZpYsWUi3rpZMxCFDBmM0Gtm6bRvJyec2ep5lZWXo9XpUVSUr6ySvvf4GiqJy0UUX2trftu13Viz/iQ4dLDUyBw8exKmTp3hrztu8NfsNAF566WVGXXoJzz37jK3tqC5RXHPN5HrH7NGjOzNfqg3UW6/1a6/O4pJLRgLYMjJff2M21157DVqttslrlp2dw8GDmTz99JMMTLPs36tXol0A2JEr71mryMgoHn30YQBiY2OYft+93Df9AUpKSuz+HVh5enqQmtqfVavX2LJT16xdx5jRo1i3rnZytVWrVjNgQCoeHvVrmHp4eBAbG4OPjw+xMbH13guFhYXMnv2GLWu2d+/epPRLZdWq1fWyfa1iY2OIjY3Fzc3Nrr2Gljv68cef2LVrFytWLCUqMhKwvOeuuWYy+/cfAECn07ncnhBCCNGeaJ0FHou07hzV+9ULqgK4l+mtiaq1tVZVtaZOGawo3sfB/EPEh+voE+X67NRpcQbO7axHLd2FWraH+tmqNQ+NlgPZlg/oLa2tJoQQQggh6uvePd723NfXB4COHWonkAnwt2Ql5ufn2+13wQXn270ePvw8NBoNGzZstC3r1KlTvWDSqtWrGT36UluACkCv1zN2zBhWr15jOWZAAEOHDGbx4iW2bRYvXsLIkRfbApOrV69h9OhRdpP3+Pj4MGDAADZv/g2ATZs2odFobIE4K2uw9nStX78eVVUZP35svfYNBgNr1lgCY+vWrufSSy+x9R3A39+PwYMHNdp+St8+bNu2jRdfmkl6+i4URSElpS/h4eHN6ueqVatJSuplC6paPffsM0ydcmOT+w9IG0zCOUmck3guF1x4EYsWLebtObPp2NEydH716jX065diC6paXXTxCNu9yM/PZ8+ePfVqsqYNGGALxNdV930JsGHDBgwGAxdffFG9Y+Tm5trKEjR1zUJCgomKiuL552fYyiL4+fkxcGBag5NVufKetbKWzLCKjo5GVVXy8uz//dQ1/LxhrFmzFlVVyczMJCsri4ceeoCcnFwyMvajqipr1q7jvJo/KjRXly5RdqUIAgL8iYgIJyc3t0XtuWL9hg0kn3uuLahq1Vr/9oQQQoi2VG/yqqb45xo5GVZqCVhqNJafam0As0in8Ni6N/lk7CyeGOXN9iPV5JQ0nrUa4q3lX6N88DBWo+x9DJTKmmmqqMlcrclYrcle3X8quNEaq0IIIYQQovlc/Uzo+PnL39/P7rXBYMDb24v8goI6bddvJzc3j/CwsHrLwyPCycvLs70eN24sDz70CGVl5RQVFbJ12zYeeGB6bTt5ebz00n94+eVX7NpRFIW0AZbh0vkFBfj6+uDu7m63TVBQYBNn65rcvDx8fLzx9PS0W24wGAgKCrKdT05uLhFOgqGhoSGcOnmqwfYvu2w81SYTH330MXPnvou/vz+XjR/Hfffd26zZ13Pz8ggNcV7j0xX/fe8dfH19KCsr5/obpjB27Bi7iYpy8/JYtWo1cV272+1X9ztHTo4liBcRUf86hDjpm+P7Mjcvj/LycrrF93Tax/z8PCCmyWum1Wr59JN5/OflV3jk0ccpLS2ld3Iy9953t+1948jV9yxYJpOsS6u1fn9p+LvR8OHD+feTT7Nnz142//YbycnJdOjQgeRzz2Xt2nVUVlaSm5vL+Y3URG2MXl+/XJtOq0M9g5MN5ucXEBISXG95a/3bE0IIIdqS00KotbPe1udersdYoaPSzWQLqoKKZdS+Zb9duQd49/f53JQ0ka9uD+CZRSWs3V9FRbXDh3BPDX2iDPxrlA+RwWZKDr2Nb8keajNVVYdh/ZBb6smRfD8JqAohhBBCtBNZJ0/azRRfUlJCUVExgTV1NxsSFBTISSfBxJMnT9pqdgJceOEF6B59nBUrVnAqO5vw8HD61Zn4JiDAn9TU/tz1f9PqteXhYQl0Bvj7U1RUTHl5ud0Q6pOnGg5mNkdQYCDFxSX12jeZTJYapIGW8/H19SXXIQAHkN9IFqPVxCsnMPHKCRQUFPLLr7/y1FNPU20y8dSTrk/AFRgQwK7du13e3lHfvn1s9/rRRx5ixoszuf32W20ZsAH+/nTu3In33p3bYBvW/XNznVyH/PrLHAX4+wPw/XcL0OvrZ5Z26tTZ9rypa9ahQwdmvTwTRVHYvXsPc995lylTbuaXn5c7zQZ29T3bUp06daRr1zhWrVrNlq1bGTpkMGAZOr96zRrKK8rp1rWrLUP4bBAQ4M+uXfXfc631b08IIYRoS1rHBU0FLI3VWryLDSh2M+fWzphLzc//7fiGd7fPJzJI4fWrfPnvDf48eLE3l/dxZ3xvdx65xJv3b/Dn9av86Bxk5put/6PwyP9Ao0Wj0aKpM/QfjWUiKxUtx/L9KSy3ZBq4MkmV1FgVQgghhDizFn6/yO71t999j0ajsQt+OjNo0EAWLV5MZWWlbZnJZOL77xfaDY25TGoMAAAgAElEQVR3d3fnootGsHjJDyxevISxY0fbfcZLS0sjY18GMTExdOvWzfY4cDDTtl2/fv1QVZXvv6+d3d1Z31sqNbU/AN9++53d8sVLfqCyspJBNTVA+6X05YcffrSbHKmsrIxVDsPIHS1atNg21Nzf349xY8dwwQXnk16nHqhGo8Fkqm60nYGDBrJ9+w4yMvbbLX/44Uf57/v/a+Is7V133bUEBwfZZQqnDUwjK+sknp5edvciP7/Adp/DwkKJjOzMwkWL7drbtu13p0FLR/3790On05Gxf7/dMfR6A8ePn8DNzVJmoalrdvz4cWa/NQez2YxWqyUhoScPPXg/lZWVttqfjlx9z56O4cPPY8XKlaxfv4EhQyxtDhkymI0bN7Fi+UqGn990tqor74Xm0Gg0mKpb1l5q//7s2LGTAwcO2i1fuHBxA3sIIYQQZw+nGauN0Zo1hGR7kB1YBtQNaNpnuZZUlfHm5o9ZenAtTw6+k5SYGAZ1dUev1aECZsVMlbmKQ4WHeXjhf0hUtzChUyEqGlSsw8Usk1dpNBpUFFBh858RVFbrHI5t+WXvLLgqma1CCCGEEGfW8hUr0eq09EtJYdeuXcx65TVuuH4ywcH1h//Wdcftt/H994uYfP2NTJ1yI1qtlg8+nMepU9n1sk/HjR3DlKk3Yzab7SYIAph2x+0sWrSY6ybfwOTJ1+Hp4cFPS5fx+efz+fCD9+nUqSOhoSFMnnwtTz71DEVFRfTs2ZPNv/3Gr6tWu3yee/bsxcvLy26Zv78/CQk9CQwMZNq023nq6WcpKCykV2Iiu3bv5tVXX+emqVOIiIgA4Pbbb+XSUWO4+ebbuP766zCZTLxdM0y9MVu2buW77xby+GOPEBkVyc4df7Bo0RLuvPMO2zbR0V0oKCjk1ddeZ9CggfTt06deOyMuvIDevZOZfP2N3HPPXYSFhrJ4yRIWLPiO+fM/dflagCXgPW3aHfz730+xffsOkpJ6cdGIC0lOPperr7mWadPuoFPHjuzYuZM33pjN1Ck3kpiYCMB9993LvfdOx9vLi/POG8aJEyeY+857Tb5nAIKDg7n9tlt55JHHOHbsGElJvTh+/ASvv/4G4WHhDBs21KVrptXqmD17Dvv27uOqqyZRUVHBe++9T2BgIElJvZweuznv2ZYaft55zJ37LgEB/pxzzjkAJCaeg9FoYMvWrTz00ANNthEd3YXP539JUFAQgwYNqleuo7mio7vw6aefM/+LL0np25eYmGiX9x058mLmvvMuN06Zyj1330VwcDBffvU15eVlp9UnIYQQoj2wC6y6GoT0KzDiX+BGvl+FdcfayaxqG0MF9uYc5MaFD9MtMJqeQbEEePgDKrnlBRzIO8zWrHQijRU8GJ9vq6sK1DxXa2KrKqBh/6lAth0KcxpElQCqEEIIIUTbePON13jyqad5++13CAwM5I7bb2PatNub3C84OJhvvv6SF16YwQMPPoyqqvTrl8I3X39Zb/KjtLQBBAYGEBgYRHy8/WRGoaEhLPjmK2a8+BKPPvoYZWXlJCT05NNPPrJlkgI88fhj+Pv58/7/PiQvL4/U1P68M3cOA9JcyzR85dXX6i0bmJbGxx9/CMC999xNcHAwH3zwIa+++jodOnTg3nvvtpsUqkuXLnz++ac8//wMbr/jTry8vLjrrjvJzMxk586GZ6N/9JGHMRqNzPzPLHJzc+nQoQP33H0Xt9xyk22bYcOGct+99/DhvI9YsWIlC7//tl47Wq2WD/73X16a+TKzZr1CQUEh8fHxvPfuXPr07u3SdajrqkkTeeed95g582U+/vhDtFot/3v/v7zyyqu8+urr5OTk0KlTJx579BGuvnqSbb+xYyxZx7PffIsPPpxH586deHHG8/zr30+BCwPOpk+/l9CwUD766GNee+0N/Pz8GDtmNPfee7fL1yw8PIx58/7HzJkvM/WmW9BqtfTrl8Lnn32Cj4+P0+M25z3bUn369MbPz49Bgwah1VoGGGq1WgYOHMjq1Wvo3Tu5yTZemfUf7n/gIe5/4CFef+0VRoy48LT6dNf/3cnx4yd45pnnmDTxSh5//FGX99XpdMz78AOeefY5nnr6WcxmM1dccTlXXH4ZN9w49bT6JYQQQrQ1zbBhw1StVmsLTMbGxgA0WGPVyqRX2dYriyq92S6oaX1eP9BqXVcns1UFg0blrdgchvqV12xvzVlVqbthaaWOx78eRFmV0e44jse11nq1Dt9RVZUjR44wa9as5l0ZIUS7Ul5eDkBmZqbL+0RHW7IpCgpLiAhv+UQdQoj2yZU/qto+lzj7rOLkZ92Hoih2y62vFUVBURTbMutzs9nMuHHjiIqKar2TdCLjwCG6xp7ZY7hq7dp1XHvd9Wz/fYtdjVXRuNLS0nqZr7fedgdajYY5c2a3Ua/+emVlZXaTfZnNZlL6DeDuu+7k+usnt2HPhBBCCPF38Fd8btZDy7I99SYNkYd9ORCVj6LFNomVWtOehtq4qDWgSu1cVzUBVBjqV04f7ypAg6qxtmPJWNVoVFRVocqk58vN3W1BVSGEEEIIIc5G69av5+abb+OWm29i4MABVFVXs3LFzyxbtrzRCZ/+bl559TW+/noBd067nW7dulFQUMDHH39KdXU1F198cVt3TwghhBDCJXq1poZpSwTneVDmUc3RsCJbhio1P1U0dhkg1pipLYirglajMjGkHG89qKqlDxpNTV1VW66rllV7O7Hlz7CWnqMQQgghhBDtQtqAAcx44Tneefc93przNjqdju7d45nz1psMH970pER/F3fcfhsGg4G35rzN8eMn8Pb2JiWlL19+8RlhYaFt3T0hhBBCCJc0e/KqunSKlugj/igqnAguwqy11EJVVWqyTVVboFSx7mSLq6qMCqxgqJ8lW1VTG3q1zllFtVnHr3si+GpzXJN9aWjyKiGEEEIIcWYMHJhG5sGMtu7GWWf06FGMHj2qrbvRptzc3Lhz2h3cOe2OpjcWQgghhGinTiuwahV93A/vcgP7O+Zi0imWQGpNjNNaj8yazWotBdDJzcyTUSVATR0BjSUoa6nBqlBU4ca3v0XxW2b9uogSQBVCCCGEEEIIIYQQQrSlVgmsahUNYbleBBV68Ef0SQq8KmoCqRpb1qpaGzdFr1GZEl6Bt15Ts1BBVTVoUFDRsvu4P+/9HE9pZat0TwghhBBCCCGEEEIIIVpVq0Yu9SYtvQ6Ek+1Xykn/Eordq6g0KLW1VmvSWLt6mrkoyIQlqAqqqiWv1EjmKU/W7wth93E/zIq2WceWLFYhhBBCCCGEEEIIIcRfpdVTQrWKhrB8b4ILPKk0mCjxqKLAq4ICz3LKDNVUa81cF1aNl6Jj7wlvsgrc2XHYl5OF7hSWGakyNS+gKoQQQgghhBBCCCGEEH+1MzbWXqdq8awy4lllJLTQ227dinRYcaYOLIQQQgghhBBCCCGEEGeYpIcKIYQQQgghhBBCCCFEM0lgVQghhBBCCCGEEEIIIZrpjJUCOBNUVUWj0bR1NxpVdmgDP63aQ1ZpFabTaMfNqwM9h5zPoCiPVuubEOLsdCIru627IES75MrElc62URXF8tNhvaoqqKplmfVhbcOyTkVVQVEU23pFUVAVBUVVURRz65yYEEIIIYQQ4qxQL7CqKApabftMZHU1qOrKF60zQj3J1lU7OFrMaecCVxYfZ9ua7cRFphLevmPJQogzLCI8pK27IES71JzAqn0AVW3wZ92HYg3AOrxWFMUWXK373GyWwKoQQgghhBD/JPUCqxUVFXh6erZFX1pNeXl52xxYKaOoDNBFc8lNFxKra2E75kyWvLeMAyXFlCpAS9sRQgghhBBCCCGEEEKcEfUCq3l5ebi7u7fLrFVXSgEoikJeXp5teyGEEEIIIYQQQgghhGht9QKrlZVVHDt2jMDAQNzc3NDr208Z1saCqmazmYqKCnJzc6msrLJt36bBVfN+lry7kgOKi9tro7nk5guJPaOdqnV05Qcs2FNV5/g63Hz86dQlgZQ+3Qlxr11VtncZn68uoueYy0kN/Ys62ErO5r4LIYQQQgghhBBCiPbJadS0qqqarKyTDe7U3EmkrMFNa6DTlZ8NtdHYcsdtJGPVBT5xDBschw+AUkVxzmH27FrF5wePMGLshcT7WjbTuXng4wdehrbsbMuczX0XQgghhBBCCCGEEO2THhoOlDYngNrYtnWXW5839bO5wduGjtumwVVdHJfcFmeZdtgV1tP9K+e+cPOnY5dIAq2vY+JIPCeOX7/9kZU/pxMxNgFfwK3LICZ0+Qv71YrO5r4LIYQQQgghhBBCiPap0XH+jQU26wYsNRpNgwHRpl635NiO27mSzdom2nkpgAZ5RjIoLY4DP6azKyeB1GDg0Cre+bGIQdeNoqcnQBXZOzewZsdBsoqrwDOIqHMGcX7vMNxsDVWRtX0D6/84SFaxGZ1XMHG9UhmYVLNNvTYBitj29ZdsCxnFlCFhlkXVBezdsJ7NB46TXwFe/h3omTqM1C4etuM02hdnx6nMYdemDWw9cJLiSh2egR2J79Of1Bhfu36khw9ngCadNbuOU2Q2EtAxgUHDUujijWvHFkIIIYQQQgghhBB/S05nqFJVtdGgpDWQan1Yt607nL/uttZ11tfW9p0N3Xdc3lRwtKl+ipbRdY6mo76AEyfKna4v27WCBeuO4dZjKKPHj2Vkcgh5W35g6S7r9may1n3Lgg3H0HdNZeSoCxma4MmRDYv4/recZvSkij9XLWRpJsQNGMmE8SNJ7VjFjmVL+C3P1b44UAvYtmQRKzIhrt9wRl48iF4hRexY+h0/ZdTdx0xxxmZ2mLtz0eWTuObSFEIKt/HDinSKXL4OQgghhBBCCCGEEOLvSA/1a586cpZl2twaqXX3acl+DWnz4f6NORtKATRE64OfJ2QVlwIe9VafOnESc2gKw3pH4wkQFkZgcBfKfIyWDUr2sH5nMeFpExidWJMF2imSEMNKfs06SR7BteUHGqPmczSrnIDuKaTGBwMQHjaCkMgi3Hxc7IuDyv2b2XzSh5QrRpIarAOgS1QkAcp8Fm7aTlJcKuHWe+HTnfMHx+ELEJDAsH7HObgik0NlCSR6Nv/YQgghhBBCCCGEEOLvwVYKwLHGKdgHQuu+bk5QtC7HIGhjAVFnx26uNg+4nq2lAOrQNbA8NDwYMrby01pIjo+hc7AHvhGRWAfSm48dJosODO/ma7dfYOJwxic2owOaACJCjWz7Yy2/uvWiZ3QkIb4ehETVBnub6ouj7CPHqAzqRc/gumdnpEt8NF77jnE0H8Jror5uQcF27bj5+uBJEZWVgGfzjy2EEEIIIYQQQggh/h7qTV7lbHi+Y9DU2YRTDQVh6z53tqxum44lBFwJ2J612aztnVJMYRl4+Xg5Xe2ZMILxygbWp2/mh+1rMRl96NQtmUEDuhNigMqKKjAE4HXaiZtGYoeNYsSmzWzbvpIda83ofcKIOSeVYcmWOqZN9cWemdKKKvRevtQ7M09PPKmitNK6QAfahkLLrl0HIYQQQgghhBBCCPH3ZDd5VWOBT2evrRyH9zu26bh9Q205a8PVbFhn2jyoehaXAjAfyuSYyZ+eEfXLAFgYCU8cwvjEIVBRQNahPaxeu4qFJk+uHx6Jm7sRqksprYKmZnGqd7qKwxJDMPEDRxI/ECqLTnJ031Z+3fgDSz0nMjreo8m+2IdGdbi5GzHll1EK9pmlZWWUYcSrWbNONefYQgghhBBCCCGEEOLvosHJqxoKbjoGK5saqu+sxEDdfRwzXetObuU4OdZZS+Pio70oy+TX9fup7JhAz2BnG1SRnbGDnYdqJmhy9yc8PoWUKCOluTmUArqIjoRznF37iuz2zEtfyYJl6eQBeBhxU4spLKx77OMcrfvaXMCf23dwoGaZm28YsX16082nirycIpf64iiic0fccjLYZzeHVhV/7s2k1CuMTgGuXqjmH1sIIYQQQgghhBBC/D3YTV5lVfd1Q1mqDW3XWA1VZ9s3VKv1rAyoaj3x9QYKM1ky953Tb++vSHesLiDr0GHKAJO5iuJTh0nftZ98QxzDhyY0UCtUR+mR7fzyZyaFqcnEBegpPbWHzQfNBCTW1Bf1TWDAOXtYsG4xS8qT6dnBk8pTe9m8+TD6Pr0sE1cFRdPFawc7f16JV2p3Qshh35Y95NUN92tNZKVvYNveAgb1jSPEw0Te/m3sKvYhPsoS9W2yLw7c4lJI2fEtG5YswtQ3gXAvKM7cyvp9EHt+n9qJq5rkwnUQQgghhBBCCCGEEH9LdjVWHYftNxRUbWzIvzON1U919tOxD2dNgFUTRu+BvTixKp2sknYwnt8VhftZsXi/5blWh5dPMB17Duf85DhCGhwSr6PL4NGM0K9h84ZlbKsCN69gopIvZHCfYNs24QNHM9pzPet3beCHrWZ0XsFE9RvJ4OSabXRhDLpoIBW/bGXD0v3ofDrQc8BQem1bxDbroTTBpI66ENZsZvOKPZSajXgFdqTXheeR0skSeW66Lw40/iSPGoXbxg1s3bSSbZU6PAM70mvEhaTGNFT6oKXXQQghhBBCCCGEEEL8HWmGDh2qujLk3llwFOrXWm0sIOosgNrYMVzhLEPWcdmRI0eYNWtWs9ptG1VkbfiB77eepBJAF80lN11IrBTqFILyckvJhczMTJf3iY6OBqCgsISI8JAz0i8hRNtx5TNDQ58NGvpZ96Eoit1y62tFUVAUxbbM+txsNjNu3DiioqJa7ySdyDhwiK6xZ/YYQgghhBBCnO3+is/NtkHXzrJQG5pgyvq6sS80ztY5+3LjbL1jPdazdvKqZjMSnjqSMb3DmprvSQghhBBCCCGEEEII0YZsgVVn2aKNBUet+zRWg9W6jTPOJrVy1k5TAdzGtDQg27bqBFedTi0mhBBCCCGEEEIIIYRoa/q6L5o7FN8xy9XV4Gzd5dY2irwjONbtYkJCAvDZvhhj1l5opGyAK30++zJWrWqCq8Y9mCS4KoQQQgghhBBCCCFEu2MXWG1JINKVSaac1WOtK8e3C7u6X4FZ1aP4RVN19VAMh3bgvfEL3I/udOn4DR33rA6u9u7V1p0QQgghhBBCCCGEEEI4YQusuhIgbUxj+zfWXlZwAvu6jUHR6KDKhGo2o6oaqiKTyO2ciOHEXnw2foHnoW2oirlFfRJCCCGEEEIIIYQQQojWpHdc0FCdVFeDlM0JZh6JSOFg9AWoGh2oKqjUPgANWkwRPcgb+wTF2Zn4//QaxhzXZwQXQghRI283PyxZyfaDBVQYvInoMYDRF/ejg3vju+Wv+y/vF1zE9Es6ncbBK0j/Zi6/+E9k2vDw5u+etYq587NIvflKkjxPoxtnwN5vX2Zjp2lM7utwIZUMFsz8hN9KsVQzN/jQIaoHg0aMICm03q/eM6MZ1y07fRXHg9JICtdz2vdLCCGEEEIIIf4hXPp215xgqWMQ1mlQVqPhYMdBHI4cDGhqgqqWh+U/x0a1VIfGkn/ebYR9+ZDLfRFCCAEoWSz7bAnZSRO5c1In3Cuy+P3H+cxbEsA9l3WlidhqK3Anqt8ILjAGt2z3wJ4MuyCGju0sqNokbWdG3jeVQf5ARQEHti7l2w8/pXrqZPoG/gXHb8Z1O7V7Pdtj+tUEVk/zfgkhhBBCCCHEP0Srp800VQZA1WjZ1+VCToT3rslMVa0bWp7XyVh1pHgFoigKWm39GZ1k2L8QQjSg4jgnSjrTJ7UT3nrAO5y+o67B51jN+vQveHZnDx6elGj5pXB0Ka/94M7km4dY1lcd5pePv2bNwRL0YYlcMP4S+obqoWQT7//3CJ27lrIr/QTlnnFccElPslevZNfJEvQdBzP+ijQijXDy96WsDe5MfKg3FUfX8c136zlYYkLvG8cFE8bSN1gPJRks+3YpW46VYDIGkzRiIqMTvKHqIGt/zGJoj054ayE/fSkLlm/jcAkEdE7mgjEjSPDH1p+YHpWkp58gX/En6eKaNhyYsjaxcOF60nNKwLMzfUZcxsge3k22YTq+iW++W82ubBMB3QbTx9Xfou7+xKZdxlUlc/lsXSZ9R0UDJRz45XsWbc6kGG86JAxn/MWJBGhp+FoA+buXsmBp7flfPG4E8b5wYNFr/Eoi7pnbOBw2gvsvKa+9bru/4Nmd4Vyg3c3aIyVUu3dm0KgxDIpy58Ci11iwq5zyXS8zY89I7ry6t939ouIoGxYt5pe9OZjcg+k2cCxjUsNxp+aY+mS8j2zjYF4FHp0HM+GKNDoYW/pmFUIIIYQQQoizx18657xZoyc9bgwnwpJrAqhqnQeuPYQQQjSPZww9I46w/Nt17D1VgQnAPZj42GCXslWLd++mfMBUHv/XQ0ztU8Gv81dy2FSzsvAo+Z0v4+4HpnN11ywWfbGNkDHTmD79VvqbVrP89xKH1nLYsHAzHsNv5fGHHuLOQQb27cjCBBz4ZQn7gsdyz0MP8fB1iZTv3EG24rD7qVV8+mMW3SbczZOP3c2EmCwWzl9Vu13hnxwPvoRp907n/jEhHPxxJQdMDm1QQvq6nVQnXcPDjzzGwxM6cXjJSvaammijKoOF89dDWs21SC5g+94K1+4BAHo69OyK/kgm2UD+pm/49s9OjJ/2GI//30S65S3lizU50Ni1OLWKT5fUnP8jdzO+wxEWLNqK5SqbOHzMRP+p03n4ysR6fzk17dtJdvI1TJ8+nXtG+bP9m+9JL4PYUXczvqcH8aOm8/DVvbEPQ1eQvuhrNroP4c6HHuPhqUPw2Dyf73dbz9vE4UMmUq+7m4enT6W/aTULfytoxjURQgghhBBCiLPXaQVWFa2Ogz3HcLDnGMy6xtNTTDo3dnafQE5gD1A1TgKmLgRZ63DMUNVoNE6XCyGE8Kfv1VMZ1aGALQvm8p9X5vLp8p1kV7m2tz66H+fFegN6QvoOp49+N+nWbFePaJISLOsio8LRh8XR3R/Q+hPZyZ/yIsfAKqA1UZydTX4VeCeO4erhndADBi1UFB0nr8SEPrgfV05KI8Tht9Tx33diShzBoA7ugDsd0kaQVLWT37Os/elCn3P9AXCPTSSGArLLHDvgTdJlU7myXzD6qhKKFXc8TAXklzXRRuYO9vqmcEmSP3rAO344/Tu7dg1tPL1xr6qgXCkgfWc+Pc8bQqQn4B7OoME9KMnYR34j18Lu/LXuRA6/njtH9awJhuqJSOxHbEND/yOSGdTVsqV71BAGhWWyPaOJwHBFBtsPhDDsgh5460Hv34MLh4RwcFsGFdZjJvQm0h3QB3NOtwjyc/KbeVGEEEIIIYQQ4uzU4lIAJr076X1vJD+0J2i05IUl0GPTf/EqPVVv20qDFzu7TaDEK7xmyL8zKm6VBfgUHETtHOl8i0ZiptaAqmNNVwm0CiEEoPcnNu0SYtPAVJJF+srvmPdVNbfWy1Csz8M3oE5mqz8BfhWcKgGCAK3DL5I6gVADUC9ZlGAGjR/BsuVLef+VAvRhPeg/YgSpHdyJHD6RgUuXsmDOzxR7RpA06BIuTAq2a7+4pISASP86x/MnxK+CI8WAL6A1OPSnGpNj1ismjv+2hB/XZ5Kv9SYkyIN8pbrOPs7bqCitxOQXUOd6uePj28wKtWUlVBi98aCE4qJ8Nn78IlvqHsw7hXKFBq9F/fPX4+1b24BB2/Cvdb2PDz51+u7t605xaQU0lrdclk+xuz8Bdf526u7vj6G0mHLrMfV1jqkFlPp3XQghhBBCCCH+jlocWN1z7rXkhyZYXqgqJT4d2TrkfuK3f0bo8W227crd/NkZfyVl7gE0NpbfP+8AXTO+o9LvGsoaCoY2EiS1BlQlkCqEEA4KMvntiAfnJFrqYuq9w0kalsyWuUc5pvQmXgvUDT5WVmBSaoNt5QX5VNCpJvxWQH6hOz5NRWMboQ9NZOTViYxUKji+6RvmLVhH7LThhLiHkzpmMqlAxdFVfPrJEn6LnkxqnWCtj7c3+XkFQM1s9YqlP94+zo7UgJKt/LiigJ43301qIKBksOCVVU3u5u7lhr4wn3wgwNIQxQUV0MnVA5s4/EcGps6XEKL1xsc7gD7j7mZ0tLODOb8WkfXO30RJiQlvFwK8pnxL30MAqCA/rwKfqCb28wzAo+Io+VVYslKBioICyr064+HqaQshhBBCCCHE31SLSwGYdG71huqb9Z7s7nMj+xIux6zRUewewrb4SZQZ/R3qqdY+NGYTnf/8hXP2fYmXptoSGHWhFIBjZmpDrCUChBDiH0ubz64lX/PD1ixKqiwZq78t38zxsE501AJBwQQc28lvOSaoyGLDxgyK6+xuOrSOnzNKABPZm1ayxdSDhI4t7EtVBgvfmMcvx02g1eNh1NdkPJaw/fPZfLopBxOgN+ot2bAOv6U69EpEv3Mla45XABUcX7eULcZEzg1vzvXQo9eCSTFZ2tiwmb2lLuwX3Yv4os0s216ACRP5u1ey8VjTuwFQkcPeVV/w5c4Ahg6KBvxJSAxg38pVHC4BlBIOLJ/H+yuP0ti1sJz/Usv5KxUc/uVD3ly0CycFF+rL3sbPWy1tluxeytrsaJJiLdFSd72e/FM5VDgmm7p3pU9sNr8sz6DEBKaC3Sxbk0235K4u1ecVQgghhBBCiL+zFmesdvvtfXb1v52SwBi75SpajkefR1FADBX55ZgwgqKAVgPYBzmNVcXE7fuW4LJjaLUuxHhbEFyVDFYhxD+eb2+uvLKE75d+wquLijEZAoiITeaqy2rKAISmcXHyF3w590WWe0fTv09XAnbX7h6QmIzPxv/y7Gcl6EO6c8GE4US29LeHsSuDhmXwxfyX+aUM3APjGDY2jRD0BAxLYe93HzJjWQV4hpMwYizneoNd1DB8CFdfvJQFX77G8hII6JzM6IlD6tVibZRnL0YOzeSL/77IcsWbyD6JRPocdanvIyek8P13c3n2OwjoNpj+Cd7sa09j4UsAACAASURBVGh75Qg/zHqSH7RgMPgQEp3IBTcOJ6lmJH9A6mWMq/iehXOeI7tKT0BUChePs6S/JjR0LbyHcPXFFZbzLwSfyGRGj7Pcx5NNdF8fl0zMn/OZ8UMB+EYz6LLLSKipxxqVOpiQLz9hxpHB3H1zWp293EkYdTn5ixbz5otfYDIG023wRMb0kLCqEEIIIYQQQmiGDh2qtjSrsxI9u1NupiC0p/MNzGbIPgmV5aDXWYKrGg2g4lvwJ90OfI839rOn5Pa/nrI+lzttTluYRcRHN9kFYa2BU8ef1ueqqnL06FFmzZrVonMUQrQP5eWWio6ZmZku7xMdbRljXVBYQkR4yBnplxBnhfQveHZnDx6elNjyv6i2Q6788bShzwcN/az7UBTFbrn1taIoKIpiW2Z9bjabGTduHFFRUa13kk5kHDhE19gzewwhhBBCCCHOdn/F5+YWlwIAcMNEz01vE3xkkyUr1XHovlYHYRHgGwBVJjCZ0ShmOhxeTeK+L+sFVW0aKgVQ5/uTYz1Va3DYMUgspQCEEEIIIYQQQgghhBCt7bQTV4wale6/zyOjopiTMefVZKQ68AsAoxv6EweJPbSE0NJD6HQ65w06qadqt66hVQ1krUgpACGEEEIIIYQQQgghRGtrlRGBOq0WXX425OdAQDCOtVQBcPdE2yESQ7YXuooGgqpWpxELdQykSsaqEEKIf7yEK3k8oa07IYQQQgghhBB/L6dVCgBA0ejYHXkxx8P7QlEBZJ8CRQW1/qPK6EN639vIjL0YVdPwoZ3sanvU5Sxo6rhMMlaFEEIIIYQQQgghhBCt7bQCqyatgZ1dRnMqoDtotKDTQWkRnDruvOaqCipaDsWOZHvyLVQafeo3qlJ/J9vO9kFSCZoKIYQQQgghhBBCCCHaQosDq1U6D7ZHjyffp0vt0H0toNdCRSkeB7egqyxtMPW0IKg7W1PvJz8gzqFltcmJq6xkmL8QQgghhBBCCCGEEKIttDiwurvzRRR7dqgJeloDppa5q0Jzt3Puvo9I2PQ6xorCBgOllUY/diTfyqGo4aDVoqpq42UAHIKrzjJWpcaqEEIIIYQQQgghhBDiTGtRYFVVVTBV14t86kyVxB5YSHzWr7jpNASWZ5Gw4RXcSk41PLpfYyAzdhQ7EqZQbfACNK5WAnC9r0IIIYQQQgghhBBCCNGKWhRY1Wg0dD/yI/5FmaAqgIpH6UkS935Ex9ID6HS1zfpVF5C46RU8Cw43koqqIS84gS1Jd1Pm1dHlUgBCCCGEEEIIIYQQQgjRFvQt3dFNY6Zn5nf8GZoKQFT2Jty0NbUAHHgr5SRueYNdvaZSHNjVMtGVI1Wl0i2IAt8g/BoKoqqSgSqEEEIIIYQQQgghhGh7La6xCmDUaYjLXk9c9npLULURHlRzzu9zCTy5vYHMVWqH/NNAwqoqNVOFEEIIIYQQQgghhBBt77QCqwBarRat1rVm3LQqPdLnEXp0raWEgF3k1BJgVRuKqrawxqoQQgghhBBCCCGEEEK0ttMOrDaXQQvx+76iw4FlNcFVx4zVBuqwqir6sjzJWBVCCCGEEEIIIYQQQrS5FtdYPR06rYbYwz9gqCrmcPx4VLR1JrKi3kRVqqqgy/sTv3Vz/vrOtrLKnD1sXr+NP4kmZUBv4oONbd0lIYQQQgghhBBCCCFEM7VJYBVAp9USeWI1hupSDnS/ClWjt2Wu2ob8qwrGnH14/z4fj6ObMeh0LmestrdJrsxFh9mxcQObMwqoBGAHS4/sYVvXXqT2T6KLr66NeyiEEEIIIYQQQgghhHBVmwVWAXQ6HR1yt2HYWcK+njdgVi3Zm6qiYMz6A5/fP8cr+w90Gg0afcNddRZE1Wg07SO4WpnD3k0bWLvrOKVmQOtBeM8EojnCjl0nyc74jYUH0+nUM4VB/boT4tbWHRZCCCGEEEIIIYQQfyfFxcV89NFHZGRkYDQaGTZsGCNHjgSgtLSUTz/9lN27d2M0Grniiivo27dvg20tWbIEo9HIBRdcYLc8PT2dN954A52uNnnwiiuu4LzzzgPghx9+YMWKFZjNZlJSUpg0aZJt3qY//viD+fPnU1hYSExMDFOmTMHX17e1L0Ora9PAKlgmvwot3o9++2yyuo7HL/8EfusX4pGzD71eBy5MjNVugqh1mYv4c/tvrNm6n/wqAB0B0ckMSkuii58O6E1y0mG2rdvA5swCju5cxed7d9CtdyoDkiL5KxJYj678gAU5vbjmyt4EnvnDCSGEEEIIIYQQQog28MUXX+Dn58fMmTMpKCjghRdeIC4ujq5du/L111+j0Wh46aWXOHbsGK+++iqxsbEEBAQ4bWv37t1MnDix3vKysjKSk5O59dZb663bs2cPq1ev5pFHHsHLy4s333yTVatWMWzYMMrKynj//fe5+eab6datGwsWLODzzz/nlltuafXr0NraPLAKlsBoYMUJ/Le/CVgyWdE3HFls1xmqVJG9exNrNu/laIkZAK+InqSm9aNnmH09VZ1fJH1HRpJ4cg8b1m1m14kC9m34kYN/dCAxJZWUHsFIAqsQQgghhBBCCCGEOB29e/cmLi4OvV5PcHAwUVFRZGdn07VrV/bs2cMtt9yCXq8nKiqKnj178vvvv9syTeuqqqoiOzubjh071ltXXl6Oh4eH0+Nv3bqVIUOGEBQUBMCIESNYtmwZw4YNY9euXXTp0oUePXoAcOmll/LAAw9gMpnQNzKCvT1oN73TaDR2qcLN1fZBVTNFh7azfv0O9uVVAeDmH03vtP4kd/GlsTNzC+vO0PFdSf5zO2vW7eBAwXG2/fwNu7bH0XtAX5KjGt9fCCGEEEIIIYQQQoiGJCcnA5b42cGDBzl27BhXX301QL35jIxGI9nZ2U7bycjIIC4uzukcSOXl5Rw7doynnnqKkpISEhISmDRpEu7u7pw6dcoWOAUICwvj1KlTAJw6dYrQ0FDbOg8PDzw8PMjLy7Nb3h7pVVV1eUIo0QQVzK3YXGXeftb/UInP1JHEG1qx4WYqO7SV1b/t5VBOGXj6ExGTxMDUOAJt0V4zeRmbWft7JicKijFrfAiPSWBAWi/C3S1bZK/7gq9ORDMirpjN2zLJN/biiqtSYP0XfHUijtHnlLF+016ySsErMJLkwUNJjjA21CUhhBBCCCGEEEII0Qzl5eXcd9996PV6rrrqKoKDgwHo0aMHy5cv54YbbiArK4v09HSSkpKctrF79267AGldoaGhdOvWjREjRqDVannvvff49ttvmTRpElVVVRgMtcEtvV5PRUUFQL11AAaDgcrKytY47TOq3WSsNkf7GfZflw7fLr25pMs5ZO/axJrfdnG0IJP1SzLZ0UApAKtKWymAckyA3rsDiX2CyV69g6N/7UnU79ufq/jyx4O4devN0L7+6EuOs2PzSr4tgkkj4/AEyvau5Nufj+HTM4URacG4V55k6/rNfL/Sk2svsWwDYMpLZ83B7qRcMIoQT18CNZAHmPLTWZPRnZQRlxOiK2Lfhl9Z88Ov+F59IbHubXjyQgghhBBCCCGEEH8THh4e/8/enYdFed/rH38DA8OwI6CjsgiKqIiKinGPUWNjGo0mzZ5uSXNskjbJadqcNjk9TU/bX/f09LRJjkmTtGliG5too2k0bjHGNURxQ8UFFFBRQLZhnYXfHzA4jDNsooDer+vignnW7/OgiPd8ns+Xl156iXPnzvHKK68QGBjI+PHjWbx4McuWLeOHP/whsbGxjBkzxusj/YcPH/bYIgCaqmKdlbEAt956K2+++SbQVAVbW1vbsq62tpbAwKbQx2g0cuHChVbHqq2txWjs/Q0yDX2xWtU9VO1dIWsAMaOms3iomdV/3sRJO1SfPcTG946zZ+gYpk92Tl4F9op8snbuZM+JcloyeL84Zt8znxTDcT78tMcuolk5B3YegRG3cdesQc3tCOIZEmHjrdV72F8yjMnRYByYyrSb0xky1NkTdgBz6k/z+tY8ztqHMdRZ2eozmMm3TibF/e9FYzTpczOaQ9QIJs4aT95bO8k5bWfoUDVBEDlb5PkRDJHrXUf+/fe0TaPD0fTZbX1jo4PGxqZlzg/nMZrWNdLYCA6Ho2W9w+Gg0eHA0diIw9Gdz62IiIiIiHSPxsZGtm3bRkZGBkajEbPZzPjx4zl8+DDjx48nODiYRx55pGX7P/7xj6SkpFxynKqqKhoaGlr6pLo7e/YsJpOJiIgIoOn3ZmePVLPZTFFRUattzWYz0NQW4NChQy3rKioqsNls9OvX+6davyYqVj1VsPZ42GrwawoifaMYPsLA6SPnKDvxOavzsjGPSmUYBWQdOke1A/AzEZsymPojxynGQK/py2vJJ68ilCE3DmrV49VvUBJxgTmcPVsL0Sb8wgaREgbYa6ksLeNCVSUlJ8ux2UOpt4FzZ0NYBDEe3mwwhEYT41qZGhxKmMFOTb394s4i17GB5pieHoJIr9SZYLV1gNro9bPrh8MZwLq9djgcLeGq69d2u4JVEREREel9fHx82LZtG6WlpSxYsICamhr279/P1KlTAXjvvffw8/Pj9ttv59ChQ+Tn5/ONb3zjkuMcPnzYY+DqtGvXLvLz81myZAmNjY189NFHpKWlATBx4kRee+01pk6dislkYsOGDcycOROAUaNGsWzZMg4fPkxycjIffvgh6enpvX7iKrhGeqz2eIjaFp8whs24mbnpF6tTiw5+TlNGH0Cks4o1JJ8Pc47Tq+rS6uqpb6xi/8pX2O9hdWRtPWCCsuN8siWTQ2erwGAiNDySfgGeUnsvIamvl+W9+NsqIiIiIiIiItJXfP3rX2fZsmU8/fTTGAwGJk6c2BJszp49m1dffZXvfOc7hIeHs2TJkpbH9F0dPnyY0aNHez3HF7/4RZYtW8azzz6Lr68v48aN47bbbgNg2LBhzJkzh5///OfY7XamTJnSEuwGBgbyjW98g7fffpuKigqSk5N56KGHrsBd6H69P/r1oFcHqV74hccz8QvxpJ0/QuaOLE4Sx/gpkxjVv7nvam8scgkwYiSAITNuY9rgS/+oGAJDgUqyNn3CIUcq8+8Zz5DI5uvJ3cTLZ2uu7nhFREREREREROQS/fv356mnnvK4LjIykmeeeabdY3z1q19tc72/v3+b28ydO5e5c+d6XDdixAh+8pOftDuG3qZP9ljtyORVvXOCKzD2H8H020cwvacH0hGhg4gL20lOaQ3BafG0PMVvL+dkbg1h8RHQaKGyyk702FEXQ1XsFBeVYGuZtkpEREREREREROTack20AuiVPVad7Pl88sFW6l2rU93Unz/Czh2ZnOqJlqLWcopO5dOqttTPSFDMAPoZo0mfPIycdZtY6RhPelI0wY4yTh7YQ1ZpNPPuHkQ/YzTmAQHsP7iNz4NSMQfbqczPZs+RGlCwKiIiIiIiIiIi16g+WbHqaQKKXsfPzJiMRC7syaPs9CE2vnucPc5+quFN6am94mLf1XqAgAiGjk9loB/AMG795rArP86K42z813G3hSbG3P5lbhwMxqTZ3HVLJpszs/nkaBX1fiYiByYyb9EUUkIAAkiZPZ+aLVvZv2UtOxwBRMaPYfrkINZtUSsA6X6JiYk9PQQREREREREREXxmzpzZ6Ovr29Pj6BRPYWpbM/wWFhbywgsvXL0Buqor4VDmTnYeOkO1HfA1ETsqlSEUkHXoHNUOwM9E7KgMpmeMIObS3sAiAtTW1nZ53/IKCwPNMd04GhHpDTry5qr77wWelrl+dv1wOBytljtfOxwOHA5HyzLn13a7nUWLFpGQkNB9F+nBsROnSB56Zc8hIiIiItLXXY3fm/tkxaqrXlux6hQYzagZt5EyNp+sXTvZc6ycwoOfUwhAAJHJY5h+w1iGhF3tHgAiIiIiIiIiIiLSVX2yx2pvnZiqLX5h8Uy8OZ60sUfI3JHFSeIY30bfVREREREREREREem9+lQPAE+P83kLhXtrWGzsP4Lpt9/Hg7dPV6gqIiIiIiIiIiLSjZYsWXLVztWngtX29IlJrURERERERERERKTbLVmyhKVLl1618/WpYNVZhdrXqlRFRERERERERETkyrnaoSr0sWAVLs7M2x6FrCIiIiIiIiIiIte+nghVoQ8Fq84wtaOBqVoBiIiIiIiIiIiIXNvcQ1X1WPVCYamIiIhc73x8fHA4HD09DBERERGRHucpVF26dCkOh+OqPM3eZ4JVHx+fTt8QBbEiIiJyrQkOMlFVVd3TwxARERER6VHeQlWAqqpqgoNMV3wMfSZY9UbhqYiIiFxPIiPDOV9ygYqKKlWuioiIiMh1y72nqrNStaKiivMlF4iMDL/iYzBc8TN0o/ZCVPf1Pj4+Cl5FRETkmhJoDCAudiBlZRUUl5bpdx0RERERkWY+Pj4EB5mIix1IoDHgip+vTwWrzlYA3v4D4R6k6j8aIiIici0KNAYw0BzT08MQEREREbmu9flWAK4UpIqIiIiIiIiIiMjV0K3B6pUMNhsbG1s+XLU1odXVmP1LRETkulX6Oe8tfZVX3t9HZXvb1uex/s+v8sqbWyiwXo3BiYiIiIiIXFndGqz2RJDpGrS6n18VrCIi0rtYKcnewvpdhdR252EdleRu3ci2nHbjzW5UyWcr32HD3qMY4oYT1t7mxkRGRBaRtWMFf91YdDUGKCIiIiIickV1OVjtjaFlZ6pZRURE3Fl3vcy3H32cb7+8vXuDTydLJu8sfYcVf36F909032Gt+1fwx7dX8NbLK8i6WtWghZ+wJqsGoqYya5zp4nJHJQc/fJn/fOJxHn30Wd46fHFV3PQbSfK1UrB5LQfrr9I4RURERERErpAuT17lqTrUdZn7657QG8NfERG5joWkMHXmaKyVw5kU232H9R82hVkTKikakMFQ/+47bltyd2ZS5ICoMeNIan6b1npmO++8sZJthTWed4pKZVwS5B7PZvv+WkZnmDxvJyIiIiIi0gd0OVh15x6idjZU7UgQ61zvLTD18fHx2IdVRESkd4gi/UuPkt7dhw1JYeE3Urr7qN45ijh4uBQIImn4xYQ4Z91Ktp3xZ/QtCzDtXk1msfuOUYxIMsPxIo5k52LNSOUq5cAiIiIiIiLdrsvBandXpLZXAetc1t6YnMdSuCoi0lU2yiuOsfv8cQ5UlXO+rpwyWy3VGIg0RBAZGEps6BDGDxhJWlhI7wjGLHlsfn81nxzIpaTKin94HCNumM8dC8YS7QucWs2Pf7WWov638OwPFxDXXGF58M/f48VdNaTc83OemtW6S2hJ5nL+vnI7+RZ/whMzmH/XYqbFNl1tycbf8sN3czHP+zcWsp1V23MocYQxdMqdPLhgALmrl7NmVy4l1iDix9/Gl++bitkfcGTz1n+8xLaaJO7476e5OYqmR+fXrWDN9mzyS2sgMIr41KksvOMWUiIu4/rcjxtqZujYOdy5aCpxzYWiLddxy2Pc6b+dVVuyOVvjT/Twmdx53wJGR3m53/WFFBUDvlHEDb74JyBoyFQenHsL0waVsmr/ao+7mmPNGCii9nQBpaRibuPbaj3zOave38BnOQVUOoKISkhl2rwFzE9zDsxKSdZHrNyQyZHCUmoJIipxHHNvX8yNiSbIW8l//XojpSETefQnXyHVOdTcd/nRC1soDZ/CN390L6O67W1mERERERG5nhjg8kLSju7b2XM4w9H2QlJVqYqIdBOHhQMFH/PeqYMcaPDcqLO6wUJhDRy4cJg1p9bgHxDL3CE38aXYRCK6dTrEzihi/dLfs+K4FVPsaG5IM1FxfC9Za18hv/4JfnR3SqfDX9vptSzNqcV/UBwDKaDg6Ce89btSePZRprmEjRWZ7/B3o5n4BDMVhwvI2fgGLx4Oo8IazdAEMzVHC8jd8TZLw+P50e2en/3PXf17XlxbBOFJpE81YzifQ1bmav54Fp75wS3E+Xbl+irJeus3vLKjFIKiSBqdBKdzyNnyNr/KLeXfn1lAkstOFbve5nWiGJqYAscPUpC9lqWvBfHcM3M8B58VJZTYAb8owiMuLk6atZgkAIf3e+vfL5xwoLSqlAoHmL39uTmzkRd/u4KcGjCZU0gJKSH/eCarcnMpfewHPJhqojb7H/zm1e1U+keRMm4q0Y4iDmRt550XS2n8wbeZlTCOcdEb2VhyjH0nrKSOaLrowgNHKQXCxoxnuD+gXyFERERERKQLDHB5j+23ta9rMNqRitS2zuEtZPVUpaqQVUSkM2ycP/8pfzm6k511nZv5yNpQyJqjf2VDfjILh8/nrv4RV7+C1ZLL0Vwr+I/m3u88yiQTYMlmzfvZ1ETaqIXOj6nMn9FP/IB7U0xgLWL9//6CFccPsmpjDtPuvvjIfa0xg289u5gkfyha+wt+/H4BRfWjeeqHd5NihMqt/8tzb+dQlJNDCbFEX3KiInIOFwFBTPvy0zyYClBK1vtryXEEYa0B6ML1ndrIql2lYEzhnu8/wawYoD6PVb/5DWsKN7Jq21SemnUxIa4llcd/+ACjTUDxRn79kxXknsokq2gO8z0lqzYrVgB/f4L8OnlvjSb8fYE6K146sQK1fLZ6LTk1EDX9MZ57IBUTULL5f/nxOzns2pjFwtSpFB/JoRIwz3mEJxc2BddF2/7BxjMm/GutEJVIxoQBbPzoHEcOnYYRQ4Bz7M0uAsIZNy4R5aoiIiIiItJVLQ+/tRV0uoaXrp/b09b2rkFoW+vdw1VvXNepFYCISAc1WtiTs4z/KSyi2mVxcGAs46NHMiE6kcTgECKNIQRTR3m9hbLqIg6UHGbn+ePkNFe2WuuO8d7+Ag7GLuaZlGQirubchUFRRIUDZTmsem0lFeOHMzQ5ifkPpHb9mAlTmZvS/Ly8v5lZN6Wy6vheKo/lUURKyz+epoThLZWfZrMZAwXYBscSb2xaFjbQTBA5VFqt2DyeKBxzdBCcqmHXilcxFaeTkpjIiAUPkO6s5HR0/vqKDudQ5ADTmBuZFtO80JjIrGkprHknhxOHc6idNbVle9PwcU2hKkBUCilRkFtUQ02tlxP4+jeFuVYrVjvQmWplqw2rA/Dz9x54W3M5eLQGfOOYNqcpVAWInvkIP0utocE/iDCgsX80Bkop2vo2b/hOJT05maSJd/GA8eKh4saPY8D6jziXnU3hoiHEXsgmuwiIGsvEYb2ikYWIiIiIiPRRLcFqW2FpW0Gla/jZ2crUjjzm73ocT+fu6LFERMRNYzmfHvgrL54vw1mn6h+QyPykm/nSYDPBl/zoDiTCFEiEKZrE6NEsTKkj7/TH/CV3b3PrgDpyCv/Gj6x38Nzo0fS/WuGqbwq3P3wHlX9fS1b2BlZkbwDAEDOam+96gIVpYe0c4FKG8KbH1Z38w6ObHl+vr6XGAS1H9BAodq5dp4n0u7/GfOsKNh/cy4Z39rIBIMhM+i0P8uWbEzF14fpqLE21oEGRUa3Cy7CIMAyAraq2VZB+yXW0F5SGhBEEYK+lohqIaGd7F1ZLRVOlalhYq3vcSn0FtXWAX3hTqNwyLhNhMaaWl2HT7uehomW8tz2HzA/fIRPAN4i4jAU8eO8M4ozAoHGkD/iIteeyOXjui5iO7qPAAVFjJ5LYY+0rRERERETkWtDpHqvuYabr/p4e+28vaHV/zN/TOLwFpgpTRUS6qo4DOX9rFar2j5nPM6MzSOzoo90+gSTGzud5czprDvyDv5Q2Havw3Gp+5R/Mj0ckEnyFRu/ONHQO//bcHKyVRRTk5nLw842s332QNX9+h7ifPkK685rsNi42O7BitXlufWArq6ACWh7dr71QQgWA0URQd4dxYaksfDSVhbWlFJzM48SRTDZsOEjWilcJi/9/3JvSgetzO2RQSBBQSk1ZKVZiW8LVyvJKbIAh1EQwtA5XOyNkIOZwyCkrougcnQpWK4qKqAUM/Qc2TbzliTEYUyBQV0FpBbSUrDpqKTlfgc0/HHOUCXyjGHfXtxl3Zy0lBbnknTjEJ+s/IXfXO7wVk8wPbjWDbywZE2JZ+0Eh2dknMR0pbNpv/BDUBEBERERERC5Hy39p2qpIhdYBqPPDubytFgKux/X2dXuhald6wIqIiHflZ1fzUmFxc8joT0rcffx8bCdCVVcGM/PTv85zsebmINVKXuFK/lJk6cYRt6Hoc957/VVefHM7FSFmksZNZeEDcxjhD9RVUlIDmIKaKixLc8g50xymlmaSmeOlp2zBdjbkND8Hby1k85ZsbEBYcmKbs9h3mqOQzW//mVdeXk6WNYq4kROZtfhubkwAqKGy3Nqx63NjHplClC/U7v+EbcXNC+vz2LwtB/AnfmQKpkt36zjfWFKGBQEV5OYVdWLHWnJzm7aPH554cQyOUg5uXsvmw5VNr/2HM3qYPzgK2LYuG2dHgpKtr/L/fvwTfvZ2FpXUkrNhGa/+359YnQPRCalkzL6LO25o6h1bUlbaclZz+jhifSFv13K2nLBC/3FkxF/ODRAREREREXF7YtF9gij3QNPbI/+eKk7bC0Q70s+1qwGpKllFRNpgPcayY4c53/yyv3lRU1/UyzpoCGkj7ucx6yv8+pwFsLDx+MdMjl7A+M49G995kaFYT+7lYPFe8s9kkzbIn5K8veRYwTQyg/QogFTGJa0m93gBq37zI7IGhVFxphL/sCCweEgmI+Hgy//FjweZ8S8voKDMCkEpzL8p5dJtL4dvGEG1R8naX8GB0wWkDTdDcQ4H8oDwVMaN9AdjB67PPcNOmMOdGVm8siuHd37xX2QmRmM9k0tBGRhi53DnlCgPg+kMf0aPT8WUmUlBdjYlt5g9TMzlQf1RDh61gn8KGeNcJs/auZyl7xzEZiwg6OePMMlkYtLtC/jk+Apyd7zEc3lJxJsqyM8rpdY3imlz0gnDRL2xlCP7c8jKKSJ3TBLR1gIO7C8F3ygyxg+/eF7zWMbFfkBhfiHnAPPYicT6gn5VEBERERGRyJjCnQAAIABJREFUy9FSserpsX4n98pT1+DSW19VT5/d93Vd522iq85Wq7qfT0REWivM/5gtDc0vAjN4bOTIywpVqy8c5EAtQAiTRy5mfmDziros3i0ouayxdogxhXuffIz5E5LwL85m26695NebGT3nAf79kZnNgZ+Zm7/2deammjE5ajhbDimLHuHO0Z7rNg1x81nyQAZB5QUUWPyJGj6VB594hFkxHje/DGFM+uoTfH3eOAY6isjatZ0DRRA/4Rb+7amvMSmso9d36XHTv/JdHr89gyRTLfmHczhrjSJl5j38+5MLSDJ63KlT/MfMZdYgIDeTzDMd26dy93ayaiBs/I3c4JLtmoYMZ2h4EFEpKcQ7vyWD5vDUvz/A3FQz/mW55BTWEpQ4joXffJIHU5s2ip7xDZ564EZGR9VyYvd2th0uJWhYBgsffZp7R7p2lzWTMT6x6UvfAYwbP/hyL19ERERERASfmTNnNrr3R3UPOz1VqLY6iNt27pWrHk/cwfXezulpubdAt7CwkBdeeMHj/iLSN9TWepuevH3lFRYGmrs9EeubHHn8aetfWdMAEMiM0U/wlDmwvb28qi5Zz88O7CDXP43HJyxmhgmqz/6DJ7IPUw4QkMHz0+eTpkmCrkm12W/zs5e2UzPm6zy/ZCJtThNWn8Pff/K/fFI7mgeffZRpl1s0S8feSPX0Jq+33xecbyQ7PxwOR6vlztcOhwOHw9GyzPm13W5n0aJFJCQkXP7FiYiIiIhIr2eA9qtEO9ISwD2UdV3nHtY6/4PirUrVqb12At56toqIiGfWCwfZ4axWDUrn9gGXH6rm2AH7AV7NjiVlYgb9zVOYeeIwq+qAhsPsunAzadFXuh+A9ART6gP89MUHOraxMYV7f/oi917ZIYmIiIiIiFw1vnDp4/juFRuurQDcX7tyPY57yOqqI31YOzJplbf1XWkfICJyPcgtOdlUSQok9k8jsYs/LluFqoB/YBqPpGbQH8AnlpkDnBXCFg6UdmZyIxEREREREZG+oeXhTG+BaXvVq572cV3mqV+rN+7HaivEFRGRzrKQW1XW/HUIaf26Nr+9p1DV2QbAKTEytilkBc5VnW0Jc0VERERERESuFZdMXtXR3qbugan7Otf9XSfE8nQeT4FqRyhwvTyFm/7MH176Mx+dtHvfyJLNyqWv8Ifle7hw9YYmIldCYznn65u/9okhNqTzh+hIqApAsJkBzT/mrXXlnNOPaxEREREREbnGtKpYdXINPb0FoO5Vqa7be3uM39O+l6OtNgI9r4HKss5PtlNTVkl9+5t1owZyD+V5PWfl0SMUtpG7ikgf0lhLta35a59Agt3bntYe49MLdV5373CoCmA0EeH82lFHg4dNRERERERERPqylv9Wu04q5fq6IzpSbeppuadzuC9raxy9I0D1pIGinatZua+BpNlf5AvJbc6T3KLm2Cb+sSkf49h5LJ48COMVHiUAvmAryOZo5TDS3IfZWMKhI6Uu8buI9HnefmzWHuR/dq/gU6uZgrFf4f5+rSe1ai9Utdnt1NXW09DQgNVmx+EYwN2p3+R2h41iq5Wg6hpsJiMGP78rd20iIiIiIiIiV5HHaZrbmniqI9oKTN1DWPdtOxqq9nY2B2Cv4ujGfwHth6uVxzaxcuNxKh1+xDiuyhABMMQkklCdR/aRctImRbRaZz99iEOVEQxNgFNVrfezl+WRuXMPh06XU08AkeZk0qdmkNKvOTSxHmf161sJmD6d4OOZHDpbQ+ycr3Frsh/Ul3Dos53sOXGOKmsAodGDSZ00hfTBnsreRKTb+JgI9gfsQGNdU/VqAEA5a7JX82kdQBHv7XsTXMLVtkJVm92Opaqa+oYGTIGBBAcHYTAY8PNrekfGbncwyGajtr6B0tIyjAEBhIQGK2AVERERERGRPs9jK4C2wkxPj993pC+rt1YD7u0EOjrRVUfG1XMCiJ26gAXjojA4msLVj45Vet26Vag6bj6Lp16lalUAwyBGDYugOOcgRa1udwMns3OpHziCUZHuAz7ChyvXs79mABk33cz82eOJtR9j3Yo1HKhofYzczH1Ux09m4R23MznODxrLyfrwAz456cewSbOZP28KqSEl7PxgNTvPqeeAyBXlE0F/5w+XxmIKLc4VEcxPXcAMZ5GqvYj39i3jvQt1bYaqNbV1FBdfwGAwMKB/NGFhIRiNAS2hKoCfny9GYwARYSEM6B+NwWCguPgCNbXeWw6IiIiIiIiI9AW+nQ1ROxOaelvW1jG8tQxoS3f1bO1eHsLVnEvD1cqcHgxVm/VPHYG5Jo9Dp1yCzZpcDuVDwohkglttbadwbyYn/Udx68LppA2NZ0hSKtNvm0d60Bl2fJ5Py1EaIXTUjXwhPRFz/2j6BUJ9biaZJZFMXzifyaMSGZIwjPSbb2G6uYr9e7z3ehWR7hBCUqjznRILBy6UXFxlGs1TE+5wCVcLWbbvJZ7Y7zlUtVhqqK6uIToqkpCQoI6PICSI6KhIqqtrsFhquuWqRERERERERHqCr4+PT7dWe7YXvLpr69zOde2Fpr2rWtWVW7j6cetwtTJnEys/7tlQFYDwZFIHN3D88MVgszInh0L/eEYluT2e31hGYWEtYUnJxPq7LPcbwKhhEdSfzqe45dvlR7+o1uWuxadOYzenMDzcdWkYQ5OisZ8747KviFwJSf2GtEwqlXf+AHmuf+dMo3kq3bVy1UJ5c2sS90rV2ro6+kVG4O/v1lGmvpTcA5+zbfNG1m/ezmcH8ihxe8fE399Av8gIauvqVLkqIiIiIiIifZYB2p5wyrXP6ZXoedrW8S53Iq32jn91NIerrGb13lKOfvwv7MxnMpms/jiv50NVAEwMHZnI1g1HOGoZRlpwCYcOnyMoeTJD/KG41bYN1NRBUMilPWODQ4Iw1DdQ7ewRe0nebae6rgFbwRZeeWnLpcPwC6LeAaj1osgV4x89gikBWaxpAGoyef/cFJ4yu0xUFZzOU+nA7tV82tC8j1tP1YqKKqKjIls98o+lkG2rV7BqRw6VVveThpMy/TbuvHUqcSFNi/z8fIkID6OktIyAAH/1XBUREREREZE+x+PkVa462nvVqavha1v7daYK1n2SrN5Rzdo6XD2xcTknAOgNoWoT45ARpJg+IPtIOaMGHiGnMorUkQM8bBlAUCAUWCqB1tWs1TX12IwRBPsCHifg8sMYGAAxqSy+KZkgX/f1RsKVrYhcWb7J3DLIzIaTRVipY2fuxxyImU+a69+94HQenwDW3avZ7XsxVAWwVFUTGhLcqlLVemY7b7y0nKzKIFKm3MG9k8cxYlAUJmopOXOUrJ0b2PDJ2/zqYDb3PvY1ppmbyt39/Q2EhgRjqaomIqLtCf5EREREREREeps2e6x2RVd6pHrbr61t2ztmR9sIXD0ubQGA3hSqAuDnnMRqPzsOHqdmwAhG9fOwnU8ksYNMVJ48RqFrVZq9hKPHSzEOHExMG9+agYMHYyw/Q7F/BP36XfwIrC+j0qZiVZGrITZhBjMDmr621mTypyOHqXbbxj84nacmfJkfu4SqNrud+oaG1j1VK/fxzktvk+VI4Z5nfsxT980hPTGMkt1rWbO3lPDEsdx839M8/8wdjLDt5a2XlnPQcnH3kJAg6hsasNk1eZ2IiIiIiIj0Lb7dVdHZ1nG6O9zszJh7R8WqU3O4On4QseN7UajaLCZ1BOaqI2SdgIRRyXiejsaP2PEZDKk/xIertnLgRD4nc7PZ+sEaMi2DmDIpsc1w1Dg8nYx+JexctYad2XkUFuaTs2cTKz7YxNbjlShaEbkK/Edyf/JI+je/LDz7T352NM9DuJpIikthel1tPaZAl7YBWMn513tsq4xj4ZJvMKul8XItJ3atZtWufGqbl5gS5vBvS24hrnw7f/8wB9f3ZUyBgdTVauq6Dis/xs7skva3E+9KjrDraHlPj0JERERERPq4Sx7G7qqrWRnakT6qvadS1V0AsZNvY/Hk3hWqAs2TWPlBUDyjkgK8bxc2glsX38wY0zkyP17Pmo17OOmXzLw75pMW7n03AHyiSb/tdm5MsHN81yZWfrCeTw5XETNhPndMGaCKVZGrJGLgAh4bHENTFGolJ//vPLs/k8I23t1oaGjAaHT52WDJZMOuUqKm38PcBH/vOzbzT7iFO6dEUbp9C1kuVatGYwANDQ1dvZRmNor3rePNF3/L8//9M376u9dYvjUPS/s7dp/s5fz07wewtbddTSGf7zzWxbHVkb1hE2cDIjqwaR6b3/w9P/3v37L6hO0yz9sORxHr/7CUzd2c9+b887e8+XkdUMLml5eyvghw5LHmD79n9bF277R3EYGUfLyBA7Xtb3opG6UH1vGXF3/Hm59d6PoYRERERESkz2u3x2pv5RqcuvZn7X2TV/VesbO/xqOtlpgYteBhRrltFzP5bh6d3HqZX2Qik29NxG3xRf7DWLBkmOd1xmhGzbyNUTO7MmoR6R6BpI24j8cbXufFYgtWrBSeX8N3K48wP+lmvjTITLDbHlabHYPBpbfq0WyOWKOYdUMi7ceqAP6kTE4naut2Dh63Mmlc014GgwGr7fLq1cs+X85rn8DkWx/gjoQQas8dZevaFfyl4QGWzDb3rn/sanLZnVlH/0nJhHT27c3K/ew6HceNd7R/RXU5O9hqzeDxZ6cSaQBKLuO8vYnvQMbOnQeDDUAX/403DGFMwho27qsgbXJ77wi6quf4+mWsLxtCcmwwhV07u4iIiIiIXCMMHelX2tu0NdGV+7q+dm0iIleNTwQzxjyE/5HlvHS6iGrAWpfHqkOvsDE3lvExI5kck0iSKYLIwEAcDgd+fhcTuYqySmx+A4nr7/0Ul4gZwEBqKC2vheY41s/PF4fD44x3HWM7xuZPyhh7zxJmxTYFjiGJ41l8j403/7GfUzPNDDVAWfY6Vm7IIt8CkXHpzF04j9QIwPIZr79WQFxyNYeyz1IbNIy5t46i+NNNHDpnwTB4Bou/NJX4gBI2v/wetWMTOZt5gPMNBiJHzubuW9OIvCSotHBi8yo+yMyjihAGpc5m8S1pRFZ+xpuvfkp+Lbz562NMuPtx5idC2eF1rFyXRX6Ngci4dG5ZNJuUkEsv1XL0COcHZ5DgPF9NIVtX/Yutp0qw+UaQlHErd8xKxPbZMv5n7VFqyePF3xdyy71DOPRmJ86bvZyf7g7hBo6xuyyZu759K0NbXaON4n0fsmLDYc42BBJ/QwYxLd9RoK6QnR/8i83HSrAFmkmd9kUWTGoKuG1Fn7F69Q6ySywQFMeEeXcwf2TTxdrOfMaK9z/lULGNyOEzmOAxP7ZwdPMWrItHMtCeyRuvF5A0sp7s7LOUOSIY+4W7uS21+Xjn97D6/U/JPl+HoV8i0+bfxrT4pnYWA5PMFH92DMvkiZe8idCWkJQv8rXYaM6sP3YxWK3Zz3v/OEP/uBoWLVrUiaOJiIiIiEhfZuiLwaMzDPZWpSoiIh3kE8HkkQ+RFPExr574nD11Td1Pq+sK+bSgkE8LLm76h9Hf7OBB/fEP9IfDa/nr2ii+PC+FsCtZIXk+j/zAkdw1yC2F6zeJryxxbrOFZWuLGHvfkzw0CM5sXc6b72yh/yMziQGoKKQs7mGevDWQ/HVLeX15PbcteZynw8rZ+dZSNuwdw0OTAEcJ+3LTePjRp4nxLefzd//Css0xPD7b3OrUZZ+t4J8nh3DX4/cT71vE1nffZvnWgSyZOYmvPFLH0r/VMf/xecT7OsdWwoT7nuSh/pC/6W2W/XMP33pwPO7Z6rkzxUSaB7ZU4Bbv38LRoJkseXokkQ15rH7tQz4d/jg3T7qf7/q+yf/kT+H7dyQDMLGT57WdLsH01SV8f1AglzizheUbLEx44EmWNO/7ZhlMB6CO7A/eY3fQrXzre8kElh9gxdvvsX7Q48yPtZC9/QDWsQ/w/UnRcGYTr/1tEznJC0lxHGP1Oztg9sP859gI6nI+5C/v1hE6pJ3vf8VJzkQ/xGNPRVB3bDWvrP6YEykLGOrIY/3yHVhn3M9/jImmNudD/rpyDTFLFpNsBEN/MxHFRZx3QGKHfxUyYo7v7/mNgKpzVJoXd/RAIiIiIiJyDeizDwMqTBUR6S4G+g+8meemPsrzQ9NICfD8YH+9w4bdfjFQCo8Mw2A/S8F59y1NTPvad3lwvD9H3v9fnv/dSrKKm6erKj7HWYKIirg4K5bd7sDX9zL+OaquozY4pM3w9szeA9jS5jF9UCAQyKCp8xjbcIC9Rc4hJzI2NQQwEJ9gxjBgGCMiAN8I4mMjqK1s7kzqG0jKDVOJCQAMEUycORLb4UOcaZWzlZN9oIxRN80kPggINDN9xkgsx45S5mVshgnzmGwOBN9A4mdNJensEU7UuW9pw2KpIzT8YtwaM/l+Hlo4kkjfOiw1EBhQTnFpx3qPtndeQ0I6kz2FqsCZ/YexjZ19cd+ZUxnubBxed4x9p2KZNTeZEAMYotO4Kd3A0UNFQAhj73iYuydFY2iwUOUIxGQrp6wGyNtPTlgGt46NwACEpMzmhrgOXIhpCOPHNvWcDRw6miTKKakBTh1gf9gUFoyJbjre8JuYFHWSw84y05BQQuursXhq71t1gh2b91HamQ4VxsGkDPM87aOIiIiIiFyb+mQrAGj9yH9brQEUwIqIdJBvBGmJi0lLtHG+/Bi7zx/hYGUZZQ3VnKu3UGKtYpAtGj+/pgms/IenMsJvL1mZeSxMcOuzaopl2te+T0rqSt5YvoG/r05ixEOjyM/MotR/OAuHXdzaZrPhb7iMqeuCAzFVW6h04LV3aJXFQmS8y4RPvhHEhNdRUAWEAb5uTcddjuMPLhNSBRIS6rJdWAShNUVUue7rsFBVWcaut37JbteDhmRQ64BID2PL37mUn+5w2dgxkPg6oFWuacPqMLQaW92p7axal0lBTSCRUZFQ57ZLG9o8L7T51muVxULkEJf7aYgk1Jkp1pRRVnWElb/7JStbjmvDkFoFRHPm8w9ZuyOPMt8QYqJMlDmaQve66nps4ZEuVbqBhIZ14Gp8/d2+d1ZsDqirslB3ai2//dX6i+tskDTGBviBrwGDrw2rpy4U5afYe7CckAlpRHW0T4D7nyEREREREbnm9cn/A7gHqZ7CU+c2fTE0FhHpWQb6R4xkfsRI5rsstVhqqK9vwGhsClYJyeDGGz7gxa0r2DD5CebHule6+hOdcTffS5lDiTEKw6m1vLe1lKgpD5Du8ox7fX0DAQEBXR9u/0Ti69ax78xMBsW6/LN24TPe/Ec50x6eR2hICGUXyoHmR/Yd5ZRVuIWkHeGwUFZmA3PzecrLKQsKodVhfEMIDYlkwqInWZDY/iFDQ0IYNP0eHp8d3c6WBkwBYKu10fTPdwk7P9wBM5fwdGoIYGPfst+S3cFLafO8p9vZNyyEsnKX+2kro6oGTABBIYQGJzPrybtJdf+2Wj5j7cZyRj3yJJP7AY5jrPzdFgACg40YKsoowxk+W6gqr4PYDl6Qm8BgI4Fxc3nsqxmEwKW/NzTUUkcgJk9/9OJm8+i3Gi+v96+IiIiIiFzzfK+14FEVqiIiV0agyUhtnevz6f6MXnAPGSG5rPq/P7P5jNXzjmFRhBdv4Y2lqykIm8qdX0xpVd1aW1dHoMnoed+OMCQza0Yo+95ZzuacEiw1dZSd2sPqdz6lKnkMCQYYNCYNw4FNbD1TB9RxZvs6dgekMc7c7tHd2Di6fQv5NUBdEVs3HSBw5CgGtarujCA1LZKjm7aQbwEcFk5seJPXNzU/gx5ggJoSzlc21cEOGjMS9q1jZ1EdYKPs8Ie8/tZnFF96ofSPjmgOiJteGwxNFb8Alrwt7Mxrow1Al897qUGjR8K+TU37Oiyc2Lydo85TB45iQsJZNm84hsXWfJ/+/hprjtU1V4mCzWED6jizM5Oc6ub9EseQUpnJ+n3l2LBRdngTu9oJeNuUOJ5RlTtZs78EG2ArzeL9N1ayv7mrA6WllIVGEdFnmyKJiIiIiEhP65OtADoSnmpiKxGR7mXw88MYEIDFUkNISPNz32Fj+fJj92D74zu884ufsHfmXOZOHsfQAWGYqKXkTC4Hd21kw9YcSsPG8eBjd5MedvGYFksNxoAADH6X0QoAiJx0Pw8b1rFmw1/YXFyFIXQgw2+4g69Ob5qJHvNM7r9lHSv/8Xs2WCAyLp0F98wkprOhmm8EY0fChqW/JL/GwMC0edw989J0NnLyHSyqW8Xql39GcYOByIQMblnUXHoZNoZZaYdZ+eLvKbj7SRYnz+b+eetY/c7vWVthIzAmmem3zm6aVMtNTEIctk/zsWAmhAgmzssg959Lef59iBw2heFxBo99XC/3vJcYNJP7b/qQFW//lrUNISRNmcKEflnNKwNJXXgnVR/8iz/+ejl1hBA/dh6LhwaC7xjm35jH8td+yQZHCPET0ogPdQbOycy/K4NV7y/lp+9D5PAZ3JAawtGOjMeTgETm3zudNauX8cv3LRBsJnXmrYwKARrBUliELfYG+vs2vRYREREREeksnxkzZjRe1qQhPcA9LPXUFsD18+nTp3nhhReu3gBFpNvV1tZ2ed/yCgsDzR2Ki6QdNrud4uILREdF4u/v8th9ZR6bV69gzfZcKt2fnvYNJ2nqLdx5+0ySXFoAWK02SkrLiInpd9nB6tVRwuaX38O6eAk3d7rStZs4Clnz8iZivvoVJoa0v/m1rqtvtDY2VrH7rb9ydto3+OIQQ6ttXD+crQDcXzscDhwOR8sy59d2u51FixaRkJDQ3ZcqIiIiIiK9UJ/rsdrZCtS+Vo0rItKbGfz8CA8Ppbyikn6REfj5Nb8xF5bIrAeeZtYdpeQczuFsaSW1vkGERcaRMjKRaFPr49jtDsorKgkPD+0joWov4RvL5AwDKz8rYuLsnkp3rwFFmexhIl8a0ud+DRIRERERkV6kz/2PwnVSKmfI6j6ZlSu1AhAR6V5BpkAcdgcXysqJCA9rXblqiiJl/FRS2tjfarVRXlGJKTCQIFNH57AXp8hJ9/NQTw+irzPfxCMP6ncEERERERG5PH0uWIXWQar+UyQicvWFhATh6+dLSWkZoSHBF3uutsNiqaHKUk14eGgfDFWjmfXokp4ehIiIiIiIiPQSfTJYdQ1T26pWda4XEZHuF2QKJCDAH0tVNefOl2AKDMRoDMBgMLS0CLDbHdhsNurrG6itq8MYENCHeqqK9F47dn7Guyvep6KykmFDk/j6Vx9kQP+mXtI/+X+/4kRuXsu2RqORpS/+T8u6ESnJ3HXn4lbHs1qtPPLoE62WjR0zmn9/4nEA7A4H/3x/NZ9s2YbdbidtdCr333cXYaGhADzzg//ifHFxq/1dz+vqH++t5F9r1rVa9ptf/JTo6CgA8k6eYtnf/8Gp/Hz69evHooVfZPKkjJZtXa8vJCSYOTfNYvHtt3m8T+73IiqqH7/95c9arvfpp75F2uhUDhzM5oXfv8gPn32GpMQhALz+l7ewVFl44lvfbHXM7z/3POfOn+d3v/45ERHhra7rSM4xfvjsMx7H4uRwOHh3xft8smUrdrudiRPS+cqD9xEQEAC0f68v9x4dOJjNb//nj63GdM9ddzD/Cze3OW4RERERuVSfCVadj/97Wt7efiIicmUY/PyIiAjDZrdTV1tPdXUNVpu9ZZIfX19f/A1+BAQEEBUVqUBVpBvkFxSy9E9vsGjhbSQPG8qqDz7ktTfe5Nn/eLplm+lTJzNn9iyg6e9hRz14390MHZoEQFDQxUr0d9/7J5u3fMqdixYSFBzMqg8+5OWlr/Ef330KgCe+9U2sViurP1iDpbqa++75UpvnjR08iIe//pWW186Asry8gl/99vekJA9jyTce4viJXJa++gamQBNjx4y+5PqOHT/B3955l6TEIa3Wu3K9F/4G77/6NjY28sabb/P8D3+An5exF54+Q9G5cwQEBLA7ay9zbrrR6/G82bBpM5s2b+ErD95HYKCRN9/6Gx98+BF3LFoAtH+vu+se/ecPvodf88/kqH6Rnb4OEREREelDwaq3ylP3itX2KlhFRKT7Gfz8mtsBdKwlgIh0XUlpKQA3zphGZGQEsYMHUXTuXKttwsPDSByS0OljDxjQ/5L9GhqsbNq8hbu/tLglSBw80Mzy91ZSW1uLyWQidvAgAEJCQ7A77O2e22g0etzmk0+3EmQy8e3Hl+Dn58eE8eMoKS1l7br1rUJB5/UlDklg7boNnMov8BqsduZeVFRUsm7dRubf4rl6c/eeLMzmASQPG8ruPV0LVktKS4mMiOCGSRPx8/XFPGAADrsd6Ni97q57lBAfh7+/f6fHLyIiIiIX9ZlgtaPcJ7RSKwARERG5lowaOYLY2MH8549+wtixaUyaOJ5xY8e02uZfa9a1PG7v+kh/e1wfEXc+Hn6+uJj6+nqGNVeyAiQkxPO97zzZ5Ws4kZvH177xKABxcbH85EfPAVBQeJrkYUNbKimh6XpXrFx1yTEaGxs5kZtHRUUl/dqouHS9F/Pmzub+e+/yuu0D993Fa2/8lYyJ4z2u/3zPXtLHjWH4sGH88aWlVFdXExwc3P4Fu5g+dQrbtu3k+8/9iPRxY5g2ZTIJ8XEAHbrX3XWPXFs//Og/v9+lIF5ERETketengtXOBKWa3EpERESuRYFGI8//5/fJ2rufvfsP8NLSPzF96hS+8uB9LdvMmDaFm+fOBsDUiYnivvzAvSQPGwpAZEREq3Xd+WZ1bOxg/u3hrwEQ0MmqSbvd3iosHZqUyORJE71u73ovQkNC2jz2+HFj+Wz0bt58+29EuF1/cUkJBQWFfOWBe0mIj8fPYCBr736mT5vSqfHHx8Xyy//33+zK/Jy9+w7w/E9+zjcfeYgbXK7hcu91R+7Rfz33HxiaWyOYBwy4rPOJiIiIXK863nSrl3APShWcioiIyPXkRG4en+/JImO1/3qxAAAgAElEQVTieB556Ks8cN89bNm6vdXvRGFhocTHxRIfF0tMdHSHj90/Jrplv9DQkOZlMQQEBHD8RG7LdgWFp/nfF/+P2traLl2DMSCg5Txm88VQL3bwYI4dP4G9+dF4gEOHjxAbO6jltZ+fH2mpo3ju+98FYOyYtJaA0BPXexEZGeF1O6cH77uHo8dOsH//wVbLP9+dBcAvfv07HnviOzQ0NLDzs8yOXbCL3XuyOH3mDHNuupGnn/oWk2/I4NNt24GO3evuukdxsYNb7ktAgFoCiIiIiHRFn6pY9dQ/VT1VRURE5HpyoayMV/70ZyorqjCb+7N9xy76RUa2qnKsqKgk7+QpAHx9fEhIiPe4zmQKbFWteO7ceUKaqzqDTCYGDOhPQIA/s2fN5N0V/6SxsZHgoCBWffAhERERmEymbr22G2dM46P1G/jDS68wY9oUjufm8vnuLJ781jdbbRcfH0vysKHcc9cdrP7XGubMvpHgoO7p8RwZGcGXFi/krb8tb7V89569jByRwlcevBeArdt28tH6jdTV1xNoNAJQX1/fcm99fHwY4nLfnQ4dzmH3nr3cd++X8MGHIzlHSRudCtChe91d9+hUfkFLO4F+kZGEh4d1x+0TERERua70qWDVE4WqIiIicj3JmDCekjtL+WDNR9TU1BAXO5hHlzzcaput23eydftOAAwGA3/6vz94XDdq5Aieefpi/07XMDEtdRRP//u3AbjrS4vx9fXln6s+wGF3kDY6lQfuv7vbry0yMoLvfedJ3v7bcv7v1dfp1y+SRx7+2iU9ZJ3m3DSLtes2sPaj9dy5+PZuG8ec2bPYvvOzltcVFZWcyM3j248vYaDZDMD8L9zMmo/Ws3//QSZlTACg8PQZfvzTXwDg6+vL66+8eMmx77nrTuobGnjjL2/T2NhI6qgR3HXnopb17d3r7rpHP/35ry+e885FfHH+Fzp/o0RERESucz4zZsxo9PXtOx0BPAWprsvce6s2NjZy+vRpXnjhhaszQBG5Irr6uClAeYWFgeaYbhyNiPQGHXlz1VPPdU+/Kzg/u344HI5Wy52vHQ4HDoejZZnza7vdzqJFi0hI0CRAIiIiIiLXg76TqDbrzokTRERERERERERERLqizwWrIiIiIiIiIiIiIj2tVwerbT2252kbERERERERERERkauh3cmrGhsbu+Xx+84cx7ltX3rs/2xRcU8PQaRHqYepiIiIiIiIiFxP2g1WvYWbnoLStsLTzoSknrb18fHp1dWpCpVERERERERERESuH51uBeAMN72FnyIiIiIiIiIiIiLXug4Hq94C1cutIu3o/r25WlVERERERERERESuL16DVfcg0zVQdV3nKWj1NOmUN+1Vuba1v8JWERERERERERER6Qleg1VvQar7Ovdt3Cedupzg1H1/92Op9YCIiIiIiIiIiIj0hJZgta0q07YmjnKvUPW2zJvOhKNtTY4lIiIiIiIiIiIicrW0BKvulaGeglZPn50Vqu77ewpju+PRfT3+LyIiIiIiIiIiIj2tQ60AXMNT16pR93YBnal0dd2vM1SxKiIiIiIiIiIiIj3NYysAV56We1rmXrXquty5j6e+ra7hq6fP7hNlqWJVREREREREREREeprHVgDu3ANPb8vc17m+7sxkWN4mrOpsqKoQVkRERERERERERK4Eg+sLZwDqqUrUU4Wpp9fOZW1xrWJ1PYa3Y3f18X9VuIqIiIiIiIiIiMiVYIBLK1Hdg0/wHLC6b+/K03L3fd2Xu6+73FBUoaqIiIiIiIiIiIhcCV5bAbhXkHp6vL8jX7sfx1NA6zoxliddXa6JrkRERERERERERORK8HVf4B6muvc79VZR6u1r98f5vVWytrW/t4C0veWqWBUREREREREREZEroSVY9RSmuleReuul6ingdK1CdQ9nPfVWda9adf3c0YC0s71eRURERERERERERLrCa8Wqa2jaVtUoeK4M9VSF6ql61dP27ufqbEDqrX2BiIiIiIiIiIiISHfw9fbYfnuP57svc+UpiG2rutV9eVv9XDtDFasiIiIiIiIiIiJyJfh6e+zfqa2Q01OvVNevPQWbnqpSO/O4f1tj6+x6ERERERERERERka7whfZ7qXp67S2Idd3eU5/UzlaytkUVqSIiIiIiIiIiItITDNC1yk73itSOHMNTf9XL6YfqabKqXl2l2ljJia1b2JpzjhqCMKdMZs70RMKUD4uIiEgHlZVXcvjocerq6ru0f2CgkZHDhxEZEdbNIxMRERERub5cMnlVR3nqw+q+3hNv+7Q3QZb7MTqzvHewU7R9LR8eOEMlARipovDAelZtP4e9p4cmIiIifcblhKoAdXX1HD56vBtHJCIiIiJyfTJA+5NRObfx1i7A0wRYbR3D0zbewlZvyzt7/Kup5tRO/vVxNkU1niJTP4bedD9fYBOvfJRH2b73eWlf6y0MIQNImzmP6UNMV2W8IiIi0nc4Q9XZM6d0af9NW3ZcVjArIiIiIiJNfOHSKlLX4NJTiNnWMm+P9ruGnR0NSzsTjrpeQ49WrjaeI/OT/V5CVQA7Jz5Zzlsf52HzsoXNco6sT3dT1JsLcEVERERERERERK5jBucX3oJPT4Grp+DSU/9U9/Vt6Wylaa997N9RRXUN4BvHvIfnk+Lfyf2tx1n92iZOVtdS7QD8rsAYRURERDqo4PRZTp85R11dHUZjAAPN/UmIG9zhFk6f7shk9MiUHu3pWl1dw67d+7xW+drsdj7bvY/hQ4cQHdXvqo5t996DmAfEMHjggG45XnlFJdlHjjFxXBpGY0CPH+dKamxs5ONPdzJ54jiCgq6vJ71OFZymvKKKsaNHeFzf2NjIsRMnKTpfQr+IcEaPGn6VR3hlnSk6T96pAmiEqTeMZ392DiHBJoYmJlz2sdv7eXGlf6a1973tiAtlFRzKOcb0yRO7cWRd0x3XIyLSm7XbY9U1LG2rp6rrNt6O0d55OhOWuh+zo7/c95jGdj6usvrcTbz+f3/lo9wGD2tryVnzZ/7w5hZOXvUnBSvJeu8VXlmfd0nv2cLNf+UPL/2ZTafc1tjz+OhPr/D3PZWXd+pTW3hl6Qccqrm8w4iIiFwrThWc5lT+aYYkDCZjwliGJQ3hTNF5juee6pHx1NTUsmnLjnZ/Z9y683MulFV0+Lh+fn4MiIkmKCjocofY40yBgQyIicbf39D+xlfhOG3p7PdJOq7kQhlF54sZO3oEyUOH9PRwupXVaiPn6AmSEuJIH5uKj48PMVGRRISH9/TQRETkOmRor1K0M71PvWmv52pb23RWr6tkdVagOtrZzlnhelUGBcakKUyOfYeNOz5jbMJ0zC6VsfbCTHaegqFzMhhivEoDahFG7OAIth47TXFjImZnXt5YQuGZWgDOnC6DhOiLu5w/TZEtlKGxmt1YRESkO50tOs+woUMw92/6dzc4yITB4MfJ/NM9PLLu5QMMTYzv6WF0C6MxgGFJl1+1113HkZ7R0GAlOCiI8LDQnh5Kt7ParDQC5gExLcU1g7qp4ltERKSzuvQWdHeGoO4hbUdC285MsiXemBg1bTzZ72by6b7R3DU+omlxYwmZ249RM3Ay05N75pGqmFgzwXvPUVgO5sjmhdVnKKgMICwUqs6eoZJonDHqhbPnqAwczJCoHhmuiEgnWCnJ3kGWJYnpN8TSbT9lHZXkbs/kbEwG01L0JpN0Hx8fH+rrWz/dEhkRTmTExcqwxsZGck8WcPbceRwOBxHh4SQnJWAyBXo8ZmWVhWMnTmKxVBNgDCBu8EBiB5kvWV9lqSYgwJ+khDjMA2IoLr3AgewcAD7+dCfm/tGMGpHc6tg2m40t2zMB2HvgEEZjANNumNCy/kJZOTnH86ivbyAiPJSRw4e1PObu+niv3eHg2PE8zheXgg/ERPUj5f+zd+fxTZ5novd/1r5bsiVb3vcdAwYMZgmhJKEhE7JvTdppJ50202ZOmzntzOmZOXOmM6fzvl2mnXZm2r5JT9ombdMkTUgT0kATSEhC2AwYMAZv2MarvMuyLMnW4vcPy7Ysy5ZsSID0/n4+fLAePdv9bLYuXfd1F+QikUTu7NXe2U17Zw8+n494g47iwjzUKlXELsW2vn7aO3pYv3blzDS/P8C5C40MDA6jVCjIzkwjxZoETHVLPnG6lqKCXJpb2gn4/aSnpWAxJ1DfeJExlxuDXkdZcQFKpWLeNqO1JdZ9Dz3Pfn8AY7yewvwc1Kqp89zZbWNwyI5ep6Wz2wZMkmpNIj83e97xWuw8ORyjNLVcmjn/GWkpZKSlRDzu01weD3X1TYy53Oi0GgrysucEFKNdc+GGhkdovNiKxzOOWqWkIC+bBJNx3nHw+fwkmIyUFOYil0/V/5qY8NLY3MrQsJ04SRxJlkTyc7ORBo937flG1Colo84x7CMOqtatRqVSRr2HOrtttHd0M+H1kmxJRKWKfH8BnK9vwtY3AEwNVpeXk0lWRlrUY/v+kWpysjLo7LYR8PvZFHLvAPT2D9B0sY3NVeuYzn3weMY5fPwUGysrUKtVUdsf3o1+fHyCD46dZOumSmQyWcTjE3ocum191DdeBKaeAwkmI6vLS6g934hOqyYnK2Pmniktyqep5RITE14SjPGUFOcjl019/LWPOGhp62DU6UQmk5FqTSYnK33BY7oYW28/be1djI+Po9VqyMvJnPOM7O7ppaOrB7dnHLVaRW5WOhbz7AeXaOc22jM20jGbNjg0TH1TCz6fD5PRSHFBDgqFYt56I93T0fZ9oXO1lGsVwO0Zp77xIiOOUeQyGRnpKWSmp847vp7xcbQaNcWFeeh12pjaMP1cUqkU2Gz9FOTnkGpNWvIzQRAEYTGyq9WFfjoAGh4EjSUoutQM26tKns+uv8qPfX7vh7cr85jK2FZez0unjnC+cCelOnCcO0rNsJHK+8tmApeMD3D++FFOXexldFyKJiGNorUbqMqdnsNBzcu/o8ZyO49uDfm2+NJ7PLXPwZbP3E6pBvoPv8hLPTnsyB+luqaVYcVK7vtUJZbwSzA5gzRZEx3dbtaZpsIO411dDEiT2bJGxpHDXfSMr8SgBJjA1mVHlryKlGDWrevSKd4/0cClARd+pR5rdhkbN5ZhVYbu1xiVtyTTefQsnaMmtjxyJ+XzDpCfoTN7eem4i6Idd3Fj1rVZX0wQhCvHe+yn/PdfnoOVj/DdL226coHPac5qXnjyBc55Exk0/wsP5V2Z1XrP7ua/flONW9mB5nufo2Kp9b0FYQGZGWk0NF7E4/GQZEkkPt6AJOxvx6aLbQyPOFhZWoRcLudSRxc1Z89TVbl6XiDS4xmn5ux5sjLSKCsuYMzl5nxDMwDpqdaQ91MpLc5nbGzqfYlEgsWSyPo1Kzl+6iw3bl4fMcgpk8nYtmUDh46eoLS4gATj3K7BnV02yoryiZNIuNB4kaaLbRFrTzY1t+L2jFO5ZiWTQH3jRdrau8jNzpg3r61vgI7OHlaWFqJUKmnv7OZCw0XWrCqL+Ti3d3SRnZlOXk4WjlEn9Y0XkcmkMwGMgD/AsN3BhrUrcY65OFN7gcGhYcqKC5DLZZy70ERLWzslRfP/5lysLUvZ98bmVkYco5QHz3NHZzc1Z86zYd0qpNKpP8LsIw4Meh2b1lcw5nJzuvYCer2eZMvcb78XOk9uj4ea2gtkZ6ZRWpyPy+XhQjCItlhw9WLLJfJzs9Bo1Nh6Bzhde54N61ajUiqjXnPhPJ5xzpy7QGlRPiZTPENDds5daGTT+rXIZNKZ631FSREKhZy2Sx2cOnueDWtXMTk5yena82g0atZWlBMIBGi62Mr5C02Ul832S+u29VGUnzNz/qLdQz22PlrbOigpykOr1dLXP0B7ZzcGfeRs1JKifPR6HbbeftauXkFcXFzMx7ar20ZxQR7aCDVrzYkJ1De2MDLiwBg/9Tmgb2AQg16HWq2Kuf3RhB+fUCnJFgw67aLPAZi6Z/r6B1mzagVMTnL2fAMtre0UFeQyPj7B6doL5GSlU1ZSgNs9Tu35enRaDRbz0mos9w8M0tDcSmlRPnqdloGhYc6cq2fd6hXodFr6BwZpbm2npDCPeIOOwSE7dfXNbFqvR6FQxHRuY3nGhh8zt2ccn89Pe2cPK0uLkEiltLS2c/pcPZUV5cTFxUW9p6Pte6TtLvVahakvV8wJJsqKC3C5PZy70Ihep8VkjKd/YJDGi60UF+Sh1+voHxji1OlzU/e3ShnTc2nYPkJmegobKlcjl8mX/EwQBEGIZs5voo8yyBo62NVyhC87HVC95mutXlOkWNZuoVTZwdFj7Yx7Wjlyshv9ii1UTP9NMWmn5o3XOdAK+eu3s/PWLay0ODj75qv8scm95C36huo41KJh5c23c9+tK0iIdLrkVjKSob/bFqyz6qe/awDMmeTlpGIJ9NJlC9ZZ9dvo6AdrZhpSYLztPX639yzDxjJu/OQt7Fyfg6zjKK+8Vk1/aGnWyW6qj/eSUrmD++6+kbwI0RPHhbf5/dFR8m/aJYKqgiBcGboiNm1dQVHljaxfXmJMRPL8jWxbW0TFTZXkiaCqcAWlJFtYvbKMCa+XM+fqOXTkBBdb2/EHpmoc+Xw+um19rCwtwmDQo1arKC7MI04SF7F2Zme3DYs5gezMNFQqJYkJRgpys+ix9c28n2CMJzszHbVKhTnRRHlpITKZjDiYCSJIJJIF/+aTSCRT/+Ik84IueblZGAx69DotOVnp2B2R67N7xseJD7ZHo1axurwkYlAVpgJxarUKg0E/031+9crSmI7vtPh4A+lpVtQqJcmWRDLTU+joss28PwnkZmUgl8sxGePR6bRYzAloNGrkcjkpVgujY5GLxC/Wllj3ffo8lxTlE2/Qo1GrZrJee4OZkQAymZScrHRkMhnxBj1J5gRGRiIf40jnqavbhsloICsjDbVKNXN9tHd0L3r80lKtJCaYUKtU5GSlo9fp5lxTi11z4cYnJpBI4khMMKGQy7EmW9hctQ6ZTIrP56Orp5ey4nyM8cHjUJhHqjUJv9/P4JCd8QkvpUX5aDVq9DotZcWF9A8O4XLP/t2cZE4gOcmMQiHH7/dHvYc6unrIyc7AnJiAWqUkKyMNnVa74PGIi4ubPb7BeyXWY5uVmYYxXh+xtq5UIsGcaJrKfg7q6x+cKRUSa/ujCT0+kcbViOU5MAnkZmeiUipQqZRkpKVgHxkFCGZIryErIw2lQoExXo/JGM+IYzTmfZzW1tFNYV42FnMCKpWS9FQryUlmbH39AFjMiWysXI3FnIBCMTX4n1QqxeEcA6Kf21ifsZGOWSAQoDAvG71eh1ajprS4ALfbjX1kNKZ7Otq+R9ruUq9VmMpaNieaUCjkGOP1bFxfMZPx29bRTU5WBkmWRNQqJZnpKRQV5BIIBGJ+LimViuC1oEQqlSz5mSAIghDNnN+YH3W255Xc3jVbAsDbzBs/f5uL4SMxhZPmsOPRWz6yGqsz5KlUbcrn4lsf8IYTOiXF7FqXzHTJ1fHmaqp79VTet5Mq89TU7KxMTIEX2HP8DKvyq2broMYiLo2q26ooWrR2q5r0NCP+umCdVYbp7JnAVJSGRiMhO+EoZzsHICsZBrqxTRgpS1UDA9QcrWc8ZzsP3ZTP1CYyyU5R8rsXqznasIJdpdMRVAVFW3awLl0acQ9cF9/mlfcGsG77M7bn/mmNMisIwocpkYr7vkTFlV6trog7/vIj/w0i/Ikwxusxxhfh9wfoHxyipa0dl9tNeWkRzjE3gUCA6pqzc5bx+wN4xuePgDnqHGPYPsLA4NDMtMnJyZlAyahzDEuiac4yJuOVG5AmNAtPKZ8KakWSkZZC7flG7CMOEkzxWMyJETP4AKxJZrp6bBw9cRpzgpHEBNOS99mg14a91ge708+aLlkAU3/3TmdjwVSAKeCPXNB/sbbEuu/OMTdxcXHodHP3M96gYzQkyKIO6/Irl8vxemPvjjXqdJFgmrv9eIOe8YkJJia8KBSRvzky6HXzlnGOuYPrXPyai7Qug17P0eoaEhNNJJiMM9ekc8yNVCqdEyiSSiQzGZ/OsTH0Ou2cdSuDgb1RpwuNWj0zbVos99B0uYfw/XQuEEyPJNZjq1QsPsCCNcnMhcYWCvNz8IxPMOocY2VZ8ZLaH03o8bkcoSUE5HIZ/sDs/e4PTNLT2YNzbAy328PoqHNZdVpHR51cGHXS1NI2My0QmMScMPsc84xP0NltY8zlxuVy4/V6CQS/nIp2bmN9xkY6ZhKJBI12dkA+qVSCVqNhzOUiLi4upnt6sX2PtN3lXKuZ6amcOVdPYoIRkzGeJEviTOkIp3MMU+Hc7j3WZAsA9pHRmNqgVMzdx6U+EwRBEKL58Ib5vILCg6aRAqjXZFD1OqHMW0fV+d0c6Jg/YFV/RxfjiSspNYcGIBVkF+WgbeyicxisS+gxIzMYscQwIJYhPQ19dddUnVVpNx1ODekZU7Wt0tM0HO3qxUEydHXh0qeRZQQc3XTYFWRV5TBnE6YCiq1HOdRhw1+aEwwam0hIWCCo2nGI3e91kbBlF7eJWoXCnyQf9pEmTvY1Uztqp89jZ9jnZgwZJpkRk0pPuj6bNckllBt0XBMJks5WDr66h3drWxgY9SKPz6B4w07u2bUKswS4tId//u4+bEm38vf/uIuM4N/O5375t/z4mIuiB/9fntg2934fqH6R5185TLtTTnxOJTvvv5vN6VOtHTjwff7xpRasO77IHRzmtcMNDAQM5G28l0/vSqZlz4vsPdbCgFdD5prb+cynNmGVA4E6fv0/fsIHrlzu+ZevcUsiEHBw7s3d7D1cR/ugC1SJZJZt4o57bqXIeBntC1+v3kreqpu4965NZAQ/286049Yvc6/8MK+9V0ePS465cCv3fmoXKxatXe1l4PQ+du+rpr57EK88kZTCSm6+81bWW4NXRZS22fZ9m39+tQNZ2SN8969nSy/MTF/9F3z3sXVXviSDsCxSqQRrkhm9TsuxE6eZCAbM4uLiWL9m1bz5ZQuMJp+Znjq/u2XIl7TXwl90iQkmNm1Yw8DgMHb7CCdOnSU/N5u01PmBF5VKycbKCgaH7AzbR6irb8JkjKcsrP7rjAgNnP9n7JU7Cou1JfZ9vxbOysKilRaLds3NmRwXR8XKUuwjDoaGR7jU3knrpQ7WrS5n6jhc+WMRyz20nPJpH4YEk5HJyQD2kVFGnU5MxvgFA96xuBqtGHWOUXO2Dos5kQRjPJpU67wvMpZi1YpitBrNnGkSabCLfk8vza3tpKUkk2xJRKPRcLaufs680c7tUp+xi5mM8NNCYtn3iNtY4rWam51BcpKZwaFhBgaHaWlrZ3V56WyAdsHll3/1LOWZIAiCEI3scrvkL8Vys0ovZzCrq06ez22PXaM1VmcYyMs1c6BLSt6c7Ew/Y54JZFoD8zpwaDRomGBsfjJKFJGDmfMkZpKqrKOjx015XBcD8jQqp3oZYclMQ1nXRaenGLrtKFMqp0oKTIwzjoZ4Xfg2FOg1CvCM45veg7gF9sTfzZED3YAUpduHP/Y9FoTrX8BJbcc7vHzpHLUTkR9GYxNOOl1QO3SBvZf2Ilekc3P2J7gvPQfjVfui38ZbT/6I3c1e1Okr2FCuZqT5NDX7nqJ9/Cv80wNFSw7++rr28WSDG3lqBil00NH4Lr/+90H4+y+xOSTYOFL9As8rrWRmWRm50EHDgV/w4wsGRrxm8rKsuBo7aDnyG56Mz+Sf7ozc979lz4/48T4bxOdSscmKrK+Bmuo9/FcP/N3/vJUMyXLa56Dm1//GU0cGQZNI7opc6Gqg4b3f8N2WQf7m73aRG7LQyLHf8HMSycspguZzdNTt48mnNfzD393EQtXGBo79ku/98jQONCTmF2F2ddBweh+/aLXBN77AemMMbVtbSe6eDlqa66h1b2K9GmCQ2rMdgIbyNWUiqHoVjU9McOzEGdasKp2ToRfw+6e65cdJ0GqnzlBgchJNSHbY0LAdo2L+l5M6rYbxiQlUqtmvQMdc7pm/RfU6DcPDI3NqPg7bp7q7mozxH9kH3zGXG5VSQao1iVRrEh1dPXT22CIGVicmvExOTmIxJ2AxJ5CaksTxk2cpzMtBEswq9Xp9M12r3Z4Imbyjzjmvh+0OdFrNvPmudFsW2/dQWq2GyclJRh2jGIKDQk1OTjLiGJ0zyMzl0us0DNsdZGWkzUwbHnGgVCgWDd45Rp1zBquyjzhIDGYMRrvmwvn9fjzjExjjDRjjDeRkpXPo6EmG7XZMxnj8/gCjzrGZwXP8/gA9vX2kJFvQabV0dNnw+/0zGcVuzzgezzh6XeTzGcs9pNVosI845g3IFZq1HM1yj224uLg4ksyJ9A0MzsvyjKX9UokUr2/2bwyPxxPztq+UgcEhDHo9JSGZkOPjE8gWyEpfjF6nZXx8YuZ6AxhxjM5k59r6BsjKSJ057oFAYM6AgNHO7VKfsaECgQBjY2Mzz2+v14drzIVOq4npno6275Es9VqdnJzEOeZCr9Oi1ajJTE+ltq4BW28/Br0OnVbDkH1kTlaqrbcfg0G37OfSUp8JgiAI0XykGasfVgB0+iF4TQdYr0tSlCoFvmEXY8CcX90uFy4UaOekhoZ1p5v0Lf+LRGkyWclSDnR10SnphZQtM4NTkZyBNe5dOrq6oA+sN1ingp8KJUpcuJx+mJNhO8GoawJUyugXvERB3o33UOl+h5eOv8Uhy72ivqrwJ8BHX9/7PNN4lKOepX27453oZG/jr9jfXsAdhTu5P8n40WewOltobPGCfAUP/fcvTQXnnHXsfbUOl8mHG5a+T8NyVnzlf/JQkRq8Nt76j2+zu/kcrx1oYPMDs13u3cpK/vrv7yZXPptlaRtfwRP/+ABFSnAc+g/+4TcN2BoaGCAd87wN2Wi4YAM0bP7M1/h0GcAgNa/uoyGgwesCWEb7Lh3gtRHclvIAACAASURBVGODoCziwW98hW0WYLyV1/7t39jbeYDXPtjEE9tmI8Ruynj8Hx9hhRroP8D3/s9uWi5VU2O7iZ2RIqveOva9choH8VR87ht8cYMBcHD8/36bX5w8zf6jNtbfSvS2WVazOnc3Lc2NnGvwsn61HOx11HUCmkIqV4iw6tWkVCiIN+g5d76R3OxM1GoVzjEXLa3tJCdZkMmmftemWpOou9BIQV4OSoWcblsfXT29bFxfMa9rZXqqleOnznKpo4skSyIezzj1jS1Yk83kZGWQlmrl+MkztLV3kpxkxjnm4kLDRYoLcoGpruVxcXH09PaTaDIu2GVYqVDQPziISqlAs4xgyfn6JnRaDdlZGfj9fvoHhtAu0I25vbObYfsIJUX5yKRSunv6UCgUyGRSZHIZSqWC5pY2crIzGHGM0m3rRS6be9c6nE46unowJybgcIzS0dXDipL5g2otx2JtWWzfJ0LiJ3KZjNSUJM43XKSkKG9mAJ1AYJLkpPlPtliFn6fp8996qRNrsgWXy03zxbaoo7X32PpQq1VoNWq6unsZc7lZUTr1rI52zYUbHnFwvr6ZFSWFaDVqhobt+Hw+NGp1cPT4JM7XN1NUkItCLqO1vROn00V6qpXEBCNKhZzz9c3k5mQSCARoaGqZqoe7wPUjD65zsXsoIz2FxqYWNBo1Oq2W3r5+3G7PvC7Qi1nusY0kOcnM2boGJgMBkkIGe4ql/fHxei61d6HVaPD5fDS3XFry9i+XRq2mq6cX+4gDlVKJra+fEcfoguU+FpOZkUpjcysyuQyDTofd4aC+sYVVK0owGQ1oNGoGh+xTpQHi4mht65izfLRzG8v1sRCpdGqwtbycrODPrWg0auINeuLi4qLe09H2PZKlXqs+n5+Tp8+Rn5uFJTEBl9vDyKiTbFNa8PhODaCoUirR67X0DwzR0tZB1brVy34uLfWZIAiCEM11UQog1ELB0+np11xw1dvMnqffpi1S2StJBjs+v5Oia6IfbWQpGWkom5poHFjJupnfTxO0NbQyps0h3QSgQqOE8REH46QGu+H7sXUNMM5ysy2kpGSa8VefoVrix1qRNtu9X24lO9nP0dNnwZtMZVrwQ5U+lQzjUc43tDOeHVIOYKSJepuU9OkA7GLizGRnGbBodrC99yXePHAAy307KRUVAYSPq0knpxqe44edNsZCJmtV6awxl7DWnEOOVodJqUOLB/u4k+ExG7UDFzja10xDMLPV62ni5bMdnEu/m78rKsD4UX7pr0kkMR4YbuC1p19hZE0heQW57Hwk9hG558naxM1FwQ9YcivbPlHGa82ncTS1YqNo5penOqtwJvPTarUiowNfWjqZwQeQIcWKhgYcXi++iBuKx2rWwCUXx3b/DHV/BUU5ORTveoSK6c9KgaW3z3ahAVsA1CtvZLMlOFGZw7bNRex9oYGLFxpwb9s0M7+6cDUzMczEIooSocXmwrXQWCOdjdSPAImV3Fw5/YA0sP4z3yD3Ti+oDYAvettIpGJtLq81t9BQ14h3dRm+c3Vc9IJ69XpEXPXqW1FSQEtbB00tbUxMeFEqFaRYLWRnzgZjCvNzaGnroO5CIz6/H71OS8XKUuSy+X9mqtUqKlaW0txyibZLncgVcqxJs+tTq1RUlJfS1HKJtvYuFHIZ+blZJAVHlZfLZBQV5NLS1s7wsJ2yBYKPRQW5nG9opn9giC1V65bR7kIamls5fvIMcXFgTjBRkJ8Tcd7c7AwaL/qpOVuH3x/AoNexurx45ov/suIC6hsvcrT6NCZjPFnpqXTb+uesIycznWH7CBdb21Eo5BQV5C55dPLltCXavocqzMuhpa2d2vMN+P1+jPEGKlaVLilrMlz4eVKrVFSsLKPpYhuXOrpQKORkZ6WTHpLBHElhfg5NLZcYG3Oh1WpYXV6CKhh0j3bNhTMnmMjOTKe+6SIT4xOo1SrKigvQBjOIC/NzuNjazrkLDfh8fkzGeCqCA37FxcWxuryUxuZWTtTUIpFMZXfm52VH3f/F7qGUZAt+n4/G5la8Xh/WJDOZGakRB4hbyHKPbSTGeANSqYR4U/yc8x9L+/Nzsqirb6L61Fk0ajW52RkxdS+/kpKTzLg9HmrPN0y9tphJtixa+2bhdVnMTAYmaW3rwB0cDK6kKA+Tcep3Y0FuFvWNLZyoqUWukJOdkcbo2OxfXLGc26U8Y0MpFHIy09OoPd+Az+vDZIpn1YrZ+zvaPR1t3yNZ6rUql8tYWVZEc2s7zS2XkMunAslpwW76yZZEAoEALW3teDzjaDRq1qwqm8k2Xc5zaanPBEEQhGiuu8DqQuUErtnBq65zyvxKKs/+nqNvvI5vXRlWLYy2nuJII+TdtDY4cJWCjJxkeP8obxyGiiwN4x111LSNI1t2YBU0qamYPCfoJ5GN6aGfrtWkpxsZO9IL5nWkTW8izkxFVTEN+97llbdHqcg1onT3UnvqLAOmldxXtJRP6GqKtt+E7aXXefePp7DcswaLqAkgfNxM2nm/9lf8uG94pgqJXJHDztxbuC/Ninbe52oVRrUKo9pMjnkFdxR5aO16h2daTgdLB3ho6Pwt/+S9h39YsYKkjyq4Kinizs/fg+P5fdTU7Wd33X4AZJYV3HL/I9xRvvRvRmTx8YQO8SGPNxMPDI67cQVCMvgjJIos7RermooHPsdO724OnjvN/hdOsx9AY6Xi1k/zmVtyUC+jfS7n1CARGlPinGxWg9GADPCNuucE0ue1I1pZB+cILgCDAUPovEoD5ulALvLobQPMqyvJ291CQ10dLYFcRuoa8KGhYk3ptVG/90+cVCqlIC+bgkUCQ3FxceTlZJKXkxnx/Rs2Vs55bdDrWLNq4S8GDAY9a1evWPD96S7tizHodVStWz3zWqvVsH3rxnnbuXHzhoj7qVarWF1esug2pkkkEooLcmeyasMZ4w1UVc4dsi40mDXd1oUGzom07+HHJ8mcSJI5MeL8i7VlsX0PX8/Uec4iLycr4rrSU63zahbm50aed1r4eZqettj5DxUXFzezj5UV5YtuZ7FrLlxmegqZ6ZEDjnFxceTnZi3YNoVCzorShbONyyO8F+0egqlrJjwImrFIUDQtJZm0sGsq2rENv1cXI4mTRMwKjNZ+pVIx71yEXmeRjk84jUY9754IXS7SPWNOMGFeP9tdPzszfcFAWqTlQ4UfJ2uyZWZApXBSqZSykrk1i8Pv9WjnNtr1EemYJZji2Rh87mzesDbictHu6Wj7vtC5Wuq1mmAyst5kXPD9lGQLKQsc3+U8l2DpzwRBEITFXHeB1WiuuQCrPJ9df5UfuUv89VDGJc5Ixe23ozx2lFPH36ZmXIomIY2VO26hKqQeq6bsJnaOHODd8++xp1aNJXcN26q0vLbfsfxtG9NI15+gnzTSw37XGtLSMEkG8aelEZrPoczeyv07dbx/oo53/ziKX27EmlvF3VVlSw+MKlPZ8sl19L1ygjfeN/PQtkxiGHdLEK4THmobfjsnqJpk2cnfragkJ9Z7JU5FTvpOvmmtYG/t73hmcGpdnb17+K5cyz8X58yvz/whUefdxBf/4Sa8DhsdLS2cO3GAt06eY+8vXyDjW1+gYrpNfl9IKWvvnDpvoXzDI4zATNd999AAIwBKNZorXUvWUMYdXyrjDvcgHW2tXKyvZv/+c9Ts/hmGzP+Hh4piaF/YKjU6DTCIa3gQL+kzAUqH3YEPkOnVaIHF804WoYlHA7gdgzgCTA2gBeB2MDDiAk0iZoM8prZhXM3q/N00NJzjXEMuI41e0K1mfYkIqy5EJpPi8/l5+70jy15HaG05QRCEWLncHvoHBplkck5dUUEQBEH4U3VdBlYjBU+vqWBqJNd4EFVZdjv/baEv7ZRmSrfeTunWxdagJnvT7WRvmjv1i7M14bFseoAvLWWn4pLZ8sgX2RLpvaQqPv1XVREX02St4ZNZaxZeb9ZWvvhYbNOl5jXc/4VF1iUI1yl7zx5+0tkfDDLKKcq4b6oL/3JWJrOys+IvSK9/ju912hjDS2vnKzxj/CJftuqu6H5HZDvBy2/UYJOV8eCnN5G72kpuEXSc/Q3nPA4GXIBaM5U/P9hAQ7eX3HQ5DFZT3bBATdmOw+xv2BSssdrJwffq8AGGghyswMCV2vdAJwd/u59Gh4bKRx6goiSRjJIcvE3n2N3qwmH3gu1M9PaFsZYUkbing8Gz7/JB/6qZGqsHP2gA5GSWFKFmCYFVRysfHG4hfu1WVljkkFlIcfx+PhisZv/Rm/jipkTAQc1vv81T1SNk3PmP/P0OX/S2IQcMrFmTy8sXGqh5dT8uFxg2VlIk4n4LKi8t5kJjM54IgyDFQqVSUlK4hIE1BUEQgk6frUMikVBWXIBEDPYjCIIgCNdfYHVycjJi3afpYOtVD7BK9Gg1gLODN3/2FG8udz16NdqrNsK2IAgfa94mnmu6QF/wZZL1ruUHVWfoKC9+mC97n+J7vU7AyYHmd6gy72LNh/2bxqTH23aac/2nae+uozxVzkDraRq8oC6ppCIRoIzVuXtoae7gtX/7J2pSDYx0O5AbNOCMEJk0wbmf/m/+OdWK3N5Bx7AXNEXs/ETR/Hkvh8SAxt1IzdkRars6KC+0Qn8Dta1AfBmrS+SgjKF9zrD1Zt3EvZU1PHWsgRe+/b+pzjHj7W6hYxhk6Tdx78al1ZI79/uf8OsjLrgg5zt/sxWDvIxb71hB7a/OUfOrb/O/DmUQ7+6gxeaC+NXcXGUFiSN624IMK9dR/FID5y51APGsWVsoygAswmQ0sGm9+NJPEISP3qYFupULgiAIwp8qSaQg5bUuUvB0etpVb09cMpVbSrFqll+QU6ZLpuKG6fqlgiAIV1Zn+zu8Nz3as6qSL5eUXFZQdWzoHLVuAB1VJXezUxV8w1PDSx1XLLdzYcoiHvrql9m5Nhd5fx0fHDtN+7iVFTc9wt98YWuwO7+VWz73F9xcZkUdcNFjh6K7vsC9C4yOJMvYyWOPVKKxd9DhlJNYuIlPf+ULU5mfV5SB9Z/9Cn+xYzUpARs1xw5Ta4PMtbfyxSc+x3pDrO2bv96KP/86j99ZSa7aTfuFBnq8iRRtfZC/+eoucpeYDWrNLyRRE09RSS7TR8y86S/528dupSJLzsilBtodcjJW3sxfPPE51htjbNvM7lawenokR9NqKgtFWFUQBEEQBEEQhGtf3A033DB51YORS7RYYDX0vemfu7q6+MEPfvDR7JwgCB8Kt3uh4cmjs484SbFe8YjY9SnQyv899Cv2TgCouGHFV3jCqoq21ILGBt7iX2uP0CIv5/G1d3ODGsZ6fsdX6i5gB1BU8s0tOykXGfjChyCWXiqL/X0Q6f/Qf4FAYM706deBQIBAIDAzbfpnv9/PXXfdRVbW4gP2CIIgCIIgCILw8XDdfNRd7MPTQuUBBEEQhLm8Q+c4Mp2tqqngzuTLD6o2+MHrqeVnddX0AVrrRrZOr3biAseGfJe724IgCIIgCIIgCIJwzZFc9ZqkMVoscBppMKtp10v7BEEQPgotA21TmaRATlI5Ocv8Tio0qAogV5XzhbJKkgDi0tmaPJ0h7KR20HZ5Oy0IgiAIgiAIgiAI16CPRcbqYkQmqyAIwjQnLaPDwZ91lCdYl7WWSEHV6TIA03JM6VNBVqB3tGcmmCsIgiAIgiAIgiAIHxfXTWB1sQBpaNB1er5INdUEQRD+pE3a6RsP/hxnIV239FXEElQFQGslOfjY9nrs9IpHsSAIgiAIgiAIgvAxc90EVqdFqqca+no6kDo9TWSsCoIgBE26GZsudxqnQisLe9/dxPtDngUXjzmoCqBUY5z+OeBhIsIsgiAIgiAIgiAIgnA9C/9Yfc2LVE9VZKUKgiDEaKHHpfscPzy5m/e9VjpW/TkPJ8wd1CpaUNXn9+NxjzMxMYHX5ycQSOaBsr/izoCPfq8XzZgLn1qJTCr98NomCIIgCIIgCIIgCB+h6y6wGisRbBUEQQgTp0YrB/zApGcqe1UBYGdv3R7e9wDYePnMsxASXF0sqOrz+3GOjjE+MYFapUKr1SCTyZBKpzpE+P0BUn0+3OMTDA4Oo1Qo0Om1IsAqCIIgCIIgCIIgXPfmlAKIJRh5LQYsY62/KgiC8CctzkiSMvjzZD+dzuk3jOws28UN00mqfhsvn3mOl4c8iwZVXW4P/f1DyGQykpPMGAw6lErFTFAVQCqVoFQqMBp0JCeZkclk9PcP4XIvXHJAEARBEARBEARBEK4HczJWY6lH+lHXLA2vqSoCpYIgCMulI1dvgpFhwEnt0AAkmKfeUq/gibXAyd1Tmav+Tp478xPemHRiD0zNEhpUdTpduD0ezIkm5PLYOz/odBqUSgX2EQcBfwCdTnOlGykIgiAIgiAIgiAIH4lrvhTAcoOq07VYxeBVgiAIs3ITsjF2DmMHWvtqac37BDnTj0n1Cp6o8EJNsCyA34k9+FZ4pqrb4yHBZJyTnQrA+CAtja30DI7gQk18Ygq5hTmYlbOzyOUyEkxGhobtSKQSNOq59VwFQRAEQRAEQRAE4XqwrMDqhxGwjLbOxYKqkd6bniYyXAVBEGbJzcVsVNSwdwJwVfNq70aesIYENrUVPFEBnNzD+xPBZcJqqo6MjGJONM0Nqjo7+WDPbl470oDDG77ReIq23M69t20iQzc1SSqVYIw3MDA4jEIhFzVXBUEQBEEQBEEQhOvOsgKryw2qLhQ8vdxA7XR2aqRpImNVEAQhhKSAW1Ot7G+z4cXD0ZZ3qLXspDw0rqmt4PG14D25h5OS2aAqgHN0DL1OO6f7v7f7ML/4yYvUODQUbbyHh6pWU5yaiBo3A92N1Bzdz/53f8N3z9Xx0Jc/x2arHJjKXNXrtDhHxzAaDR/hQRAEQRAEQRAEQRCEyyfNzMz8Jnx4tVNDg5sLbeNytx0pOzV02ujoKJ/85CcvaxuCIFxdPp9v2ct6xifQ67RXcG+ubwa9hr6e87T6IeDtpnk8ia1JFhQh80gVKaw3Z7I6bSNrgkFVn9/PqHOMBFP87IyOM/z2h7/keKCUB5/4Gg9tzifFJMd2/C0O9+kpXVFIQfkmtqxQ0VH9DvtPOsiuXElScGMKhZwRxygqlRKJJKysgCBcZeFf2ob+bbHQz8XFxRiNxo92RwVBEARBEARBuCoifoqNpft8pA8boR8upoVmk0YKfC5VeBA2dD2h74lMVUEQhAXIS3i4oISk4MvOnt/zr42tjIXPps2hSD372uMeR60KrYfqpeEPL/OBI4M7HvtLtqXLg9PdXDy2h9eOteMOTlFn3cQXH7uVDPthnn+jgdBqAWqVCo97/Eq28OPN3sTRuoGrvRfXt4F6jjXao88nCIIgCIIgCIKwCAnM70ofS1AyfFCpuLi4mX/T08LnvdzA50Jd/kP3QxAEQYjOmLKLL6dZmAqFemlof56/P1tNp3/hZSYmJlAqQ/JandXsPzZI4pYHuTlLvvCCQfKsW7l3YyKDh9+jxjk7XalUMDExsdymBPnoP/Mmz/74+3zzX/6Vb/3707x4qBVn9AWvnLoX+dbztUTNrXZ1cuJo0zL3zUPd/rfpUcSQEelp5eCzP+Jb//J99lz0XeZ2owjYeOs/n+TgFY73Nvz++zx7wgMMcPCnT/KWDQi0svc/f8SepuVnsWNUMfDOfmrd0Wedz0PX8T088+R/8sP/+hm/fauOofC6woIgCIIgCIIg/EmYyVgNDYguFKBcaECoSEHSWDJVF9tW6PvRBqIKD+ouNq8gCIIAoKK8+FM8btHNBFc7+/by9SO/4plu27zsVQCvz49MFlJbtbGOem8iFRtyiB5WBZBTVFVBoreRc82zkSiZTIbXt0hENwbDJ17k6f0DZG5/hK9//as8dlcF8trdPPO2LXqg86PmauFkdStDgWUs6zjLsa4MVuZFL5HuaTjCIW8lj//919iVJ7u87V5LJCmsunkHa9OWVSZ+iiyblVn9nDozsuRFPU0HeP28lhse+TJPPHYvqyeq2XOsf/n7IgiCIAiCIAjCdWvep5LQAGv4AFALDQg1HcQMn75YwHWxQGikDNfQbSxU80wQBEFYgjgjN6x8FHn9i/ykayqY6vW08tr5pzjQks4aSwlVlhxy1UZMKhWBQACpdLaCzMiwA580hYykhTcxjyWZFFwM2t0QDMdKpRICgcuI9vmaOPjuMKsefIxt6VO/1nQ5a7j7QR/P/u4sl7ZayZPBcN2bvLK/hnYnmDIquPmOHZQZAedxfv50BxkFY5yv68Gtyefm20rpf/9tzvc6kaXdwN33bSJTMcDBn76Me1UOPdW19E3IMJVs54HbyjHNK6zj5OLB13i9upVRdKSWbefuW8sxOY7z7M/ep90Nz36vibUPPM7OHBi+8CavvFlDu0uGKaOCW+/aTpFuflOdjfX0pVWSNb09VyeHXvsDhy4N4JMYya28jXu25eA7/hw/3NeIm1Z+/KNObn0om/PPLmG7dS/yrZM6NtDEyeEC7v9vt5E3p40++s+8we79F+iZUJG5oRLLzBkFPJ0cff0PHGwawKeyUrb5z9i13ooM8NmOs2fPEeoGnKDJYO2Oe9hZMtVYX/dxdr/6Puf7fZgKb2BtxNipk8aD7+G9u4QUfzW/+HkHuSXj1NX1MBwwsuqTD3B7WXB9fafY8+r71PV5kCXksHnn7WzOnCpnkZJrpf94E86qdSylArPHp6Vk81pydVImJxMoKU/n4Ik+xjEj4/K+IBAEQRAEQRAE4foig/lBy9CgZ6RgaaRAaqQgaqQAaqR5w9cXGtSNtF1BEAThCokzUlXyKLnGd/jZxROc8kxlko55Onm/o5P3O2Zn/c8VfxXjSuXIVXK4sI9f7UvkMzuKMHyY41L1tdKuKuH+1LAoXMJ6/vyx6Xne47l9NlZ96qs8mgrdh17k2RfeI+kLW7EAjHQynPF5vnqbivY3n+TnL45z+2OP8zWDnaO/fpL9p1fy6HogMMCZlnI+/6WvYZHYOfHSMzx30MLj261zNj18fDe/b8vm/scfJlNi49BLv+HFQyk8tnU9f/4FD0/+1sPOx3eQKZnetwHWfuqrPJoE7W//hud+f4q//vQawmOrvd39mKwpM9+K9p99j0bNVh77WgmmiVb2PP0G7xc+zi3rH+brkmf5YftGvnFPAQDrlrhdX9cA6s8+xjdSVczT/R4v7ney9pGv8lhw2WeHYQsAHupef5mTmtv4678tQGWvZfdvXuat1MfZme6k7nAt3lWP8I31Zuh+m6d/+zYNBXdQFGhizwtHYPvn+V+rjHga3uCZlzzos6Oc/5E2us2P8uUnjHia9vDUnne4WLSLvEArb714BO8ND/M/VppxN7zBr17Zi+WxuylQgizJirHfRl8AcpZQnchYso2tgUDwywAf3Zd6UCWVowT8fSeAe2NfmSAIgiAIgiAI17V5H3VjyQidDpZOd9NfLKgaSXjX/vDga3jwdqGyAoIgCMKVICMp5Rb+YdOX+GZeOUWKyB37xwM+/P7ZzNJ4kwGZv4eOvvA51Wz+3Nf59Bo59a/+B9/891eo6Q92/e/vpQcNicbZUbH8/gASyWVEXsc8uLW6RYO33adr8ZXvYEuqClCRumkHqyZqOW2b3uUcVpXpABmZWVZkyfkUGwGJkcx0I25HsDKpREXRhk1YFIDMyLqtJfgunKd7TsKtnbraYUo/sZVMDaCysuWGEpxNjQwvsG+ytTuosqpAoiJz2yZye+q56Amf04fT6UEfPxtutVQ9zKN3lGCSeHC6QKWw0z8YW/GDaNuVZVVQFSmoCnSfvYBv1fbZZbduolAZfNPTxJlL6Wy7uQCdDGTmcj5RIaPxvA3Qseqez/PAejOyCSejARVqn51hF9B6lgZDJbetMiIDdEXb2ZARQ0PU2axZNVVzVpW3glzsDLiAS7WcNWxk10rz1PoKP8H6xDYudAaX0+nRj4/hjFTed/QiRw6eYTBKAup4yzu82ZLC1rUWAPoaW2LYYUEQBEEQBEEQPi5m0nvCs1XDSwBEEssAVJGyUaf/X6i0QOj+LNdi6xYEQRAikBgpz7mb8hwfffYmTvbVc84xzPDEGL3jTga8o6T6zEilUwNYyQvLKJaepqa6lTuywuqsqtPZ/LlvUFT2Cr94cT/P78ml+NFS2qtrGJQXckf+7Nw+nw+5TLr8/daqUI85cQRAt0BwddTpxJQZMuCTxIgl3kPHKGAAJGG1cULWI4eQOq0qdPqQ+QxG9C4bo6HLBpyMOoY59uvvcDJ0pbpK3AEwRdi39qNP8q0jITMHUsj0AHPimj68AdmcffNcOsxrb1bT4VJhSjSBJ2yRRSy6XYjw1evcZU3ZIcdTZkKvCf7sGmZ4tJ5X/v07vDKzXh+yslHATPeJN9h3pJVhiQ5LoprhwFTQ3TM2ji/eFJKlq0JviKE1EnnYufPiC4Bn1Inn0j6+/923Zt/zQe5KHyAFiQyZxIc3UhUK+yVOn7OjW1tO4gJ1Avy2w7z0joMVt+8iRwmTkzDmckXfX0EQBEEQBEEQPjZkML+m6UIZq5G654fOEymYGSlAGp6RGr7MQgHeaCIFYkWGqyAIwlLJSDKWsNNYws6QqU6ni/HxCZTKqcAqukpu3PA6Pz60m/1VX2Fnenimqxxz5QP8bdFNDCgTkV3ax8uHBknc+AgVIX3cx8cnUCgUy9/dpBwyPW9ypnsrqekhIbah4zz7OzubP78DvU7H8JAdCHbZD9gZHgkLksYi4GR42AfW4HbsdoY1OuasRqJDrzOx9q6vsisn+ir1Oh2pWx7k8e3mKHPKUCvA5/Yx9et7gKNvHIGtj/G1Mh3g48xz36cuxqYsut2uKMsadAzbQ46nb5hRF6gBNDr02gK2ffUBysJPq/M4+w7YKf3CV6lKAAJNvPLv7wGg0iqRjQwzzHTw2cmo3QPpMTYojEqrRJVxM1/+bCU6IgykOeHG3v3cGQAAIABJREFUgwp1pEsvYztf+uvJhWv/DtXw+9dbSdtxL+ssspn5tDpN5PkFQRAEQRAEQfhYkkDk4ONC3fun3wstBRCtFmqkuqyRgquLbXupREBVEAThylKplbg9of3T5azY9SCVuhZe+/9+ycFub+QFDYnE97/HL57cQ4dhE/f+WdGc7Fa3x4NKrYy8bCxkBWy7Qc+ZF17kYMMATpeH4Uun2PPC+4wWrCRLBqkry5HVvs2hbg/gofvwm5xUlLPaGnXtYXw0Hn6PdhfgsXHo7VpUJaWkzsnuNFJWbqLx7fdodwIBJxf3P8vP3w72QVfIwDVAn2MqDzZ1ZQmceZOjNg/gY/jCG/z818eZP868jCSzMRggnnotk01l/AI4W9/jaOsiZQCWvd35UleUwJm3p5YNOLl48DCN05tWlbI2q4eD+5tw+oLH6fmn2dvkCWaJgi/gAzx0H62mYSy4XM5KihzVvHXGjg8fwxfe5liUAO+ictZQ6jjK3rMD+ADfYA2v/uIVzgarOjA4yLA+EeNSq1CMNrFn90mUW3axJUU6dfyD8dek/NzL2GFBEARBEARBEK43Mxmrkbr+Rwp2hnflDxdp4KnwbSxUHiDSOqKVBBABVEEQhI+GTCpFqVDgdLrQTWfmGVbxmS8/iO+/XuCFb/8fTm+9mZurVpOXbECNm4HuFs4dO8D+Qw0MGlbz6S8/QIVhdp1OpwulQoFMehmlAADT+of5vOxN9u5/hoP9o8j0KRRuuIfPbpkaiR7rVh6+9U1e+d2P2O8EU0YFux7cimWpQTWJkVUlsP/J79DukpFSvoMHts6Pzpqq7uEuz2vs+em/0j8hw5RVya13BVMvDSvZVn6BV378Izoe+Cp3F2zn4R1vsueFH7FvxIfKUsCW27ZPDaoVxpKVge/9dpxY0WFk3Y5KWn7/JN98FUz5GynMkEWs43q5250ndSsPf+INdv/m++yb0JG7cSNrE2qCb6oou+NeRl//A//1vRfxoCNz1Q7uzlOBZCU7b2zlxae/w/6Ajsy15WTqpwPOBey8v5LXXn2Sb70KpsIb2FCmozGW/YlEkcPOh7awd89zfOdVJ2itlG29jVIdMAnOThu+9A0kSaZex6rt6AHOD48y+YenOQ8wOcmkfiX3fnYraUnrlru3giAIgiAIgiBch+K2bNkyKZFIIgZCYW4ANVL3/fD3FwqELjRPtPICkeYJNa9rX9jPk5OTdHd384Mf/CDqwRAE4drldruXvax9xEmKNaZwkRCFz++nv38Ic6IJuTyk272jlYN7drP3cAuO8N7TknhyN93KvXduJTekBIDX62NgcBiLJeGyA6sfjQEO/vRlvHc/xi1LznS9QgKd7P3p21g+++es00Wf/eMuli9XIw1+OTk5yslf/4qezX/Jn2XL5swT+m+6i3/460AgQCAQmJk2/bPf7+euu+4iKyvrSjdVEARBEARBEIRrkAwiDzAVqc5peIZqpKzVxYKhkT/cLF5GIHyecJc7yJUgCIIQO5lUSny8HvuIgwSTEak0mPJpyGHbI19j2z2DNFxooGfQgVuiwWDKoKgkB7N67nr8/gD2EQfx8frrJKh6jZCkU1Up45XjNtZtv1rR3Y8BWzWnWMd92bLo8wqCIAiCIAiCICxgTimASEHRhbrvR8poDRUpWLtY9/5ImauiFIAgCMK1R6NWEfAHGBq2Y4w3zM1cVSdStGYTRYss7/X6sI84UKtUaNSxjmEvTDOtf5hHr/ZOXO+sn+ALnxZ/QwiCIAiCIAiCcHnmZKzC/K74oa8XCnaGB1FDpy/UPT/aAFWxBFUFQRCEq0On0yCRShgYHEav087WXI3C6XQx6hwjPl5/HQZVzWz70mNXeycEQRAEQRAEQRCEa0TEwatCRQquhv4fHjhdKPN0ofVGCsouNKhVpHVE+lkQBEH48GnUKhQKOc7RMXr7BlCrVCiVCmQy2UyJAL8/gM/nY3x8ArfHg1KhuI5qqgqCIAiCIAiCIAjCwuZkrC42gNVi74daqK5qpCBqLPVYF8taXWydwiLa3uapN5oZB5BI0SbmUHXTjZQmSAEHNS8/z6HekPkV+ez6/Hay4wD8DDUc4d0TzdhG/SgTc6jYuoWKZMX8dQdZqh7ioTWGqff2DVB6571sSZkKqrQd+CV7x7fwxdvykTrO8rvnjmILG/hGlrmVR28vRtn2Nk/9cZwbP7eTIuXs+/2HX+T5RjO7PrWdbCXg7+bd516nLet2Pr01lTnhG8dZfvdcNdqbPsNtBYqI0/o/+C0v2cp45N6VGBY7HoPV/PqlZjLu/BQ3pgA9h3jm1Wast36GT2ZLYaiaX79YT8btn+HGdOj/4Lc8f2Z0dj0SPRV3f4otyXPfkynUmDLKqNq8hmwxOI1wjZNJpRiNBnx+Px73OGNjLrw+/8wgPxKJBLlMikKhIDHRJAKqgiAIgiAIgiAIwsfGTGG8xYKb4Rbqxr9YtmosQdTw17GUAoi0DSEGkmQqb99Mdpyd5qOHePfAGaz3ryEh+La2YCu3rTJPBSUlChKCp3y85V1+/047+rJKtlulDNdXc+gPB9A8tJMizdx15wXjllKddna7ATu175+i6N5KLOHxFX0BN92Tin9ygFN/fI/+7Fu4uViPVGlAycIsa9aQV/8uR+vsZK8x4jh/ivPjGdy4JiyoCmDIJt9ylOq2LvwFOUgB16V2BqSprMxULLiNiMcjMY0MVQ19NgekGBjq6sURmICuAchOZtzWy6jMSnry7HpkCaXs+EQxhjgAGdrEkPeMxWy/MR+la4CGk9Xsfd3PffdHOE6CcA2SSaXBcgCxlQQQBEEQBEEQBEEQhOvdvOFwowUzw8sGhGaKhk4Pr686LVI916UEUhda17UZVJ3AdnQvr53qnZPBOZcC65qd3FGVvGjw8IqLU2CymLEqzVhWNFF7cJBhPyRIAaRINSasSeawhRycP9OKL+tG7rghf2p/sw3wx1MMD/lBI52zbkukBkkUSJ1nOXimgPvXGMP2SU1CkhomQSuVMqxLxJpkiN4WVT5Vq8/wwtlTXCwspvN0N/oV91AaMdvTQF5uIkdrOujw55AtnaDtUi+kbJ7Kdo1ogeMRl0x6ioLztj78qLDZ7Gj1aly2XhyYGbINgKWSFHnIMnIDlmQzEVulNJKSloqBVLKTfDz/27PUdq5he5aIrAqCIAiCIAiCIAiCIFxr5gVWo9VHXWxQqViDspG2FWnd4YHaxdZ3bQ50pcBatZM7WCi4epWCqqH8DprbB/BpCtBKZibiOPMq/3lm6tVMV/xJO8PDfiwb0mb3V55K1e2pYevs4M2nn+JNmNPdHYC4ZCqrlNQcfpfavNvRX6FmJJRXUnTuLQ691ovLm8OO1eFB4VmG7BxMx+q4ZINsczttPZC+OWuRc7DA8UBKSroZTtno9yqw9WnI25BPz5FeejypDPf5MeWnzcnf8/Ue5ZmfHJ16MafEQvhOppGuraFnaAyyYgguC4IgCIIgCIIgCIIgCB+peYHVULEEUaNlqEYKlC4WAI21HEGk9V9fwdWrHFQNDX7KjZRtX4U1JMCnLdrOrlXBjFLF4l3x55Eks/HOzWTJAWRoTXPf1uRtZPOlF3j3/Xo2qi+nESHkmayrMNPw/gCmqkryFhts3JRLfsIJ6tp6qRpvpzOQzJbsxXdkoeOhSUnF5Oqgs01GN8lsKcyEU/V0dfQyMqIhPW1uVq4soZSd24ungtgS7UyJhUj8URstCIIgCIIgCIIgCIIgXC0zOYqhQVKYX0c19HVot//wgGr4cuHrXSj4GslC08PXv9i6rw3B4Oqa6SDqNZCpKklm4533sKNYD1ITWWmhgUUpUpUei9k89c8QrD0aZ8QUL6W/0zYbIPb3cuKPb3GiKyQMGKdAnxBc1mycqRAwS03R5kostmqqL01csSYZ0jMwSTWkpxujzGkkN9uI61Irta1d+K05ZC9aFnKB4wFgSiNFM0Dz2XZcSamkyM2kW/10n66nX55MelLYquQGEpKC60lQz68BO83eRc+YlMQE7UJzCIIgCIIgCIIgCIIgCFfRghmr4QNCRauXutRpsbx/uYHSayvQGgyuSg5QzRp2rL+KQVWYCn6azRSZN9PVvo8jpwfI+//bu/PoqM47z//vUkklqUClHZXQvoBkaRAWQVg2xGCwjcEbXuJ44jhxOyeeTvd0OtOZTE8yM316ujPd8+vuuJO4uxM7v3iJndVbsB3AEDDYwgiERVs2BIEW0AbaNyhRkqpq/pBKlEpVUglUWuDzOoeD6ta9z33uFT5WffS936fU/fi8A4etm/NtxrHFmiwJFsKxUFCcxbHdZew4aKPIaqT9D8c41hbDxs96RISuQbrbO2gfW7wqljjvdNVSyKaSGn5+sHV68/Yae1FsAuawyQ/xJS47i6jKKir6wXpL9hTL7fi7H4AhgVSrkarTPVjXLiUcI6kpSfSfboT0QpK9k9OhPtpbO7C7F6+Kjbk8f3sP55pb6LJ1UP3RMbrjitiUrv6qIiIiIiIiIiLz0bhgNZBH9WdSsM81/1oDmLCu2cK9cz0NT+HprF6ZxM8/qqC6aAt5ownjxdPv8+rp0X3Cctn65EZyjBCevZ5ttx5k70cV7P7EQXh8FqV3rxs7DgBnKxVvvUHF6MvENY/w6OqJVaSWovWUnHp9bL+AjBs7kqL7H2d9yjSvGSA+i1zLMSr6ksjMmLofgb/7AUZSUxIIrbWRljLSCzU8JYWEkEZIWTohPB/uOsGO10+Mvoqi6IH/yPrk0fd6TrJ7+0lCwyKJTS9my9pVJE5dtC0iIiIiIiIiInPAsG7dOlcgj9zPR/7aAHh/3dLSwtNPPz2rcxORmTUwMHDFx/b0XiDZmjiDsxGR+SCQX576evLG31M57vZG7j9Op3Pcdvdrp9OJ0+kc2+b+2uFwsG3bNjIyMmbuIkVEREREZN4KmXqXwHqdzicLbb4iIiIiIiIiIiKysAQUrM6vx+kvmypAna/zFhERERERERERkYUtoGB1vppq0StVroqIiIiIiIiIiEgwLOhg1R93oKqKVREREREREREREQmGBR2selaken6tQFVERERERERERESCaUEHq75W+BUREREREREREREJtgUdrHpSP1URERERERERERGZLddMsOpZseoOWRW2ioiIiIiIiIiISDBcM8GqJ3fIqvYAIiIiIiIiIiIiEgwhCh9FREREREREREREpidkIT4urzBYRERERERERERE5tKCbAVgMBgCDlcVwoqIiIiIiIiIiMhMW5CtAFwuFwaDYWxxqsmuYSFW5IqIiIiIiIiIiMj8tiBbAQQSqIqIiIiIiIiIiIgEy4JsBQCBh6oKX0VERERERERERGSmLchWAN4WYtWtiIiIiIiIiIiILFwLshXAtRAGi4iIiIiIiIiIyMK1YFsBiIiIiIiIiIiIiMyVBdsKINBK24VYkSsiIiIiIiIiIiLz2zVRsTpZOLxQg2MRERERERERERGZvxZssKrAVERERERERERERObKgly8ytNUAetCvz4RERERERERERGZfxZsj1W3qYLThX59IiIiIiIiIiIiMv8s2FYAgVLFqoiIiIiIiIiIiMy0BRusBhqYqmJVREREREREREREZtqCC1bdQakCUxEREREREREREZkrCypYdblcEypV/QWs8zV4na/zEhERERERERERkcAtqGDV1+P//loCuLfPdY9Vzwpbp9OJ0+mkp6eH4WEHTqdz3D7eX4uIiIiIiIiIiMj8FDrXEwiW+dAyYHh4GIPBwODgIMPDw3R0dGCxWHA4HHR1dQIQHx9Pa2srVqsVl8tFSMiCyrpFRERERERERESuSwsqxXO5XAEHpXNVqeqeo91u5+zZs/T09PDqq69y/vx5QkJCqK2tpb29nf7+fpxOJ729ffT29gIwMDDA8PDwLM10kPMfv8+rP3+RH/34pzz38uvsONqALag5dA/H3nyRl/Y34AjmaWZMD+W/eo5nXq2kb6aH7qjglWf3UHvVN2Kh3VMRERERERERkWvDggpWAzHXlaoul4uqqioOHz6M2Wzm6NGjrF27jjNnzmCxWPjoo484ceIEdrudhoYGXnvtVaKjo+ns7MLpdGK32xkYGAj6/NuPvs1bH18kbc0WPv/5h7jvliyo3sOrH7TMXEDXVcErz+6kesi9wUxydi55aTEYZ+ocVz2nSXScpqYH6KznVHewJ3al5sE9FRERERERERG5Di2oVgAGg2HKwNG9TyD7BoPBYKCsrIyCggK6u7tZvnw558+fJyMjg7CwMO644w66urqwRFno7+9n69atAAwNDdLR0Y7L5aKvr4/S0tLgTdLVSnV1D8k33UvpMtPItthVbI5w8NbRZtpdS7EGpeDXhHXlOqzBGDoI2mvq6U8ppmSwipraHlavjpnrKfmwsO6piMj14HTt2bmegoiIiIiIzIIFE6y6Q9KpAtP5sPiTwQBdXSMVqIsXL8ZsNuNwOGhqaiI0NJT4+HiGhoZITExkYGAAp9PJ4OAgNpuNvr4+zGbzWDgcHCO1jZdslwDT5a0pJTyQ4rGbo4/awwc5dLKFfoeJKGsWJWtvJi/OCK4W9r10AOOaIi59Wkld1yDhMemUbNzIiiVGqN3Dj96tZxjY/ZPn2LfsDr52RzrVO1+kIvZ+vliaMPI4/Fs9FN5kpLqinu4hM9YVa9mU3c+h/aNjxi9j7Z23khc9OqcLDRz9oIKqph7sRjMJmUVsWFtIYjhXOKcs37fI1UFtXT/WG/8DBUMtHKuuo2v1KuLc73dU8Mpb/axca+Lk4Wo6BoxEpRSy4fYSUiNG9+mtp+xgJbUtPfS5TFgzV/LZW4uwho8/lf30Hl46FM7Wx24l1V122lvJq7+qJ+uRh1gdC46ukxw4cIya1n4cphhSi9Zx5+qlhOMYf08Z4MyR/ZSdaKH7EixKXMbajWvJi1U9q4jIbFmWkzHXUxARERERkVmwYFoBuENG7+B0PgSp3mJiYoGRORuNRkJCQnA6nTgcDgYHBxkaGmJoeIihoSEcDgcOh2Psa6fTidlsDu4EDQkU3ZhE95HtvLqvkuqmHuwTbuMgTR/8jr1NUZRseYjHHrmTkuhWDvzuIE1jj9HbqD7eTe4dn+drX/kc65d0UPb7StpdQM4dPPVwMbHGNDY9+RW+drufAHOwmer2dDY98jhfvjML+yd7+NX+TnI3f4GnvnQPxRF1HCivH2lP4OigfMc+Tobmc+dDn+Oxe0pJ663g7X012JjBOQG011BzMYm8zEgsWVkkdNdQ1+U993o+bkpgwyNP8NRjG8kcqGJ3+WgrBVcH5Tv3UWvMZ/PnvsBXHtlEWl8l7x6e2GohPD2X1OGz1J67/E5fXSMdcVksjwVcrRzaWU5bQikPf+kJvnx3IcYTezl4dmLTBtsf9rP7ZCgrN3+Op770EBut7RzYd3zme8SKiIiIiIiIiFznFkywGqi5WrTKU2pqKna7HYfDMbYYVUjIyK32rLgNCQnBYDCMBbAAQ0NDREdH+x54BlkK7+GLd69kia2Gg7/7Dc/99De8/WENXe7Q1FZHRY2Jks3ryEuOwRKdRN5n11MQUsfxxsuBXnLRGnJiTRBmIWd1IQn9LZy/OPKecbQe2mg0gr9viyGWwtW5JJpNmDMKyIsDS3YROdFGjOYkipYn4ejuoBdwnK2iaiif2zcWkhpnwbIki9JNq4hqOsmZy8nq1c+J0TYA1iwyzYAlk9yEfk7W9HjNPYHCknwSI4wYF6dTUrQU+/lmekffK33ocR69sxBrdCTm6KUU5ydgaz0/8r6n8HTy0hzU1rWObuijtq6DhOW5WACcNvpsRpakpxNnNmFOKmTrY19gY8bEKtRL/f04opLISbYQbo4hc+02vvJg0cg4IiIiIiIiIiIyYxZMK4CFZPny5TQ0NDA8PDz2JzQ0dCxcdQeq7krWkJCQsT/h4eHEx8fPyjzNqUWsTy1i/VAf5+uqqTx6gNe6hvniPfmYu9roHuzk/G9+SrnnQQ4HCf2Doy9MLFp0uZUA4SZCGWZ4WqtfmTFHjt9iNF7O+42hoeAEhwt6Ozqw9/fz5vPHx+0/7IgizQZEztCcXK1U19uw3pjNSO2whZzcBMr/cJquNSWX2wFgxrzI41Rh4RgdDgZdjIS2ThvnTnxKU3sP3b3ddLV3Mrw4yccJjWTmpHOgrI6mtUtJvXCGmq4k8nNG41BjCkUF4by96xe0pWWQmZJGzrIsEn0UNsflFZF64iCv/KKBjLSlpGXlkpeqWFVEREREREREZKYtmGB1Lhekmg6DwUBiYiJJSUk4HCNpntPpHAtX3RWqLpdr3PvugDU+Pp7FixfP7qTDLFjzStgaD6+8Xk3thXxWAJiyWP/QTZf7fo4KjYwEumd3joDDCaEpJXx+fabXP9wwwqNm8ERt9dT2O+j74GWe+cDzDTunOkooTbi8xe9/QPYG9r22h0bLMgoz0ynILcLSXc5rx33vbszIJfP9g9Sed2Bpq6fbmkvO2D8DE6lrH+HJGxqoPdNC45lyXjtSSfE92yhN9hooOp97H1vK+YZGzjS2ULX7GOXJa3l4S76qVkVEREREREREZlBQgtVgLbzkK1T1DlvdX89lABsSEsLKlSv59NNPsdvtGAwGnE4nYWFhYz1X3Tx7rzqdTpYtWzZW0Ro0vVW8+fppku95iNIlHtsdDhwYRxpExMQT6zqJzWXBMpbIDdDedJHQRROHnA1xibEYT/cxuMhCnDvstffQ1DVEsiUSZuhbfr6mHltcEQ/cno/Z/W1w9XFi9y5qajooTUiY9HgA2s9wxp7Fxq23kjk61742u//9jSksTx9m7+nTLOrsJvkGd7Us4Bqkr/MS4QnpFMSlU7BqFdU7XubgH1opTR5fAeuw9dDrjMKaU4g1p5DSggpeebOasxfyWTHLeb2IiIiIiIiIyLUsKD1WZ7PP6XyrYHW5XLz33nv85Cc/4cyZMywyL8LlcjEwMIDNZsNms3Hx4sWxPwMDA9jtdkJDQ8nPzycqaiZLL/2IziQ3sZ9jv9/HsdMttHd00HS6gh27j+PIzCfHDCxeRnHOIJW/f58TzT309XZQW76bN3eVc2YgwPNEmFkU0kHtqVa6LkyrP4BPxswiCozVvPv7Kpq6+ujraODY3rd5u6xmYt/SK52Tq5WaOhvWwpWkxsUQFzv6Jy6dorwk+utqRhbCmkrUYqIcrVRXt9LX10d7bTl7P+1h2P/Vkbw8A2rKqexOYnm2R3+E/tPsfXM7uz9uoe/CAF1NJznVAVHx3kmpg3NHd/LrHYeo7ejD1tdB9ckG+iNjifJqtwDApQbKtm/nQN3oN7Srih2v7+GT0UW6bHVlvLm9nDOT5MEiIiIiIiIiIterBdMKIFDuClZ3lehsu3jxIocPHyYkJITW1la6urrYtHET4RHhOBwOHA7HWBhsNBoJCwvDYDCQk5NDaGjo2DUEl4UVd96D8XA5lQd3UnbJQWhEDKnL1rOtNHe0UtJE5votbCo/xKE9r3PgEoTHZ1Fy9zoKFhNYdag5n3VrWnj38Du81rCer2zJurppG5NYd98dRBysYPfr5Vx0RhKbls+WLas8+p5Od065jOt0cP40tbYkVmVMTCItOVkkHDlOdXspiVP9SiJ6JZtuvcDeI+/w0vtgSc6jtCCJ8zWTXF5KHpnhJ6lOWEZmhOeJC9m0qZ8D5bv5+aFBiIghNf8O7i6yAJ7hsJHUm+5g3fsHOPDmr7joNGFZks36rWvHqmbHGbbR3d0HA0NAJNhtdPV2Y7E7ACPDAz10dxuxDQHhU1yviIiIiIiIiMh1xrB27VqX56Pp3oL1WP90+atM9bXd5XKNawlw7tw5nn766aDOz/Pc58+f56WXXhp7PTAwwMqVK0lOTsZkMhEaGjrWd7WlpYW2tja++tWvzov7LHPI1UrZL3ZysfRxNuf4SkKvbwMDgZZKT9TTe4Fka+IMzkZE5oNAnlrx1SLIe5vn355/3L+g9X7t7o3u3ub+2uFwsG3bNjIyMmbuIkVEREREZN6asmJVYd/0GAwGrFYr3/zmN+ns7OTo0aNUV1dz8uRJmpqaMJlMhISEYDQaCQ8PZ8WKFdx7771zPW2ZY/beDs6druCEI5ut6QpVRURERERERETmu2uqFcB86bdqMBgICwvDarVy9913s3XrVgYHBxkcHMTlchESEkJYWNhYyCrXOVcL5W+9wwlXEsXrS0kNm+sJiYiIiIiIiIjIVGYkWJ3JdgHTHcvdU3W+MhgMGAwGIiIiiIiImPoAuf4YlrL+8adYP9fzEBERERERERGRgM1IueRMtguY7lieoar72PnSF1ZERERERERERESuTeOC1Zms/PS1WEQg700lkMB0vlexioiIiIiIiIiIyMI2Fqz6q/L0F4xOFVy6x/I1pud7kwWvvgTynkJVERERERERERERCaaxYNXzMXpP/ipEA6kcnU4AO9m2QIPSycJcERERERERERERkZkyoceqr1DTOyD1DGGnqjj13te7qtT7eF+vAw1KVbEqIiIiIiIiIiIisyEEJq8sDbR61HsMdyDq3mYwGMb+eI/rK4id7Fz+qGJVREREREREREREZkMo+A8i3eGoZ9Wp976er72DTV/7e2+b6txXQpWrIte+H/7wh37f+/rXvz6LMxERERERERGR69FYxao374pTz+3e708WoHq2APDeFsi5ryQcVcWqyLXPX3iqUFVEREREREREZkOo+4vJKkQ9K1c9H+33Dl99hbFTHeNd3eo91mSm6s8qIte2r3/96+MqVxWqioiIiIiIyPWqv7+f1tY2Ojs76evrwzYwwPDQ8ILMywwGA6FhoZgjI7FYLMTHx5OUtISoqKi5nto4E1oBBBKwuvkLVb2rTSerZvX8e6rzTcVXha2IXNvc4apCVREREREREbkenT17lvr6s3R0dMz1VGaMy+ViaHC9l64cAAAe6UlEQVSI3sEhenv7aGxsAiAhIYGsrAwyMjLmeIYjQr03BNJD1XtBKu9t3sdNFrp6hqeTVbNeCQWtItcHhaoiIiIiIiJyvWlubuHEiRP09vbN9VRmTUdHBx0dHZw6dZqCggJSUpbO6XxC3F949kGFidWonn978tw2We9Uf4/4+2sVMFn/Vn/UGkBERERERERERK51lceOcehQ+XUVqnrq7e3j0KFyKo8dm9N5hMLkgaRnsOkrEJ1qgatA9vcVrnp+7S8g9VeRqkBVRERERERERESuNQMDlzh8+Mg19dj/1airraevt5+bblpDZGTErJ9/rGLV1yP/bp7VrL5C1EAqSgOpevXVBmCysScLXKc6VkREREREREREZKEYGLhEWVmZQlUvHR0dlJWVMTBwadbPPa4VQKA9Tb0rRacKOD2/9uzLOtl5/QW5U83LcxxVroqIiIiIiIiIyLXg8OEj1+2j/1Pp7e3j8OEjs37eEM8XgQaRV7JfoH1aRURERERERERE5LLKY8dUqTqFjo6OWe+5Gur+wl+/Uk+B7BPIvtPtmRooBbQi167IyMgrPran98IMzkRERERERERk9jQ3t1BXWz/X01gQ6mrrSVqSRErK0lk537hWAIHw17fUV1/W6fJe7Eo9UkVERERERERE5Hp24sSJuZ7CgjKb9ytk6l0um6zn6UxXi3qeK9AwV0RERERERERE5Fpx9uxZ9VWdpt7ePs6ePTsr5xoXrM5UgDnTgeeVtBQQERERERERERFZyOrrZycgvNbM1n0LaPGq6VajBtKrNZjUa1VEREREREREZH7o7e3lu9/9O9Z9dgPL8wr47K0b+MEPnmFgYGCupzbOz3/+S7Kyl/HlJ56c66kA0N/fH/QFq0zhJoqLb+Tuu7fw4IPb2LJlM4WFBRiN03rIfd7p6Oigv78/6OcJdblcs17hebXB51zMWUREREREREREpqe7u4cHHnx47NFsg8FAU1Mz3//BDznw/vv8+le/ICwsbI5nOT+1trYFdfyQEAMb1t+KxWLB5XJx6ZIds9nMDTfks3jxYg4fPhLU8wdba2sbUVFRQT2Hz/h5IYaWqlIVEREREREREZlf/u7v/56zZ8+Snp7GW9vf4PSpP/DG66+SkJDAsWP/zrPP/mSupzhvdXZ2BnV8q9WKxWJhcHCQHTt38bvf7WDfvvdwulykpaUSGRkR1PMHW7DvH/gJVud7SLkQg18RERERERERkeuJzTbAO+/sAOD/fPdvWbFiBUajkeLiG/nmX3yDlJQUqj75ZGz/1157gw233T7WLuDpf/4+DocDgD/7+jfIyl7GSy/9jKf+09e4oWAFn711Azt37hp3zpdf+Tmbbr+TvPxC1m/YyI9+/Oy4nOvDQ4d46OFHKCgs4tb1t/F//79/wGabXy0J3Pr6grtoVZhppFLY6XQyNDQEjFQY7/39Xvbu3cfg6La4uFg2bryNBx/cxr333s2aNauJiAgH4K677uThhx8kPT1tbNybb76Jhx9+kKKiFQAsWmTmlltKuf/+e7n33rspLV2D2RwZ1GuD4N8/gJCFGlLO9/BXREREREREROR6VltXy6VLlzCZTNx8c+m49x599POUfbCf5579EQC//OWv+NZ/+0v6+/u59957GB528Mwz/8r3v//Dccf94If/Qn19PQkJ8TQ1NfON//LNsUfmf/zj5/irv/prmpqa+cxnVtHZ2cU//MM/8W8/+jEARz/6iC996Y+oqvqE1as/Q0REBM8++xP++7e/Mwt3Y/psQe5B29HegcPhICIigrs230nxqhtZmrKU/gsX6O7uwTHswBJtYcOG9cTERNPc3ILNZiM9PZ3S0e9nY1MTAFZrEgCGEAOJiYkANDU1YTKFsWHDBpYuXUp//wX6+vpJTU3l1vW3Ygw1BvX6gn3/AEKulYByoQbEIiIiIiIiIiLXop7uHgAsFgtG4+QhWk5ODv/7r/+KV15+ie/90z/wrf/6FwC8t3//uP2KilawZ/cufr/nXZYsSWRwcJAjR44wODg4FqA+/b1/5Bc/f5mXXnoek8nEb3+7HYAf/OAZHA4Hf/7nf8YPvv80v/j5yyxblsvbb79DbW3dDF/91RseGg7q+Bcv2jj44YdcuHCBiIgIcrKzueXmUrZuuYukpCXASDXrv//7xxw6VM7hw0c4dKgcgIT4eMLCQmlqagZgyZIlYIC42FhMJhM2m42urm6ysrOIjIygra2NsoMHOVRezpkzZ1m8aBEZGelBvb5g3z+A0JkaKDMzky1b7iIkJITh4WF27txFQ0PDuH0eeuhBrFYrAM3NzWP/sH2N4XA42LFj54QxYJ5Xqzo7+fTtN3jr8CnO9dqY9FsYdiN/9I9fZY16NIuIiIiIiIjINSYmJhoYeSTb4XBMGq6u+swqWs6d44UXXqT+zFmOHz8OwNDg0Lj9Vq/+DADh4eHk5uTS1taOzWbjzNmz9Pf3YzQaueOO2wH4zKpVVJ88PnZsWdlBAL73vX/me9/753Hj1tfXX+XVLkxtre3s2rWb2NgYrFYrGRnpLF68mNLSm9i5610u9F8gMiKClJQUli3LJTo6euxYQ0gIvT29XLhwgcWLFxMTE01S0kjlqjtwjYuNBUaC1/vuvWfcuaMWL56lqwyeGQtWt27dwl13bR57HRISwo9Gf1MAEB0dzZe//KVxx+zfv5+enl6/YxgMhnFjeG6fn+HqEHVv/IB/3TvaHNdnB1sRERERERERkWtfTk4O4eHh2O12PvzwEJ/97Lqx9956+x1eeOFFCgsL+O7f/g3f+fb/4NXXXic7O4uNt91GUdF/4PnnX5wwpmc4O+7p5dGcyOVy+c2MzOZIbLYB/uZv/prsrKxx7+Xn57Fr1+6ruNqZFxoWOiFYnkmpqSlYLBba2tro6Oiku7uHU6dOsXXrFsLDw4mPi8NkMlFSsprBwUGampppOXeOG1euHDdOY1MTN+TnY01K8ghWm8bt09TUTF39+KrggSD3tg0Nm7HY0/85ZuoR+rCw8WWXJpNp3Ovw8PAJx5hM47dNNYaby+WaEK7Oi6DVWceRo50QYuX2//znPHSDZa5nJCIiIiIiIiIyJ8xmM1u23MVvf7ud//m//op/+ZcfUlhQQFXVJ/zd3/09ra1tbLnrLgB+t2Nkkavf/PqXxMfH87OXX5nWuTIzM1m8eDEXLlxg56532Xb/fRw8+CFffPzLpKencWD/PoqLizl48EMA1q69BYB//bcf0dnZSU5O9gxe+cwwR0bSG8RgNSY2hvy8PJYuTeaDD8qw2wexWCxj+dzw8DDZo/el8tgxmhqbsViiJozT1NjMDfn5pKWlYbFYxtoAAPT09JCSkgK4aGttByA1LYX4uHhazrXQ338haNdnjgz+AlkzFt26Vw9zGxwcHPfabrdPOMZ721RjeJoXQeoEl7BdAsLSyM5TqCoiIiIiIiIi17f/9T+/Q2VlJQ0Njdx33wPjCuVuvHElTz75BAAJCQk0NDTyjf/yTVJTU3n33XendR6TycQf//FT/NM/Pc23vvWX/OxnL3PyZDUAn/vcwwD86Z98jUOHyvmb//237N69h76+fqqqqli+fDnf+c63Z+6iZ4jFYqG3N3gr29fX15OTnU1MTAz33HM3g4ODY4WRPT29dHR2knHpEgAFN9xAYkICSVbrWMGjW29vL/39F8baBHhWq9bVnyEnJ4fU1FQ2bVqE3W4nKSkJp9NJTW1N0K4NRu5fsM1YsLpjx06cTidGoxGHw8HOnbvGvd/b28uLL75EcnIyAOfOnaO3t3daY7i5v3nzM1z14uzk07d/w+uHqjnfO8VvGcJu5Knvf5XiWWghYPtkOy99aGT94/dQYPaxQ3MZL73dSOb9/5H1EVW8+WYllDzIAyvmMDC217Pj5T3ULi7msUdLiJupcV2tlP96Jydi1/Ho5lx83Y6Z4ji9k+f2NPrsvRuauZGntuYS3DXxRERERERERGZPXFwc23/7Jj985hl27/49bW1tJCYm8tBDD/Cnf/I1QkNHoqlnf/xv/Pdv/w8qKyvp7e3jO9/+Nt/6b385rXP96Z98jUXmRfzs5Vf49NPjLFmyhEcffYQ/+dofA3DzzaW88Pz/z/d/8EOOHv2I8PBw7r/vXr7znW8TOsXiWnMhPj6exsamqXe8Qhcv2Hjvvf0UFhaQmJhIWFgYAwMDtLSc4/iJE7icLqqqPsFkMpGYmIjVmsynn37KqlXFE546b2pq4oYb8ke/bh7bbr9kZ//+AxQVFZGYmIDFYqGjo4NPPvmUixdsQbs2GLl/wWa45ZZbXCEhC7MZqL9WAN79NM6dO8fTTz8d/Ak5P+b5v3iOCkp46uknKA4Zou61/8s/7j0f2PGzGKxiO86bL5fDLV/ggRXepdEOmt7/BW82LuNzXyjF2l/Du+8eJ+zGO9m4LPhl1P7Yq3fy/HuNDBNDycOPUJpwBYO4Gtj3wi56Sx6/fN2uHj7ZuZeT0SXctzadiU0rZo7j9E6e22ujYFMJGd6LlpkTyVwyB/e3rZxX3mgg/5FHWD1jafX8cu58O8nWxLmehojMsEB+wery6LXlb5vLqx+X+4/T6Ry33f3a6XTidDrHtrm/djgcbNu2jYyMjJm7SBERERG5bvX39/Puu3vmehoL1ubNdxAVNbF1wUwKfhfXIAjkg9S8WODKWceHR89DiJX1//m/8ugNcxdKTmDOJi+lnAM1ddhWFI6v0nS0UntmgNjcXKwGwJLL5s/lztFE3QaoPd2CMWc1K7qPUn2qg9KEK0lWfTDEsGLrQ6yYmdECEE5iSjqZwSyNFRGRqxbozxLz4mcOEREREbnmREVFkZCQQEdHx1xPZcFJSEgIeqgKCzRYXTguYbMBRivZufMoVAUgkpxlSzmwv4bavkI8n/B3NNVQa4uhYPlocDlUw9vPH8B4+xNszRktjbd3cOJIOZW1rfQPmYhKSKFwzc0Up4xcp6NuHz/d3c/NX7yfFYtHDzm9h+f3NJB62+Pce8PowmQXqnj1lUosdz7O5uxJyu5tdVQ3G8nYvJKCjno++cNJzt+8biT49eDorqeivJITzT3YXSaiUpZx89oScqKN0PQ+z791kosAH7zMMx+YKLz7CTZm9HHs9Vc5lngPT96aRPuHv+RXNSk88NitpHpMqb38N/zqpJUHHh/dPsU9uFKBnn/ctYaYSUjJpeTmEjLd38uhGt5+voxFG+7EUldGZUMPDmMU1rwSNt2Si8U4OmZlDwCHfvUch0LSuPMrW8gLA/rqKT9YyYmmTi46TVisuZTeejN5sfPv8QgRERERERGRa1FWVoaC1SuQlTU7T5FddbDq2bA2Pj6esLBQ7PZBuru7J+xrMpmIi4sFoLOza8JiVTDSe8NkCpswxmSVIJM93jff9H3yJs/+8gB13ZP3Ww2NzWbDY1/locLg9TQNz8wnw7iPk/V9rFjpPo+DxtqzXIwrZLm/glBXD8d2vEP5hSSK12zEushB96lKyt95G/u2hyhNMmJMSSfVeIAzjYOsuMEEODjX2MwwDs41NeO4IQsjYG9spsOYQlHK5GGdrbaG82HpbEkzEhebRezR41S33IzV87gLJ3n3zfdpis7n5ttKiDX0U3usgh3bbWx9ZCM5ySU8/EgMe18vx77yHu7MW0yEj9ubuDyX2KqTnDrnINWdbLo6qK3rYVH2upGwM4B7MBmH04HDMX6bcbSfS0Dnv3CSd7e/z/noAkpuKyGKHuoqK3l7+wD3PnIrmWP9DAY5c6SCzFXrePgWM4MtVewvO8CO8BgeXZNA4o138VjsUX77XiuZd2zhxrhwosMARytlb+/hhLmAdXeuI87Yz5ljh9i3I5ToR0uxKlsVERERERERCbqMjAxOnTod1EWsrjXR0ZZZa8911cGqO1R98MEHeOKJL49t/+lPX2D79u1jr8PCwnjhhZ+OleH29vbx5JNPMjR0eRmfycZwP2Y32eN2nu/Py8fynPXs+PXvqZuYOU8w3F3H73+9lzV//QBpweq5Gp5OXoaR3TVn6FtZhAXA0UzdmQGsN+b6XRzKXldBRUcs6x7ZwoqRBd/IzFhC6PZXOVRZT/GWXMLDU8i0Qpk7RHV10HQOUnOW0n6umXZXFlaDg6amVrCWegSBvvRRfaqD8Mxi0oxAdC558Uc5Vt3MupT00cWeHDRVVlAbVsAD960jdbR/aWpKFMY9VbS3OsjJiMQSH0N0GPQuiiUu1k9lacIy8uOOUVXTiiN16cj47TXU9EWxfNnSwO+Bv8txtrD/Zz9l/7iNRnI2j1YET3n+kWs9G1HMw/eVkGgESCczJYpLv9hHxckbyXQH5S4w5axlY+FoSh69lnWtZ3nzTANdaxKIi7AQF2vGhBFLbAyjv/eAC82c648kb/06ClIBkrAmxpDaHkrswmzJLCIiIiIiIrIgFRQUcOhQ+VxPY8EoKCiYtXONBaueladXIi0tbdzrzMzxyXBsbOy43gbR0RZiY+Noa2sLaIxAwtKrmf+scHTS18fUi1S5F8Hq66UDSPOz29Uzkrk8m/Cd9dT2FlEcDY7GGmqGkijJ9V8p2362GYe1lOXRnlst5GQnUPZRC+2uXFINkWSmJ3Dg40bOubJI7W6myZZEUUkWoa9XcaYTrLGtnG12kFCcMfmCUd01VLcbSSm2gsOBg0VkZMVTVlVD41A6mWGAq5umpgEsOfljoSoA4emsuyd9mvclhuW58VRU1XDOsZRUI7TXNNAdlcVm63TugZ/hQ+Ipvmsd3t0hzDHuMtApzu/qpqlpkNjly0ZD1VER6eQkw76WThwrLaOBs5G4pFiPnYxYLGZCG20MugB/c1ycwpJFR6n+cB+W4kJy0pOwhCeQmjr13RMRERERERGRmZOSspTsnCzqauvneirzXnZOFikpS2ftfGPB6pWGklcbyE73XDOxj1xmTM0l0/wO1bV9FK9aROPpBhzWEvL85qoOLl4aZLjxfZ77t/d9DGjG7gSMYM5MI7a8mqZ2iGttpDsui9TYpdjjDlLT3Eeps4FGewxFmZP3JO06XUO7c5D2XS9yatw7/VQ3OsjMNgKD2C6BedGiK7kNE1hyl5FQ8fHI4/gp3dTW9xCbs5FEw/TugW/hxC1JwjrJ4lWTnt81iO2Sg/Yjv+GZIz4OTrFhh5EFyfz9pznVfybGJNbddwfh5VVU7d9O2ZCRRYnpFJWsY/UU3y8RERERERERmVmriovp6+1Xv9VJJCQksKq4eFbP6bMVgK+w1F+A6t7W2Ng4bntDQ8O4193d3fT3949Vrfb19U3owzrZGJM94j9vHvsPWcmT3/9XnnS/ds7lZAJkXEpBVhTVtTV0FcZS3ejAWpqN/8zPSHiECRILeeC2ZZgnVN2GE+0OFKPTyYw+xpmmViznu4lNW4/FYCEjLYryxhbODzVji04nI9p7DA+uDk7V9BCaspp7S1Mu/4N19lP93j6qT9djz84lHBPmCGi80AfMQPBnWUa+tYKKU804TC3UXIgnf6zp7DTuQVDOb8IUDpbMjWy9MWFifhtqnuT7FzhjdBalm7MoxYGto5nqjw5S/u5ujI/eT/Fk3zMRERERERERmXE33bSGsrIy9Vv1ITrawk03rZn18/oMVicLUMF3yPrGG2+yf/8BwsJCGRoapqura9x+g4OD/NEffYXY2BgAurt7xhavcu/na4xAeIaq7pB1vi9iNZ9Yl2dhPlHPiU86OetYyrrsyYPJ5JQUwmtbaA8rGRew2c7V02a0evRmTSAzzcyx2gqq+8NJ/czI9z4uIx1zVTWHbD2Y09b57eUKQFsN1X2RFKxfSeq4BaGSsKw4zony05y5lEteRCypSyOpOHOapjVJl9sB2Bso21NF6IotlGZcPn54ytA7kpxlSZQdqeFYWCv9cXks95ho4PfgSk1yfkMsmcmRfNLWDdG5xI1d1iDtdc04EqL8jDm5cfekr4VPamxYV+aSaDRiTkinuLSHmvpK2roBBasiIiIiIiIisyoyMoJ169Zx+PARVa56SEhI4Kab1hAZGTHr576ixav8PfrvHYR67zc4OMj5860Ttnu+9hemXmlQOu/7rs4HS3LJi6qi4mgn4RkbyZni32H48mJKPt1O+Vs7sa/KJzXayMW2Gio+qofCe0hbEjlWRWnNTCP84xM0mfMpcRdcJiwlLbSK4x2RFK1NmvRc50/V02fOIm/pxBJQc1Yu1g/LOVU3QF5BJKmrSsise58db8HNN6YTa+jnzMcVHOtNZ6u7GanBgmUxVP/hEMfMuWSkpRPn53rN2fmkHtzHoeNGrDfn4tkdYTr3YCI77c0NNJm8NkcmkuxxnP/zG0ldXULqa+/z9lt2SorSiQ110F1fyaGTNnLv+jxWyzRKZhfHsMhQRXVFJbF56aRlJ2B2dXDyowoq2/tYV5jCIkc/Z6o+5rwphaIlgQ8tIiIiIiIiIjMnMjKCDRtupfLYMfVcZaSn6mw//u8pFC6Hld6P209VpTod7mP9jTHV+IE+7q8K1StgSGB5bgwVR22kLk+ffCGp0f2L77mf8MPlVB7eR8UghEclkPGZLXy2OGl8oGhNJzPiBDXJaSS73zCmkJFs4nhzChnWSc7jaKG6vh9L1jKsvv5pLM4m11pOWW0dtoJCzJZ8tm4L5VD5x1S8V81Fl4nY5HzuvL+EnLFn42Mo3riWzvcqKd/bQNsdj7M5x8/5I9JZnmriTEMC+TleTWencw+8OTup2rOLKu/tSaV85aGiy4/xT3Z+Sz5bHwjl0KFKKvad4KLDhCU+haI776A00zuxnYI5n00b2nj3SBX7mlpYt+QeVkQXcfeWYT44VM3ed45iN0YSm5zFpvtuJm8m+gyIiIiIiIiIyBVbVVxM0pIkTpw4cV22BoiOtlBQUDCrC1X5YrjllltcISEhfoPNQPqtThbGwuUwdTrH+Tqneyzv8NTzta/K1nPnzvH0009Pdh9mx9BRnvvmCxzjRp76/lcpntCbc5TzY57/i+eooISnnn7C/34iEpBz59tJtibO9TREZIZN5xeuk/2s4Pl3IH+cTidOp3PCa4fDwbZt28jIyJjpSxURERER8evs2bPU15+9LtoDJCQkkJWVMW9+5h5rBeAvyPTF16P8mZmZ3HXXZoxGI8PDw+zcuYuGhoZx4zz88ENYrSMlis3Nzbz55m/HvZ+RkcHWrVsICQkZN0ag81K1qoiIiIiIiIiIXE8yMkaCxv7+flpb2+js7KSvrw/bwADDQ8MLMi8zGAyEhoVijozEYrEQHx9PUtISoqKubF2ZYBkLVv1VhPp67cn93tatW7jrrs3j9vvxj58dOz4mJoYvf/lL447dv38/PT29YxUfW7duYcuWuyaMEahA2wXMGWM8lsVA97/z3J/96eT7OoHEaK0RJCIiIiIiIiIiU4qKiiIqKorcXH89D2WmhcDER/bdPF8bDIax4NI7aDUYDISFhY07Njw8fNw+nq/dTKbwcWOZTON7Q7qPCbRK1dd+8ypoDcli62O3kxc/dZPKyPg8bv/8JrLVBkBERERERERERGTeCQXfPVA9qz+93/fV43RwcHDcNrvdPm48u90+4eR2u31cj9XJxvAXkE5VpXo1C24Fg6XwAb7x3QfmehoiIiJyleb9kzIiIiIiIhJUoTBxsSh/i1X5W9wKYMeOnTidTkJDQxkeHmbXrnfH7d/T08OLL75EcnIyMLKgVG9v77hz+xrD8xxT0QccERERERERERERmQ3jKlb9BZOeFaver93HnDlzZlw/VM9Q1b3f66+/Mem4k43hz1StAERERER8melfyM63p2RERERERCS4xnqsuv/4qlz17KvqHYZ67+vmOab7ta+xPf8OxgcSha0iIiIymSv5+UMhqoiIiIiI+FwayXOhKu/t3gHsZBWunmO59/VeBMu74tTXB5XJPrzog42IiIgEk37WEBERERERXyYEq74CT1+mWkzKX/Dqb2xfoapntWsg85huKCsiIiIiIiIiIiJyJcYFq1fzOL53COovXPXVAsDzb39Vq/4Eq4WAiIiIXJv0c4OIiIiIiMyEEPDdS9WXQEJP70WrfI3h67V3P9bpCLSiVURERK5PClNFRERERGSmjS1e5f2Bw98HkOm2CPD3eH4ggWeg1ajqwSoiIiIzxddimyIiIiIiIt7GKlb9VZK6TffxfH/jTidU9TUPX1SVKiIiIjMt0F86i4iIiIjI9Wmsx+pUCz9NFV76+vARSCsAfwJZQGs68xERERGZKQpdRURERERkrBXAZCFoIB8WPI/3Hm8uPmyoilVERESmy9/PLGo7JCIiIiIi3kJ8bfT+gHC1IeV0AtqZog85IiIiMhXP9kXTPWa6x4mIiIiIyLXFZyuA6QSp0/lAMd12AldyDn3AERERkaulylUREREREZnKWLB6pVWpV1vNGkige6WBrIiIiFy75ur//76qXA0Gg34eERERERG5zvhsBTCbgtkLVR9wRERErm3BfoQ/kP3084aIiIiIyPVpzoPVYNAHHBEREZmuyfqt+tumnzlERERERK5f44LVhfzhYCb6s4qIiIi4TRamele/hoRck7+rFhERERGRSfw/Rh14OdZ8GgsAAAAASUVORK5CYII=)"
      ],
      "metadata": {
        "id": "9qDI_1zbmy89"
      }
    },
    {
      "cell_type": "markdown",
      "metadata": {
        "id": "zhVGx0VZe6Gg"
      },
      "source": [
        "##Future Work\n",
        "\n",
        "Future work:\n",
        "- Try more machine learning models\n",
        "- Try configuring CountVectorizer differently\n",
        "- Try approaches other than bag of words\n"
      ]
    }
  ],
  "metadata": {
    "colab": {
      "collapsed_sections": [
        "KPS8buEdtllZ",
        "m3cu-meXuETm",
        "N83nLs4juO67",
        "NAZkydfs4wrX",
        "DHoTrGTM5Bo9",
        "RS2HgpkL_J0G",
        "oa2HrcYVOtHk",
        "ewoiYmCyAmuZ",
        "S8WnmO8SDopQ",
        "0M4QM-hmJcVe"
      ],
      "provenance": []
    },
    "kernelspec": {
      "display_name": "Python 3 (ipykernel)",
      "language": "python",
      "name": "python3"
    },
    "language_info": {
      "codemirror_mode": {
        "name": "ipython",
        "version": 3
      },
      "file_extension": ".py",
      "mimetype": "text/x-python",
      "name": "python",
      "nbconvert_exporter": "python",
      "pygments_lexer": "ipython3",
      "version": "3.9.6"
    },
    "gpuClass": "standard"
  },
  "nbformat": 4,
  "nbformat_minor": 0
}